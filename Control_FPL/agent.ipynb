{
 "cells": [
  {
   "cell_type": "markdown",
   "id": "702b53a1",
   "metadata": {
    "papermill": {
     "duration": 0.015176,
     "end_time": "2021-10-11T13:52:36.483991",
     "exception": false,
     "start_time": "2021-10-11T13:52:36.468815",
     "status": "completed"
    },
    "tags": []
   },
   "source": [
    "# Table of contents\n",
    "\n",
    "- Download latest data\n",
    "- Retrain model\n",
    "- Display current squad\n",
    "- Use model to identify transfers\n",
    "- Identify playing 11\n",
    "- Show top performers by position"
   ]
  },
  {
   "cell_type": "code",
   "execution_count": 1,
   "id": "323dbb4c",
   "metadata": {
    "execution": {
     "iopub.execute_input": "2021-10-11T13:52:36.516985Z",
     "iopub.status.busy": "2021-10-11T13:52:36.516702Z",
     "iopub.status.idle": "2021-10-11T13:52:37.572888Z",
     "shell.execute_reply": "2021-10-11T13:52:37.573113Z"
    },
    "papermill": {
     "duration": 1.074973,
     "end_time": "2021-10-11T13:52:37.573246",
     "exception": false,
     "start_time": "2021-10-11T13:52:36.498273",
     "status": "completed"
    },
    "tags": []
   },
   "outputs": [],
   "source": [
    "import pandas as pd\n",
    "import torch\n",
    "import numpy as np\n",
    "import random\n",
    "from random import shuffle\n",
    "np.random.seed(17)\n",
    "random.seed(17)\n",
    "torch.manual_seed(17)\n",
    "import wget\n",
    "import os\n",
    "import aiohttp\n",
    "import asyncio\n",
    "from fpl import FPL\n",
    "from torch.utils.data import TensorDataset, DataLoader\n",
    "from player import Player\n",
    "from team import Team\n",
    "from data_processor import get_fpl, get_current_squad\n",
    "from agent import Agent"
   ]
  },
  {
   "cell_type": "markdown",
   "id": "e2c4124c",
   "metadata": {
    "papermill": {
     "duration": 0.014212,
     "end_time": "2021-10-11T13:52:37.602163",
     "exception": false,
     "start_time": "2021-10-11T13:52:37.587951",
     "status": "completed"
    },
    "tags": []
   },
   "source": [
    "## Download latest data, train model and save model."
   ]
  },
  {
   "cell_type": "code",
   "execution_count": 2,
   "id": "e8d00bfe",
   "metadata": {
    "execution": {
     "iopub.execute_input": "2021-10-11T13:52:37.633429Z",
     "iopub.status.busy": "2021-10-11T13:52:37.633002Z",
     "iopub.status.idle": "2021-10-11T13:59:05.935827Z",
     "shell.execute_reply": "2021-10-11T13:59:05.936186Z"
    },
    "papermill": {
     "duration": 388.320366,
     "end_time": "2021-10-11T13:59:05.936316",
     "exception": false,
     "start_time": "2021-10-11T13:52:37.615950",
     "status": "completed"
    },
    "tags": []
   },
   "outputs": [
    {
     "name": "stderr",
     "output_type": "stream",
     "text": [
      "GPU available: False, used: False\n"
     ]
    },
    {
     "name": "stderr",
     "output_type": "stream",
     "text": [
      "TPU available: False, using: 0 TPU cores\n"
     ]
    },
    {
     "name": "stderr",
     "output_type": "stream",
     "text": [
      "IPU available: False, using: 0 IPUs\n"
     ]
    },
    {
     "name": "stderr",
     "output_type": "stream",
     "text": [
      "/home/ajrfhp/anaconda3/envs/control/lib/python3.8/site-packages/pandas/core/frame.py:5171: SettingWithCopyWarning: \n",
      "A value is trying to be set on a copy of a slice from a DataFrame\n",
      "\n",
      "See the caveats in the documentation: https://pandas.pydata.org/pandas-docs/stable/user_guide/indexing.html#returning-a-view-versus-a-copy\n",
      "  return super().fillna(\n",
      "/home/ajrfhp/Control/Control_FPL/data_processor.py:61: SettingWithCopyWarning: \n",
      "A value is trying to be set on a copy of a slice from a DataFrame.\n",
      "Try using .loc[row_indexer,col_indexer] = value instead\n",
      "\n",
      "See the caveats in the documentation: https://pandas.pydata.org/pandas-docs/stable/user_guide/indexing.html#returning-a-view-versus-a-copy\n",
      "  all_player_features[\"total_points\"] = all_player_features[\"total_points\"].clip(0, max_player_points)\n"
     ]
    },
    {
     "name": "stderr",
     "output_type": "stream",
     "text": [
      "\n",
      "  | Name  | Type        | Params\n",
      "--------------------------------------\n",
      "0 | model | LinearModel | 29    \n",
      "--------------------------------------\n",
      "29        Trainable params\n",
      "0         Non-trainable params\n",
      "29        Total params\n",
      "0.000     Total estimated model params size (MB)\n"
     ]
    },
    {
     "name": "stdout",
     "output_type": "stream",
     "text": [
      "\r\n",
      "Validation sanity check: 0it [00:00, ?it/s]"
     ]
    },
    {
     "name": "stdout",
     "output_type": "stream",
     "text": [
      "\r\n",
      "Validation sanity check:   0%|                                                                    | 0/2 [00:00<?, ?it/s]"
     ]
    },
    {
     "name": "stdout",
     "output_type": "stream",
     "text": [
      "\r\n",
      "Validation sanity check:  50%|██████████████████████████████                              | 1/2 [00:00<00:00,  3.24it/s]"
     ]
    },
    {
     "name": "stdout",
     "output_type": "stream",
     "text": [
      "\r\n",
      "                                                                                                                        "
     ]
    },
    {
     "name": "stderr",
     "output_type": "stream",
     "text": [
      "/home/ajrfhp/anaconda3/envs/control/lib/python3.8/site-packages/pytorch_lightning/trainer/data_loading.py:322: UserWarning: The number of training samples (49) is smaller than the logging interval Trainer(log_every_n_steps=50). Set a lower value for log_every_n_steps if you want to see logs for the training epoch.\n",
      "  rank_zero_warn(\n"
     ]
    },
    {
     "name": "stdout",
     "output_type": "stream",
     "text": [
      "\r"
     ]
    },
    {
     "name": "stdout",
     "output_type": "stream",
     "text": [
      "\r\n",
      "Training: -1it [00:00, ?it/s]"
     ]
    },
    {
     "name": "stdout",
     "output_type": "stream",
     "text": [
      "\r\n",
      "Training:   0%|                                                                       | 0/62 [00:00<00:00, 33026.02it/s]"
     ]
    },
    {
     "name": "stdout",
     "output_type": "stream",
     "text": [
      "\r\n",
      "Epoch 0:   0%|                                                                         | 0/62 [00:00<00:00, 1961.79it/s]"
     ]
    },
    {
     "name": "stdout",
     "output_type": "stream",
     "text": [
      "\r\n",
      "Epoch 0:   2%|█▏                                                                         | 1/62 [00:00<00:06,  8.88it/s]"
     ]
    },
    {
     "name": "stdout",
     "output_type": "stream",
     "text": [
      "\r\n",
      "Epoch 0:   2%|▉                                                      | 1/62 [00:00<00:06,  8.81it/s, loss=2.02, v_num=1]"
     ]
    },
    {
     "name": "stdout",
     "output_type": "stream",
     "text": [
      "\r\n",
      "Epoch 0:   3%|█▊                                                     | 2/62 [00:00<00:04, 13.03it/s, loss=2.12, v_num=1]"
     ]
    },
    {
     "name": "stdout",
     "output_type": "stream",
     "text": [
      "\r\n",
      "Epoch 0:   5%|██▋                                                    | 3/62 [00:00<00:03, 17.11it/s, loss=2.09, v_num=1]"
     ]
    },
    {
     "name": "stdout",
     "output_type": "stream",
     "text": [
      "\r\n",
      "Epoch 0:   6%|███▌                                                    | 4/62 [00:00<00:02, 21.11it/s, loss=2.1, v_num=1]"
     ]
    },
    {
     "name": "stdout",
     "output_type": "stream",
     "text": [
      "\r\n",
      "Epoch 0:   8%|████▍                                                  | 5/62 [00:00<00:02, 25.01it/s, loss=2.04, v_num=1]"
     ]
    },
    {
     "name": "stdout",
     "output_type": "stream",
     "text": [
      "\r\n",
      "Epoch 0:  10%|█████▎                                                 | 6/62 [00:00<00:01, 28.82it/s, loss=2.04, v_num=1]"
     ]
    },
    {
     "name": "stdout",
     "output_type": "stream",
     "text": [
      "\r\n",
      "Epoch 0:  11%|██████▏                                                | 7/62 [00:00<00:01, 32.54it/s, loss=2.04, v_num=1]"
     ]
    },
    {
     "name": "stdout",
     "output_type": "stream",
     "text": [
      "\r\n",
      "Epoch 0:  13%|███████                                                | 8/62 [00:00<00:01, 36.10it/s, loss=1.99, v_num=1]"
     ]
    },
    {
     "name": "stdout",
     "output_type": "stream",
     "text": [
      "\r\n",
      "Epoch 0:  15%|███████▉                                               | 9/62 [00:00<00:01, 39.68it/s, loss=1.98, v_num=1]"
     ]
    },
    {
     "name": "stdout",
     "output_type": "stream",
     "text": [
      "\r\n",
      "Epoch 0:  16%|████████▋                                             | 10/62 [00:00<00:01, 43.12it/s, loss=1.96, v_num=1]"
     ]
    },
    {
     "name": "stdout",
     "output_type": "stream",
     "text": [
      "\r\n",
      "Epoch 0:  18%|█████████▌                                            | 11/62 [00:00<00:01, 46.56it/s, loss=1.92, v_num=1]"
     ]
    },
    {
     "name": "stdout",
     "output_type": "stream",
     "text": [
      "\r\n",
      "Epoch 0:  19%|██████████▍                                           | 12/62 [00:00<00:01, 49.92it/s, loss=1.91, v_num=1]"
     ]
    },
    {
     "name": "stdout",
     "output_type": "stream",
     "text": [
      "\r\n",
      "Epoch 0:  21%|███████████▎                                          | 13/62 [00:00<00:00, 53.24it/s, loss=1.91, v_num=1]"
     ]
    },
    {
     "name": "stdout",
     "output_type": "stream",
     "text": [
      "\r\n",
      "Epoch 0:  23%|████████████▏                                         | 14/62 [00:00<00:00, 56.38it/s, loss=1.88, v_num=1]"
     ]
    },
    {
     "name": "stdout",
     "output_type": "stream",
     "text": [
      "\r\n",
      "Epoch 0:  24%|█████████████                                         | 15/62 [00:00<00:00, 59.50it/s, loss=1.85, v_num=1]"
     ]
    },
    {
     "name": "stdout",
     "output_type": "stream",
     "text": [
      "\r\n",
      "Epoch 0:  26%|█████████████▉                                        | 16/62 [00:00<00:00, 62.60it/s, loss=1.85, v_num=1]"
     ]
    },
    {
     "name": "stdout",
     "output_type": "stream",
     "text": [
      "\r\n",
      "Epoch 0:  27%|██████████████▊                                       | 17/62 [00:00<00:00, 65.63it/s, loss=1.84, v_num=1]"
     ]
    },
    {
     "name": "stdout",
     "output_type": "stream",
     "text": [
      "\r\n",
      "Epoch 0:  29%|███████████████▋                                      | 18/62 [00:00<00:00, 68.50it/s, loss=1.84, v_num=1]"
     ]
    },
    {
     "name": "stdout",
     "output_type": "stream",
     "text": [
      "\r\n",
      "Epoch 0:  31%|████████████████▌                                     | 19/62 [00:00<00:00, 71.33it/s, loss=1.82, v_num=1]"
     ]
    },
    {
     "name": "stdout",
     "output_type": "stream",
     "text": [
      "\r\n",
      "Epoch 0:  32%|█████████████████▋                                     | 20/62 [00:00<00:00, 73.68it/s, loss=1.8, v_num=1]"
     ]
    },
    {
     "name": "stdout",
     "output_type": "stream",
     "text": [
      "\r\n",
      "Epoch 0:  34%|██████████████████▎                                   | 21/62 [00:00<00:00, 76.38it/s, loss=1.79, v_num=1]"
     ]
    },
    {
     "name": "stdout",
     "output_type": "stream",
     "text": [
      "\r\n",
      "Epoch 0:  35%|███████████████████▏                                  | 22/62 [00:00<00:00, 79.13it/s, loss=1.75, v_num=1]"
     ]
    },
    {
     "name": "stdout",
     "output_type": "stream",
     "text": [
      "\r\n",
      "Epoch 0:  37%|████████████████████                                  | 23/62 [00:00<00:00, 81.83it/s, loss=1.72, v_num=1]"
     ]
    },
    {
     "name": "stdout",
     "output_type": "stream",
     "text": [
      "\r\n",
      "Epoch 0:  39%|████████████████████▉                                 | 24/62 [00:00<00:00, 84.29it/s, loss=1.69, v_num=1]"
     ]
    },
    {
     "name": "stdout",
     "output_type": "stream",
     "text": [
      "\r\n",
      "Epoch 0:  40%|█████████████████████▊                                | 25/62 [00:00<00:00, 86.86it/s, loss=1.69, v_num=1]"
     ]
    },
    {
     "name": "stdout",
     "output_type": "stream",
     "text": [
      "\r\n",
      "Epoch 0:  42%|██████████████████████▋                               | 26/62 [00:00<00:00, 89.39it/s, loss=1.66, v_num=1]"
     ]
    },
    {
     "name": "stdout",
     "output_type": "stream",
     "text": [
      "\r\n",
      "Epoch 0:  44%|███████████████████████▌                              | 27/62 [00:00<00:00, 91.88it/s, loss=1.65, v_num=1]"
     ]
    },
    {
     "name": "stdout",
     "output_type": "stream",
     "text": [
      "\r\n",
      "Epoch 0:  45%|████████████████████████▍                             | 28/62 [00:00<00:00, 94.35it/s, loss=1.64, v_num=1]"
     ]
    },
    {
     "name": "stdout",
     "output_type": "stream",
     "text": [
      "\r\n",
      "Epoch 0:  47%|█████████████████████████▎                            | 29/62 [00:00<00:00, 96.79it/s, loss=1.62, v_num=1]"
     ]
    },
    {
     "name": "stdout",
     "output_type": "stream",
     "text": [
      "\r\n",
      "Epoch 0:  48%|██████████████████████████▌                            | 30/62 [00:00<00:00, 99.03it/s, loss=1.6, v_num=1]"
     ]
    },
    {
     "name": "stdout",
     "output_type": "stream",
     "text": [
      "\r\n",
      "Epoch 0:  50%|███████████████████████████                           | 31/62 [00:00<00:00, 101.33it/s, loss=1.6, v_num=1]"
     ]
    },
    {
     "name": "stdout",
     "output_type": "stream",
     "text": [
      "\r\n",
      "Epoch 0:  52%|███████████████████████████▎                         | 32/62 [00:00<00:00, 103.66it/s, loss=1.57, v_num=1]"
     ]
    },
    {
     "name": "stdout",
     "output_type": "stream",
     "text": [
      "\r\n",
      "Epoch 0:  53%|████████████████████████████▏                        | 33/62 [00:00<00:00, 105.92it/s, loss=1.55, v_num=1]"
     ]
    },
    {
     "name": "stdout",
     "output_type": "stream",
     "text": [
      "\r\n",
      "Epoch 0:  55%|█████████████████████████████                        | 34/62 [00:00<00:00, 108.14it/s, loss=1.55, v_num=1]"
     ]
    },
    {
     "name": "stdout",
     "output_type": "stream",
     "text": [
      "\r\n",
      "Epoch 0:  56%|█████████████████████████████▉                       | 35/62 [00:00<00:00, 110.34it/s, loss=1.55, v_num=1]"
     ]
    },
    {
     "name": "stdout",
     "output_type": "stream",
     "text": [
      "\r\n",
      "Epoch 0:  56%|█████████████████████████████▉                       | 35/62 [00:00<00:00, 110.15it/s, loss=1.54, v_num=1]"
     ]
    },
    {
     "name": "stdout",
     "output_type": "stream",
     "text": [
      "\r\n",
      "Epoch 0:  58%|██████████████████████████████▊                      | 36/62 [00:00<00:00, 112.07it/s, loss=1.52, v_num=1]"
     ]
    },
    {
     "name": "stdout",
     "output_type": "stream",
     "text": [
      "\r\n",
      "Epoch 0:  60%|███████████████████████████████▋                     | 37/62 [00:00<00:00, 114.17it/s, loss=1.52, v_num=1]"
     ]
    },
    {
     "name": "stdout",
     "output_type": "stream",
     "text": [
      "\r\n",
      "Epoch 0:  61%|█████████████████████████████████                     | 38/62 [00:00<00:00, 116.25it/s, loss=1.5, v_num=1]"
     ]
    },
    {
     "name": "stdout",
     "output_type": "stream",
     "text": [
      "\r\n",
      "Epoch 0:  63%|█████████████████████████████████▎                   | 39/62 [00:00<00:00, 118.29it/s, loss=1.49, v_num=1]"
     ]
    },
    {
     "name": "stdout",
     "output_type": "stream",
     "text": [
      "\r\n",
      "Epoch 0:  65%|██████████████████████████████████▏                  | 40/62 [00:00<00:00, 119.96it/s, loss=1.48, v_num=1]"
     ]
    },
    {
     "name": "stdout",
     "output_type": "stream",
     "text": [
      "\r\n",
      "Epoch 0:  66%|███████████████████████████████████                  | 41/62 [00:00<00:00, 121.74it/s, loss=1.47, v_num=1]"
     ]
    },
    {
     "name": "stdout",
     "output_type": "stream",
     "text": [
      "\r\n",
      "Epoch 0:  68%|███████████████████████████████████▉                 | 42/62 [00:00<00:00, 123.51it/s, loss=1.47, v_num=1]"
     ]
    },
    {
     "name": "stdout",
     "output_type": "stream",
     "text": [
      "\r\n",
      "Epoch 0:  69%|████████████████████████████████████▊                | 43/62 [00:00<00:00, 125.28it/s, loss=1.46, v_num=1]"
     ]
    },
    {
     "name": "stdout",
     "output_type": "stream",
     "text": [
      "\r\n",
      "Epoch 0:  71%|█████████████████████████████████████▌               | 44/62 [00:00<00:00, 127.01it/s, loss=1.45, v_num=1]"
     ]
    },
    {
     "name": "stdout",
     "output_type": "stream",
     "text": [
      "\r\n",
      "Epoch 0:  73%|██████████████████████████████████████▍              | 45/62 [00:00<00:00, 128.63it/s, loss=1.42, v_num=1]"
     ]
    },
    {
     "name": "stdout",
     "output_type": "stream",
     "text": [
      "\r\n",
      "Epoch 0:  74%|███████████████████████████████████████▎             | 46/62 [00:00<00:00, 129.91it/s, loss=1.42, v_num=1]"
     ]
    },
    {
     "name": "stdout",
     "output_type": "stream",
     "text": [
      "\r\n",
      "Epoch 0:  76%|████████████████████████████████████████▏            | 47/62 [00:00<00:00, 130.88it/s, loss=1.39, v_num=1]"
     ]
    },
    {
     "name": "stdout",
     "output_type": "stream",
     "text": [
      "\r\n",
      "Epoch 0:  77%|█████████████████████████████████████████            | 48/62 [00:00<00:00, 132.43it/s, loss=1.37, v_num=1]"
     ]
    },
    {
     "name": "stdout",
     "output_type": "stream",
     "text": [
      "\r\n",
      "Epoch 0:  79%|█████████████████████████████████████████▉           | 49/62 [00:00<00:00, 128.39it/s, loss=1.37, v_num=1]"
     ]
    },
    {
     "name": "stdout",
     "output_type": "stream",
     "text": [
      "\n"
     ]
    },
    {
     "name": "stdout",
     "output_type": "stream",
     "text": [
      "\r\n",
      "Validating: 0it [00:00, ?it/s]"
     ]
    },
    {
     "name": "stdout",
     "output_type": "stream",
     "text": [
      "\u001b[A"
     ]
    },
    {
     "name": "stdout",
     "output_type": "stream",
     "text": [
      "\n"
     ]
    },
    {
     "name": "stdout",
     "output_type": "stream",
     "text": [
      "\r\n",
      "Validating:   0%|                                                                                | 0/13 [00:00<?, ?it/s]"
     ]
    },
    {
     "name": "stdout",
     "output_type": "stream",
     "text": [
      "\u001b[A"
     ]
    },
    {
     "name": "stdout",
     "output_type": "stream",
     "text": [
      "\n"
     ]
    },
    {
     "name": "stdout",
     "output_type": "stream",
     "text": [
      "\r\n",
      "Validating:   8%|█████▌                                                                  | 1/13 [00:00<00:01,  6.93it/s]"
     ]
    },
    {
     "name": "stdout",
     "output_type": "stream",
     "text": [
      "\u001b[A"
     ]
    },
    {
     "name": "stdout",
     "output_type": "stream",
     "text": [
      "\r\n",
      "Epoch 0: 100%|█████████████████████████████████████████████████████| 62/62 [00:00<00:00, 108.50it/s, loss=1.37, v_num=1]"
     ]
    },
    {
     "name": "stdout",
     "output_type": "stream",
     "text": [
      "\n"
     ]
    },
    {
     "name": "stdout",
     "output_type": "stream",
     "text": [
      "\r\n",
      "                                                                                                                        "
     ]
    },
    {
     "name": "stdout",
     "output_type": "stream",
     "text": [
      "\u001b[A"
     ]
    },
    {
     "name": "stdout",
     "output_type": "stream",
     "text": [
      "\r\n",
      "Epoch 0: 100%|█████████████████████████████████████████████████████| 62/62 [00:00<00:00, 107.40it/s, loss=1.37, v_num=1]"
     ]
    },
    {
     "name": "stdout",
     "output_type": "stream",
     "text": [
      "\n"
     ]
    }
   ],
   "source": [
    "opponent_feature_names = [\"npxG\",\"npxGA\"]\n",
    "player_feature_names = [\"total_points\", \"ict_index\", \"clean_sheets\", \"saves\", \"assists\"]\n",
    "\n",
    "agent = Agent(player_feature_names, opponent_feature_names, epochs=50)\n",
    "await agent.get_data()\n",
    "await agent.update_model()"
   ]
  },
  {
   "cell_type": "markdown",
   "id": "cda9a5a4",
   "metadata": {
    "papermill": {
     "duration": 0.049392,
     "end_time": "2021-10-11T13:59:06.040256",
     "exception": false,
     "start_time": "2021-10-11T13:59:05.990864",
     "status": "completed"
    },
    "tags": []
   },
   "source": [
    "## Show game week id"
   ]
  },
  {
   "cell_type": "code",
   "execution_count": 3,
   "id": "b65da14f",
   "metadata": {
    "execution": {
     "iopub.execute_input": "2021-10-11T13:59:06.143934Z",
     "iopub.status.busy": "2021-10-11T13:59:06.143653Z",
     "iopub.status.idle": "2021-10-11T13:59:06.146606Z",
     "shell.execute_reply": "2021-10-11T13:59:06.146332Z"
    },
    "papermill": {
     "duration": 0.055612,
     "end_time": "2021-10-11T13:59:06.146671",
     "exception": false,
     "start_time": "2021-10-11T13:59:06.091059",
     "status": "completed"
    },
    "tags": []
   },
   "outputs": [
    {
     "data": {
      "text/plain": [
       "'7_2021'"
      ]
     },
     "execution_count": 3,
     "metadata": {},
     "output_type": "execute_result"
    }
   ],
   "source": [
    "os.environ['GAMEWEEK']"
   ]
  },
  {
   "cell_type": "markdown",
   "id": "cf9e78f6",
   "metadata": {
    "papermill": {
     "duration": 0.04895,
     "end_time": "2021-10-11T13:59:06.244365",
     "exception": false,
     "start_time": "2021-10-11T13:59:06.195415",
     "status": "completed"
    },
    "tags": []
   },
   "source": [
    "## Display current squad"
   ]
  },
  {
   "cell_type": "code",
   "execution_count": null,
   "id": "19507d23",
   "metadata": {
    "execution": {
     "iopub.execute_input": "2021-10-11T13:50:28.064999Z",
     "iopub.status.busy": "2021-10-11T13:50:28.064516Z",
     "iopub.status.idle": "2021-10-11T13:50:28.162599Z",
     "shell.execute_reply": "2021-10-11T13:50:28.161812Z"
    },
    "papermill": {
     "duration": null,
     "end_time": null,
     "exception": false,
     "start_time": "2021-10-11T13:59:06.293016",
     "status": "running"
    },
    "tags": []
   },
   "outputs": [],
   "source": [
    "current_squad, non_squad = await get_current_squad(player_feature_names, opponent_feature_names, window=agent.window, num_players=agent.num_players)\n",
    "for player in current_squad:\n",
    "    player.visualize()"
   ]
  },
  {
   "cell_type": "markdown",
   "id": "eb13f746",
   "metadata": {
    "papermill": {
     "duration": null,
     "end_time": null,
     "exception": null,
     "start_time": null,
     "status": "pending"
    },
    "tags": []
   },
   "source": [
    "## Use model to swap players"
   ]
  },
  {
   "cell_type": "code",
   "execution_count": null,
   "id": "925f358b",
   "metadata": {
    "papermill": {
     "duration": null,
     "end_time": null,
     "exception": null,
     "start_time": null,
     "status": "pending"
    },
    "tags": []
   },
   "outputs": [],
   "source": [
    "current_squad, non_squad = await agent.get_new_squad(player_feature_names, opponent_feature_names)"
   ]
  },
  {
   "cell_type": "markdown",
   "id": "97f96acf",
   "metadata": {
    "papermill": {
     "duration": null,
     "end_time": null,
     "exception": null,
     "start_time": null,
     "status": "pending"
    },
    "tags": []
   },
   "source": [
    "## Set playing 11"
   ]
  },
  {
   "cell_type": "code",
   "execution_count": null,
   "metadata": {},
   "outputs": [],
   "source": [
    "agent.set_playing_11(current_squad, visualize=True)"
   ]
  },
  {
   "cell_type": "markdown",
   "id": "c8c99a6a",
   "metadata": {
    "papermill": {
     "duration": null,
     "end_time": null,
     "exception": null,
     "start_time": null,
     "status": "pending"
    },
    "tags": []
   },
   "source": [
    "## Highlight top performers by position for this week"
   ]
  },
  {
   "cell_type": "code",
   "execution_count": null,
   "id": "704e3419",
   "metadata": {
    "papermill": {
     "duration": null,
     "end_time": null,
     "exception": null,
     "start_time": null,
     "status": "pending"
    },
    "tags": []
   },
   "outputs": [],
   "source": [
    "agent.show_top_performers(current_squad + non_squad, k=5)"
   ]
  }
 ],
 "metadata": {
  "interpreter": {
   "hash": "b5627f7b8c19952b5c3fb9e9d080b6a8115f1e27078e0674f99b1b4770c4f5a6"
  },
  "kernelspec": {
   "display_name": "Python 3.8.11 64-bit ('control': conda)",
   "name": "python3"
  },
  "language_info": {
   "codemirror_mode": {
    "name": "ipython",
    "version": 3
   },
   "file_extension": ".py",
   "mimetype": "text/x-python",
   "name": "python",
   "nbconvert_exporter": "python",
   "pygments_lexer": "ipython3",
   "version": "3.8.11"
  },
  "papermill": {
   "default_parameters": {},
   "duration": null,
   "end_time": null,
   "environment_variables": {},
   "exception": null,
   "input_path": "agent.ipynb",
   "output_path": "agent.ipynb",
   "parameters": {},
   "start_time": "2021-10-11T13:52:35.561623",
   "version": "2.3.3"
  }
 },
 "nbformat": 4,
 "nbformat_minor": 5
}
