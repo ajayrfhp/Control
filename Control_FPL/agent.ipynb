{
 "cells": [
  {
   "cell_type": "markdown",
   "id": "15e35fc2",
   "metadata": {
    "tags": [
     "papermill-error-cell-tag"
    ]
   },
   "source": [
    "<span style=\"color:red; font-family:Helvetica Neue, Helvetica, Arial, sans-serif; font-size:2em;\">An Exception was encountered at '<a href=\"#papermill-error-cell\">In [2]</a>'.</span>"
   ]
  },
  {
   "cell_type": "markdown",
   "id": "702b53a1",
   "metadata": {
    "papermill": {
     "duration": 0.014531,
     "end_time": "2021-10-31T17:37:23.078944",
     "exception": false,
     "start_time": "2021-10-31T17:37:23.064413",
     "status": "completed"
    },
    "tags": []
   },
   "source": [
    "# Table of contents\n",
    "\n",
    "- Download latest data\n",
    "- Retrain model\n",
    "- Display current squad\n",
    "- Use model to identify transfers\n",
    "- Identify playing 11\n",
    "- Show top performers by position"
   ]
  },
  {
   "cell_type": "code",
   "execution_count": 1,
   "id": "323dbb4c",
   "metadata": {
    "execution": {
     "iopub.execute_input": "2021-10-31T17:37:23.124660Z",
     "iopub.status.busy": "2021-10-31T17:37:23.123673Z",
     "iopub.status.idle": "2021-10-31T17:37:24.173783Z",
     "shell.execute_reply": "2021-10-31T17:37:24.174008Z"
    },
    "papermill": {
     "duration": 1.0772,
     "end_time": "2021-10-31T17:37:24.174142",
     "exception": false,
     "start_time": "2021-10-31T17:37:23.096942",
     "status": "completed"
    },
    "tags": []
   },
   "outputs": [],
   "source": [
    "import pandas as pd\n",
    "import torch\n",
    "import numpy as np\n",
    "import random\n",
    "from random import shuffle\n",
    "np.random.seed(17)\n",
    "random.seed(17)\n",
    "torch.manual_seed(17)\n",
    "import wget\n",
    "import os\n",
    "import aiohttp\n",
    "import asyncio\n",
    "from fpl import FPL\n",
    "from torch.utils.data import TensorDataset, DataLoader\n",
    "from player import Player\n",
    "from team import Team\n",
    "from data_processor import get_fpl, get_current_squad\n",
    "from agent import Agent"
   ]
  },
  {
   "cell_type": "markdown",
   "id": "e2c4124c",
   "metadata": {
    "papermill": {
     "duration": 0.013959,
     "end_time": "2021-10-31T17:37:24.200807",
     "exception": false,
     "start_time": "2021-10-31T17:37:24.186848",
     "status": "completed"
    },
    "tags": []
   },
   "source": [
    "## Download latest data, train model and save model."
   ]
  },
  {
   "cell_type": "markdown",
   "id": "00c79f92",
   "metadata": {
    "tags": [
     "papermill-error-cell-tag"
    ]
   },
   "source": [
    "<span id=\"papermill-error-cell\" style=\"color:red; font-family:Helvetica Neue, Helvetica, Arial, sans-serif; font-size:2em;\">Execution using papermill encountered an exception here and stopped:</span>"
   ]
  },
  {
   "cell_type": "code",
   "execution_count": 2,
   "id": "e8d00bfe",
   "metadata": {
    "execution": {
     "iopub.execute_input": "2021-10-31T17:37:24.251999Z",
     "iopub.status.busy": "2021-10-31T17:37:24.250869Z",
     "iopub.status.idle": "2021-10-31T17:37:24.365108Z",
     "shell.execute_reply": "2021-10-31T17:37:24.364475Z"
    },
    "papermill": {
     "duration": 0.146814,
     "end_time": "2021-10-31T17:37:24.365240",
     "exception": true,
     "start_time": "2021-10-31T17:37:24.218426",
     "status": "failed"
    },
    "tags": []
   },
   "outputs": [
    {
     "ename": "TypeError",
     "evalue": "empty(): argument 'size' must be tuple of ints, but found element of type list at pos 2",
     "output_type": "error",
     "traceback": [
      "\u001b[0;31m---------------------------------------------------------------------------\u001b[0m",
      "\u001b[0;31mTypeError\u001b[0m                                 Traceback (most recent call last)",
      "\u001b[0;32m/tmp/ipykernel_7828/4147509290.py\u001b[0m in \u001b[0;36m<module>\u001b[0;34m\u001b[0m\n\u001b[1;32m      2\u001b[0m \u001b[0mplayer_feature_names\u001b[0m \u001b[0;34m=\u001b[0m \u001b[0;34m[\u001b[0m\u001b[0;34m\"total_points\"\u001b[0m\u001b[0;34m,\u001b[0m \u001b[0;34m\"ict_index\"\u001b[0m\u001b[0;34m,\u001b[0m \u001b[0;34m\"clean_sheets\"\u001b[0m\u001b[0;34m,\u001b[0m \u001b[0;34m\"saves\"\u001b[0m\u001b[0;34m,\u001b[0m \u001b[0;34m\"assists\"\u001b[0m\u001b[0;34m]\u001b[0m\u001b[0;34m\u001b[0m\u001b[0;34m\u001b[0m\u001b[0m\n\u001b[1;32m      3\u001b[0m \u001b[0;34m\u001b[0m\u001b[0m\n\u001b[0;32m----> 4\u001b[0;31m \u001b[0magent\u001b[0m \u001b[0;34m=\u001b[0m \u001b[0mAgent\u001b[0m\u001b[0;34m(\u001b[0m\u001b[0mplayer_feature_names\u001b[0m\u001b[0;34m,\u001b[0m \u001b[0mopponent_feature_names\u001b[0m\u001b[0;34m,\u001b[0m \u001b[0mepochs\u001b[0m\u001b[0;34m=\u001b[0m\u001b[0;36m50\u001b[0m\u001b[0;34m)\u001b[0m\u001b[0;34m\u001b[0m\u001b[0;34m\u001b[0m\u001b[0m\n\u001b[0m\u001b[1;32m      5\u001b[0m \u001b[0;32mawait\u001b[0m \u001b[0magent\u001b[0m\u001b[0;34m.\u001b[0m\u001b[0mget_data\u001b[0m\u001b[0;34m(\u001b[0m\u001b[0;34m)\u001b[0m\u001b[0;34m\u001b[0m\u001b[0;34m\u001b[0m\u001b[0m\n\u001b[1;32m      6\u001b[0m \u001b[0;32mawait\u001b[0m \u001b[0magent\u001b[0m\u001b[0;34m.\u001b[0m\u001b[0mupdate_model\u001b[0m\u001b[0;34m(\u001b[0m\u001b[0;34m)\u001b[0m\u001b[0;34m\u001b[0m\u001b[0;34m\u001b[0m\u001b[0m\n",
      "\u001b[0;32m~/Control/Control_FPL/agent.py\u001b[0m in \u001b[0;36m__init__\u001b[0;34m(self, player_feature_names, window, epochs, num_players)\u001b[0m\n\u001b[1;32m     29\u001b[0m     \u001b[0;32mdef\u001b[0m \u001b[0m__init__\u001b[0m\u001b[0;34m(\u001b[0m\u001b[0mself\u001b[0m\u001b[0;34m,\u001b[0m \u001b[0mplayer_feature_names\u001b[0m\u001b[0;34m,\u001b[0m \u001b[0mwindow\u001b[0m\u001b[0;34m=\u001b[0m\u001b[0;36m4\u001b[0m\u001b[0;34m,\u001b[0m \u001b[0mepochs\u001b[0m\u001b[0;34m=\u001b[0m\u001b[0;36m100\u001b[0m\u001b[0;34m,\u001b[0m \u001b[0mnum_players\u001b[0m\u001b[0;34m=\u001b[0m\u001b[0;36m680\u001b[0m\u001b[0;34m)\u001b[0m\u001b[0;34m:\u001b[0m\u001b[0;34m\u001b[0m\u001b[0;34m\u001b[0m\u001b[0m\n\u001b[1;32m     30\u001b[0m         \u001b[0mself\u001b[0m\u001b[0;34m.\u001b[0m\u001b[0mplayer_feature_names\u001b[0m \u001b[0;34m=\u001b[0m \u001b[0mplayer_feature_names\u001b[0m\u001b[0;34m\u001b[0m\u001b[0;34m\u001b[0m\u001b[0m\n\u001b[0;32m---> 31\u001b[0;31m         self.model = LightningWrapper(window_size=window, num_features=len(player_feature_names),  \n\u001b[0m\u001b[1;32m     32\u001b[0m                     model_type='linear')\n\u001b[1;32m     33\u001b[0m         \u001b[0;32mif\u001b[0m \u001b[0mif_has_gpu_use_gpu\u001b[0m\u001b[0;34m(\u001b[0m\u001b[0;34m)\u001b[0m\u001b[0;34m:\u001b[0m\u001b[0;34m\u001b[0m\u001b[0;34m\u001b[0m\u001b[0m\n",
      "\u001b[0;32m~/Control/Control_FPL/models.py\u001b[0m in \u001b[0;36m__init__\u001b[0;34m(self, window_size, num_features, model_type)\u001b[0m\n\u001b[1;32m     71\u001b[0m         \u001b[0mself\u001b[0m\u001b[0;34m.\u001b[0m\u001b[0mdim\u001b[0m \u001b[0;34m=\u001b[0m \u001b[0mwindow_size\u001b[0m \u001b[0;34m*\u001b[0m \u001b[0mnum_features\u001b[0m\u001b[0;34m\u001b[0m\u001b[0;34m\u001b[0m\u001b[0m\n\u001b[1;32m     72\u001b[0m         \u001b[0;32mif\u001b[0m \u001b[0mmodel_type\u001b[0m \u001b[0;34m==\u001b[0m \u001b[0;34m'linear'\u001b[0m\u001b[0;34m:\u001b[0m\u001b[0;34m\u001b[0m\u001b[0;34m\u001b[0m\u001b[0m\n\u001b[0;32m---> 73\u001b[0;31m             \u001b[0mself\u001b[0m\u001b[0;34m.\u001b[0m\u001b[0mmodel\u001b[0m \u001b[0;34m=\u001b[0m \u001b[0mLinearModel\u001b[0m\u001b[0;34m(\u001b[0m\u001b[0mwindow_size\u001b[0m\u001b[0;34m,\u001b[0m \u001b[0mnum_features\u001b[0m\u001b[0;34m)\u001b[0m\u001b[0;34m\u001b[0m\u001b[0;34m\u001b[0m\u001b[0m\n\u001b[0m\u001b[1;32m     74\u001b[0m         \u001b[0;32melif\u001b[0m \u001b[0mmodel_type\u001b[0m \u001b[0;34m==\u001b[0m \u001b[0;34m'RNN'\u001b[0m\u001b[0;34m:\u001b[0m\u001b[0;34m\u001b[0m\u001b[0;34m\u001b[0m\u001b[0m\n\u001b[1;32m     75\u001b[0m             \u001b[0mself\u001b[0m\u001b[0;34m.\u001b[0m\u001b[0mmodel\u001b[0m \u001b[0;34m=\u001b[0m  \u001b[0mRNNModel\u001b[0m\u001b[0;34m(\u001b[0m\u001b[0mwindow_size\u001b[0m\u001b[0;34m,\u001b[0m \u001b[0mnum_features\u001b[0m\u001b[0;34m)\u001b[0m\u001b[0;34m\u001b[0m\u001b[0;34m\u001b[0m\u001b[0m\n",
      "\u001b[0;32m~/Control/Control_FPL/models.py\u001b[0m in \u001b[0;36m__init__\u001b[0;34m(self, window_size, num_features)\u001b[0m\n\u001b[1;32m     45\u001b[0m         \u001b[0msuper\u001b[0m\u001b[0;34m(\u001b[0m\u001b[0mLinearModel\u001b[0m\u001b[0;34m,\u001b[0m \u001b[0mself\u001b[0m\u001b[0;34m)\u001b[0m\u001b[0;34m.\u001b[0m\u001b[0m__init__\u001b[0m\u001b[0;34m(\u001b[0m\u001b[0;34m)\u001b[0m\u001b[0;34m\u001b[0m\u001b[0;34m\u001b[0m\u001b[0m\n\u001b[1;32m     46\u001b[0m         \u001b[0mself\u001b[0m\u001b[0;34m.\u001b[0m\u001b[0mdim\u001b[0m \u001b[0;34m=\u001b[0m \u001b[0mwindow_size\u001b[0m \u001b[0;34m*\u001b[0m \u001b[0mnum_features\u001b[0m\u001b[0;34m\u001b[0m\u001b[0;34m\u001b[0m\u001b[0m\n\u001b[0;32m---> 47\u001b[0;31m         \u001b[0mself\u001b[0m\u001b[0;34m.\u001b[0m\u001b[0mfc1\u001b[0m \u001b[0;34m=\u001b[0m \u001b[0mnn\u001b[0m\u001b[0;34m.\u001b[0m\u001b[0mLinear\u001b[0m\u001b[0;34m(\u001b[0m\u001b[0mself\u001b[0m\u001b[0;34m.\u001b[0m\u001b[0mdim\u001b[0m\u001b[0;34m,\u001b[0m \u001b[0;36m1\u001b[0m\u001b[0;34m)\u001b[0m\u001b[0;34m.\u001b[0m\u001b[0mdouble\u001b[0m\u001b[0;34m(\u001b[0m\u001b[0;34m)\u001b[0m\u001b[0;34m\u001b[0m\u001b[0;34m\u001b[0m\u001b[0m\n\u001b[0m\u001b[1;32m     48\u001b[0m \u001b[0;34m\u001b[0m\u001b[0m\n\u001b[1;32m     49\u001b[0m     \u001b[0;32mdef\u001b[0m \u001b[0mforward\u001b[0m\u001b[0;34m(\u001b[0m\u001b[0mself\u001b[0m\u001b[0;34m,\u001b[0m \u001b[0mx\u001b[0m\u001b[0;34m)\u001b[0m\u001b[0;34m:\u001b[0m\u001b[0;34m\u001b[0m\u001b[0;34m\u001b[0m\u001b[0m\n",
      "\u001b[0;32m~/anaconda3/envs/test/lib/python3.8/site-packages/torch/nn/modules/linear.py\u001b[0m in \u001b[0;36m__init__\u001b[0;34m(self, in_features, out_features, bias, device, dtype)\u001b[0m\n\u001b[1;32m     79\u001b[0m         \u001b[0mself\u001b[0m\u001b[0;34m.\u001b[0m\u001b[0min_features\u001b[0m \u001b[0;34m=\u001b[0m \u001b[0min_features\u001b[0m\u001b[0;34m\u001b[0m\u001b[0;34m\u001b[0m\u001b[0m\n\u001b[1;32m     80\u001b[0m         \u001b[0mself\u001b[0m\u001b[0;34m.\u001b[0m\u001b[0mout_features\u001b[0m \u001b[0;34m=\u001b[0m \u001b[0mout_features\u001b[0m\u001b[0;34m\u001b[0m\u001b[0;34m\u001b[0m\u001b[0m\n\u001b[0;32m---> 81\u001b[0;31m         \u001b[0mself\u001b[0m\u001b[0;34m.\u001b[0m\u001b[0mweight\u001b[0m \u001b[0;34m=\u001b[0m \u001b[0mParameter\u001b[0m\u001b[0;34m(\u001b[0m\u001b[0mtorch\u001b[0m\u001b[0;34m.\u001b[0m\u001b[0mempty\u001b[0m\u001b[0;34m(\u001b[0m\u001b[0;34m(\u001b[0m\u001b[0mout_features\u001b[0m\u001b[0;34m,\u001b[0m \u001b[0min_features\u001b[0m\u001b[0;34m)\u001b[0m\u001b[0;34m,\u001b[0m \u001b[0;34m**\u001b[0m\u001b[0mfactory_kwargs\u001b[0m\u001b[0;34m)\u001b[0m\u001b[0;34m)\u001b[0m\u001b[0;34m\u001b[0m\u001b[0;34m\u001b[0m\u001b[0m\n\u001b[0m\u001b[1;32m     82\u001b[0m         \u001b[0;32mif\u001b[0m \u001b[0mbias\u001b[0m\u001b[0;34m:\u001b[0m\u001b[0;34m\u001b[0m\u001b[0;34m\u001b[0m\u001b[0m\n\u001b[1;32m     83\u001b[0m             \u001b[0mself\u001b[0m\u001b[0;34m.\u001b[0m\u001b[0mbias\u001b[0m \u001b[0;34m=\u001b[0m \u001b[0mParameter\u001b[0m\u001b[0;34m(\u001b[0m\u001b[0mtorch\u001b[0m\u001b[0;34m.\u001b[0m\u001b[0mempty\u001b[0m\u001b[0;34m(\u001b[0m\u001b[0mout_features\u001b[0m\u001b[0;34m,\u001b[0m \u001b[0;34m**\u001b[0m\u001b[0mfactory_kwargs\u001b[0m\u001b[0;34m)\u001b[0m\u001b[0;34m)\u001b[0m\u001b[0;34m\u001b[0m\u001b[0;34m\u001b[0m\u001b[0m\n",
      "\u001b[0;31mTypeError\u001b[0m: empty(): argument 'size' must be tuple of ints, but found element of type list at pos 2"
     ]
    }
   ],
   "source": [
    "opponent_feature_names = [\"npxG\",\"npxGA\"]\n",
    "player_feature_names = [\"total_points\", \"ict_index\", \"clean_sheets\", \"saves\", \"assists\"]\n",
    "\n",
    "agent = Agent(player_feature_names, opponent_feature_names, epochs=50)\n",
    "await agent.get_data()\n",
    "await agent.update_model()"
   ]
  },
  {
   "cell_type": "markdown",
   "id": "cda9a5a4",
   "metadata": {
    "papermill": {
     "duration": null,
     "end_time": null,
     "exception": null,
     "start_time": null,
     "status": "pending"
    },
    "tags": []
   },
   "source": [
    "## Show game week id"
   ]
  },
  {
   "cell_type": "code",
   "execution_count": null,
   "id": "b65da14f",
   "metadata": {
    "execution": {
     "iopub.execute_input": "2021-10-11T13:59:06.143934Z",
     "iopub.status.busy": "2021-10-11T13:59:06.143653Z",
     "iopub.status.idle": "2021-10-11T13:59:06.146606Z",
     "shell.execute_reply": "2021-10-11T13:59:06.146332Z"
    },
    "papermill": {
     "duration": null,
     "end_time": null,
     "exception": null,
     "start_time": null,
     "status": "pending"
    },
    "tags": []
   },
   "outputs": [],
   "source": [
    "os.environ['GAMEWEEK']"
   ]
  },
  {
   "cell_type": "markdown",
   "id": "cf9e78f6",
   "metadata": {
    "papermill": {
     "duration": null,
     "end_time": null,
     "exception": null,
     "start_time": null,
     "status": "pending"
    },
    "tags": []
   },
   "source": [
    "## Display current squad"
   ]
  },
  {
   "cell_type": "code",
   "execution_count": null,
   "id": "19507d23",
   "metadata": {
    "execution": {
     "iopub.execute_input": "2021-10-11T13:50:28.064999Z",
     "iopub.status.busy": "2021-10-11T13:50:28.064516Z",
     "iopub.status.idle": "2021-10-11T13:50:28.162599Z",
     "shell.execute_reply": "2021-10-11T13:50:28.161812Z"
    },
    "papermill": {
     "duration": null,
     "end_time": null,
     "exception": null,
     "start_time": null,
     "status": "pending"
    },
    "tags": []
   },
   "outputs": [],
   "source": [
    "current_squad, non_squad = await get_current_squad(player_feature_names, opponent_feature_names, window=agent.window, num_players=agent.num_players)\n",
    "for player in current_squad:\n",
    "    player.visualize()"
   ]
  },
  {
   "cell_type": "markdown",
   "id": "eb13f746",
   "metadata": {
    "papermill": {
     "duration": null,
     "end_time": null,
     "exception": null,
     "start_time": null,
     "status": "pending"
    },
    "tags": []
   },
   "source": [
    "## Use model to swap players"
   ]
  },
  {
   "cell_type": "code",
   "execution_count": null,
   "id": "925f358b",
   "metadata": {
    "papermill": {
     "duration": null,
     "end_time": null,
     "exception": null,
     "start_time": null,
     "status": "pending"
    },
    "tags": []
   },
   "outputs": [],
   "source": [
    "current_squad, non_squad = await agent.get_new_squad(player_feature_names, opponent_feature_names)"
   ]
  },
  {
   "cell_type": "markdown",
   "id": "97f96acf",
   "metadata": {
    "papermill": {
     "duration": null,
     "end_time": null,
     "exception": null,
     "start_time": null,
     "status": "pending"
    },
    "tags": []
   },
   "source": [
    "## Set playing 11"
   ]
  },
  {
   "cell_type": "code",
   "execution_count": null,
   "id": "72429f38",
   "metadata": {
    "papermill": {
     "duration": null,
     "end_time": null,
     "exception": null,
     "start_time": null,
     "status": "pending"
    },
    "tags": []
   },
   "outputs": [],
   "source": [
    "agent.set_playing_11(current_squad, visualize=True)"
   ]
  },
  {
   "cell_type": "markdown",
   "id": "c8c99a6a",
   "metadata": {
    "papermill": {
     "duration": null,
     "end_time": null,
     "exception": null,
     "start_time": null,
     "status": "pending"
    },
    "tags": []
   },
   "source": [
    "## Highlight top performers by position for this week"
   ]
  },
  {
   "cell_type": "code",
   "execution_count": null,
   "id": "704e3419",
   "metadata": {
    "papermill": {
     "duration": null,
     "end_time": null,
     "exception": null,
     "start_time": null,
     "status": "pending"
    },
    "tags": []
   },
   "outputs": [],
   "source": [
    "agent.show_top_performers(current_squad + non_squad, k=5)"
   ]
  }
 ],
 "metadata": {
  "interpreter": {
   "hash": "03ca37dd8f16b9970374fbeef9cf49c08034cd4bc6a7199a4f4689b44b4426cc"
  },
  "kernelspec": {
   "display_name": "Python 3.8.11 64-bit ('control': conda)",
   "name": "python3"
  },
  "language_info": {
   "codemirror_mode": {
    "name": "ipython",
    "version": 3
   },
   "file_extension": ".py",
   "mimetype": "text/x-python",
   "name": "python",
   "nbconvert_exporter": "python",
   "pygments_lexer": "ipython3",
   "version": "3.8.12"
  },
  "papermill": {
   "default_parameters": {},
   "duration": 5.142934,
   "end_time": "2021-10-31T17:37:27.297502",
   "environment_variables": {},
   "exception": true,
   "input_path": "agent.ipynb",
   "output_path": "agent.ipynb",
   "parameters": {},
   "start_time": "2021-10-31T17:37:22.154568",
   "version": "2.3.3"
  }
 },
 "nbformat": 4,
 "nbformat_minor": 5
}