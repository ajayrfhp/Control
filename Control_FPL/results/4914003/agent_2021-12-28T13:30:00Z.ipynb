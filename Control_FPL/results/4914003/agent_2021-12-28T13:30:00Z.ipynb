{
 "cells": [
  {
   "cell_type": "markdown",
   "id": "702b53a1",
   "metadata": {
    "papermill": {
     "duration": 0.03647,
     "end_time": "2021-12-28T13:21:35.273285",
     "exception": false,
     "start_time": "2021-12-28T13:21:35.236815",
     "status": "completed"
    },
    "tags": []
   },
   "source": [
    "# Table of contents\n",
    "\n",
    "- Download latest data\n",
    "- Retrain model\n",
    "- Display current squad\n",
    "- Use model to identify transfers\n",
    "- Identify playing 11\n",
    "- Show top performers by position"
   ]
  },
  {
   "cell_type": "code",
   "execution_count": 1,
   "id": "323dbb4c",
   "metadata": {
    "execution": {
     "iopub.execute_input": "2021-12-28T13:21:35.364366Z",
     "iopub.status.busy": "2021-12-28T13:21:35.358287Z",
     "iopub.status.idle": "2021-12-28T13:21:37.624128Z",
     "shell.execute_reply": "2021-12-28T13:21:37.624502Z"
    },
    "papermill": {
     "duration": 2.322157,
     "end_time": "2021-12-28T13:21:37.624734",
     "exception": false,
     "start_time": "2021-12-28T13:21:35.302577",
     "status": "completed"
    },
    "tags": []
   },
   "outputs": [],
   "source": [
    "import pandas as pd\n",
    "import torch\n",
    "import numpy as np\n",
    "import random\n",
    "from random import shuffle\n",
    "np.random.seed(17)\n",
    "random.seed(17)\n",
    "torch.manual_seed(17)\n",
    "import wget\n",
    "import os\n",
    "import aiohttp\n",
    "import asyncio\n",
    "from fpl import FPL\n",
    "from torch.utils.data import TensorDataset, DataLoader\n",
    "from player import Player\n",
    "from team import Team\n",
    "from data_processor import get_fpl, get_current_squad, get_latest_game_week\n",
    "from agent import Agent\n",
    "from pytorch_lightning.callbacks.early_stopping import EarlyStopping\n",
    "import pytorch_lightning as pl\n"
   ]
  },
  {
   "cell_type": "markdown",
   "id": "e2c4124c",
   "metadata": {
    "papermill": {
     "duration": 0.006413,
     "end_time": "2021-12-28T13:21:37.638440",
     "exception": false,
     "start_time": "2021-12-28T13:21:37.632027",
     "status": "completed"
    },
    "tags": []
   },
   "source": [
    "## Download latest data, train model and save model."
   ]
  },
  {
   "cell_type": "code",
   "execution_count": 2,
   "id": "e8d00bfe",
   "metadata": {
    "execution": {
     "iopub.execute_input": "2021-12-28T13:21:37.664255Z",
     "iopub.status.busy": "2021-12-28T13:21:37.663852Z",
     "iopub.status.idle": "2021-12-28T13:22:25.361965Z",
     "shell.execute_reply": "2021-12-28T13:22:25.362450Z"
    },
    "papermill": {
     "duration": 47.716672,
     "end_time": "2021-12-28T13:22:25.362591",
     "exception": false,
     "start_time": "2021-12-28T13:21:37.645919",
     "status": "completed"
    },
    "tags": []
   },
   "outputs": [
    {
     "name": "stderr",
     "output_type": "stream",
     "text": [
      "GPU available: False, used: False\n"
     ]
    },
    {
     "name": "stderr",
     "output_type": "stream",
     "text": [
      "TPU available: False, using: 0 TPU cores\n"
     ]
    },
    {
     "name": "stderr",
     "output_type": "stream",
     "text": [
      "IPU available: False, using: 0 IPUs\n"
     ]
    },
    {
     "name": "stderr",
     "output_type": "stream",
     "text": [
      "/home/ajrfhp/anaconda3/envs/test/lib/python3.8/site-packages/pandas/core/frame.py:5171: SettingWithCopyWarning: \n",
      "A value is trying to be set on a copy of a slice from a DataFrame\n",
      "\n",
      "See the caveats in the documentation: https://pandas.pydata.org/pandas-docs/stable/user_guide/indexing.html#returning-a-view-versus-a-copy\n",
      "  return super().fillna(\n",
      "/home/ajrfhp/Control/Control_FPL/data_processor.py:70: SettingWithCopyWarning: \n",
      "A value is trying to be set on a copy of a slice from a DataFrame.\n",
      "Try using .loc[row_indexer,col_indexer] = value instead\n",
      "\n",
      "See the caveats in the documentation: https://pandas.pydata.org/pandas-docs/stable/user_guide/indexing.html#returning-a-view-versus-a-copy\n",
      "  all_player_features[\"total_points\"] = all_player_features[\"total_points\"].clip(0, max_player_points)\n"
     ]
    },
    {
     "name": "stderr",
     "output_type": "stream",
     "text": [
      "\n",
      "  | Name  | Type        | Params\n",
      "--------------------------------------\n",
      "0 | model | LinearModel | 43    \n",
      "--------------------------------------\n",
      "43        Trainable params\n",
      "0         Non-trainable params\n",
      "43        Total params\n",
      "0.000     Total estimated model params size (MB)\n"
     ]
    },
    {
     "name": "stdout",
     "output_type": "stream",
     "text": [
      "\r",
      "Validation sanity check: 0it [00:00, ?it/s]"
     ]
    },
    {
     "name": "stdout",
     "output_type": "stream",
     "text": [
      "\r",
      "Validation sanity check:   0%|                                                                    | 0/2 [00:00<?, ?it/s]"
     ]
    },
    {
     "name": "stdout",
     "output_type": "stream",
     "text": [
      "\r",
      "Validation sanity check:  50%|██████████████████████████████                              | 1/2 [00:00<00:00,  1.48it/s]"
     ]
    },
    {
     "name": "stdout",
     "output_type": "stream",
     "text": [
      "\r",
      "                                                                                                                        "
     ]
    },
    {
     "name": "stderr",
     "output_type": "stream",
     "text": [
      "/home/ajrfhp/anaconda3/envs/test/lib/python3.8/site-packages/pytorch_lightning/trainer/data_loading.py:322: UserWarning: The number of training samples (15) is smaller than the logging interval Trainer(log_every_n_steps=50). Set a lower value for log_every_n_steps if you want to see logs for the training epoch.\n",
      "  rank_zero_warn(\n"
     ]
    },
    {
     "name": "stdout",
     "output_type": "stream",
     "text": [
      "\r"
     ]
    },
    {
     "name": "stdout",
     "output_type": "stream",
     "text": [
      "\r",
      "Training: -1it [00:00, ?it/s]"
     ]
    },
    {
     "name": "stdout",
     "output_type": "stream",
     "text": [
      "\r",
      "Training:   0%|                                                                       | 0/19 [00:00<00:00, 13797.05it/s]"
     ]
    },
    {
     "name": "stdout",
     "output_type": "stream",
     "text": [
      "\r",
      "Epoch 0:   0%|                                                                         | 0/19 [00:00<00:00, 1011.65it/s]"
     ]
    },
    {
     "name": "stdout",
     "output_type": "stream",
     "text": [
      "\r",
      "Epoch 0:   5%|███▉                                                                       | 1/19 [00:00<00:02,  7.84it/s]"
     ]
    },
    {
     "name": "stdout",
     "output_type": "stream",
     "text": [
      "\r",
      "Epoch 0:   5%|██▊                                                   | 1/19 [00:00<00:02,  7.76it/s, loss=2.71, v_num=84]"
     ]
    },
    {
     "name": "stdout",
     "output_type": "stream",
     "text": [
      "\r",
      "Epoch 0:  11%|█████▋                                                | 2/19 [00:00<00:01, 11.35it/s, loss=2.73, v_num=84]"
     ]
    },
    {
     "name": "stdout",
     "output_type": "stream",
     "text": [
      "\r",
      "Epoch 0:  16%|████████▌                                             | 3/19 [00:00<00:01, 14.84it/s, loss=2.62, v_num=84]"
     ]
    },
    {
     "name": "stdout",
     "output_type": "stream",
     "text": [
      "\r",
      "Epoch 0:  21%|███████████▎                                          | 4/19 [00:00<00:00, 18.20it/s, loss=2.57, v_num=84]"
     ]
    },
    {
     "name": "stdout",
     "output_type": "stream",
     "text": [
      "\r",
      "Epoch 0:  26%|██████████████▏                                       | 5/19 [00:00<00:00, 21.40it/s, loss=2.54, v_num=84]"
     ]
    },
    {
     "name": "stdout",
     "output_type": "stream",
     "text": [
      "\r",
      "Epoch 0:  32%|█████████████████                                     | 6/19 [00:00<00:00, 24.53it/s, loss=2.52, v_num=84]"
     ]
    },
    {
     "name": "stdout",
     "output_type": "stream",
     "text": [
      "\r",
      "Epoch 0:  37%|████████████████████▎                                  | 7/19 [00:00<00:00, 27.55it/s, loss=2.5, v_num=84]"
     ]
    },
    {
     "name": "stdout",
     "output_type": "stream",
     "text": [
      "\r",
      "Epoch 0:  42%|██████████████████████▋                               | 8/19 [00:00<00:00, 30.37it/s, loss=2.48, v_num=84]"
     ]
    },
    {
     "name": "stdout",
     "output_type": "stream",
     "text": [
      "\r",
      "Epoch 0:  47%|█████████████████████████▌                            | 9/19 [00:00<00:00, 33.17it/s, loss=2.46, v_num=84]"
     ]
    },
    {
     "name": "stdout",
     "output_type": "stream",
     "text": [
      "\r",
      "Epoch 0:  53%|███████████████████████████▉                         | 10/19 [00:00<00:00, 35.75it/s, loss=2.44, v_num=84]"
     ]
    },
    {
     "name": "stdout",
     "output_type": "stream",
     "text": [
      "\r",
      "Epoch 0:  58%|██████████████████████████████▋                      | 11/19 [00:00<00:00, 38.24it/s, loss=2.41, v_num=84]"
     ]
    },
    {
     "name": "stdout",
     "output_type": "stream",
     "text": [
      "\r",
      "Epoch 0:  63%|█████████████████████████████████▍                   | 12/19 [00:00<00:00, 40.75it/s, loss=2.39, v_num=84]"
     ]
    },
    {
     "name": "stdout",
     "output_type": "stream",
     "text": [
      "\r",
      "Epoch 0:  68%|████████████████████████████████████▎                | 13/19 [00:00<00:00, 43.01it/s, loss=2.36, v_num=84]"
     ]
    },
    {
     "name": "stdout",
     "output_type": "stream",
     "text": [
      "\r",
      "Epoch 0:  74%|███████████████████████████████████████              | 14/19 [00:00<00:00, 45.33it/s, loss=2.35, v_num=84]"
     ]
    },
    {
     "name": "stdout",
     "output_type": "stream",
     "text": [
      "\r",
      "Epoch 0:  79%|█████████████████████████████████████████▊           | 15/19 [00:00<00:00, 44.33it/s, loss=2.35, v_num=84]"
     ]
    },
    {
     "name": "stdout",
     "output_type": "stream",
     "text": [
      "\r",
      "Epoch 0:  79%|█████████████████████████████████████████▊           | 15/19 [00:00<00:00, 44.20it/s, loss=2.32, v_num=84]"
     ]
    },
    {
     "name": "stdout",
     "output_type": "stream",
     "text": [
      "\n"
     ]
    },
    {
     "name": "stdout",
     "output_type": "stream",
     "text": [
      "\r",
      "Validating: 0it [00:00, ?it/s]"
     ]
    },
    {
     "name": "stdout",
     "output_type": "stream",
     "text": [
      "\u001b[A"
     ]
    },
    {
     "name": "stdout",
     "output_type": "stream",
     "text": [
      "\n"
     ]
    },
    {
     "name": "stdout",
     "output_type": "stream",
     "text": [
      "\r",
      "Validating:   0%|                                                                                 | 0/4 [00:00<?, ?it/s]"
     ]
    },
    {
     "name": "stdout",
     "output_type": "stream",
     "text": [
      "\u001b[A"
     ]
    },
    {
     "name": "stdout",
     "output_type": "stream",
     "text": [
      "\n"
     ]
    },
    {
     "name": "stdout",
     "output_type": "stream",
     "text": [
      "\r",
      "Validating:  25%|██████████████████▎                                                      | 1/4 [00:00<00:00,  4.80it/s]"
     ]
    },
    {
     "name": "stdout",
     "output_type": "stream",
     "text": [
      "\u001b[A"
     ]
    },
    {
     "name": "stdout",
     "output_type": "stream",
     "text": [
      "\r",
      "Epoch 0: 100%|█████████████████████████████████████████████████████| 19/19 [00:00<00:00, 32.26it/s, loss=2.32, v_num=84]"
     ]
    },
    {
     "name": "stdout",
     "output_type": "stream",
     "text": [
      "\n"
     ]
    },
    {
     "name": "stdout",
     "output_type": "stream",
     "text": [
      "\r",
      "                                                                                                                        "
     ]
    },
    {
     "name": "stdout",
     "output_type": "stream",
     "text": [
      "\u001b[A"
     ]
    },
    {
     "name": "stdout",
     "output_type": "stream",
     "text": [
      "\r",
      "Epoch 0:   0%|                                                   | 0/19 [00:00<00:00, 23172.95it/s, loss=2.32, v_num=84]"
     ]
    },
    {
     "name": "stdout",
     "output_type": "stream",
     "text": [
      "\r",
      "Epoch 1:   0%|                                                     | 0/19 [00:00<00:00, 917.39it/s, loss=2.32, v_num=84]"
     ]
    },
    {
     "name": "stdout",
     "output_type": "stream",
     "text": [
      "\r",
      "Epoch 1:   5%|██▊                                                   | 1/19 [00:00<00:02,  6.70it/s, loss=2.31, v_num=84]"
     ]
    },
    {
     "name": "stdout",
     "output_type": "stream",
     "text": [
      "\r",
      "Epoch 1:  11%|█████▊                                                 | 2/19 [00:00<00:01,  9.76it/s, loss=2.3, v_num=84]"
     ]
    },
    {
     "name": "stdout",
     "output_type": "stream",
     "text": [
      "\r",
      "Epoch 1:  16%|████████▌                                             | 3/19 [00:00<00:01, 12.73it/s, loss=2.28, v_num=84]"
     ]
    },
    {
     "name": "stdout",
     "output_type": "stream",
     "text": [
      "\r",
      "Epoch 1:  21%|███████████▎                                          | 4/19 [00:00<00:00, 15.64it/s, loss=2.26, v_num=84]"
     ]
    },
    {
     "name": "stdout",
     "output_type": "stream",
     "text": [
      "\r",
      "Epoch 1:  26%|██████████████▏                                       | 5/19 [00:00<00:00, 18.44it/s, loss=2.25, v_num=84]"
     ]
    },
    {
     "name": "stdout",
     "output_type": "stream",
     "text": [
      "\r",
      "Epoch 1:  32%|█████████████████                                     | 6/19 [00:00<00:00, 21.11it/s, loss=2.21, v_num=84]"
     ]
    },
    {
     "name": "stdout",
     "output_type": "stream",
     "text": [
      "\r",
      "Epoch 1:  37%|███████████████████▉                                  | 7/19 [00:00<00:00, 23.68it/s, loss=2.17, v_num=84]"
     ]
    },
    {
     "name": "stdout",
     "output_type": "stream",
     "text": [
      "\r",
      "Epoch 1:  42%|██████████████████████▋                               | 8/19 [00:00<00:00, 26.15it/s, loss=2.14, v_num=84]"
     ]
    },
    {
     "name": "stdout",
     "output_type": "stream",
     "text": [
      "\r",
      "Epoch 1:  47%|█████████████████████████▌                            | 9/19 [00:00<00:00, 28.52it/s, loss=2.12, v_num=84]"
     ]
    },
    {
     "name": "stdout",
     "output_type": "stream",
     "text": [
      "\r",
      "Epoch 1:  53%|███████████████████████████▉                         | 10/19 [00:00<00:00, 30.91it/s, loss=2.09, v_num=84]"
     ]
    },
    {
     "name": "stdout",
     "output_type": "stream",
     "text": [
      "\r",
      "Epoch 1:  58%|██████████████████████████████▋                      | 11/19 [00:00<00:00, 33.09it/s, loss=2.05, v_num=84]"
     ]
    },
    {
     "name": "stdout",
     "output_type": "stream",
     "text": [
      "\r",
      "Epoch 1:  63%|█████████████████████████████████▍                   | 12/19 [00:00<00:00, 35.29it/s, loss=2.02, v_num=84]"
     ]
    },
    {
     "name": "stdout",
     "output_type": "stream",
     "text": [
      "\r",
      "Epoch 1:  68%|████████████████████████████████████▎                | 13/19 [00:00<00:00, 37.40it/s, loss=1.99, v_num=84]"
     ]
    },
    {
     "name": "stdout",
     "output_type": "stream",
     "text": [
      "\r",
      "Epoch 1:  74%|███████████████████████████████████████              | 14/19 [00:00<00:00, 39.46it/s, loss=1.99, v_num=84]"
     ]
    },
    {
     "name": "stdout",
     "output_type": "stream",
     "text": [
      "\r",
      "Epoch 1:  74%|███████████████████████████████████████              | 14/19 [00:00<00:00, 39.34it/s, loss=1.96, v_num=84]"
     ]
    },
    {
     "name": "stdout",
     "output_type": "stream",
     "text": [
      "\r",
      "Epoch 1:  79%|█████████████████████████████████████████▊           | 15/19 [00:00<00:00, 38.05it/s, loss=1.92, v_num=84]"
     ]
    },
    {
     "name": "stdout",
     "output_type": "stream",
     "text": [
      "\n"
     ]
    },
    {
     "name": "stdout",
     "output_type": "stream",
     "text": [
      "\r",
      "Validating: 0it [00:00, ?it/s]"
     ]
    },
    {
     "name": "stdout",
     "output_type": "stream",
     "text": [
      "\u001b[A"
     ]
    },
    {
     "name": "stdout",
     "output_type": "stream",
     "text": [
      "\n"
     ]
    },
    {
     "name": "stdout",
     "output_type": "stream",
     "text": [
      "\r",
      "Validating:   0%|                                                                                 | 0/4 [00:00<?, ?it/s]"
     ]
    },
    {
     "name": "stdout",
     "output_type": "stream",
     "text": [
      "\u001b[A"
     ]
    },
    {
     "name": "stdout",
     "output_type": "stream",
     "text": [
      "\n"
     ]
    },
    {
     "name": "stdout",
     "output_type": "stream",
     "text": [
      "\r",
      "Validating:  25%|██████████████████▎                                                      | 1/4 [00:00<00:00,  3.80it/s]"
     ]
    },
    {
     "name": "stdout",
     "output_type": "stream",
     "text": [
      "\u001b[A"
     ]
    },
    {
     "name": "stdout",
     "output_type": "stream",
     "text": [
      "\r",
      "Epoch 1: 100%|█████████████████████████████████████████████████████| 19/19 [00:00<00:00, 27.14it/s, loss=1.92, v_num=84]"
     ]
    },
    {
     "name": "stdout",
     "output_type": "stream",
     "text": [
      "\n"
     ]
    },
    {
     "name": "stdout",
     "output_type": "stream",
     "text": [
      "\r",
      "                                                                                                                        "
     ]
    },
    {
     "name": "stdout",
     "output_type": "stream",
     "text": [
      "\u001b[A"
     ]
    },
    {
     "name": "stdout",
     "output_type": "stream",
     "text": [
      "\r",
      "Epoch 1:   0%|                                                   | 0/19 [00:00<00:00, 22550.02it/s, loss=1.92, v_num=84]"
     ]
    },
    {
     "name": "stdout",
     "output_type": "stream",
     "text": [
      "\r",
      "Epoch 2:   0%|                                                    | 0/19 [00:00<00:00, 1039.74it/s, loss=1.92, v_num=84]"
     ]
    },
    {
     "name": "stdout",
     "output_type": "stream",
     "text": [
      "\r",
      "Epoch 2:   5%|██▊                                                   | 1/19 [00:00<00:03,  5.84it/s, loss=1.91, v_num=84]"
     ]
    },
    {
     "name": "stdout",
     "output_type": "stream",
     "text": [
      "\r",
      "Epoch 2:  11%|█████▋                                                | 2/19 [00:00<00:01,  8.54it/s, loss=1.89, v_num=84]"
     ]
    },
    {
     "name": "stdout",
     "output_type": "stream",
     "text": [
      "\r",
      "Epoch 2:  16%|████████▌                                             | 3/19 [00:00<00:01, 11.15it/s, loss=1.87, v_num=84]"
     ]
    },
    {
     "name": "stdout",
     "output_type": "stream",
     "text": [
      "\r",
      "Epoch 2:  21%|███████████▎                                          | 4/19 [00:00<00:01, 13.69it/s, loss=1.84, v_num=84]"
     ]
    },
    {
     "name": "stdout",
     "output_type": "stream",
     "text": [
      "\r",
      "Epoch 2:  26%|██████████████▏                                       | 5/19 [00:00<00:00, 16.10it/s, loss=1.83, v_num=84]"
     ]
    },
    {
     "name": "stdout",
     "output_type": "stream",
     "text": [
      "\r",
      "Epoch 2:  32%|█████████████████▎                                     | 6/19 [00:00<00:00, 18.46it/s, loss=1.8, v_num=84]"
     ]
    },
    {
     "name": "stdout",
     "output_type": "stream",
     "text": [
      "\r",
      "Epoch 2:  37%|███████████████████▉                                  | 7/19 [00:00<00:00, 20.67it/s, loss=1.77, v_num=84]"
     ]
    },
    {
     "name": "stdout",
     "output_type": "stream",
     "text": [
      "\r",
      "Epoch 2:  42%|██████████████████████▋                               | 8/19 [00:00<00:00, 22.90it/s, loss=1.75, v_num=84]"
     ]
    },
    {
     "name": "stdout",
     "output_type": "stream",
     "text": [
      "\r",
      "Epoch 2:  47%|█████████████████████████▌                            | 9/19 [00:00<00:00, 25.08it/s, loss=1.73, v_num=84]"
     ]
    },
    {
     "name": "stdout",
     "output_type": "stream",
     "text": [
      "\r",
      "Epoch 2:  53%|███████████████████████████▉                         | 10/19 [00:00<00:00, 27.16it/s, loss=1.71, v_num=84]"
     ]
    },
    {
     "name": "stdout",
     "output_type": "stream",
     "text": [
      "\r",
      "Epoch 2:  58%|██████████████████████████████▋                      | 11/19 [00:00<00:00, 29.08it/s, loss=1.68, v_num=84]"
     ]
    },
    {
     "name": "stdout",
     "output_type": "stream",
     "text": [
      "\r",
      "Epoch 2:  63%|█████████████████████████████████▍                   | 12/19 [00:00<00:00, 30.67it/s, loss=1.66, v_num=84]"
     ]
    },
    {
     "name": "stdout",
     "output_type": "stream",
     "text": [
      "\r",
      "Epoch 2:  68%|████████████████████████████████████▎                | 13/19 [00:00<00:00, 32.62it/s, loss=1.64, v_num=84]"
     ]
    },
    {
     "name": "stdout",
     "output_type": "stream",
     "text": [
      "\r",
      "Epoch 2:  74%|███████████████████████████████████████              | 14/19 [00:00<00:00, 34.43it/s, loss=1.64, v_num=84]"
     ]
    },
    {
     "name": "stdout",
     "output_type": "stream",
     "text": [
      "\r",
      "Epoch 2:  74%|███████████████████████████████████████              | 14/19 [00:00<00:00, 34.32it/s, loss=1.62, v_num=84]"
     ]
    },
    {
     "name": "stdout",
     "output_type": "stream",
     "text": [
      "\r",
      "Epoch 2:  79%|█████████████████████████████████████████▊           | 15/19 [00:00<00:00, 33.91it/s, loss=1.59, v_num=84]"
     ]
    },
    {
     "name": "stdout",
     "output_type": "stream",
     "text": [
      "\n"
     ]
    },
    {
     "name": "stdout",
     "output_type": "stream",
     "text": [
      "\r",
      "Validating: 0it [00:00, ?it/s]"
     ]
    },
    {
     "name": "stdout",
     "output_type": "stream",
     "text": [
      "\u001b[A"
     ]
    },
    {
     "name": "stdout",
     "output_type": "stream",
     "text": [
      "\n"
     ]
    },
    {
     "name": "stdout",
     "output_type": "stream",
     "text": [
      "\r",
      "Validating:   0%|                                                                                 | 0/4 [00:00<?, ?it/s]"
     ]
    },
    {
     "name": "stdout",
     "output_type": "stream",
     "text": [
      "\u001b[A"
     ]
    },
    {
     "name": "stdout",
     "output_type": "stream",
     "text": [
      "\n"
     ]
    },
    {
     "name": "stdout",
     "output_type": "stream",
     "text": [
      "\r",
      "Validating:  25%|██████████████████▎                                                      | 1/4 [00:00<00:00,  4.58it/s]"
     ]
    },
    {
     "name": "stdout",
     "output_type": "stream",
     "text": [
      "\u001b[A"
     ]
    },
    {
     "name": "stdout",
     "output_type": "stream",
     "text": [
      "\r",
      "Epoch 2: 100%|█████████████████████████████████████████████████████| 19/19 [00:00<00:00, 27.21it/s, loss=1.59, v_num=84]"
     ]
    },
    {
     "name": "stdout",
     "output_type": "stream",
     "text": [
      "\n"
     ]
    },
    {
     "name": "stdout",
     "output_type": "stream",
     "text": [
      "\r",
      "                                                                                                                        "
     ]
    },
    {
     "name": "stdout",
     "output_type": "stream",
     "text": [
      "\u001b[A"
     ]
    },
    {
     "name": "stdout",
     "output_type": "stream",
     "text": [
      "\r",
      "Epoch 2:   0%|                                                   | 0/19 [00:00<00:00, 28926.23it/s, loss=1.59, v_num=84]"
     ]
    },
    {
     "name": "stdout",
     "output_type": "stream",
     "text": [
      "\r",
      "Epoch 3:   0%|                                                    | 0/19 [00:00<00:00, 1068.61it/s, loss=1.59, v_num=84]"
     ]
    },
    {
     "name": "stdout",
     "output_type": "stream",
     "text": [
      "\r",
      "Epoch 3:   5%|██▊                                                   | 1/19 [00:00<00:02,  6.72it/s, loss=1.58, v_num=84]"
     ]
    },
    {
     "name": "stdout",
     "output_type": "stream",
     "text": [
      "\r",
      "Epoch 3:  11%|█████▋                                                | 2/19 [00:00<00:01,  9.76it/s, loss=1.57, v_num=84]"
     ]
    },
    {
     "name": "stdout",
     "output_type": "stream",
     "text": [
      "\r",
      "Epoch 3:  16%|████████▌                                             | 3/19 [00:00<00:01, 12.77it/s, loss=1.56, v_num=84]"
     ]
    },
    {
     "name": "stdout",
     "output_type": "stream",
     "text": [
      "\r",
      "Epoch 3:  21%|███████████▎                                          | 4/19 [00:00<00:00, 15.68it/s, loss=1.54, v_num=84]"
     ]
    },
    {
     "name": "stdout",
     "output_type": "stream",
     "text": [
      "\r",
      "Epoch 3:  26%|██████████████▏                                       | 5/19 [00:00<00:00, 18.44it/s, loss=1.53, v_num=84]"
     ]
    },
    {
     "name": "stdout",
     "output_type": "stream",
     "text": [
      "\r",
      "Epoch 3:  32%|█████████████████                                     | 6/19 [00:00<00:00, 20.95it/s, loss=1.51, v_num=84]"
     ]
    },
    {
     "name": "stdout",
     "output_type": "stream",
     "text": [
      "\r",
      "Epoch 3:  37%|███████████████████▉                                  | 7/19 [00:00<00:00, 23.38it/s, loss=1.49, v_num=84]"
     ]
    },
    {
     "name": "stdout",
     "output_type": "stream",
     "text": [
      "\r",
      "Epoch 3:  42%|██████████████████████▋                               | 8/19 [00:00<00:00, 25.89it/s, loss=1.47, v_num=84]"
     ]
    },
    {
     "name": "stdout",
     "output_type": "stream",
     "text": [
      "\r",
      "Epoch 3:  47%|█████████████████████████▌                            | 9/19 [00:00<00:00, 28.26it/s, loss=1.46, v_num=84]"
     ]
    },
    {
     "name": "stdout",
     "output_type": "stream",
     "text": [
      "\r",
      "Epoch 3:  53%|███████████████████████████▉                         | 10/19 [00:00<00:00, 30.54it/s, loss=1.45, v_num=84]"
     ]
    },
    {
     "name": "stdout",
     "output_type": "stream",
     "text": [
      "\r",
      "Epoch 3:  58%|██████████████████████████████▋                      | 11/19 [00:00<00:00, 32.68it/s, loss=1.43, v_num=84]"
     ]
    },
    {
     "name": "stdout",
     "output_type": "stream",
     "text": [
      "\r",
      "Epoch 3:  63%|█████████████████████████████████▍                   | 12/19 [00:00<00:00, 34.83it/s, loss=1.41, v_num=84]"
     ]
    },
    {
     "name": "stdout",
     "output_type": "stream",
     "text": [
      "\r",
      "Epoch 3:  68%|████████████████████████████████████▎                | 13/19 [00:00<00:00, 36.89it/s, loss=1.39, v_num=84]"
     ]
    },
    {
     "name": "stdout",
     "output_type": "stream",
     "text": [
      "\r",
      "Epoch 3:  74%|███████████████████████████████████████              | 14/19 [00:00<00:00, 38.91it/s, loss=1.39, v_num=84]"
     ]
    },
    {
     "name": "stdout",
     "output_type": "stream",
     "text": [
      "\r",
      "Epoch 3:  74%|███████████████████████████████████████              | 14/19 [00:00<00:00, 38.79it/s, loss=1.38, v_num=84]"
     ]
    },
    {
     "name": "stdout",
     "output_type": "stream",
     "text": [
      "\r",
      "Epoch 3:  79%|█████████████████████████████████████████▊           | 15/19 [00:00<00:00, 38.08it/s, loss=1.36, v_num=84]"
     ]
    },
    {
     "name": "stdout",
     "output_type": "stream",
     "text": [
      "\n"
     ]
    },
    {
     "name": "stdout",
     "output_type": "stream",
     "text": [
      "\r",
      "Validating: 0it [00:00, ?it/s]"
     ]
    },
    {
     "name": "stdout",
     "output_type": "stream",
     "text": [
      "\u001b[A"
     ]
    },
    {
     "name": "stdout",
     "output_type": "stream",
     "text": [
      "\n"
     ]
    },
    {
     "name": "stdout",
     "output_type": "stream",
     "text": [
      "\r",
      "Validating:   0%|                                                                                 | 0/4 [00:00<?, ?it/s]"
     ]
    },
    {
     "name": "stdout",
     "output_type": "stream",
     "text": [
      "\u001b[A"
     ]
    },
    {
     "name": "stdout",
     "output_type": "stream",
     "text": [
      "\n"
     ]
    },
    {
     "name": "stdout",
     "output_type": "stream",
     "text": [
      "\r",
      "Validating:  25%|██████████████████▎                                                      | 1/4 [00:00<00:00,  3.91it/s]"
     ]
    },
    {
     "name": "stdout",
     "output_type": "stream",
     "text": [
      "\u001b[A"
     ]
    },
    {
     "name": "stdout",
     "output_type": "stream",
     "text": [
      "\r",
      "Epoch 3: 100%|█████████████████████████████████████████████████████| 19/19 [00:00<00:00, 27.56it/s, loss=1.36, v_num=84]"
     ]
    },
    {
     "name": "stdout",
     "output_type": "stream",
     "text": [
      "\n"
     ]
    },
    {
     "name": "stdout",
     "output_type": "stream",
     "text": [
      "\r",
      "                                                                                                                        "
     ]
    },
    {
     "name": "stdout",
     "output_type": "stream",
     "text": [
      "\u001b[A"
     ]
    },
    {
     "name": "stdout",
     "output_type": "stream",
     "text": [
      "\r",
      "Epoch 3:   0%|                                                   | 0/19 [00:00<00:00, 22429.43it/s, loss=1.36, v_num=84]"
     ]
    },
    {
     "name": "stdout",
     "output_type": "stream",
     "text": [
      "\r",
      "Epoch 4:   0%|                                                     | 0/19 [00:00<00:00, 920.81it/s, loss=1.36, v_num=84]"
     ]
    },
    {
     "name": "stdout",
     "output_type": "stream",
     "text": [
      "\r",
      "Epoch 4:   5%|██▊                                                   | 1/19 [00:00<00:03,  4.95it/s, loss=1.36, v_num=84]"
     ]
    },
    {
     "name": "stdout",
     "output_type": "stream",
     "text": [
      "\r",
      "Epoch 4:  11%|█████▋                                                | 2/19 [00:00<00:02,  7.18it/s, loss=1.35, v_num=84]"
     ]
    },
    {
     "name": "stdout",
     "output_type": "stream",
     "text": [
      "\r",
      "Epoch 4:  16%|████████▌                                             | 3/19 [00:00<00:01,  9.41it/s, loss=1.34, v_num=84]"
     ]
    },
    {
     "name": "stdout",
     "output_type": "stream",
     "text": [
      "\r",
      "Epoch 4:  21%|███████████▎                                          | 4/19 [00:00<00:01, 11.59it/s, loss=1.33, v_num=84]"
     ]
    },
    {
     "name": "stdout",
     "output_type": "stream",
     "text": [
      "\r",
      "Epoch 4:  26%|██████████████▏                                       | 5/19 [00:00<00:01, 13.69it/s, loss=1.32, v_num=84]"
     ]
    },
    {
     "name": "stdout",
     "output_type": "stream",
     "text": [
      "\r",
      "Epoch 4:  32%|█████████████████                                     | 6/19 [00:00<00:00, 15.78it/s, loss=1.31, v_num=84]"
     ]
    },
    {
     "name": "stdout",
     "output_type": "stream",
     "text": [
      "\r",
      "Epoch 4:  37%|████████████████████▎                                  | 7/19 [00:00<00:00, 17.76it/s, loss=1.3, v_num=84]"
     ]
    },
    {
     "name": "stdout",
     "output_type": "stream",
     "text": [
      "\r",
      "Epoch 4:  42%|██████████████████████▋                               | 8/19 [00:00<00:00, 19.76it/s, loss=1.28, v_num=84]"
     ]
    },
    {
     "name": "stdout",
     "output_type": "stream",
     "text": [
      "\r",
      "Epoch 4:  47%|█████████████████████████▌                            | 9/19 [00:00<00:00, 21.36it/s, loss=1.27, v_num=84]"
     ]
    },
    {
     "name": "stdout",
     "output_type": "stream",
     "text": [
      "\r",
      "Epoch 4:  53%|███████████████████████████▉                         | 10/19 [00:00<00:00, 23.24it/s, loss=1.27, v_num=84]"
     ]
    },
    {
     "name": "stdout",
     "output_type": "stream",
     "text": [
      "\r",
      "Epoch 4:  58%|██████████████████████████████▋                      | 11/19 [00:00<00:00, 25.07it/s, loss=1.25, v_num=84]"
     ]
    },
    {
     "name": "stdout",
     "output_type": "stream",
     "text": [
      "\r",
      "Epoch 4:  63%|█████████████████████████████████▍                   | 12/19 [00:00<00:00, 26.82it/s, loss=1.24, v_num=84]"
     ]
    },
    {
     "name": "stdout",
     "output_type": "stream",
     "text": [
      "\r",
      "Epoch 4:  68%|████████████████████████████████████▎                | 13/19 [00:00<00:00, 28.57it/s, loss=1.23, v_num=84]"
     ]
    },
    {
     "name": "stdout",
     "output_type": "stream",
     "text": [
      "\r",
      "Epoch 4:  74%|███████████████████████████████████████              | 14/19 [00:00<00:00, 30.30it/s, loss=1.23, v_num=84]"
     ]
    },
    {
     "name": "stdout",
     "output_type": "stream",
     "text": [
      "\r",
      "Epoch 4:  74%|███████████████████████████████████████              | 14/19 [00:00<00:00, 30.18it/s, loss=1.22, v_num=84]"
     ]
    },
    {
     "name": "stdout",
     "output_type": "stream",
     "text": [
      "\r",
      "Epoch 4:  79%|██████████████████████████████████████████▋           | 15/19 [00:00<00:00, 30.02it/s, loss=1.2, v_num=84]"
     ]
    },
    {
     "name": "stdout",
     "output_type": "stream",
     "text": [
      "\n"
     ]
    },
    {
     "name": "stdout",
     "output_type": "stream",
     "text": [
      "\r",
      "Validating: 0it [00:00, ?it/s]"
     ]
    },
    {
     "name": "stdout",
     "output_type": "stream",
     "text": [
      "\u001b[A"
     ]
    },
    {
     "name": "stdout",
     "output_type": "stream",
     "text": [
      "\n"
     ]
    },
    {
     "name": "stdout",
     "output_type": "stream",
     "text": [
      "\r",
      "Validating:   0%|                                                                                 | 0/4 [00:00<?, ?it/s]"
     ]
    },
    {
     "name": "stdout",
     "output_type": "stream",
     "text": [
      "\u001b[A"
     ]
    },
    {
     "name": "stdout",
     "output_type": "stream",
     "text": [
      "\n"
     ]
    },
    {
     "name": "stdout",
     "output_type": "stream",
     "text": [
      "\r",
      "Validating:  25%|██████████████████▎                                                      | 1/4 [00:00<00:01,  2.90it/s]"
     ]
    },
    {
     "name": "stdout",
     "output_type": "stream",
     "text": [
      "\u001b[A"
     ]
    },
    {
     "name": "stdout",
     "output_type": "stream",
     "text": [
      "\r",
      "Epoch 4: 100%|██████████████████████████████████████████████████████| 19/19 [00:00<00:00, 21.62it/s, loss=1.2, v_num=84]"
     ]
    },
    {
     "name": "stdout",
     "output_type": "stream",
     "text": [
      "\n"
     ]
    },
    {
     "name": "stdout",
     "output_type": "stream",
     "text": [
      "\r",
      "                                                                                                                        "
     ]
    },
    {
     "name": "stdout",
     "output_type": "stream",
     "text": [
      "\u001b[A"
     ]
    },
    {
     "name": "stdout",
     "output_type": "stream",
     "text": [
      "\r",
      "Epoch 4:   0%|                                                    | 0/19 [00:00<00:00, 22671.91it/s, loss=1.2, v_num=84]"
     ]
    },
    {
     "name": "stdout",
     "output_type": "stream",
     "text": [
      "\r",
      "Epoch 5:   0%|                                                      | 0/19 [00:00<00:00, 825.49it/s, loss=1.2, v_num=84]"
     ]
    },
    {
     "name": "stdout",
     "output_type": "stream",
     "text": [
      "\r",
      "Epoch 5:   5%|██▊                                                   | 1/19 [00:00<00:02,  6.25it/s, loss=1.21, v_num=84]"
     ]
    },
    {
     "name": "stdout",
     "output_type": "stream",
     "text": [
      "\r",
      "Epoch 5:  11%|█████▊                                                 | 2/19 [00:00<00:01,  9.09it/s, loss=1.2, v_num=84]"
     ]
    },
    {
     "name": "stdout",
     "output_type": "stream",
     "text": [
      "\r",
      "Epoch 5:  16%|████████▋                                              | 3/19 [00:00<00:01, 11.70it/s, loss=1.2, v_num=84]"
     ]
    },
    {
     "name": "stdout",
     "output_type": "stream",
     "text": [
      "\r",
      "Epoch 5:  21%|███████████▎                                          | 4/19 [00:00<00:01, 14.34it/s, loss=1.19, v_num=84]"
     ]
    },
    {
     "name": "stdout",
     "output_type": "stream",
     "text": [
      "\r",
      "Epoch 5:  26%|██████████████▏                                       | 5/19 [00:00<00:00, 16.81it/s, loss=1.19, v_num=84]"
     ]
    },
    {
     "name": "stdout",
     "output_type": "stream",
     "text": [
      "\r",
      "Epoch 5:  32%|█████████████████                                     | 6/19 [00:00<00:00, 19.24it/s, loss=1.18, v_num=84]"
     ]
    },
    {
     "name": "stdout",
     "output_type": "stream",
     "text": [
      "\r",
      "Epoch 5:  37%|███████████████████▉                                  | 7/19 [00:00<00:00, 21.55it/s, loss=1.17, v_num=84]"
     ]
    },
    {
     "name": "stdout",
     "output_type": "stream",
     "text": [
      "\r",
      "Epoch 5:  42%|██████████████████████▋                               | 8/19 [00:00<00:00, 23.59it/s, loss=1.16, v_num=84]"
     ]
    },
    {
     "name": "stdout",
     "output_type": "stream",
     "text": [
      "\r",
      "Epoch 5:  47%|█████████████████████████▌                            | 9/19 [00:00<00:00, 25.57it/s, loss=1.15, v_num=84]"
     ]
    },
    {
     "name": "stdout",
     "output_type": "stream",
     "text": [
      "\r",
      "Epoch 5:  53%|███████████████████████████▉                         | 10/19 [00:00<00:00, 27.65it/s, loss=1.15, v_num=84]"
     ]
    },
    {
     "name": "stdout",
     "output_type": "stream",
     "text": [
      "\r",
      "Epoch 5:  58%|██████████████████████████████▋                      | 11/19 [00:00<00:00, 29.38it/s, loss=1.14, v_num=84]"
     ]
    },
    {
     "name": "stdout",
     "output_type": "stream",
     "text": [
      "\r",
      "Epoch 5:  63%|█████████████████████████████████▍                   | 12/19 [00:00<00:00, 30.98it/s, loss=1.13, v_num=84]"
     ]
    },
    {
     "name": "stdout",
     "output_type": "stream",
     "text": [
      "\r",
      "Epoch 5:  68%|████████████████████████████████████▎                | 13/19 [00:00<00:00, 32.77it/s, loss=1.12, v_num=84]"
     ]
    },
    {
     "name": "stdout",
     "output_type": "stream",
     "text": [
      "\r",
      "Epoch 5:  74%|███████████████████████████████████████              | 14/19 [00:00<00:00, 34.55it/s, loss=1.12, v_num=84]"
     ]
    },
    {
     "name": "stdout",
     "output_type": "stream",
     "text": [
      "\r",
      "Epoch 5:  74%|███████████████████████████████████████              | 14/19 [00:00<00:00, 34.41it/s, loss=1.11, v_num=84]"
     ]
    },
    {
     "name": "stdout",
     "output_type": "stream",
     "text": [
      "\r",
      "Epoch 5:  79%|██████████████████████████████████████████▋           | 15/19 [00:00<00:00, 33.90it/s, loss=1.1, v_num=84]"
     ]
    },
    {
     "name": "stdout",
     "output_type": "stream",
     "text": [
      "\n"
     ]
    },
    {
     "name": "stdout",
     "output_type": "stream",
     "text": [
      "\r",
      "Validating: 0it [00:00, ?it/s]"
     ]
    },
    {
     "name": "stdout",
     "output_type": "stream",
     "text": [
      "\u001b[A"
     ]
    },
    {
     "name": "stdout",
     "output_type": "stream",
     "text": [
      "\n"
     ]
    },
    {
     "name": "stdout",
     "output_type": "stream",
     "text": [
      "\r",
      "Validating:   0%|                                                                                 | 0/4 [00:00<?, ?it/s]"
     ]
    },
    {
     "name": "stdout",
     "output_type": "stream",
     "text": [
      "\u001b[A"
     ]
    },
    {
     "name": "stdout",
     "output_type": "stream",
     "text": [
      "\n"
     ]
    },
    {
     "name": "stdout",
     "output_type": "stream",
     "text": [
      "\r",
      "Validating:  25%|██████████████████▎                                                      | 1/4 [00:00<00:00,  4.25it/s]"
     ]
    },
    {
     "name": "stdout",
     "output_type": "stream",
     "text": [
      "\u001b[A"
     ]
    },
    {
     "name": "stdout",
     "output_type": "stream",
     "text": [
      "\r",
      "Epoch 5: 100%|██████████████████████████████████████████████████████| 19/19 [00:00<00:00, 26.37it/s, loss=1.1, v_num=84]"
     ]
    },
    {
     "name": "stdout",
     "output_type": "stream",
     "text": [
      "\n"
     ]
    },
    {
     "name": "stdout",
     "output_type": "stream",
     "text": [
      "\r",
      "                                                                                                                        "
     ]
    },
    {
     "name": "stdout",
     "output_type": "stream",
     "text": [
      "\u001b[A"
     ]
    },
    {
     "name": "stdout",
     "output_type": "stream",
     "text": [
      "\r",
      "Epoch 5:   0%|                                                    | 0/19 [00:00<00:00, 24528.09it/s, loss=1.1, v_num=84]"
     ]
    },
    {
     "name": "stdout",
     "output_type": "stream",
     "text": [
      "\r",
      "Epoch 6:   0%|                                                      | 0/19 [00:00<00:00, 774.00it/s, loss=1.1, v_num=84]"
     ]
    },
    {
     "name": "stdout",
     "output_type": "stream",
     "text": [
      "\r",
      "Epoch 6:   5%|██▉                                                    | 1/19 [00:00<00:03,  5.83it/s, loss=1.1, v_num=84]"
     ]
    },
    {
     "name": "stdout",
     "output_type": "stream",
     "text": [
      "\r",
      "Epoch 6:  11%|█████▊                                                 | 2/19 [00:00<00:01,  8.54it/s, loss=1.1, v_num=84]"
     ]
    },
    {
     "name": "stdout",
     "output_type": "stream",
     "text": [
      "\r",
      "Epoch 6:  16%|████████▋                                              | 3/19 [00:00<00:01, 11.17it/s, loss=1.1, v_num=84]"
     ]
    },
    {
     "name": "stdout",
     "output_type": "stream",
     "text": [
      "\r",
      "Epoch 6:  21%|███████████▎                                          | 4/19 [00:00<00:01, 13.74it/s, loss=1.09, v_num=84]"
     ]
    },
    {
     "name": "stdout",
     "output_type": "stream",
     "text": [
      "\r",
      "Epoch 6:  26%|██████████████▏                                       | 5/19 [00:00<00:00, 16.18it/s, loss=1.09, v_num=84]"
     ]
    },
    {
     "name": "stdout",
     "output_type": "stream",
     "text": [
      "\r",
      "Epoch 6:  32%|█████████████████                                     | 6/19 [00:00<00:00, 18.55it/s, loss=1.08, v_num=84]"
     ]
    },
    {
     "name": "stdout",
     "output_type": "stream",
     "text": [
      "\r",
      "Epoch 6:  37%|███████████████████▉                                  | 7/19 [00:00<00:00, 20.87it/s, loss=1.08, v_num=84]"
     ]
    },
    {
     "name": "stdout",
     "output_type": "stream",
     "text": [
      "\r",
      "Epoch 6:  42%|██████████████████████▋                               | 8/19 [00:00<00:00, 23.14it/s, loss=1.07, v_num=84]"
     ]
    },
    {
     "name": "stdout",
     "output_type": "stream",
     "text": [
      "\r",
      "Epoch 6:  47%|█████████████████████████▌                            | 9/19 [00:00<00:00, 25.38it/s, loss=1.07, v_num=84]"
     ]
    },
    {
     "name": "stdout",
     "output_type": "stream",
     "text": [
      "\r",
      "Epoch 6:  53%|███████████████████████████▉                         | 10/19 [00:00<00:00, 27.53it/s, loss=1.07, v_num=84]"
     ]
    },
    {
     "name": "stdout",
     "output_type": "stream",
     "text": [
      "\r",
      "Epoch 6:  58%|██████████████████████████████▋                      | 11/19 [00:00<00:00, 29.31it/s, loss=1.05, v_num=84]"
     ]
    },
    {
     "name": "stdout",
     "output_type": "stream",
     "text": [
      "\r",
      "Epoch 6:  63%|█████████████████████████████████▍                   | 12/19 [00:00<00:00, 31.27it/s, loss=1.05, v_num=84]"
     ]
    },
    {
     "name": "stdout",
     "output_type": "stream",
     "text": [
      "\r",
      "Epoch 6:  68%|████████████████████████████████████▎                | 13/19 [00:00<00:00, 33.18it/s, loss=1.04, v_num=84]"
     ]
    },
    {
     "name": "stdout",
     "output_type": "stream",
     "text": [
      "\r",
      "Epoch 6:  74%|███████████████████████████████████████              | 14/19 [00:00<00:00, 35.03it/s, loss=1.04, v_num=84]"
     ]
    },
    {
     "name": "stdout",
     "output_type": "stream",
     "text": [
      "\r",
      "Epoch 6:  74%|███████████████████████████████████████              | 14/19 [00:00<00:00, 34.91it/s, loss=1.04, v_num=84]"
     ]
    },
    {
     "name": "stdout",
     "output_type": "stream",
     "text": [
      "\r",
      "Epoch 6:  79%|█████████████████████████████████████████▊           | 15/19 [00:00<00:00, 34.57it/s, loss=1.03, v_num=84]"
     ]
    },
    {
     "name": "stdout",
     "output_type": "stream",
     "text": [
      "\n"
     ]
    },
    {
     "name": "stdout",
     "output_type": "stream",
     "text": [
      "\r",
      "Validating: 0it [00:00, ?it/s]"
     ]
    },
    {
     "name": "stdout",
     "output_type": "stream",
     "text": [
      "\u001b[A"
     ]
    },
    {
     "name": "stdout",
     "output_type": "stream",
     "text": [
      "\n"
     ]
    },
    {
     "name": "stdout",
     "output_type": "stream",
     "text": [
      "\r",
      "Validating:   0%|                                                                                 | 0/4 [00:00<?, ?it/s]"
     ]
    },
    {
     "name": "stdout",
     "output_type": "stream",
     "text": [
      "\u001b[A"
     ]
    },
    {
     "name": "stdout",
     "output_type": "stream",
     "text": [
      "\n"
     ]
    },
    {
     "name": "stdout",
     "output_type": "stream",
     "text": [
      "\r",
      "Validating:  25%|██████████████████▎                                                      | 1/4 [00:00<00:01,  2.79it/s]"
     ]
    },
    {
     "name": "stdout",
     "output_type": "stream",
     "text": [
      "\u001b[A"
     ]
    },
    {
     "name": "stdout",
     "output_type": "stream",
     "text": [
      "\r",
      "Epoch 6: 100%|█████████████████████████████████████████████████████| 19/19 [00:00<00:00, 22.88it/s, loss=1.03, v_num=84]"
     ]
    },
    {
     "name": "stdout",
     "output_type": "stream",
     "text": [
      "\n"
     ]
    },
    {
     "name": "stdout",
     "output_type": "stream",
     "text": [
      "\r",
      "                                                                                                                        "
     ]
    },
    {
     "name": "stdout",
     "output_type": "stream",
     "text": [
      "\u001b[A"
     ]
    },
    {
     "name": "stdout",
     "output_type": "stream",
     "text": [
      "\r",
      "Epoch 6:   0%|                                                   | 0/19 [00:00<00:00, 20164.92it/s, loss=1.03, v_num=84]"
     ]
    },
    {
     "name": "stdout",
     "output_type": "stream",
     "text": [
      "\r",
      "Epoch 7:   0%|                                                    | 0/19 [00:00<00:00, 1009.22it/s, loss=1.03, v_num=84]"
     ]
    },
    {
     "name": "stdout",
     "output_type": "stream",
     "text": [
      "\r",
      "Epoch 7:   5%|██▊                                                   | 1/19 [00:00<00:05,  3.33it/s, loss=1.03, v_num=84]"
     ]
    },
    {
     "name": "stdout",
     "output_type": "stream",
     "text": [
      "\r",
      "Epoch 7:  11%|█████▋                                                | 2/19 [00:00<00:03,  4.87it/s, loss=1.03, v_num=84]"
     ]
    },
    {
     "name": "stdout",
     "output_type": "stream",
     "text": [
      "\r",
      "Epoch 7:  16%|████████▌                                             | 3/19 [00:00<00:02,  6.42it/s, loss=1.03, v_num=84]"
     ]
    },
    {
     "name": "stdout",
     "output_type": "stream",
     "text": [
      "\r",
      "Epoch 7:  21%|███████████▎                                          | 4/19 [00:00<00:01,  7.93it/s, loss=1.03, v_num=84]"
     ]
    },
    {
     "name": "stdout",
     "output_type": "stream",
     "text": [
      "\r",
      "Epoch 7:  26%|██████████████▏                                       | 5/19 [00:00<00:01,  9.41it/s, loss=1.02, v_num=84]"
     ]
    },
    {
     "name": "stdout",
     "output_type": "stream",
     "text": [
      "\r",
      "Epoch 7:  32%|█████████████████                                     | 6/19 [00:00<00:01, 10.84it/s, loss=1.02, v_num=84]"
     ]
    },
    {
     "name": "stdout",
     "output_type": "stream",
     "text": [
      "\r",
      "Epoch 7:  37%|███████████████████▉                                  | 7/19 [00:00<00:00, 12.25it/s, loss=1.01, v_num=84]"
     ]
    },
    {
     "name": "stdout",
     "output_type": "stream",
     "text": [
      "\r",
      "Epoch 7:  42%|██████████████████████▋                               | 8/19 [00:00<00:00, 13.63it/s, loss=1.01, v_num=84]"
     ]
    },
    {
     "name": "stdout",
     "output_type": "stream",
     "text": [
      "\r",
      "Epoch 7:  47%|███████████████████████████                              | 9/19 [00:00<00:00, 14.99it/s, loss=1, v_num=84]"
     ]
    },
    {
     "name": "stdout",
     "output_type": "stream",
     "text": [
      "\r",
      "Epoch 7:  53%|███████████████████████████▉                         | 10/19 [00:00<00:00, 16.31it/s, loss=1.01, v_num=84]"
     ]
    },
    {
     "name": "stdout",
     "output_type": "stream",
     "text": [
      "\r",
      "Epoch 7:  58%|██████████████████████████████                      | 11/19 [00:00<00:00, 17.63it/s, loss=0.994, v_num=84]"
     ]
    },
    {
     "name": "stdout",
     "output_type": "stream",
     "text": [
      "\r",
      "Epoch 7:  63%|████████████████████████████████▊                   | 12/19 [00:00<00:00, 18.89it/s, loss=0.988, v_num=84]"
     ]
    },
    {
     "name": "stdout",
     "output_type": "stream",
     "text": [
      "\r",
      "Epoch 7:  68%|███████████████████████████████████▌                | 13/19 [00:00<00:00, 20.15it/s, loss=0.984, v_num=84]"
     ]
    },
    {
     "name": "stdout",
     "output_type": "stream",
     "text": [
      "\r",
      "Epoch 7:  74%|██████████████████████████████████████▎             | 14/19 [00:00<00:00, 21.41it/s, loss=0.984, v_num=84]"
     ]
    },
    {
     "name": "stdout",
     "output_type": "stream",
     "text": [
      "\r",
      "Epoch 7:  74%|██████████████████████████████████████▎             | 14/19 [00:00<00:00, 21.36it/s, loss=0.981, v_num=84]"
     ]
    },
    {
     "name": "stdout",
     "output_type": "stream",
     "text": [
      "\r",
      "Epoch 7:  79%|█████████████████████████████████████████           | 15/19 [00:00<00:00, 21.24it/s, loss=0.971, v_num=84]"
     ]
    },
    {
     "name": "stdout",
     "output_type": "stream",
     "text": [
      "\n"
     ]
    },
    {
     "name": "stdout",
     "output_type": "stream",
     "text": [
      "\r",
      "Validating: 0it [00:00, ?it/s]"
     ]
    },
    {
     "name": "stdout",
     "output_type": "stream",
     "text": [
      "\u001b[A"
     ]
    },
    {
     "name": "stdout",
     "output_type": "stream",
     "text": [
      "\n"
     ]
    },
    {
     "name": "stdout",
     "output_type": "stream",
     "text": [
      "\r",
      "Validating:   0%|                                                                                 | 0/4 [00:00<?, ?it/s]"
     ]
    },
    {
     "name": "stdout",
     "output_type": "stream",
     "text": [
      "\u001b[A"
     ]
    },
    {
     "name": "stdout",
     "output_type": "stream",
     "text": [
      "\n"
     ]
    },
    {
     "name": "stdout",
     "output_type": "stream",
     "text": [
      "\r",
      "Validating:  25%|██████████████████▎                                                      | 1/4 [00:00<00:01,  2.50it/s]"
     ]
    },
    {
     "name": "stdout",
     "output_type": "stream",
     "text": [
      "\u001b[A"
     ]
    },
    {
     "name": "stdout",
     "output_type": "stream",
     "text": [
      "\r",
      "Epoch 7: 100%|████████████████████████████████████████████████████| 19/19 [00:01<00:00, 16.65it/s, loss=0.971, v_num=84]"
     ]
    },
    {
     "name": "stdout",
     "output_type": "stream",
     "text": [
      "\n"
     ]
    },
    {
     "name": "stdout",
     "output_type": "stream",
     "text": [
      "\r",
      "                                                                                                                        "
     ]
    },
    {
     "name": "stdout",
     "output_type": "stream",
     "text": [
      "\u001b[A"
     ]
    },
    {
     "name": "stdout",
     "output_type": "stream",
     "text": [
      "\r",
      "Epoch 7:   0%|                                                  | 0/19 [00:00<00:00, 21183.35it/s, loss=0.971, v_num=84]"
     ]
    },
    {
     "name": "stdout",
     "output_type": "stream",
     "text": [
      "\r",
      "Epoch 8:   0%|                                                   | 0/19 [00:00<00:00, 1032.32it/s, loss=0.971, v_num=84]"
     ]
    },
    {
     "name": "stdout",
     "output_type": "stream",
     "text": [
      "\r",
      "Epoch 8:   5%|██▊                                                  | 1/19 [00:00<00:02,  7.67it/s, loss=0.977, v_num=84]"
     ]
    },
    {
     "name": "stdout",
     "output_type": "stream",
     "text": [
      "\r",
      "Epoch 8:  11%|█████▌                                               | 2/19 [00:00<00:01, 11.12it/s, loss=0.977, v_num=84]"
     ]
    },
    {
     "name": "stdout",
     "output_type": "stream",
     "text": [
      "\r",
      "Epoch 8:  16%|████████▎                                            | 3/19 [00:00<00:01, 14.34it/s, loss=0.976, v_num=84]"
     ]
    },
    {
     "name": "stdout",
     "output_type": "stream",
     "text": [
      "\r",
      "Epoch 8:  21%|███████████▏                                         | 4/19 [00:00<00:00, 17.53it/s, loss=0.975, v_num=84]"
     ]
    },
    {
     "name": "stdout",
     "output_type": "stream",
     "text": [
      "\r",
      "Epoch 8:  26%|█████████████▉                                       | 5/19 [00:00<00:00, 20.50it/s, loss=0.973, v_num=84]"
     ]
    },
    {
     "name": "stdout",
     "output_type": "stream",
     "text": [
      "\r",
      "Epoch 8:  32%|████████████████▋                                    | 6/19 [00:00<00:00, 23.50it/s, loss=0.969, v_num=84]"
     ]
    },
    {
     "name": "stdout",
     "output_type": "stream",
     "text": [
      "\r",
      "Epoch 8:  37%|███████████████████▌                                 | 7/19 [00:00<00:00, 26.30it/s, loss=0.965, v_num=84]"
     ]
    },
    {
     "name": "stdout",
     "output_type": "stream",
     "text": [
      "\r",
      "Epoch 8:  42%|██████████████████████▎                              | 8/19 [00:00<00:00, 28.94it/s, loss=0.961, v_num=84]"
     ]
    },
    {
     "name": "stdout",
     "output_type": "stream",
     "text": [
      "\r",
      "Epoch 8:  47%|█████████████████████████                            | 9/19 [00:00<00:00, 31.49it/s, loss=0.957, v_num=84]"
     ]
    },
    {
     "name": "stdout",
     "output_type": "stream",
     "text": [
      "\r",
      "Epoch 8:  53%|███████████████████████████▉                         | 10/19 [00:00<00:00, 33.74it/s, loss=0.96, v_num=84]"
     ]
    },
    {
     "name": "stdout",
     "output_type": "stream",
     "text": [
      "\r",
      "Epoch 8:  58%|██████████████████████████████                      | 11/19 [00:00<00:00, 36.18it/s, loss=0.949, v_num=84]"
     ]
    },
    {
     "name": "stdout",
     "output_type": "stream",
     "text": [
      "\r",
      "Epoch 8:  63%|████████████████████████████████▊                   | 12/19 [00:00<00:00, 38.37it/s, loss=0.943, v_num=84]"
     ]
    },
    {
     "name": "stdout",
     "output_type": "stream",
     "text": [
      "\r",
      "Epoch 8:  68%|███████████████████████████████████▌                | 13/19 [00:00<00:00, 40.18it/s, loss=0.941, v_num=84]"
     ]
    },
    {
     "name": "stdout",
     "output_type": "stream",
     "text": [
      "\r",
      "Epoch 8:  74%|██████████████████████████████████████▎             | 14/19 [00:00<00:00, 42.18it/s, loss=0.941, v_num=84]"
     ]
    },
    {
     "name": "stdout",
     "output_type": "stream",
     "text": [
      "\r",
      "Epoch 8:  74%|██████████████████████████████████████▎             | 14/19 [00:00<00:00, 42.05it/s, loss=0.938, v_num=84]"
     ]
    },
    {
     "name": "stdout",
     "output_type": "stream",
     "text": [
      "\r",
      "Epoch 8:  79%|█████████████████████████████████████████           | 15/19 [00:00<00:00, 39.91it/s, loss=0.929, v_num=84]"
     ]
    },
    {
     "name": "stdout",
     "output_type": "stream",
     "text": [
      "\n"
     ]
    },
    {
     "name": "stdout",
     "output_type": "stream",
     "text": [
      "\r",
      "Validating: 0it [00:00, ?it/s]"
     ]
    },
    {
     "name": "stdout",
     "output_type": "stream",
     "text": [
      "\u001b[A"
     ]
    },
    {
     "name": "stdout",
     "output_type": "stream",
     "text": [
      "\n"
     ]
    },
    {
     "name": "stdout",
     "output_type": "stream",
     "text": [
      "\r",
      "Validating:   0%|                                                                                 | 0/4 [00:00<?, ?it/s]"
     ]
    },
    {
     "name": "stdout",
     "output_type": "stream",
     "text": [
      "\u001b[A"
     ]
    },
    {
     "name": "stdout",
     "output_type": "stream",
     "text": [
      "\n"
     ]
    },
    {
     "name": "stdout",
     "output_type": "stream",
     "text": [
      "\r",
      "Validating:  25%|██████████████████▎                                                      | 1/4 [00:00<00:00,  4.22it/s]"
     ]
    },
    {
     "name": "stdout",
     "output_type": "stream",
     "text": [
      "\u001b[A"
     ]
    },
    {
     "name": "stdout",
     "output_type": "stream",
     "text": [
      "\r",
      "Epoch 8: 100%|████████████████████████████████████████████████████| 19/19 [00:00<00:00, 29.45it/s, loss=0.929, v_num=84]"
     ]
    },
    {
     "name": "stdout",
     "output_type": "stream",
     "text": [
      "\n"
     ]
    },
    {
     "name": "stdout",
     "output_type": "stream",
     "text": [
      "\r",
      "                                                                                                                        "
     ]
    },
    {
     "name": "stdout",
     "output_type": "stream",
     "text": [
      "\u001b[A"
     ]
    },
    {
     "name": "stdout",
     "output_type": "stream",
     "text": [
      "\r",
      "Epoch 8:   0%|                                                  | 0/19 [00:00<00:00, 27413.75it/s, loss=0.929, v_num=84]"
     ]
    },
    {
     "name": "stdout",
     "output_type": "stream",
     "text": [
      "\r",
      "Epoch 9:   0%|                                                   | 0/19 [00:00<00:00, 1059.17it/s, loss=0.929, v_num=84]"
     ]
    },
    {
     "name": "stdout",
     "output_type": "stream",
     "text": [
      "\r",
      "Epoch 9:   5%|██▊                                                  | 1/19 [00:00<00:03,  5.98it/s, loss=0.936, v_num=84]"
     ]
    },
    {
     "name": "stdout",
     "output_type": "stream",
     "text": [
      "\r",
      "Epoch 9:  11%|█████▌                                               | 2/19 [00:00<00:01,  8.69it/s, loss=0.936, v_num=84]"
     ]
    },
    {
     "name": "stdout",
     "output_type": "stream",
     "text": [
      "\r",
      "Epoch 9:  16%|████████▎                                            | 3/19 [00:00<00:01, 11.32it/s, loss=0.936, v_num=84]"
     ]
    },
    {
     "name": "stdout",
     "output_type": "stream",
     "text": [
      "\r",
      "Epoch 9:  21%|███████████▏                                         | 4/19 [00:00<00:01, 13.77it/s, loss=0.936, v_num=84]"
     ]
    },
    {
     "name": "stdout",
     "output_type": "stream",
     "text": [
      "\r",
      "Epoch 9:  26%|█████████████▉                                       | 5/19 [00:00<00:00, 16.20it/s, loss=0.934, v_num=84]"
     ]
    },
    {
     "name": "stdout",
     "output_type": "stream",
     "text": [
      "\r",
      "Epoch 9:  32%|████████████████▋                                    | 6/19 [00:00<00:00, 18.45it/s, loss=0.931, v_num=84]"
     ]
    },
    {
     "name": "stdout",
     "output_type": "stream",
     "text": [
      "\r",
      "Epoch 9:  37%|███████████████████▌                                 | 7/19 [00:00<00:00, 20.72it/s, loss=0.928, v_num=84]"
     ]
    },
    {
     "name": "stdout",
     "output_type": "stream",
     "text": [
      "\r",
      "Epoch 9:  42%|██████████████████████▎                              | 8/19 [00:00<00:00, 22.93it/s, loss=0.925, v_num=84]"
     ]
    },
    {
     "name": "stdout",
     "output_type": "stream",
     "text": [
      "\r",
      "Epoch 9:  47%|█████████████████████████                            | 9/19 [00:00<00:00, 24.92it/s, loss=0.921, v_num=84]"
     ]
    },
    {
     "name": "stdout",
     "output_type": "stream",
     "text": [
      "\r",
      "Epoch 9:  53%|███████████████████████████▎                        | 10/19 [00:00<00:00, 27.03it/s, loss=0.925, v_num=84]"
     ]
    },
    {
     "name": "stdout",
     "output_type": "stream",
     "text": [
      "\r",
      "Epoch 9:  58%|██████████████████████████████                      | 11/19 [00:00<00:00, 28.87it/s, loss=0.914, v_num=84]"
     ]
    },
    {
     "name": "stdout",
     "output_type": "stream",
     "text": [
      "\r",
      "Epoch 9:  63%|████████████████████████████████▊                   | 12/19 [00:00<00:00, 30.76it/s, loss=0.909, v_num=84]"
     ]
    },
    {
     "name": "stdout",
     "output_type": "stream",
     "text": [
      "\r",
      "Epoch 9:  68%|███████████████████████████████████▌                | 13/19 [00:00<00:00, 32.66it/s, loss=0.907, v_num=84]"
     ]
    },
    {
     "name": "stdout",
     "output_type": "stream",
     "text": [
      "\r",
      "Epoch 9:  74%|██████████████████████████████████████▎             | 14/19 [00:00<00:00, 34.59it/s, loss=0.907, v_num=84]"
     ]
    },
    {
     "name": "stdout",
     "output_type": "stream",
     "text": [
      "\r",
      "Epoch 9:  74%|██████████████████████████████████████▎             | 14/19 [00:00<00:00, 34.49it/s, loss=0.905, v_num=84]"
     ]
    },
    {
     "name": "stdout",
     "output_type": "stream",
     "text": [
      "\r",
      "Epoch 9:  79%|█████████████████████████████████████████           | 15/19 [00:00<00:00, 33.71it/s, loss=0.896, v_num=84]"
     ]
    },
    {
     "name": "stdout",
     "output_type": "stream",
     "text": [
      "\n"
     ]
    },
    {
     "name": "stdout",
     "output_type": "stream",
     "text": [
      "\r",
      "Validating: 0it [00:00, ?it/s]"
     ]
    },
    {
     "name": "stdout",
     "output_type": "stream",
     "text": [
      "\u001b[A"
     ]
    },
    {
     "name": "stdout",
     "output_type": "stream",
     "text": [
      "\n"
     ]
    },
    {
     "name": "stdout",
     "output_type": "stream",
     "text": [
      "\r",
      "Validating:   0%|                                                                                 | 0/4 [00:00<?, ?it/s]"
     ]
    },
    {
     "name": "stdout",
     "output_type": "stream",
     "text": [
      "\u001b[A"
     ]
    },
    {
     "name": "stdout",
     "output_type": "stream",
     "text": [
      "\n"
     ]
    },
    {
     "name": "stdout",
     "output_type": "stream",
     "text": [
      "\r",
      "Validating:  25%|██████████████████▎                                                      | 1/4 [00:00<00:01,  2.69it/s]"
     ]
    },
    {
     "name": "stdout",
     "output_type": "stream",
     "text": [
      "\u001b[A"
     ]
    },
    {
     "name": "stdout",
     "output_type": "stream",
     "text": [
      "\r",
      "Epoch 9: 100%|████████████████████████████████████████████████████| 19/19 [00:00<00:00, 22.14it/s, loss=0.896, v_num=84]"
     ]
    },
    {
     "name": "stdout",
     "output_type": "stream",
     "text": [
      "\n"
     ]
    },
    {
     "name": "stdout",
     "output_type": "stream",
     "text": [
      "\r",
      "                                                                                                                        "
     ]
    },
    {
     "name": "stdout",
     "output_type": "stream",
     "text": [
      "\u001b[A"
     ]
    },
    {
     "name": "stdout",
     "output_type": "stream",
     "text": [
      "\r",
      "Epoch 9:   0%|                                                  | 0/19 [00:00<00:00, 13662.23it/s, loss=0.896, v_num=84]"
     ]
    },
    {
     "name": "stdout",
     "output_type": "stream",
     "text": [
      "\r",
      "Epoch 10:   0%|                                                   | 0/19 [00:00<00:00, 579.96it/s, loss=0.896, v_num=84]"
     ]
    },
    {
     "name": "stdout",
     "output_type": "stream",
     "text": [
      "\r",
      "Epoch 10:   5%|██▋                                                 | 1/19 [00:00<00:05,  3.18it/s, loss=0.904, v_num=84]"
     ]
    },
    {
     "name": "stdout",
     "output_type": "stream",
     "text": [
      "\r",
      "Epoch 10:  11%|█████▍                                              | 2/19 [00:00<00:03,  4.71it/s, loss=0.904, v_num=84]"
     ]
    },
    {
     "name": "stdout",
     "output_type": "stream",
     "text": [
      "\r",
      "Epoch 10:  16%|████████▏                                           | 3/19 [00:00<00:02,  6.23it/s, loss=0.904, v_num=84]"
     ]
    },
    {
     "name": "stdout",
     "output_type": "stream",
     "text": [
      "\r",
      "Epoch 10:  21%|██████████▉                                         | 4/19 [00:00<00:01,  7.71it/s, loss=0.905, v_num=84]"
     ]
    },
    {
     "name": "stdout",
     "output_type": "stream",
     "text": [
      "\r",
      "Epoch 10:  26%|█████████████▋                                      | 5/19 [00:00<00:01,  9.17it/s, loss=0.904, v_num=84]"
     ]
    },
    {
     "name": "stdout",
     "output_type": "stream",
     "text": [
      "\r",
      "Epoch 10:  32%|████████████████▍                                   | 6/19 [00:00<00:01, 10.62it/s, loss=0.901, v_num=84]"
     ]
    },
    {
     "name": "stdout",
     "output_type": "stream",
     "text": [
      "\r",
      "Epoch 10:  37%|███████████████████▏                                | 7/19 [00:00<00:01, 11.99it/s, loss=0.899, v_num=84]"
     ]
    },
    {
     "name": "stdout",
     "output_type": "stream",
     "text": [
      "\r",
      "Epoch 10:  42%|█████████████████████▉                              | 8/19 [00:00<00:00, 13.39it/s, loss=0.896, v_num=84]"
     ]
    },
    {
     "name": "stdout",
     "output_type": "stream",
     "text": [
      "\r",
      "Epoch 10:  47%|████████████████████████▋                           | 9/19 [00:00<00:00, 14.75it/s, loss=0.893, v_num=84]"
     ]
    },
    {
     "name": "stdout",
     "output_type": "stream",
     "text": [
      "\r",
      "Epoch 10:  53%|██████████████████████████▊                        | 10/19 [00:00<00:00, 16.11it/s, loss=0.897, v_num=84]"
     ]
    },
    {
     "name": "stdout",
     "output_type": "stream",
     "text": [
      "\r",
      "Epoch 10:  58%|█████████████████████████████▌                     | 11/19 [00:00<00:00, 17.44it/s, loss=0.887, v_num=84]"
     ]
    },
    {
     "name": "stdout",
     "output_type": "stream",
     "text": [
      "\r",
      "Epoch 10:  63%|████████████████████████████████▏                  | 12/19 [00:00<00:00, 18.73it/s, loss=0.882, v_num=84]"
     ]
    },
    {
     "name": "stdout",
     "output_type": "stream",
     "text": [
      "\r",
      "Epoch 10:  68%|██████████████████████████████████▉                | 13/19 [00:00<00:00, 20.03it/s, loss=0.881, v_num=84]"
     ]
    },
    {
     "name": "stdout",
     "output_type": "stream",
     "text": [
      "\r",
      "Epoch 10:  74%|█████████████████████████████████████▌             | 14/19 [00:00<00:00, 21.33it/s, loss=0.881, v_num=84]"
     ]
    },
    {
     "name": "stdout",
     "output_type": "stream",
     "text": [
      "\r",
      "Epoch 10:  74%|█████████████████████████████████████▌             | 14/19 [00:00<00:00, 21.30it/s, loss=0.878, v_num=84]"
     ]
    },
    {
     "name": "stdout",
     "output_type": "stream",
     "text": [
      "\r",
      "Epoch 10:  79%|█████████████████████████████████████████           | 15/19 [00:00<00:00, 21.24it/s, loss=0.87, v_num=84]"
     ]
    },
    {
     "name": "stdout",
     "output_type": "stream",
     "text": [
      "\n"
     ]
    },
    {
     "name": "stdout",
     "output_type": "stream",
     "text": [
      "\r",
      "Validating: 0it [00:00, ?it/s]"
     ]
    },
    {
     "name": "stdout",
     "output_type": "stream",
     "text": [
      "\u001b[A"
     ]
    },
    {
     "name": "stdout",
     "output_type": "stream",
     "text": [
      "\n"
     ]
    },
    {
     "name": "stdout",
     "output_type": "stream",
     "text": [
      "\r",
      "Validating:   0%|                                                                                 | 0/4 [00:00<?, ?it/s]"
     ]
    },
    {
     "name": "stdout",
     "output_type": "stream",
     "text": [
      "\u001b[A"
     ]
    },
    {
     "name": "stdout",
     "output_type": "stream",
     "text": [
      "\n"
     ]
    },
    {
     "name": "stdout",
     "output_type": "stream",
     "text": [
      "\r",
      "Validating:  25%|██████████████████▎                                                      | 1/4 [00:00<00:01,  2.15it/s]"
     ]
    },
    {
     "name": "stdout",
     "output_type": "stream",
     "text": [
      "\u001b[A"
     ]
    },
    {
     "name": "stdout",
     "output_type": "stream",
     "text": [
      "\r",
      "Epoch 10: 100%|████████████████████████████████████████████████████| 19/19 [00:01<00:00, 15.76it/s, loss=0.87, v_num=84]"
     ]
    },
    {
     "name": "stdout",
     "output_type": "stream",
     "text": [
      "\n"
     ]
    },
    {
     "name": "stdout",
     "output_type": "stream",
     "text": [
      "\r",
      "                                                                                                                        "
     ]
    },
    {
     "name": "stdout",
     "output_type": "stream",
     "text": [
      "\u001b[A"
     ]
    },
    {
     "name": "stdout",
     "output_type": "stream",
     "text": [
      "\r",
      "Epoch 10:   0%|                                                  | 0/19 [00:00<00:00, 21845.33it/s, loss=0.87, v_num=84]"
     ]
    },
    {
     "name": "stdout",
     "output_type": "stream",
     "text": [
      "\r",
      "Epoch 11:   0%|                                                   | 0/19 [00:00<00:00, 1132.68it/s, loss=0.87, v_num=84]"
     ]
    },
    {
     "name": "stdout",
     "output_type": "stream",
     "text": [
      "\r",
      "Epoch 11:   5%|██▋                                                 | 1/19 [00:00<00:03,  5.94it/s, loss=0.878, v_num=84]"
     ]
    },
    {
     "name": "stdout",
     "output_type": "stream",
     "text": [
      "\r",
      "Epoch 11:  11%|█████▍                                              | 2/19 [00:00<00:01,  8.70it/s, loss=0.879, v_num=84]"
     ]
    },
    {
     "name": "stdout",
     "output_type": "stream",
     "text": [
      "\r",
      "Epoch 11:  16%|████████▏                                           | 3/19 [00:00<00:01, 11.40it/s, loss=0.879, v_num=84]"
     ]
    },
    {
     "name": "stdout",
     "output_type": "stream",
     "text": [
      "\r",
      "Epoch 11:  21%|██████████▉                                         | 4/19 [00:00<00:01, 14.04it/s, loss=0.881, v_num=84]"
     ]
    },
    {
     "name": "stdout",
     "output_type": "stream",
     "text": [
      "\r",
      "Epoch 11:  26%|█████████████▉                                       | 5/19 [00:00<00:00, 16.58it/s, loss=0.88, v_num=84]"
     ]
    },
    {
     "name": "stdout",
     "output_type": "stream",
     "text": [
      "\r",
      "Epoch 11:  32%|████████████████▍                                   | 6/19 [00:00<00:00, 19.05it/s, loss=0.877, v_num=84]"
     ]
    },
    {
     "name": "stdout",
     "output_type": "stream",
     "text": [
      "\r",
      "Epoch 11:  37%|███████████████████▏                                | 7/19 [00:00<00:00, 21.38it/s, loss=0.877, v_num=84]"
     ]
    },
    {
     "name": "stdout",
     "output_type": "stream",
     "text": [
      "\r",
      "Epoch 11:  42%|█████████████████████▉                              | 8/19 [00:00<00:00, 23.72it/s, loss=0.874, v_num=84]"
     ]
    },
    {
     "name": "stdout",
     "output_type": "stream",
     "text": [
      "\r",
      "Epoch 11:  47%|████████████████████████▋                           | 9/19 [00:00<00:00, 25.95it/s, loss=0.871, v_num=84]"
     ]
    },
    {
     "name": "stdout",
     "output_type": "stream",
     "text": [
      "\r",
      "Epoch 11:  53%|██████████████████████████▊                        | 10/19 [00:00<00:00, 28.06it/s, loss=0.875, v_num=84]"
     ]
    },
    {
     "name": "stdout",
     "output_type": "stream",
     "text": [
      "\r",
      "Epoch 11:  58%|█████████████████████████████▌                     | 11/19 [00:00<00:00, 30.16it/s, loss=0.865, v_num=84]"
     ]
    },
    {
     "name": "stdout",
     "output_type": "stream",
     "text": [
      "\r",
      "Epoch 11:  63%|████████████████████████████████▏                  | 12/19 [00:00<00:00, 31.90it/s, loss=0.861, v_num=84]"
     ]
    },
    {
     "name": "stdout",
     "output_type": "stream",
     "text": [
      "\r",
      "Epoch 11:  68%|███████████████████████████████████▌                | 13/19 [00:00<00:00, 33.89it/s, loss=0.86, v_num=84]"
     ]
    },
    {
     "name": "stdout",
     "output_type": "stream",
     "text": [
      "\r",
      "Epoch 11:  74%|██████████████████████████████████████▎             | 14/19 [00:00<00:00, 35.80it/s, loss=0.86, v_num=84]"
     ]
    },
    {
     "name": "stdout",
     "output_type": "stream",
     "text": [
      "\r",
      "Epoch 11:  74%|█████████████████████████████████████▌             | 14/19 [00:00<00:00, 35.70it/s, loss=0.857, v_num=84]"
     ]
    },
    {
     "name": "stdout",
     "output_type": "stream",
     "text": [
      "\r",
      "Epoch 11:  79%|█████████████████████████████████████████           | 15/19 [00:00<00:00, 35.41it/s, loss=0.85, v_num=84]"
     ]
    },
    {
     "name": "stdout",
     "output_type": "stream",
     "text": [
      "\n"
     ]
    },
    {
     "name": "stdout",
     "output_type": "stream",
     "text": [
      "\r",
      "Validating: 0it [00:00, ?it/s]"
     ]
    },
    {
     "name": "stdout",
     "output_type": "stream",
     "text": [
      "\u001b[A"
     ]
    },
    {
     "name": "stdout",
     "output_type": "stream",
     "text": [
      "\n"
     ]
    },
    {
     "name": "stdout",
     "output_type": "stream",
     "text": [
      "\r",
      "Validating:   0%|                                                                                 | 0/4 [00:00<?, ?it/s]"
     ]
    },
    {
     "name": "stdout",
     "output_type": "stream",
     "text": [
      "\u001b[A"
     ]
    },
    {
     "name": "stdout",
     "output_type": "stream",
     "text": [
      "\n"
     ]
    },
    {
     "name": "stdout",
     "output_type": "stream",
     "text": [
      "\r",
      "Validating:  25%|██████████████████▎                                                      | 1/4 [00:00<00:00,  3.96it/s]"
     ]
    },
    {
     "name": "stdout",
     "output_type": "stream",
     "text": [
      "\u001b[A"
     ]
    },
    {
     "name": "stdout",
     "output_type": "stream",
     "text": [
      "\r",
      "Epoch 11: 100%|████████████████████████████████████████████████████| 19/19 [00:00<00:00, 26.41it/s, loss=0.85, v_num=84]"
     ]
    },
    {
     "name": "stdout",
     "output_type": "stream",
     "text": [
      "\n"
     ]
    },
    {
     "name": "stdout",
     "output_type": "stream",
     "text": [
      "\r",
      "                                                                                                                        "
     ]
    },
    {
     "name": "stdout",
     "output_type": "stream",
     "text": [
      "\u001b[A"
     ]
    },
    {
     "name": "stdout",
     "output_type": "stream",
     "text": [
      "\r",
      "Epoch 11:   0%|                                                  | 0/19 [00:00<00:00, 20560.31it/s, loss=0.85, v_num=84]"
     ]
    },
    {
     "name": "stdout",
     "output_type": "stream",
     "text": [
      "\r",
      "Epoch 12:   0%|                                                    | 0/19 [00:00<00:00, 687.03it/s, loss=0.85, v_num=84]"
     ]
    },
    {
     "name": "stdout",
     "output_type": "stream",
     "text": [
      "\r",
      "Epoch 12:   5%|██▋                                                 | 1/19 [00:00<00:03,  5.56it/s, loss=0.858, v_num=84]"
     ]
    },
    {
     "name": "stdout",
     "output_type": "stream",
     "text": [
      "\r",
      "Epoch 12:  11%|█████▍                                              | 2/19 [00:00<00:02,  8.16it/s, loss=0.859, v_num=84]"
     ]
    },
    {
     "name": "stdout",
     "output_type": "stream",
     "text": [
      "\r",
      "Epoch 12:  16%|████████▏                                           | 3/19 [00:00<00:01, 10.66it/s, loss=0.859, v_num=84]"
     ]
    },
    {
     "name": "stdout",
     "output_type": "stream",
     "text": [
      "\r",
      "Epoch 12:  21%|██████████▉                                         | 4/19 [00:00<00:01, 13.12it/s, loss=0.861, v_num=84]"
     ]
    },
    {
     "name": "stdout",
     "output_type": "stream",
     "text": [
      "\r",
      "Epoch 12:  26%|█████████████▉                                       | 5/19 [00:00<00:00, 15.51it/s, loss=0.86, v_num=84]"
     ]
    },
    {
     "name": "stdout",
     "output_type": "stream",
     "text": [
      "\r",
      "Epoch 12:  32%|████████████████▍                                   | 6/19 [00:00<00:00, 17.80it/s, loss=0.858, v_num=84]"
     ]
    },
    {
     "name": "stdout",
     "output_type": "stream",
     "text": [
      "\r",
      "Epoch 12:  37%|███████████████████▏                                | 7/19 [00:00<00:00, 20.08it/s, loss=0.858, v_num=84]"
     ]
    },
    {
     "name": "stdout",
     "output_type": "stream",
     "text": [
      "\r",
      "Epoch 12:  42%|█████████████████████▉                              | 8/19 [00:00<00:00, 22.31it/s, loss=0.856, v_num=84]"
     ]
    },
    {
     "name": "stdout",
     "output_type": "stream",
     "text": [
      "\r",
      "Epoch 12:  47%|████████████████████████▋                           | 9/19 [00:00<00:00, 24.42it/s, loss=0.853, v_num=84]"
     ]
    },
    {
     "name": "stdout",
     "output_type": "stream",
     "text": [
      "\r",
      "Epoch 12:  53%|██████████████████████████▊                        | 10/19 [00:00<00:00, 26.51it/s, loss=0.857, v_num=84]"
     ]
    },
    {
     "name": "stdout",
     "output_type": "stream",
     "text": [
      "\r",
      "Epoch 12:  58%|█████████████████████████████▌                     | 11/19 [00:00<00:00, 28.45it/s, loss=0.848, v_num=84]"
     ]
    },
    {
     "name": "stdout",
     "output_type": "stream",
     "text": [
      "\r",
      "Epoch 12:  63%|████████████████████████████████▏                  | 12/19 [00:00<00:00, 30.44it/s, loss=0.844, v_num=84]"
     ]
    },
    {
     "name": "stdout",
     "output_type": "stream",
     "text": [
      "\r",
      "Epoch 12:  68%|██████████████████████████████████▉                | 13/19 [00:00<00:00, 32.33it/s, loss=0.843, v_num=84]"
     ]
    },
    {
     "name": "stdout",
     "output_type": "stream",
     "text": [
      "\r",
      "Epoch 12:  74%|█████████████████████████████████████▌             | 14/19 [00:00<00:00, 34.15it/s, loss=0.843, v_num=84]"
     ]
    },
    {
     "name": "stdout",
     "output_type": "stream",
     "text": [
      "\r",
      "Epoch 12:  74%|█████████████████████████████████████▌             | 14/19 [00:00<00:00, 34.07it/s, loss=0.841, v_num=84]"
     ]
    },
    {
     "name": "stdout",
     "output_type": "stream",
     "text": [
      "\r",
      "Epoch 12:  79%|████████████████████████████████████████▎          | 15/19 [00:00<00:00, 33.66it/s, loss=0.834, v_num=84]"
     ]
    },
    {
     "name": "stdout",
     "output_type": "stream",
     "text": [
      "\n"
     ]
    },
    {
     "name": "stdout",
     "output_type": "stream",
     "text": [
      "\r",
      "Validating: 0it [00:00, ?it/s]"
     ]
    },
    {
     "name": "stdout",
     "output_type": "stream",
     "text": [
      "\u001b[A"
     ]
    },
    {
     "name": "stdout",
     "output_type": "stream",
     "text": [
      "\n"
     ]
    },
    {
     "name": "stdout",
     "output_type": "stream",
     "text": [
      "\r",
      "Validating:   0%|                                                                                 | 0/4 [00:00<?, ?it/s]"
     ]
    },
    {
     "name": "stdout",
     "output_type": "stream",
     "text": [
      "\u001b[A"
     ]
    },
    {
     "name": "stdout",
     "output_type": "stream",
     "text": [
      "\n"
     ]
    },
    {
     "name": "stdout",
     "output_type": "stream",
     "text": [
      "\r",
      "Validating:  25%|██████████████████▎                                                      | 1/4 [00:00<00:00,  3.64it/s]"
     ]
    },
    {
     "name": "stdout",
     "output_type": "stream",
     "text": [
      "\u001b[A"
     ]
    },
    {
     "name": "stdout",
     "output_type": "stream",
     "text": [
      "\r",
      "Epoch 12: 100%|███████████████████████████████████████████████████| 19/19 [00:00<00:00, 24.90it/s, loss=0.834, v_num=84]"
     ]
    },
    {
     "name": "stdout",
     "output_type": "stream",
     "text": [
      "\n"
     ]
    },
    {
     "name": "stdout",
     "output_type": "stream",
     "text": [
      "\r",
      "                                                                                                                        "
     ]
    },
    {
     "name": "stdout",
     "output_type": "stream",
     "text": [
      "\u001b[A"
     ]
    },
    {
     "name": "stdout",
     "output_type": "stream",
     "text": [
      "\r",
      "Epoch 12:   0%|                                                 | 0/19 [00:00<00:00, 16777.22it/s, loss=0.834, v_num=84]"
     ]
    },
    {
     "name": "stdout",
     "output_type": "stream",
     "text": [
      "\r",
      "Epoch 13:   0%|                                                   | 0/19 [00:00<00:00, 954.55it/s, loss=0.834, v_num=84]"
     ]
    },
    {
     "name": "stdout",
     "output_type": "stream",
     "text": [
      "\r",
      "Epoch 13:   5%|██▋                                                 | 1/19 [00:00<00:03,  5.94it/s, loss=0.842, v_num=84]"
     ]
    },
    {
     "name": "stdout",
     "output_type": "stream",
     "text": [
      "\r",
      "Epoch 13:  11%|█████▍                                              | 2/19 [00:00<00:01,  8.68it/s, loss=0.842, v_num=84]"
     ]
    },
    {
     "name": "stdout",
     "output_type": "stream",
     "text": [
      "\r",
      "Epoch 13:  16%|████████▏                                           | 3/19 [00:00<00:01, 11.36it/s, loss=0.842, v_num=84]"
     ]
    },
    {
     "name": "stdout",
     "output_type": "stream",
     "text": [
      "\r",
      "Epoch 13:  21%|██████████▉                                         | 4/19 [00:00<00:01, 13.91it/s, loss=0.845, v_num=84]"
     ]
    },
    {
     "name": "stdout",
     "output_type": "stream",
     "text": [
      "\r",
      "Epoch 13:  26%|█████████████▋                                      | 5/19 [00:00<00:00, 16.42it/s, loss=0.845, v_num=84]"
     ]
    },
    {
     "name": "stdout",
     "output_type": "stream",
     "text": [
      "\r",
      "Epoch 13:  32%|████████████████▍                                   | 6/19 [00:00<00:00, 18.65it/s, loss=0.843, v_num=84]"
     ]
    },
    {
     "name": "stdout",
     "output_type": "stream",
     "text": [
      "\r",
      "Epoch 13:  37%|███████████████████▏                                | 7/19 [00:00<00:00, 20.97it/s, loss=0.844, v_num=84]"
     ]
    },
    {
     "name": "stdout",
     "output_type": "stream",
     "text": [
      "\r",
      "Epoch 13:  42%|█████████████████████▉                              | 8/19 [00:00<00:00, 23.18it/s, loss=0.842, v_num=84]"
     ]
    },
    {
     "name": "stdout",
     "output_type": "stream",
     "text": [
      "\r",
      "Epoch 13:  47%|████████████████████████▋                           | 9/19 [00:00<00:00, 25.28it/s, loss=0.839, v_num=84]"
     ]
    },
    {
     "name": "stdout",
     "output_type": "stream",
     "text": [
      "\r",
      "Epoch 13:  53%|██████████████████████████▊                        | 10/19 [00:00<00:00, 27.41it/s, loss=0.843, v_num=84]"
     ]
    },
    {
     "name": "stdout",
     "output_type": "stream",
     "text": [
      "\r",
      "Epoch 13:  58%|█████████████████████████████▌                     | 11/19 [00:00<00:00, 29.36it/s, loss=0.834, v_num=84]"
     ]
    },
    {
     "name": "stdout",
     "output_type": "stream",
     "text": [
      "\r",
      "Epoch 13:  63%|████████████████████████████████▊                   | 12/19 [00:00<00:00, 31.34it/s, loss=0.83, v_num=84]"
     ]
    },
    {
     "name": "stdout",
     "output_type": "stream",
     "text": [
      "\r",
      "Epoch 13:  68%|██████████████████████████████████▉                | 13/19 [00:00<00:00, 33.20it/s, loss=0.829, v_num=84]"
     ]
    },
    {
     "name": "stdout",
     "output_type": "stream",
     "text": [
      "\r",
      "Epoch 13:  74%|█████████████████████████████████████▌             | 14/19 [00:00<00:00, 35.09it/s, loss=0.829, v_num=84]"
     ]
    },
    {
     "name": "stdout",
     "output_type": "stream",
     "text": [
      "\r",
      "Epoch 13:  74%|█████████████████████████████████████▌             | 14/19 [00:00<00:00, 34.97it/s, loss=0.827, v_num=84]"
     ]
    },
    {
     "name": "stdout",
     "output_type": "stream",
     "text": [
      "\r",
      "Epoch 13:  79%|████████████████████████████████████████▎          | 15/19 [00:00<00:00, 34.42it/s, loss=0.821, v_num=84]"
     ]
    },
    {
     "name": "stdout",
     "output_type": "stream",
     "text": [
      "\n"
     ]
    },
    {
     "name": "stdout",
     "output_type": "stream",
     "text": [
      "\r",
      "Validating: 0it [00:00, ?it/s]"
     ]
    },
    {
     "name": "stdout",
     "output_type": "stream",
     "text": [
      "\u001b[A"
     ]
    },
    {
     "name": "stdout",
     "output_type": "stream",
     "text": [
      "\n"
     ]
    },
    {
     "name": "stdout",
     "output_type": "stream",
     "text": [
      "\r",
      "Validating:   0%|                                                                                 | 0/4 [00:00<?, ?it/s]"
     ]
    },
    {
     "name": "stdout",
     "output_type": "stream",
     "text": [
      "\u001b[A"
     ]
    },
    {
     "name": "stdout",
     "output_type": "stream",
     "text": [
      "\n"
     ]
    },
    {
     "name": "stdout",
     "output_type": "stream",
     "text": [
      "\r",
      "Validating:  25%|██████████████████▎                                                      | 1/4 [00:00<00:00,  4.13it/s]"
     ]
    },
    {
     "name": "stdout",
     "output_type": "stream",
     "text": [
      "\u001b[A"
     ]
    },
    {
     "name": "stdout",
     "output_type": "stream",
     "text": [
      "\r",
      "Epoch 13: 100%|███████████████████████████████████████████████████| 19/19 [00:00<00:00, 26.46it/s, loss=0.821, v_num=84]"
     ]
    },
    {
     "name": "stdout",
     "output_type": "stream",
     "text": [
      "\n"
     ]
    },
    {
     "name": "stdout",
     "output_type": "stream",
     "text": [
      "\r",
      "                                                                                                                        "
     ]
    },
    {
     "name": "stdout",
     "output_type": "stream",
     "text": [
      "\u001b[A"
     ]
    },
    {
     "name": "stdout",
     "output_type": "stream",
     "text": [
      "\r",
      "Epoch 13:   0%|                                                 | 0/19 [00:00<00:00, 22310.13it/s, loss=0.821, v_num=84]"
     ]
    },
    {
     "name": "stdout",
     "output_type": "stream",
     "text": [
      "\r",
      "Epoch 14:   0%|                                                   | 0/19 [00:00<00:00, 953.90it/s, loss=0.821, v_num=84]"
     ]
    },
    {
     "name": "stdout",
     "output_type": "stream",
     "text": [
      "\r",
      "Epoch 14:   5%|██▋                                                 | 1/19 [00:00<00:02,  6.04it/s, loss=0.829, v_num=84]"
     ]
    },
    {
     "name": "stdout",
     "output_type": "stream",
     "text": [
      "\r",
      "Epoch 14:  11%|█████▍                                              | 2/19 [00:00<00:01,  8.73it/s, loss=0.829, v_num=84]"
     ]
    },
    {
     "name": "stdout",
     "output_type": "stream",
     "text": [
      "\r",
      "Epoch 14:  16%|████████▏                                           | 3/19 [00:00<00:01, 11.40it/s, loss=0.829, v_num=84]"
     ]
    },
    {
     "name": "stdout",
     "output_type": "stream",
     "text": [
      "\r",
      "Epoch 14:  21%|██████████▉                                         | 4/19 [00:00<00:01, 13.94it/s, loss=0.833, v_num=84]"
     ]
    },
    {
     "name": "stdout",
     "output_type": "stream",
     "text": [
      "\r",
      "Epoch 14:  26%|█████████████▋                                      | 5/19 [00:00<00:00, 16.38it/s, loss=0.833, v_num=84]"
     ]
    },
    {
     "name": "stdout",
     "output_type": "stream",
     "text": [
      "\r",
      "Epoch 14:  32%|████████████████▍                                   | 6/19 [00:00<00:00, 18.67it/s, loss=0.831, v_num=84]"
     ]
    },
    {
     "name": "stdout",
     "output_type": "stream",
     "text": [
      "\r",
      "Epoch 14:  37%|███████████████████▏                                | 7/19 [00:00<00:00, 20.69it/s, loss=0.832, v_num=84]"
     ]
    },
    {
     "name": "stdout",
     "output_type": "stream",
     "text": [
      "\r",
      "Epoch 14:  42%|█████████████████████▉                              | 8/19 [00:00<00:00, 22.67it/s, loss=0.831, v_num=84]"
     ]
    },
    {
     "name": "stdout",
     "output_type": "stream",
     "text": [
      "\r",
      "Epoch 14:  47%|████████████████████████▋                           | 9/19 [00:00<00:00, 24.56it/s, loss=0.827, v_num=84]"
     ]
    },
    {
     "name": "stdout",
     "output_type": "stream",
     "text": [
      "\r",
      "Epoch 14:  53%|██████████████████████████▊                        | 10/19 [00:00<00:00, 26.48it/s, loss=0.832, v_num=84]"
     ]
    },
    {
     "name": "stdout",
     "output_type": "stream",
     "text": [
      "\r",
      "Epoch 14:  58%|█████████████████████████████▌                     | 11/19 [00:00<00:00, 28.31it/s, loss=0.823, v_num=84]"
     ]
    },
    {
     "name": "stdout",
     "output_type": "stream",
     "text": [
      "\r",
      "Epoch 14:  63%|████████████████████████████████▏                  | 12/19 [00:00<00:00, 30.20it/s, loss=0.819, v_num=84]"
     ]
    },
    {
     "name": "stdout",
     "output_type": "stream",
     "text": [
      "\r",
      "Epoch 14:  68%|██████████████████████████████████▉                | 13/19 [00:00<00:00, 31.99it/s, loss=0.818, v_num=84]"
     ]
    },
    {
     "name": "stdout",
     "output_type": "stream",
     "text": [
      "\r",
      "Epoch 14:  74%|█████████████████████████████████████▌             | 14/19 [00:00<00:00, 33.84it/s, loss=0.818, v_num=84]"
     ]
    },
    {
     "name": "stdout",
     "output_type": "stream",
     "text": [
      "\r",
      "Epoch 14:  74%|█████████████████████████████████████▌             | 14/19 [00:00<00:00, 33.71it/s, loss=0.816, v_num=84]"
     ]
    },
    {
     "name": "stdout",
     "output_type": "stream",
     "text": [
      "\r",
      "Epoch 14:  79%|█████████████████████████████████████████           | 15/19 [00:00<00:00, 33.32it/s, loss=0.81, v_num=84]"
     ]
    },
    {
     "name": "stdout",
     "output_type": "stream",
     "text": [
      "\n"
     ]
    },
    {
     "name": "stdout",
     "output_type": "stream",
     "text": [
      "\r",
      "Validating: 0it [00:00, ?it/s]"
     ]
    },
    {
     "name": "stdout",
     "output_type": "stream",
     "text": [
      "\u001b[A"
     ]
    },
    {
     "name": "stdout",
     "output_type": "stream",
     "text": [
      "\n"
     ]
    },
    {
     "name": "stdout",
     "output_type": "stream",
     "text": [
      "\r",
      "Validating:   0%|                                                                                 | 0/4 [00:00<?, ?it/s]"
     ]
    },
    {
     "name": "stdout",
     "output_type": "stream",
     "text": [
      "\u001b[A"
     ]
    },
    {
     "name": "stdout",
     "output_type": "stream",
     "text": [
      "\n"
     ]
    },
    {
     "name": "stdout",
     "output_type": "stream",
     "text": [
      "\r",
      "Validating:  25%|██████████████████▎                                                      | 1/4 [00:00<00:00,  4.16it/s]"
     ]
    },
    {
     "name": "stdout",
     "output_type": "stream",
     "text": [
      "\u001b[A"
     ]
    },
    {
     "name": "stdout",
     "output_type": "stream",
     "text": [
      "\r",
      "Epoch 14: 100%|████████████████████████████████████████████████████| 19/19 [00:00<00:00, 25.87it/s, loss=0.81, v_num=84]"
     ]
    },
    {
     "name": "stdout",
     "output_type": "stream",
     "text": [
      "\n"
     ]
    },
    {
     "name": "stdout",
     "output_type": "stream",
     "text": [
      "\r",
      "                                                                                                                        "
     ]
    },
    {
     "name": "stdout",
     "output_type": "stream",
     "text": [
      "\u001b[A"
     ]
    },
    {
     "name": "stdout",
     "output_type": "stream",
     "text": [
      "\r",
      "Epoch 14:   0%|                                                  | 0/19 [00:00<00:00, 23563.51it/s, loss=0.81, v_num=84]"
     ]
    },
    {
     "name": "stdout",
     "output_type": "stream",
     "text": [
      "\r",
      "Epoch 15:   0%|                                                    | 0/19 [00:00<00:00, 755.73it/s, loss=0.81, v_num=84]"
     ]
    },
    {
     "name": "stdout",
     "output_type": "stream",
     "text": [
      "\r",
      "Epoch 15:   5%|██▋                                                 | 1/19 [00:00<00:02,  6.43it/s, loss=0.818, v_num=84]"
     ]
    },
    {
     "name": "stdout",
     "output_type": "stream",
     "text": [
      "\r",
      "Epoch 15:  11%|█████▍                                              | 2/19 [00:00<00:01,  9.35it/s, loss=0.819, v_num=84]"
     ]
    },
    {
     "name": "stdout",
     "output_type": "stream",
     "text": [
      "\r",
      "Epoch 15:  16%|████████▏                                           | 3/19 [00:00<00:01, 12.23it/s, loss=0.819, v_num=84]"
     ]
    },
    {
     "name": "stdout",
     "output_type": "stream",
     "text": [
      "\r",
      "Epoch 15:  21%|██████████▉                                         | 4/19 [00:00<00:01, 14.74it/s, loss=0.823, v_num=84]"
     ]
    },
    {
     "name": "stdout",
     "output_type": "stream",
     "text": [
      "\r",
      "Epoch 15:  26%|█████████████▋                                      | 5/19 [00:00<00:00, 17.28it/s, loss=0.823, v_num=84]"
     ]
    },
    {
     "name": "stdout",
     "output_type": "stream",
     "text": [
      "\r",
      "Epoch 15:  32%|████████████████▍                                   | 6/19 [00:00<00:00, 19.77it/s, loss=0.822, v_num=84]"
     ]
    },
    {
     "name": "stdout",
     "output_type": "stream",
     "text": [
      "\r",
      "Epoch 15:  37%|███████████████████▏                                | 7/19 [00:00<00:00, 22.14it/s, loss=0.823, v_num=84]"
     ]
    },
    {
     "name": "stdout",
     "output_type": "stream",
     "text": [
      "\r",
      "Epoch 15:  42%|█████████████████████▉                              | 8/19 [00:00<00:00, 24.42it/s, loss=0.822, v_num=84]"
     ]
    },
    {
     "name": "stdout",
     "output_type": "stream",
     "text": [
      "\r",
      "Epoch 15:  47%|████████████████████████▋                           | 9/19 [00:00<00:00, 26.74it/s, loss=0.818, v_num=84]"
     ]
    },
    {
     "name": "stdout",
     "output_type": "stream",
     "text": [
      "\r",
      "Epoch 15:  53%|██████████████████████████▊                        | 10/19 [00:00<00:00, 28.97it/s, loss=0.822, v_num=84]"
     ]
    },
    {
     "name": "stdout",
     "output_type": "stream",
     "text": [
      "\r",
      "Epoch 15:  58%|█████████████████████████████▌                     | 11/19 [00:00<00:00, 31.14it/s, loss=0.814, v_num=84]"
     ]
    },
    {
     "name": "stdout",
     "output_type": "stream",
     "text": [
      "\r",
      "Epoch 15:  63%|████████████████████████████████▊                   | 12/19 [00:00<00:00, 33.24it/s, loss=0.81, v_num=84]"
     ]
    },
    {
     "name": "stdout",
     "output_type": "stream",
     "text": [
      "\r",
      "Epoch 15:  68%|███████████████████████████████████▌                | 13/19 [00:00<00:00, 35.21it/s, loss=0.81, v_num=84]"
     ]
    },
    {
     "name": "stdout",
     "output_type": "stream",
     "text": [
      "\r",
      "Epoch 15:  74%|██████████████████████████████████████▎             | 14/19 [00:00<00:00, 37.19it/s, loss=0.81, v_num=84]"
     ]
    },
    {
     "name": "stdout",
     "output_type": "stream",
     "text": [
      "\r",
      "Epoch 15:  74%|█████████████████████████████████████▌             | 14/19 [00:00<00:00, 37.08it/s, loss=0.808, v_num=84]"
     ]
    },
    {
     "name": "stdout",
     "output_type": "stream",
     "text": [
      "\r",
      "Epoch 15:  79%|████████████████████████████████████████▎          | 15/19 [00:00<00:00, 36.21it/s, loss=0.802, v_num=84]"
     ]
    },
    {
     "name": "stdout",
     "output_type": "stream",
     "text": [
      "\n"
     ]
    },
    {
     "name": "stdout",
     "output_type": "stream",
     "text": [
      "\r",
      "Validating: 0it [00:00, ?it/s]"
     ]
    },
    {
     "name": "stdout",
     "output_type": "stream",
     "text": [
      "\u001b[A"
     ]
    },
    {
     "name": "stdout",
     "output_type": "stream",
     "text": [
      "\n"
     ]
    },
    {
     "name": "stdout",
     "output_type": "stream",
     "text": [
      "\r",
      "Validating:   0%|                                                                                 | 0/4 [00:00<?, ?it/s]"
     ]
    },
    {
     "name": "stdout",
     "output_type": "stream",
     "text": [
      "\u001b[A"
     ]
    },
    {
     "name": "stdout",
     "output_type": "stream",
     "text": [
      "\n"
     ]
    },
    {
     "name": "stdout",
     "output_type": "stream",
     "text": [
      "\r",
      "Validating:  25%|██████████████████▎                                                      | 1/4 [00:00<00:00,  4.55it/s]"
     ]
    },
    {
     "name": "stdout",
     "output_type": "stream",
     "text": [
      "\u001b[A"
     ]
    },
    {
     "name": "stdout",
     "output_type": "stream",
     "text": [
      "\r",
      "Epoch 15: 100%|███████████████████████████████████████████████████| 19/19 [00:00<00:00, 28.27it/s, loss=0.802, v_num=84]"
     ]
    },
    {
     "name": "stdout",
     "output_type": "stream",
     "text": [
      "\n"
     ]
    },
    {
     "name": "stdout",
     "output_type": "stream",
     "text": [
      "\r",
      "                                                                                                                        "
     ]
    },
    {
     "name": "stdout",
     "output_type": "stream",
     "text": [
      "\u001b[A"
     ]
    },
    {
     "name": "stdout",
     "output_type": "stream",
     "text": [
      "\r",
      "Epoch 15:   0%|                                                 | 0/19 [00:00<00:00, 23831.27it/s, loss=0.802, v_num=84]"
     ]
    },
    {
     "name": "stdout",
     "output_type": "stream",
     "text": [
      "\r",
      "Epoch 16:   0%|                                                   | 0/19 [00:00<00:00, 921.83it/s, loss=0.802, v_num=84]"
     ]
    },
    {
     "name": "stdout",
     "output_type": "stream",
     "text": [
      "\r",
      "Epoch 16:   5%|██▊                                                  | 1/19 [00:00<00:02,  6.84it/s, loss=0.81, v_num=84]"
     ]
    },
    {
     "name": "stdout",
     "output_type": "stream",
     "text": [
      "\r",
      "Epoch 16:  11%|█████▌                                               | 2/19 [00:00<00:01,  9.97it/s, loss=0.81, v_num=84]"
     ]
    },
    {
     "name": "stdout",
     "output_type": "stream",
     "text": [
      "\r",
      "Epoch 16:  16%|████████▎                                            | 3/19 [00:00<00:01, 13.03it/s, loss=0.81, v_num=84]"
     ]
    },
    {
     "name": "stdout",
     "output_type": "stream",
     "text": [
      "\r",
      "Epoch 16:  21%|██████████▉                                         | 4/19 [00:00<00:00, 15.97it/s, loss=0.815, v_num=84]"
     ]
    },
    {
     "name": "stdout",
     "output_type": "stream",
     "text": [
      "\r",
      "Epoch 16:  26%|█████████████▋                                      | 5/19 [00:00<00:00, 18.85it/s, loss=0.815, v_num=84]"
     ]
    },
    {
     "name": "stdout",
     "output_type": "stream",
     "text": [
      "\r",
      "Epoch 16:  32%|████████████████▍                                   | 6/19 [00:00<00:00, 21.57it/s, loss=0.814, v_num=84]"
     ]
    },
    {
     "name": "stdout",
     "output_type": "stream",
     "text": [
      "\r",
      "Epoch 16:  37%|███████████████████▏                                | 7/19 [00:00<00:00, 24.16it/s, loss=0.815, v_num=84]"
     ]
    },
    {
     "name": "stdout",
     "output_type": "stream",
     "text": [
      "\r",
      "Epoch 16:  42%|█████████████████████▉                              | 8/19 [00:00<00:00, 26.65it/s, loss=0.814, v_num=84]"
     ]
    },
    {
     "name": "stdout",
     "output_type": "stream",
     "text": [
      "\r",
      "Epoch 16:  47%|████████████████████████▋                           | 9/19 [00:00<00:00, 29.16it/s, loss=0.811, v_num=84]"
     ]
    },
    {
     "name": "stdout",
     "output_type": "stream",
     "text": [
      "\r",
      "Epoch 16:  53%|██████████████████████████▊                        | 10/19 [00:00<00:00, 31.59it/s, loss=0.815, v_num=84]"
     ]
    },
    {
     "name": "stdout",
     "output_type": "stream",
     "text": [
      "\r",
      "Epoch 16:  58%|█████████████████████████████▌                     | 11/19 [00:00<00:00, 33.58it/s, loss=0.806, v_num=84]"
     ]
    },
    {
     "name": "stdout",
     "output_type": "stream",
     "text": [
      "\r",
      "Epoch 16:  63%|████████████████████████████████▏                  | 12/19 [00:00<00:00, 35.85it/s, loss=0.803, v_num=84]"
     ]
    },
    {
     "name": "stdout",
     "output_type": "stream",
     "text": [
      "\r",
      "Epoch 16:  68%|██████████████████████████████████▉                | 13/19 [00:00<00:00, 37.96it/s, loss=0.803, v_num=84]"
     ]
    },
    {
     "name": "stdout",
     "output_type": "stream",
     "text": [
      "\r",
      "Epoch 16:  74%|█████████████████████████████████████▌             | 14/19 [00:00<00:00, 40.08it/s, loss=0.803, v_num=84]"
     ]
    },
    {
     "name": "stdout",
     "output_type": "stream",
     "text": [
      "\r",
      "Epoch 16:  74%|█████████████████████████████████████▌             | 14/19 [00:00<00:00, 39.98it/s, loss=0.801, v_num=84]"
     ]
    },
    {
     "name": "stdout",
     "output_type": "stream",
     "text": [
      "\r",
      "Epoch 16:  79%|████████████████████████████████████████▎          | 15/19 [00:00<00:00, 38.96it/s, loss=0.795, v_num=84]"
     ]
    },
    {
     "name": "stdout",
     "output_type": "stream",
     "text": [
      "\n"
     ]
    },
    {
     "name": "stdout",
     "output_type": "stream",
     "text": [
      "\r",
      "Validating: 0it [00:00, ?it/s]"
     ]
    },
    {
     "name": "stdout",
     "output_type": "stream",
     "text": [
      "\u001b[A"
     ]
    },
    {
     "name": "stdout",
     "output_type": "stream",
     "text": [
      "\n"
     ]
    },
    {
     "name": "stdout",
     "output_type": "stream",
     "text": [
      "\r",
      "Validating:   0%|                                                                                 | 0/4 [00:00<?, ?it/s]"
     ]
    },
    {
     "name": "stdout",
     "output_type": "stream",
     "text": [
      "\u001b[A"
     ]
    },
    {
     "name": "stdout",
     "output_type": "stream",
     "text": [
      "\n"
     ]
    },
    {
     "name": "stdout",
     "output_type": "stream",
     "text": [
      "\r",
      "Validating:  25%|██████████████████▎                                                      | 1/4 [00:00<00:00,  4.36it/s]"
     ]
    },
    {
     "name": "stdout",
     "output_type": "stream",
     "text": [
      "\u001b[A"
     ]
    },
    {
     "name": "stdout",
     "output_type": "stream",
     "text": [
      "\r",
      "Epoch 16: 100%|███████████████████████████████████████████████████| 19/19 [00:00<00:00, 29.04it/s, loss=0.795, v_num=84]"
     ]
    },
    {
     "name": "stdout",
     "output_type": "stream",
     "text": [
      "\n"
     ]
    },
    {
     "name": "stdout",
     "output_type": "stream",
     "text": [
      "\r",
      "                                                                                                                        "
     ]
    },
    {
     "name": "stdout",
     "output_type": "stream",
     "text": [
      "\u001b[A"
     ]
    },
    {
     "name": "stdout",
     "output_type": "stream",
     "text": [
      "\r",
      "Epoch 16:   0%|                                                 | 0/19 [00:00<00:00, 28532.68it/s, loss=0.795, v_num=84]"
     ]
    },
    {
     "name": "stdout",
     "output_type": "stream",
     "text": [
      "\r",
      "Epoch 17:   0%|                                                   | 0/19 [00:00<00:00, 877.10it/s, loss=0.795, v_num=84]"
     ]
    },
    {
     "name": "stdout",
     "output_type": "stream",
     "text": [
      "\r",
      "Epoch 17:   5%|██▋                                                 | 1/19 [00:00<00:02,  6.15it/s, loss=0.803, v_num=84]"
     ]
    },
    {
     "name": "stdout",
     "output_type": "stream",
     "text": [
      "\r",
      "Epoch 17:  11%|█████▍                                              | 2/19 [00:00<00:01,  9.00it/s, loss=0.803, v_num=84]"
     ]
    },
    {
     "name": "stdout",
     "output_type": "stream",
     "text": [
      "\r",
      "Epoch 17:  16%|████████▏                                           | 3/19 [00:00<00:01, 11.79it/s, loss=0.803, v_num=84]"
     ]
    },
    {
     "name": "stdout",
     "output_type": "stream",
     "text": [
      "\r",
      "Epoch 17:  21%|██████████▉                                         | 4/19 [00:00<00:01, 14.25it/s, loss=0.808, v_num=84]"
     ]
    },
    {
     "name": "stdout",
     "output_type": "stream",
     "text": [
      "\r",
      "Epoch 17:  26%|█████████████▋                                      | 5/19 [00:00<00:00, 16.71it/s, loss=0.808, v_num=84]"
     ]
    },
    {
     "name": "stdout",
     "output_type": "stream",
     "text": [
      "\r",
      "Epoch 17:  32%|████████████████▍                                   | 6/19 [00:00<00:00, 19.14it/s, loss=0.808, v_num=84]"
     ]
    },
    {
     "name": "stdout",
     "output_type": "stream",
     "text": [
      "\r",
      "Epoch 17:  37%|███████████████████▏                                | 7/19 [00:00<00:00, 21.17it/s, loss=0.809, v_num=84]"
     ]
    },
    {
     "name": "stdout",
     "output_type": "stream",
     "text": [
      "\r",
      "Epoch 17:  42%|█████████████████████▉                              | 8/19 [00:00<00:00, 23.26it/s, loss=0.808, v_num=84]"
     ]
    },
    {
     "name": "stdout",
     "output_type": "stream",
     "text": [
      "\r",
      "Epoch 17:  47%|████████████████████████▋                           | 9/19 [00:00<00:00, 25.26it/s, loss=0.805, v_num=84]"
     ]
    },
    {
     "name": "stdout",
     "output_type": "stream",
     "text": [
      "\r",
      "Epoch 17:  53%|██████████████████████████▊                        | 10/19 [00:00<00:00, 27.11it/s, loss=0.809, v_num=84]"
     ]
    },
    {
     "name": "stdout",
     "output_type": "stream",
     "text": [
      "\r",
      "Epoch 17:  58%|██████████████████████████████▋                      | 11/19 [00:00<00:00, 28.71it/s, loss=0.8, v_num=84]"
     ]
    },
    {
     "name": "stdout",
     "output_type": "stream",
     "text": [
      "\r",
      "Epoch 17:  63%|████████████████████████████████▏                  | 12/19 [00:00<00:00, 30.54it/s, loss=0.797, v_num=84]"
     ]
    },
    {
     "name": "stdout",
     "output_type": "stream",
     "text": [
      "\r",
      "Epoch 17:  68%|██████████████████████████████████▉                | 13/19 [00:00<00:00, 32.25it/s, loss=0.797, v_num=84]"
     ]
    },
    {
     "name": "stdout",
     "output_type": "stream",
     "text": [
      "\r",
      "Epoch 17:  74%|█████████████████████████████████████▌             | 14/19 [00:00<00:00, 33.83it/s, loss=0.797, v_num=84]"
     ]
    },
    {
     "name": "stdout",
     "output_type": "stream",
     "text": [
      "\r",
      "Epoch 17:  74%|█████████████████████████████████████▌             | 14/19 [00:00<00:00, 33.68it/s, loss=0.795, v_num=84]"
     ]
    },
    {
     "name": "stdout",
     "output_type": "stream",
     "text": [
      "\r",
      "Epoch 17:  79%|████████████████████████████████████████▎          | 15/19 [00:00<00:00, 32.81it/s, loss=0.789, v_num=84]"
     ]
    },
    {
     "name": "stdout",
     "output_type": "stream",
     "text": [
      "\n"
     ]
    },
    {
     "name": "stdout",
     "output_type": "stream",
     "text": [
      "\r",
      "Validating: 0it [00:00, ?it/s]"
     ]
    },
    {
     "name": "stdout",
     "output_type": "stream",
     "text": [
      "\u001b[A"
     ]
    },
    {
     "name": "stdout",
     "output_type": "stream",
     "text": [
      "\n"
     ]
    },
    {
     "name": "stdout",
     "output_type": "stream",
     "text": [
      "\r",
      "Validating:   0%|                                                                                 | 0/4 [00:00<?, ?it/s]"
     ]
    },
    {
     "name": "stdout",
     "output_type": "stream",
     "text": [
      "\u001b[A"
     ]
    },
    {
     "name": "stdout",
     "output_type": "stream",
     "text": [
      "\n"
     ]
    },
    {
     "name": "stdout",
     "output_type": "stream",
     "text": [
      "\r",
      "Validating:  25%|██████████████████▎                                                      | 1/4 [00:00<00:00,  3.82it/s]"
     ]
    },
    {
     "name": "stdout",
     "output_type": "stream",
     "text": [
      "\u001b[A"
     ]
    },
    {
     "name": "stdout",
     "output_type": "stream",
     "text": [
      "\r",
      "Epoch 17: 100%|███████████████████████████████████████████████████| 19/19 [00:00<00:00, 24.84it/s, loss=0.789, v_num=84]"
     ]
    },
    {
     "name": "stdout",
     "output_type": "stream",
     "text": [
      "\n"
     ]
    },
    {
     "name": "stdout",
     "output_type": "stream",
     "text": [
      "\r",
      "                                                                                                                        "
     ]
    },
    {
     "name": "stdout",
     "output_type": "stream",
     "text": [
      "\u001b[A"
     ]
    },
    {
     "name": "stdout",
     "output_type": "stream",
     "text": [
      "\r",
      "Epoch 17:   0%|                                                 | 0/19 [00:00<00:00, 21845.33it/s, loss=0.789, v_num=84]"
     ]
    },
    {
     "name": "stdout",
     "output_type": "stream",
     "text": [
      "\r",
      "Epoch 18:   0%|                                                   | 0/19 [00:00<00:00, 920.81it/s, loss=0.789, v_num=84]"
     ]
    },
    {
     "name": "stdout",
     "output_type": "stream",
     "text": [
      "\r",
      "Epoch 18:   5%|██▋                                                 | 1/19 [00:00<00:02,  6.05it/s, loss=0.798, v_num=84]"
     ]
    },
    {
     "name": "stdout",
     "output_type": "stream",
     "text": [
      "\r",
      "Epoch 18:  11%|█████▍                                              | 2/19 [00:00<00:01,  8.81it/s, loss=0.798, v_num=84]"
     ]
    },
    {
     "name": "stdout",
     "output_type": "stream",
     "text": [
      "\r",
      "Epoch 18:  16%|████████▏                                           | 3/19 [00:00<00:01, 11.51it/s, loss=0.798, v_num=84]"
     ]
    },
    {
     "name": "stdout",
     "output_type": "stream",
     "text": [
      "\r",
      "Epoch 18:  21%|██████████▉                                         | 4/19 [00:00<00:01, 14.11it/s, loss=0.803, v_num=84]"
     ]
    },
    {
     "name": "stdout",
     "output_type": "stream",
     "text": [
      "\r",
      "Epoch 18:  26%|█████████████▋                                      | 5/19 [00:00<00:00, 16.56it/s, loss=0.803, v_num=84]"
     ]
    },
    {
     "name": "stdout",
     "output_type": "stream",
     "text": [
      "\r",
      "Epoch 18:  32%|████████████████▍                                   | 6/19 [00:00<00:00, 19.00it/s, loss=0.802, v_num=84]"
     ]
    },
    {
     "name": "stdout",
     "output_type": "stream",
     "text": [
      "\r",
      "Epoch 18:  37%|███████████████████▏                                | 7/19 [00:00<00:00, 21.19it/s, loss=0.804, v_num=84]"
     ]
    },
    {
     "name": "stdout",
     "output_type": "stream",
     "text": [
      "\r",
      "Epoch 18:  42%|█████████████████████▉                              | 8/19 [00:00<00:00, 23.42it/s, loss=0.804, v_num=84]"
     ]
    },
    {
     "name": "stdout",
     "output_type": "stream",
     "text": [
      "\r",
      "Epoch 18:  47%|█████████████████████████▌                            | 9/19 [00:00<00:00, 25.49it/s, loss=0.8, v_num=84]"
     ]
    },
    {
     "name": "stdout",
     "output_type": "stream",
     "text": [
      "\r",
      "Epoch 18:  53%|██████████████████████████▊                        | 10/19 [00:00<00:00, 27.62it/s, loss=0.804, v_num=84]"
     ]
    },
    {
     "name": "stdout",
     "output_type": "stream",
     "text": [
      "\r",
      "Epoch 18:  58%|█████████████████████████████▌                     | 11/19 [00:00<00:00, 29.71it/s, loss=0.796, v_num=84]"
     ]
    },
    {
     "name": "stdout",
     "output_type": "stream",
     "text": [
      "\r",
      "Epoch 18:  63%|████████████████████████████████▏                  | 12/19 [00:00<00:00, 31.75it/s, loss=0.793, v_num=84]"
     ]
    },
    {
     "name": "stdout",
     "output_type": "stream",
     "text": [
      "\r",
      "Epoch 18:  68%|██████████████████████████████████▉                | 13/19 [00:00<00:00, 33.59it/s, loss=0.792, v_num=84]"
     ]
    },
    {
     "name": "stdout",
     "output_type": "stream",
     "text": [
      "\r",
      "Epoch 18:  74%|█████████████████████████████████████▌             | 14/19 [00:00<00:00, 35.32it/s, loss=0.792, v_num=84]"
     ]
    },
    {
     "name": "stdout",
     "output_type": "stream",
     "text": [
      "\r",
      "Epoch 18:  74%|█████████████████████████████████████▌             | 14/19 [00:00<00:00, 35.17it/s, loss=0.791, v_num=84]"
     ]
    },
    {
     "name": "stdout",
     "output_type": "stream",
     "text": [
      "\r",
      "Epoch 18:  79%|████████████████████████████████████████▎          | 15/19 [00:00<00:00, 34.70it/s, loss=0.785, v_num=84]"
     ]
    },
    {
     "name": "stdout",
     "output_type": "stream",
     "text": [
      "\n"
     ]
    },
    {
     "name": "stdout",
     "output_type": "stream",
     "text": [
      "\r",
      "Validating: 0it [00:00, ?it/s]"
     ]
    },
    {
     "name": "stdout",
     "output_type": "stream",
     "text": [
      "\u001b[A"
     ]
    },
    {
     "name": "stdout",
     "output_type": "stream",
     "text": [
      "\n"
     ]
    },
    {
     "name": "stdout",
     "output_type": "stream",
     "text": [
      "\r",
      "Validating:   0%|                                                                                 | 0/4 [00:00<?, ?it/s]"
     ]
    },
    {
     "name": "stdout",
     "output_type": "stream",
     "text": [
      "\u001b[A"
     ]
    },
    {
     "name": "stdout",
     "output_type": "stream",
     "text": [
      "\n"
     ]
    },
    {
     "name": "stdout",
     "output_type": "stream",
     "text": [
      "\r",
      "Validating:  25%|██████████████████▎                                                      | 1/4 [00:00<00:00,  4.31it/s]"
     ]
    },
    {
     "name": "stdout",
     "output_type": "stream",
     "text": [
      "\u001b[A"
     ]
    },
    {
     "name": "stdout",
     "output_type": "stream",
     "text": [
      "\r",
      "Epoch 18: 100%|███████████████████████████████████████████████████| 19/19 [00:00<00:00, 27.08it/s, loss=0.785, v_num=84]"
     ]
    },
    {
     "name": "stdout",
     "output_type": "stream",
     "text": [
      "\n"
     ]
    },
    {
     "name": "stdout",
     "output_type": "stream",
     "text": [
      "\r",
      "                                                                                                                        "
     ]
    },
    {
     "name": "stdout",
     "output_type": "stream",
     "text": [
      "\u001b[A"
     ]
    },
    {
     "name": "stdout",
     "output_type": "stream",
     "text": [
      "\r",
      "Epoch 18:   0%|                                                 | 0/19 [00:00<00:00, 27413.75it/s, loss=0.785, v_num=84]"
     ]
    },
    {
     "name": "stdout",
     "output_type": "stream",
     "text": [
      "\r",
      "Epoch 19:   0%|                                                  | 0/19 [00:00<00:00, 1149.75it/s, loss=0.785, v_num=84]"
     ]
    },
    {
     "name": "stdout",
     "output_type": "stream",
     "text": [
      "\r",
      "Epoch 19:   5%|██▋                                                 | 1/19 [00:00<00:02,  7.29it/s, loss=0.793, v_num=84]"
     ]
    },
    {
     "name": "stdout",
     "output_type": "stream",
     "text": [
      "\r",
      "Epoch 19:  11%|█████▍                                              | 2/19 [00:00<00:01, 10.59it/s, loss=0.793, v_num=84]"
     ]
    },
    {
     "name": "stdout",
     "output_type": "stream",
     "text": [
      "\r",
      "Epoch 19:  16%|████████▏                                           | 3/19 [00:00<00:01, 13.84it/s, loss=0.793, v_num=84]"
     ]
    },
    {
     "name": "stdout",
     "output_type": "stream",
     "text": [
      "\r",
      "Epoch 19:  21%|██████████▉                                         | 4/19 [00:00<00:00, 16.92it/s, loss=0.798, v_num=84]"
     ]
    },
    {
     "name": "stdout",
     "output_type": "stream",
     "text": [
      "\r",
      "Epoch 19:  26%|█████████████▋                                      | 5/19 [00:00<00:00, 19.91it/s, loss=0.799, v_num=84]"
     ]
    },
    {
     "name": "stdout",
     "output_type": "stream",
     "text": [
      "\r",
      "Epoch 19:  32%|████████████████▍                                   | 6/19 [00:00<00:00, 22.67it/s, loss=0.798, v_num=84]"
     ]
    },
    {
     "name": "stdout",
     "output_type": "stream",
     "text": [
      "\r",
      "Epoch 19:  37%|███████████████████▉                                  | 7/19 [00:00<00:00, 25.47it/s, loss=0.8, v_num=84]"
     ]
    },
    {
     "name": "stdout",
     "output_type": "stream",
     "text": [
      "\r",
      "Epoch 19:  42%|██████████████████████▋                               | 8/19 [00:00<00:00, 28.19it/s, loss=0.8, v_num=84]"
     ]
    },
    {
     "name": "stdout",
     "output_type": "stream",
     "text": [
      "\r",
      "Epoch 19:  47%|████████████████████████▋                           | 9/19 [00:00<00:00, 30.42it/s, loss=0.796, v_num=84]"
     ]
    },
    {
     "name": "stdout",
     "output_type": "stream",
     "text": [
      "\r",
      "Epoch 19:  53%|███████████████████████████▉                         | 10/19 [00:00<00:00, 32.86it/s, loss=0.8, v_num=84]"
     ]
    },
    {
     "name": "stdout",
     "output_type": "stream",
     "text": [
      "\r",
      "Epoch 19:  58%|█████████████████████████████▌                     | 11/19 [00:00<00:00, 35.21it/s, loss=0.792, v_num=84]"
     ]
    },
    {
     "name": "stdout",
     "output_type": "stream",
     "text": [
      "\r",
      "Epoch 19:  63%|████████████████████████████████▏                  | 12/19 [00:00<00:00, 37.28it/s, loss=0.789, v_num=84]"
     ]
    },
    {
     "name": "stdout",
     "output_type": "stream",
     "text": [
      "\r",
      "Epoch 19:  68%|██████████████████████████████████▉                | 13/19 [00:00<00:00, 39.47it/s, loss=0.789, v_num=84]"
     ]
    },
    {
     "name": "stdout",
     "output_type": "stream",
     "text": [
      "\r",
      "Epoch 19:  74%|█████████████████████████████████████▌             | 14/19 [00:00<00:00, 41.57it/s, loss=0.789, v_num=84]"
     ]
    },
    {
     "name": "stdout",
     "output_type": "stream",
     "text": [
      "\r",
      "Epoch 19:  74%|█████████████████████████████████████▌             | 14/19 [00:00<00:00, 41.40it/s, loss=0.787, v_num=84]"
     ]
    },
    {
     "name": "stdout",
     "output_type": "stream",
     "text": [
      "\r",
      "Epoch 19:  79%|████████████████████████████████████████▎          | 15/19 [00:00<00:00, 40.26it/s, loss=0.781, v_num=84]"
     ]
    },
    {
     "name": "stdout",
     "output_type": "stream",
     "text": [
      "\n"
     ]
    },
    {
     "name": "stdout",
     "output_type": "stream",
     "text": [
      "\r",
      "Validating: 0it [00:00, ?it/s]"
     ]
    },
    {
     "name": "stdout",
     "output_type": "stream",
     "text": [
      "\u001b[A"
     ]
    },
    {
     "name": "stdout",
     "output_type": "stream",
     "text": [
      "\n"
     ]
    },
    {
     "name": "stdout",
     "output_type": "stream",
     "text": [
      "\r",
      "Validating:   0%|                                                                                 | 0/4 [00:00<?, ?it/s]"
     ]
    },
    {
     "name": "stdout",
     "output_type": "stream",
     "text": [
      "\u001b[A"
     ]
    },
    {
     "name": "stdout",
     "output_type": "stream",
     "text": [
      "\n"
     ]
    },
    {
     "name": "stdout",
     "output_type": "stream",
     "text": [
      "\r",
      "Validating:  25%|██████████████████▎                                                      | 1/4 [00:00<00:00,  4.08it/s]"
     ]
    },
    {
     "name": "stdout",
     "output_type": "stream",
     "text": [
      "\u001b[A"
     ]
    },
    {
     "name": "stdout",
     "output_type": "stream",
     "text": [
      "\r",
      "Epoch 19: 100%|███████████████████████████████████████████████████| 19/19 [00:00<00:00, 28.70it/s, loss=0.781, v_num=84]"
     ]
    },
    {
     "name": "stdout",
     "output_type": "stream",
     "text": [
      "\n"
     ]
    },
    {
     "name": "stdout",
     "output_type": "stream",
     "text": [
      "\r",
      "                                                                                                                        "
     ]
    },
    {
     "name": "stdout",
     "output_type": "stream",
     "text": [
      "\u001b[A"
     ]
    },
    {
     "name": "stdout",
     "output_type": "stream",
     "text": [
      "\r",
      "Epoch 19:   0%|                                                 | 0/19 [00:00<00:00, 27413.75it/s, loss=0.781, v_num=84]"
     ]
    },
    {
     "name": "stdout",
     "output_type": "stream",
     "text": [
      "\r",
      "Epoch 20:   0%|                                                  | 0/19 [00:00<00:00, 1034.10it/s, loss=0.781, v_num=84]"
     ]
    },
    {
     "name": "stdout",
     "output_type": "stream",
     "text": [
      "\r",
      "Epoch 20:   5%|██▋                                                 | 1/19 [00:00<00:02,  6.48it/s, loss=0.789, v_num=84]"
     ]
    },
    {
     "name": "stdout",
     "output_type": "stream",
     "text": [
      "\r",
      "Epoch 20:  11%|█████▌                                               | 2/19 [00:00<00:01,  9.44it/s, loss=0.79, v_num=84]"
     ]
    },
    {
     "name": "stdout",
     "output_type": "stream",
     "text": [
      "\r",
      "Epoch 20:  16%|████████▎                                            | 3/19 [00:00<00:01, 12.34it/s, loss=0.79, v_num=84]"
     ]
    },
    {
     "name": "stdout",
     "output_type": "stream",
     "text": [
      "\r",
      "Epoch 20:  21%|██████████▉                                         | 4/19 [00:00<00:00, 15.19it/s, loss=0.795, v_num=84]"
     ]
    },
    {
     "name": "stdout",
     "output_type": "stream",
     "text": [
      "\r",
      "Epoch 20:  26%|█████████████▋                                      | 5/19 [00:00<00:00, 17.88it/s, loss=0.795, v_num=84]"
     ]
    },
    {
     "name": "stdout",
     "output_type": "stream",
     "text": [
      "\r",
      "Epoch 20:  32%|████████████████▍                                   | 6/19 [00:00<00:00, 20.50it/s, loss=0.795, v_num=84]"
     ]
    },
    {
     "name": "stdout",
     "output_type": "stream",
     "text": [
      "\r",
      "Epoch 20:  37%|███████████████████▏                                | 7/19 [00:00<00:00, 22.99it/s, loss=0.797, v_num=84]"
     ]
    },
    {
     "name": "stdout",
     "output_type": "stream",
     "text": [
      "\r",
      "Epoch 20:  42%|█████████████████████▉                              | 8/19 [00:00<00:00, 25.35it/s, loss=0.797, v_num=84]"
     ]
    },
    {
     "name": "stdout",
     "output_type": "stream",
     "text": [
      "\r",
      "Epoch 20:  47%|████████████████████████▋                           | 9/19 [00:00<00:00, 27.67it/s, loss=0.793, v_num=84]"
     ]
    },
    {
     "name": "stdout",
     "output_type": "stream",
     "text": [
      "\r",
      "Epoch 20:  53%|██████████████████████████▊                        | 10/19 [00:00<00:00, 29.52it/s, loss=0.797, v_num=84]"
     ]
    },
    {
     "name": "stdout",
     "output_type": "stream",
     "text": [
      "\r",
      "Epoch 20:  58%|█████████████████████████████▌                     | 11/19 [00:00<00:00, 31.58it/s, loss=0.789, v_num=84]"
     ]
    },
    {
     "name": "stdout",
     "output_type": "stream",
     "text": [
      "\r",
      "Epoch 20:  63%|████████████████████████████████▏                  | 12/19 [00:00<00:00, 33.69it/s, loss=0.786, v_num=84]"
     ]
    },
    {
     "name": "stdout",
     "output_type": "stream",
     "text": [
      "\r",
      "Epoch 20:  68%|██████████████████████████████████▉                | 13/19 [00:00<00:00, 35.72it/s, loss=0.786, v_num=84]"
     ]
    },
    {
     "name": "stdout",
     "output_type": "stream",
     "text": [
      "\r",
      "Epoch 20:  74%|█████████████████████████████████████▌             | 14/19 [00:00<00:00, 37.68it/s, loss=0.786, v_num=84]"
     ]
    },
    {
     "name": "stdout",
     "output_type": "stream",
     "text": [
      "\r",
      "Epoch 20:  74%|█████████████████████████████████████▌             | 14/19 [00:00<00:00, 37.57it/s, loss=0.784, v_num=84]"
     ]
    },
    {
     "name": "stdout",
     "output_type": "stream",
     "text": [
      "\r",
      "Epoch 20:  79%|████████████████████████████████████████▎          | 15/19 [00:00<00:00, 37.04it/s, loss=0.778, v_num=84]"
     ]
    },
    {
     "name": "stdout",
     "output_type": "stream",
     "text": [
      "\n"
     ]
    },
    {
     "name": "stdout",
     "output_type": "stream",
     "text": [
      "\r",
      "Validating: 0it [00:00, ?it/s]"
     ]
    },
    {
     "name": "stdout",
     "output_type": "stream",
     "text": [
      "\u001b[A"
     ]
    },
    {
     "name": "stdout",
     "output_type": "stream",
     "text": [
      "\n"
     ]
    },
    {
     "name": "stdout",
     "output_type": "stream",
     "text": [
      "\r",
      "Validating:   0%|                                                                                 | 0/4 [00:00<?, ?it/s]"
     ]
    },
    {
     "name": "stdout",
     "output_type": "stream",
     "text": [
      "\u001b[A"
     ]
    },
    {
     "name": "stdout",
     "output_type": "stream",
     "text": [
      "\n"
     ]
    },
    {
     "name": "stdout",
     "output_type": "stream",
     "text": [
      "\r",
      "Validating:  25%|██████████████████▎                                                      | 1/4 [00:00<00:00,  4.35it/s]"
     ]
    },
    {
     "name": "stdout",
     "output_type": "stream",
     "text": [
      "\u001b[A"
     ]
    },
    {
     "name": "stdout",
     "output_type": "stream",
     "text": [
      "\r",
      "Epoch 20: 100%|███████████████████████████████████████████████████| 19/19 [00:00<00:00, 28.12it/s, loss=0.778, v_num=84]"
     ]
    },
    {
     "name": "stdout",
     "output_type": "stream",
     "text": [
      "\n"
     ]
    },
    {
     "name": "stdout",
     "output_type": "stream",
     "text": [
      "\r",
      "                                                                                                                        "
     ]
    },
    {
     "name": "stdout",
     "output_type": "stream",
     "text": [
      "\u001b[A"
     ]
    },
    {
     "name": "stdout",
     "output_type": "stream",
     "text": [
      "\r",
      "Epoch 20:   0%|                                                 | 0/19 [00:00<00:00, 15196.75it/s, loss=0.778, v_num=84]"
     ]
    },
    {
     "name": "stdout",
     "output_type": "stream",
     "text": [
      "\r",
      "Epoch 21:   0%|                                                  | 0/19 [00:00<00:00, 1037.94it/s, loss=0.778, v_num=84]"
     ]
    },
    {
     "name": "stdout",
     "output_type": "stream",
     "text": [
      "\r",
      "Epoch 21:   5%|██▋                                                 | 1/19 [00:00<00:02,  6.06it/s, loss=0.786, v_num=84]"
     ]
    },
    {
     "name": "stdout",
     "output_type": "stream",
     "text": [
      "\r",
      "Epoch 21:  11%|█████▍                                              | 2/19 [00:00<00:01,  8.87it/s, loss=0.787, v_num=84]"
     ]
    },
    {
     "name": "stdout",
     "output_type": "stream",
     "text": [
      "\r",
      "Epoch 21:  16%|████████▏                                           | 3/19 [00:00<00:01, 11.64it/s, loss=0.787, v_num=84]"
     ]
    },
    {
     "name": "stdout",
     "output_type": "stream",
     "text": [
      "\r",
      "Epoch 21:  21%|██████████▉                                         | 4/19 [00:00<00:01, 14.33it/s, loss=0.792, v_num=84]"
     ]
    },
    {
     "name": "stdout",
     "output_type": "stream",
     "text": [
      "\r",
      "Epoch 21:  26%|█████████████▋                                      | 5/19 [00:00<00:00, 16.93it/s, loss=0.793, v_num=84]"
     ]
    },
    {
     "name": "stdout",
     "output_type": "stream",
     "text": [
      "\r",
      "Epoch 21:  32%|████████████████▍                                   | 6/19 [00:00<00:00, 19.43it/s, loss=0.792, v_num=84]"
     ]
    },
    {
     "name": "stdout",
     "output_type": "stream",
     "text": [
      "\r",
      "Epoch 21:  37%|███████████████████▏                                | 7/19 [00:00<00:00, 21.59it/s, loss=0.794, v_num=84]"
     ]
    },
    {
     "name": "stdout",
     "output_type": "stream",
     "text": [
      "\r",
      "Epoch 21:  42%|█████████████████████▉                              | 8/19 [00:00<00:00, 23.87it/s, loss=0.794, v_num=84]"
     ]
    },
    {
     "name": "stdout",
     "output_type": "stream",
     "text": [
      "\r",
      "Epoch 21:  47%|█████████████████████████                            | 9/19 [00:00<00:00, 26.11it/s, loss=0.79, v_num=84]"
     ]
    },
    {
     "name": "stdout",
     "output_type": "stream",
     "text": [
      "\r",
      "Epoch 21:  53%|██████████████████████████▊                        | 10/19 [00:00<00:00, 28.27it/s, loss=0.794, v_num=84]"
     ]
    },
    {
     "name": "stdout",
     "output_type": "stream",
     "text": [
      "\r",
      "Epoch 21:  58%|█████████████████████████████▌                     | 11/19 [00:00<00:00, 30.41it/s, loss=0.786, v_num=84]"
     ]
    },
    {
     "name": "stdout",
     "output_type": "stream",
     "text": [
      "\r",
      "Epoch 21:  63%|████████████████████████████████▏                  | 12/19 [00:00<00:00, 32.50it/s, loss=0.783, v_num=84]"
     ]
    },
    {
     "name": "stdout",
     "output_type": "stream",
     "text": [
      "\r",
      "Epoch 21:  68%|██████████████████████████████████▉                | 13/19 [00:00<00:00, 34.38it/s, loss=0.783, v_num=84]"
     ]
    },
    {
     "name": "stdout",
     "output_type": "stream",
     "text": [
      "\r",
      "Epoch 21:  74%|█████████████████████████████████████▌             | 14/19 [00:00<00:00, 36.33it/s, loss=0.783, v_num=84]"
     ]
    },
    {
     "name": "stdout",
     "output_type": "stream",
     "text": [
      "\r",
      "Epoch 21:  74%|█████████████████████████████████████▌             | 14/19 [00:00<00:00, 36.21it/s, loss=0.781, v_num=84]"
     ]
    },
    {
     "name": "stdout",
     "output_type": "stream",
     "text": [
      "\r",
      "Epoch 21:  79%|████████████████████████████████████████▎          | 15/19 [00:00<00:00, 35.49it/s, loss=0.776, v_num=84]"
     ]
    },
    {
     "name": "stdout",
     "output_type": "stream",
     "text": [
      "\n"
     ]
    },
    {
     "name": "stdout",
     "output_type": "stream",
     "text": [
      "\r",
      "Validating: 0it [00:00, ?it/s]"
     ]
    },
    {
     "name": "stdout",
     "output_type": "stream",
     "text": [
      "\u001b[A"
     ]
    },
    {
     "name": "stdout",
     "output_type": "stream",
     "text": [
      "\n"
     ]
    },
    {
     "name": "stdout",
     "output_type": "stream",
     "text": [
      "\r",
      "Validating:   0%|                                                                                 | 0/4 [00:00<?, ?it/s]"
     ]
    },
    {
     "name": "stdout",
     "output_type": "stream",
     "text": [
      "\u001b[A"
     ]
    },
    {
     "name": "stdout",
     "output_type": "stream",
     "text": [
      "\n"
     ]
    },
    {
     "name": "stdout",
     "output_type": "stream",
     "text": [
      "\r",
      "Validating:  25%|██████████████████▎                                                      | 1/4 [00:00<00:00,  4.24it/s]"
     ]
    },
    {
     "name": "stdout",
     "output_type": "stream",
     "text": [
      "\u001b[A"
     ]
    },
    {
     "name": "stdout",
     "output_type": "stream",
     "text": [
      "\r",
      "Epoch 21: 100%|███████████████████████████████████████████████████| 19/19 [00:00<00:00, 27.26it/s, loss=0.776, v_num=84]"
     ]
    },
    {
     "name": "stdout",
     "output_type": "stream",
     "text": [
      "\n"
     ]
    },
    {
     "name": "stdout",
     "output_type": "stream",
     "text": [
      "\r",
      "                                                                                                                        "
     ]
    },
    {
     "name": "stdout",
     "output_type": "stream",
     "text": [
      "\u001b[A"
     ]
    },
    {
     "name": "stdout",
     "output_type": "stream",
     "text": [
      "\r",
      "Epoch 21:   0%|                                                 | 0/19 [00:00<00:00, 24966.10it/s, loss=0.776, v_num=84]"
     ]
    },
    {
     "name": "stdout",
     "output_type": "stream",
     "text": [
      "\r",
      "Epoch 22:   0%|                                                   | 0/19 [00:00<00:00, 845.63it/s, loss=0.776, v_num=84]"
     ]
    },
    {
     "name": "stdout",
     "output_type": "stream",
     "text": [
      "\r",
      "Epoch 22:   5%|██▋                                                 | 1/19 [00:00<00:02,  6.32it/s, loss=0.784, v_num=84]"
     ]
    },
    {
     "name": "stdout",
     "output_type": "stream",
     "text": [
      "\r",
      "Epoch 22:  11%|█████▍                                              | 2/19 [00:00<00:01,  9.22it/s, loss=0.784, v_num=84]"
     ]
    },
    {
     "name": "stdout",
     "output_type": "stream",
     "text": [
      "\r",
      "Epoch 22:  16%|████████▏                                           | 3/19 [00:00<00:01, 12.06it/s, loss=0.784, v_num=84]"
     ]
    },
    {
     "name": "stdout",
     "output_type": "stream",
     "text": [
      "\r",
      "Epoch 22:  21%|██████████▉                                         | 4/19 [00:00<00:01, 14.71it/s, loss=0.789, v_num=84]"
     ]
    },
    {
     "name": "stdout",
     "output_type": "stream",
     "text": [
      "\r",
      "Epoch 22:  26%|█████████████▉                                       | 5/19 [00:00<00:00, 17.31it/s, loss=0.79, v_num=84]"
     ]
    },
    {
     "name": "stdout",
     "output_type": "stream",
     "text": [
      "\r",
      "Epoch 22:  32%|████████████████▋                                    | 6/19 [00:00<00:00, 19.86it/s, loss=0.79, v_num=84]"
     ]
    },
    {
     "name": "stdout",
     "output_type": "stream",
     "text": [
      "\r",
      "Epoch 22:  37%|███████████████████▏                                | 7/19 [00:00<00:00, 22.28it/s, loss=0.792, v_num=84]"
     ]
    },
    {
     "name": "stdout",
     "output_type": "stream",
     "text": [
      "\r",
      "Epoch 22:  42%|█████████████████████▉                              | 8/19 [00:00<00:00, 24.58it/s, loss=0.792, v_num=84]"
     ]
    },
    {
     "name": "stdout",
     "output_type": "stream",
     "text": [
      "\r",
      "Epoch 22:  47%|████████████████████████▋                           | 9/19 [00:00<00:00, 26.75it/s, loss=0.788, v_num=84]"
     ]
    },
    {
     "name": "stdout",
     "output_type": "stream",
     "text": [
      "\r",
      "Epoch 22:  53%|██████████████████████████▊                        | 10/19 [00:00<00:00, 28.93it/s, loss=0.792, v_num=84]"
     ]
    },
    {
     "name": "stdout",
     "output_type": "stream",
     "text": [
      "\r",
      "Epoch 22:  58%|█████████████████████████████▌                     | 11/19 [00:00<00:00, 30.97it/s, loss=0.784, v_num=84]"
     ]
    },
    {
     "name": "stdout",
     "output_type": "stream",
     "text": [
      "\r",
      "Epoch 22:  63%|████████████████████████████████▏                  | 12/19 [00:00<00:00, 33.04it/s, loss=0.781, v_num=84]"
     ]
    },
    {
     "name": "stdout",
     "output_type": "stream",
     "text": [
      "\r",
      "Epoch 22:  68%|██████████████████████████████████▉                | 13/19 [00:00<00:00, 34.82it/s, loss=0.781, v_num=84]"
     ]
    },
    {
     "name": "stdout",
     "output_type": "stream",
     "text": [
      "\r",
      "Epoch 22:  74%|█████████████████████████████████████▌             | 14/19 [00:00<00:00, 36.68it/s, loss=0.781, v_num=84]"
     ]
    },
    {
     "name": "stdout",
     "output_type": "stream",
     "text": [
      "\r",
      "Epoch 22:  74%|█████████████████████████████████████▌             | 14/19 [00:00<00:00, 36.51it/s, loss=0.779, v_num=84]"
     ]
    },
    {
     "name": "stdout",
     "output_type": "stream",
     "text": [
      "\r",
      "Epoch 22:  79%|████████████████████████████████████████▎          | 15/19 [00:00<00:00, 35.10it/s, loss=0.774, v_num=84]"
     ]
    },
    {
     "name": "stdout",
     "output_type": "stream",
     "text": [
      "\n"
     ]
    },
    {
     "name": "stdout",
     "output_type": "stream",
     "text": [
      "\r",
      "Validating: 0it [00:00, ?it/s]"
     ]
    },
    {
     "name": "stdout",
     "output_type": "stream",
     "text": [
      "\u001b[A"
     ]
    },
    {
     "name": "stdout",
     "output_type": "stream",
     "text": [
      "\n"
     ]
    },
    {
     "name": "stdout",
     "output_type": "stream",
     "text": [
      "\r",
      "Validating:   0%|                                                                                 | 0/4 [00:00<?, ?it/s]"
     ]
    },
    {
     "name": "stdout",
     "output_type": "stream",
     "text": [
      "\u001b[A"
     ]
    },
    {
     "name": "stdout",
     "output_type": "stream",
     "text": [
      "\n"
     ]
    },
    {
     "name": "stdout",
     "output_type": "stream",
     "text": [
      "\r",
      "Validating:  25%|██████████████████▎                                                      | 1/4 [00:00<00:00,  4.26it/s]"
     ]
    },
    {
     "name": "stdout",
     "output_type": "stream",
     "text": [
      "\u001b[A"
     ]
    },
    {
     "name": "stdout",
     "output_type": "stream",
     "text": [
      "\r",
      "Epoch 22: 100%|███████████████████████████████████████████████████| 19/19 [00:00<00:00, 27.05it/s, loss=0.774, v_num=84]"
     ]
    },
    {
     "name": "stdout",
     "output_type": "stream",
     "text": [
      "\n"
     ]
    },
    {
     "name": "stdout",
     "output_type": "stream",
     "text": [
      "\r",
      "                                                                                                                        "
     ]
    },
    {
     "name": "stdout",
     "output_type": "stream",
     "text": [
      "\u001b[A"
     ]
    },
    {
     "name": "stdout",
     "output_type": "stream",
     "text": [
      "\r",
      "Epoch 22:   0%|                                                 | 0/19 [00:00<00:00, 27060.03it/s, loss=0.774, v_num=84]"
     ]
    },
    {
     "name": "stdout",
     "output_type": "stream",
     "text": [
      "\r",
      "Epoch 23:   0%|                                                  | 0/19 [00:00<00:00, 1114.02it/s, loss=0.774, v_num=84]"
     ]
    },
    {
     "name": "stdout",
     "output_type": "stream",
     "text": [
      "\r",
      "Epoch 23:   5%|██▋                                                 | 1/19 [00:00<00:03,  5.91it/s, loss=0.782, v_num=84]"
     ]
    },
    {
     "name": "stdout",
     "output_type": "stream",
     "text": [
      "\r",
      "Epoch 23:  11%|█████▍                                              | 2/19 [00:00<00:01,  8.59it/s, loss=0.782, v_num=84]"
     ]
    },
    {
     "name": "stdout",
     "output_type": "stream",
     "text": [
      "\r",
      "Epoch 23:  16%|████████▏                                           | 3/19 [00:00<00:01, 11.25it/s, loss=0.782, v_num=84]"
     ]
    },
    {
     "name": "stdout",
     "output_type": "stream",
     "text": [
      "\r",
      "Epoch 23:  21%|██████████▉                                         | 4/19 [00:00<00:01, 13.79it/s, loss=0.787, v_num=84]"
     ]
    },
    {
     "name": "stdout",
     "output_type": "stream",
     "text": [
      "\r",
      "Epoch 23:  26%|█████████████▋                                      | 5/19 [00:00<00:00, 16.29it/s, loss=0.788, v_num=84]"
     ]
    },
    {
     "name": "stdout",
     "output_type": "stream",
     "text": [
      "\r",
      "Epoch 23:  32%|████████████████▍                                   | 6/19 [00:00<00:00, 18.50it/s, loss=0.788, v_num=84]"
     ]
    },
    {
     "name": "stdout",
     "output_type": "stream",
     "text": [
      "\r",
      "Epoch 23:  37%|███████████████████▌                                 | 7/19 [00:00<00:00, 20.84it/s, loss=0.79, v_num=84]"
     ]
    },
    {
     "name": "stdout",
     "output_type": "stream",
     "text": [
      "\r",
      "Epoch 23:  42%|██████████████████████▎                              | 8/19 [00:00<00:00, 23.06it/s, loss=0.79, v_num=84]"
     ]
    },
    {
     "name": "stdout",
     "output_type": "stream",
     "text": [
      "\r",
      "Epoch 23:  47%|████████████████████████▋                           | 9/19 [00:00<00:00, 25.24it/s, loss=0.786, v_num=84]"
     ]
    },
    {
     "name": "stdout",
     "output_type": "stream",
     "text": [
      "\r",
      "Epoch 23:  53%|███████████████████████████▎                        | 10/19 [00:00<00:00, 27.41it/s, loss=0.79, v_num=84]"
     ]
    },
    {
     "name": "stdout",
     "output_type": "stream",
     "text": [
      "\r",
      "Epoch 23:  58%|█████████████████████████████▌                     | 11/19 [00:00<00:00, 29.33it/s, loss=0.782, v_num=84]"
     ]
    },
    {
     "name": "stdout",
     "output_type": "stream",
     "text": [
      "\r",
      "Epoch 23:  63%|████████████████████████████████▏                  | 12/19 [00:00<00:00, 31.29it/s, loss=0.779, v_num=84]"
     ]
    },
    {
     "name": "stdout",
     "output_type": "stream",
     "text": [
      "\r",
      "Epoch 23:  68%|██████████████████████████████████▉                | 13/19 [00:00<00:00, 33.14it/s, loss=0.779, v_num=84]"
     ]
    },
    {
     "name": "stdout",
     "output_type": "stream",
     "text": [
      "\r",
      "Epoch 23:  74%|█████████████████████████████████████▌             | 14/19 [00:00<00:00, 35.13it/s, loss=0.779, v_num=84]"
     ]
    },
    {
     "name": "stdout",
     "output_type": "stream",
     "text": [
      "\r",
      "Epoch 23:  74%|█████████████████████████████████████▌             | 14/19 [00:00<00:00, 35.05it/s, loss=0.777, v_num=84]"
     ]
    },
    {
     "name": "stdout",
     "output_type": "stream",
     "text": [
      "\r",
      "Epoch 23:  79%|████████████████████████████████████████▎          | 15/19 [00:00<00:00, 34.82it/s, loss=0.772, v_num=84]"
     ]
    },
    {
     "name": "stdout",
     "output_type": "stream",
     "text": [
      "\n"
     ]
    },
    {
     "name": "stdout",
     "output_type": "stream",
     "text": [
      "\r",
      "Validating: 0it [00:00, ?it/s]"
     ]
    },
    {
     "name": "stdout",
     "output_type": "stream",
     "text": [
      "\u001b[A"
     ]
    },
    {
     "name": "stdout",
     "output_type": "stream",
     "text": [
      "\n"
     ]
    },
    {
     "name": "stdout",
     "output_type": "stream",
     "text": [
      "\r",
      "Validating:   0%|                                                                                 | 0/4 [00:00<?, ?it/s]"
     ]
    },
    {
     "name": "stdout",
     "output_type": "stream",
     "text": [
      "\u001b[A"
     ]
    },
    {
     "name": "stdout",
     "output_type": "stream",
     "text": [
      "\n"
     ]
    },
    {
     "name": "stdout",
     "output_type": "stream",
     "text": [
      "\r",
      "Validating:  25%|██████████████████▎                                                      | 1/4 [00:00<00:00,  4.55it/s]"
     ]
    },
    {
     "name": "stdout",
     "output_type": "stream",
     "text": [
      "\u001b[A"
     ]
    },
    {
     "name": "stdout",
     "output_type": "stream",
     "text": [
      "\r",
      "Epoch 23: 100%|███████████████████████████████████████████████████| 19/19 [00:00<00:00, 27.52it/s, loss=0.772, v_num=84]"
     ]
    },
    {
     "name": "stdout",
     "output_type": "stream",
     "text": [
      "\n"
     ]
    },
    {
     "name": "stdout",
     "output_type": "stream",
     "text": [
      "\r",
      "                                                                                                                        "
     ]
    },
    {
     "name": "stdout",
     "output_type": "stream",
     "text": [
      "\u001b[A"
     ]
    },
    {
     "name": "stdout",
     "output_type": "stream",
     "text": [
      "\r",
      "Epoch 23:   0%|                                                 | 0/19 [00:00<00:00, 26379.27it/s, loss=0.772, v_num=84]"
     ]
    },
    {
     "name": "stdout",
     "output_type": "stream",
     "text": [
      "\r",
      "Epoch 24:   0%|                                                  | 0/19 [00:00<00:00, 1065.90it/s, loss=0.772, v_num=84]"
     ]
    },
    {
     "name": "stdout",
     "output_type": "stream",
     "text": [
      "\r",
      "Epoch 24:   5%|██▊                                                  | 1/19 [00:00<00:02,  6.35it/s, loss=0.78, v_num=84]"
     ]
    },
    {
     "name": "stdout",
     "output_type": "stream",
     "text": [
      "\r",
      "Epoch 24:  11%|█████▌                                               | 2/19 [00:00<00:01,  9.25it/s, loss=0.78, v_num=84]"
     ]
    },
    {
     "name": "stdout",
     "output_type": "stream",
     "text": [
      "\r",
      "Epoch 24:  16%|████████▎                                            | 3/19 [00:00<00:01, 12.05it/s, loss=0.78, v_num=84]"
     ]
    },
    {
     "name": "stdout",
     "output_type": "stream",
     "text": [
      "\r",
      "Epoch 24:  21%|██████████▉                                         | 4/19 [00:00<00:01, 14.74it/s, loss=0.785, v_num=84]"
     ]
    },
    {
     "name": "stdout",
     "output_type": "stream",
     "text": [
      "\r",
      "Epoch 24:  26%|█████████████▋                                      | 5/19 [00:00<00:00, 17.28it/s, loss=0.786, v_num=84]"
     ]
    },
    {
     "name": "stdout",
     "output_type": "stream",
     "text": [
      "\r",
      "Epoch 24:  32%|████████████████▍                                   | 6/19 [00:00<00:00, 19.50it/s, loss=0.786, v_num=84]"
     ]
    },
    {
     "name": "stdout",
     "output_type": "stream",
     "text": [
      "\r",
      "Epoch 24:  37%|███████████████████▏                                | 7/19 [00:00<00:00, 21.86it/s, loss=0.789, v_num=84]"
     ]
    },
    {
     "name": "stdout",
     "output_type": "stream",
     "text": [
      "\r",
      "Epoch 24:  42%|█████████████████████▉                              | 8/19 [00:00<00:00, 24.13it/s, loss=0.788, v_num=84]"
     ]
    },
    {
     "name": "stdout",
     "output_type": "stream",
     "text": [
      "\r",
      "Epoch 24:  47%|████████████████████████▋                           | 9/19 [00:00<00:00, 26.28it/s, loss=0.784, v_num=84]"
     ]
    },
    {
     "name": "stdout",
     "output_type": "stream",
     "text": [
      "\r",
      "Epoch 24:  53%|██████████████████████████▊                        | 10/19 [00:00<00:00, 28.36it/s, loss=0.788, v_num=84]"
     ]
    },
    {
     "name": "stdout",
     "output_type": "stream",
     "text": [
      "\r",
      "Epoch 24:  58%|██████████████████████████████                      | 11/19 [00:00<00:00, 30.42it/s, loss=0.78, v_num=84]"
     ]
    },
    {
     "name": "stdout",
     "output_type": "stream",
     "text": [
      "\r",
      "Epoch 24:  63%|████████████████████████████████▏                  | 12/19 [00:00<00:00, 32.21it/s, loss=0.777, v_num=84]"
     ]
    },
    {
     "name": "stdout",
     "output_type": "stream",
     "text": [
      "\r",
      "Epoch 24:  68%|██████████████████████████████████▉                | 13/19 [00:00<00:00, 33.90it/s, loss=0.777, v_num=84]"
     ]
    },
    {
     "name": "stdout",
     "output_type": "stream",
     "text": [
      "\r",
      "Epoch 24:  74%|█████████████████████████████████████▌             | 14/19 [00:00<00:00, 35.68it/s, loss=0.777, v_num=84]"
     ]
    },
    {
     "name": "stdout",
     "output_type": "stream",
     "text": [
      "\r",
      "Epoch 24:  74%|█████████████████████████████████████▌             | 14/19 [00:00<00:00, 35.57it/s, loss=0.776, v_num=84]"
     ]
    },
    {
     "name": "stdout",
     "output_type": "stream",
     "text": [
      "\r",
      "Epoch 24:  79%|████████████████████████████████████████▎          | 15/19 [00:00<00:00, 35.17it/s, loss=0.771, v_num=84]"
     ]
    },
    {
     "name": "stdout",
     "output_type": "stream",
     "text": [
      "\n"
     ]
    },
    {
     "name": "stdout",
     "output_type": "stream",
     "text": [
      "\r",
      "Validating: 0it [00:00, ?it/s]"
     ]
    },
    {
     "name": "stdout",
     "output_type": "stream",
     "text": [
      "\u001b[A"
     ]
    },
    {
     "name": "stdout",
     "output_type": "stream",
     "text": [
      "\n"
     ]
    },
    {
     "name": "stdout",
     "output_type": "stream",
     "text": [
      "\r",
      "Validating:   0%|                                                                                 | 0/4 [00:00<?, ?it/s]"
     ]
    },
    {
     "name": "stdout",
     "output_type": "stream",
     "text": [
      "\u001b[A"
     ]
    },
    {
     "name": "stdout",
     "output_type": "stream",
     "text": [
      "\n"
     ]
    },
    {
     "name": "stdout",
     "output_type": "stream",
     "text": [
      "\r",
      "Validating:  25%|██████████████████▎                                                      | 1/4 [00:00<00:00,  3.91it/s]"
     ]
    },
    {
     "name": "stdout",
     "output_type": "stream",
     "text": [
      "\u001b[A"
     ]
    },
    {
     "name": "stdout",
     "output_type": "stream",
     "text": [
      "\r",
      "Epoch 24: 100%|███████████████████████████████████████████████████| 19/19 [00:00<00:00, 26.27it/s, loss=0.771, v_num=84]"
     ]
    },
    {
     "name": "stdout",
     "output_type": "stream",
     "text": [
      "\n"
     ]
    },
    {
     "name": "stdout",
     "output_type": "stream",
     "text": [
      "\r",
      "                                                                                                                        "
     ]
    },
    {
     "name": "stdout",
     "output_type": "stream",
     "text": [
      "\u001b[A"
     ]
    },
    {
     "name": "stdout",
     "output_type": "stream",
     "text": [
      "\r",
      "Epoch 24:   0%|                                                 | 0/19 [00:00<00:00, 24385.49it/s, loss=0.771, v_num=84]"
     ]
    },
    {
     "name": "stdout",
     "output_type": "stream",
     "text": [
      "\r",
      "Epoch 25:   0%|                                                   | 0/19 [00:00<00:00, 836.02it/s, loss=0.771, v_num=84]"
     ]
    },
    {
     "name": "stdout",
     "output_type": "stream",
     "text": [
      "\r",
      "Epoch 25:   5%|██▋                                                 | 1/19 [00:00<00:02,  6.72it/s, loss=0.778, v_num=84]"
     ]
    },
    {
     "name": "stdout",
     "output_type": "stream",
     "text": [
      "\r",
      "Epoch 25:  11%|█████▍                                              | 2/19 [00:00<00:01,  9.80it/s, loss=0.778, v_num=84]"
     ]
    },
    {
     "name": "stdout",
     "output_type": "stream",
     "text": [
      "\r",
      "Epoch 25:  16%|████████▏                                           | 3/19 [00:00<00:01, 12.80it/s, loss=0.778, v_num=84]"
     ]
    },
    {
     "name": "stdout",
     "output_type": "stream",
     "text": [
      "\r",
      "Epoch 25:  21%|██████████▉                                         | 4/19 [00:00<00:00, 15.69it/s, loss=0.784, v_num=84]"
     ]
    },
    {
     "name": "stdout",
     "output_type": "stream",
     "text": [
      "\r",
      "Epoch 25:  26%|█████████████▋                                      | 5/19 [00:00<00:00, 18.51it/s, loss=0.785, v_num=84]"
     ]
    },
    {
     "name": "stdout",
     "output_type": "stream",
     "text": [
      "\r",
      "Epoch 25:  32%|████████████████▍                                   | 6/19 [00:00<00:00, 21.13it/s, loss=0.785, v_num=84]"
     ]
    },
    {
     "name": "stdout",
     "output_type": "stream",
     "text": [
      "\r",
      "Epoch 25:  37%|███████████████████▏                                | 7/19 [00:00<00:00, 23.71it/s, loss=0.787, v_num=84]"
     ]
    },
    {
     "name": "stdout",
     "output_type": "stream",
     "text": [
      "\r",
      "Epoch 25:  42%|█████████████████████▉                              | 8/19 [00:00<00:00, 26.19it/s, loss=0.787, v_num=84]"
     ]
    },
    {
     "name": "stdout",
     "output_type": "stream",
     "text": [
      "\r",
      "Epoch 25:  47%|████████████████████████▋                           | 9/19 [00:00<00:00, 28.58it/s, loss=0.783, v_num=84]"
     ]
    },
    {
     "name": "stdout",
     "output_type": "stream",
     "text": [
      "\r",
      "Epoch 25:  53%|██████████████████████████▊                        | 10/19 [00:00<00:00, 30.96it/s, loss=0.787, v_num=84]"
     ]
    },
    {
     "name": "stdout",
     "output_type": "stream",
     "text": [
      "\r",
      "Epoch 25:  58%|█████████████████████████████▌                     | 11/19 [00:00<00:00, 32.97it/s, loss=0.779, v_num=84]"
     ]
    },
    {
     "name": "stdout",
     "output_type": "stream",
     "text": [
      "\r",
      "Epoch 25:  63%|████████████████████████████████▏                  | 12/19 [00:00<00:00, 35.17it/s, loss=0.776, v_num=84]"
     ]
    },
    {
     "name": "stdout",
     "output_type": "stream",
     "text": [
      "\r",
      "Epoch 25:  68%|██████████████████████████████████▉                | 13/19 [00:00<00:00, 37.26it/s, loss=0.776, v_num=84]"
     ]
    },
    {
     "name": "stdout",
     "output_type": "stream",
     "text": [
      "\r",
      "Epoch 25:  74%|█████████████████████████████████████▌             | 14/19 [00:00<00:00, 39.29it/s, loss=0.776, v_num=84]"
     ]
    },
    {
     "name": "stdout",
     "output_type": "stream",
     "text": [
      "\r",
      "Epoch 25:  74%|█████████████████████████████████████▌             | 14/19 [00:00<00:00, 39.14it/s, loss=0.774, v_num=84]"
     ]
    },
    {
     "name": "stdout",
     "output_type": "stream",
     "text": [
      "\r",
      "Epoch 25:  79%|████████████████████████████████████████▎          | 15/19 [00:00<00:00, 37.85it/s, loss=0.769, v_num=84]"
     ]
    },
    {
     "name": "stdout",
     "output_type": "stream",
     "text": [
      "\n"
     ]
    },
    {
     "name": "stdout",
     "output_type": "stream",
     "text": [
      "\r",
      "Validating: 0it [00:00, ?it/s]"
     ]
    },
    {
     "name": "stdout",
     "output_type": "stream",
     "text": [
      "\u001b[A"
     ]
    },
    {
     "name": "stdout",
     "output_type": "stream",
     "text": [
      "\n"
     ]
    },
    {
     "name": "stdout",
     "output_type": "stream",
     "text": [
      "\r",
      "Validating:   0%|                                                                                 | 0/4 [00:00<?, ?it/s]"
     ]
    },
    {
     "name": "stdout",
     "output_type": "stream",
     "text": [
      "\u001b[A"
     ]
    },
    {
     "name": "stdout",
     "output_type": "stream",
     "text": [
      "\n"
     ]
    },
    {
     "name": "stdout",
     "output_type": "stream",
     "text": [
      "\r",
      "Validating:  25%|██████████████████▎                                                      | 1/4 [00:00<00:00,  3.80it/s]"
     ]
    },
    {
     "name": "stdout",
     "output_type": "stream",
     "text": [
      "\u001b[A"
     ]
    },
    {
     "name": "stdout",
     "output_type": "stream",
     "text": [
      "\r",
      "Epoch 25: 100%|███████████████████████████████████████████████████| 19/19 [00:00<00:00, 26.90it/s, loss=0.769, v_num=84]"
     ]
    },
    {
     "name": "stdout",
     "output_type": "stream",
     "text": [
      "\n"
     ]
    },
    {
     "name": "stdout",
     "output_type": "stream",
     "text": [
      "\r",
      "                                                                                                                        "
     ]
    },
    {
     "name": "stdout",
     "output_type": "stream",
     "text": [
      "\u001b[A"
     ]
    },
    {
     "name": "stdout",
     "output_type": "stream",
     "text": [
      "\r",
      "Epoch 25:   0%|                                                 | 0/19 [00:00<00:00, 22550.02it/s, loss=0.769, v_num=84]"
     ]
    },
    {
     "name": "stdout",
     "output_type": "stream",
     "text": [
      "\r",
      "Epoch 26:   0%|                                                   | 0/19 [00:00<00:00, 969.11it/s, loss=0.769, v_num=84]"
     ]
    },
    {
     "name": "stdout",
     "output_type": "stream",
     "text": [
      "\r",
      "Epoch 26:   5%|██▋                                                 | 1/19 [00:00<00:03,  6.00it/s, loss=0.777, v_num=84]"
     ]
    },
    {
     "name": "stdout",
     "output_type": "stream",
     "text": [
      "\r",
      "Epoch 26:  11%|█████▍                                              | 2/19 [00:00<00:01,  8.73it/s, loss=0.777, v_num=84]"
     ]
    },
    {
     "name": "stdout",
     "output_type": "stream",
     "text": [
      "\r",
      "Epoch 26:  16%|████████▏                                           | 3/19 [00:00<00:01, 11.44it/s, loss=0.777, v_num=84]"
     ]
    },
    {
     "name": "stdout",
     "output_type": "stream",
     "text": [
      "\r",
      "Epoch 26:  21%|██████████▉                                         | 4/19 [00:00<00:01, 14.01it/s, loss=0.783, v_num=84]"
     ]
    },
    {
     "name": "stdout",
     "output_type": "stream",
     "text": [
      "\r",
      "Epoch 26:  26%|█████████████▋                                      | 5/19 [00:00<00:00, 16.55it/s, loss=0.783, v_num=84]"
     ]
    },
    {
     "name": "stdout",
     "output_type": "stream",
     "text": [
      "\r",
      "Epoch 26:  32%|████████████████▍                                   | 6/19 [00:00<00:00, 18.96it/s, loss=0.783, v_num=84]"
     ]
    },
    {
     "name": "stdout",
     "output_type": "stream",
     "text": [
      "\r",
      "Epoch 26:  37%|███████████████████▏                                | 7/19 [00:00<00:00, 21.27it/s, loss=0.786, v_num=84]"
     ]
    },
    {
     "name": "stdout",
     "output_type": "stream",
     "text": [
      "\r",
      "Epoch 26:  42%|█████████████████████▉                              | 8/19 [00:00<00:00, 23.55it/s, loss=0.786, v_num=84]"
     ]
    },
    {
     "name": "stdout",
     "output_type": "stream",
     "text": [
      "\r",
      "Epoch 26:  47%|████████████████████████▋                           | 9/19 [00:00<00:00, 25.70it/s, loss=0.782, v_num=84]"
     ]
    },
    {
     "name": "stdout",
     "output_type": "stream",
     "text": [
      "\r",
      "Epoch 26:  53%|██████████████████████████▊                        | 10/19 [00:00<00:00, 27.66it/s, loss=0.785, v_num=84]"
     ]
    },
    {
     "name": "stdout",
     "output_type": "stream",
     "text": [
      "\r",
      "Epoch 26:  58%|█████████████████████████████▌                     | 11/19 [00:00<00:00, 29.36it/s, loss=0.777, v_num=84]"
     ]
    },
    {
     "name": "stdout",
     "output_type": "stream",
     "text": [
      "\r",
      "Epoch 26:  63%|████████████████████████████████▏                  | 12/19 [00:00<00:00, 31.18it/s, loss=0.775, v_num=84]"
     ]
    },
    {
     "name": "stdout",
     "output_type": "stream",
     "text": [
      "\r",
      "Epoch 26:  68%|██████████████████████████████████▉                | 13/19 [00:00<00:00, 33.09it/s, loss=0.775, v_num=84]"
     ]
    },
    {
     "name": "stdout",
     "output_type": "stream",
     "text": [
      "\r",
      "Epoch 26:  74%|█████████████████████████████████████▌             | 14/19 [00:00<00:00, 34.85it/s, loss=0.775, v_num=84]"
     ]
    },
    {
     "name": "stdout",
     "output_type": "stream",
     "text": [
      "\r",
      "Epoch 26:  74%|█████████████████████████████████████▌             | 14/19 [00:00<00:00, 34.72it/s, loss=0.773, v_num=84]"
     ]
    },
    {
     "name": "stdout",
     "output_type": "stream",
     "text": [
      "\r",
      "Epoch 26:  79%|████████████████████████████████████████▎          | 15/19 [00:00<00:00, 33.63it/s, loss=0.768, v_num=84]"
     ]
    },
    {
     "name": "stdout",
     "output_type": "stream",
     "text": [
      "\n"
     ]
    },
    {
     "name": "stdout",
     "output_type": "stream",
     "text": [
      "\r",
      "Validating: 0it [00:00, ?it/s]"
     ]
    },
    {
     "name": "stdout",
     "output_type": "stream",
     "text": [
      "\u001b[A"
     ]
    },
    {
     "name": "stdout",
     "output_type": "stream",
     "text": [
      "\n"
     ]
    },
    {
     "name": "stdout",
     "output_type": "stream",
     "text": [
      "\r",
      "Validating:   0%|                                                                                 | 0/4 [00:00<?, ?it/s]"
     ]
    },
    {
     "name": "stdout",
     "output_type": "stream",
     "text": [
      "\u001b[A"
     ]
    },
    {
     "name": "stdout",
     "output_type": "stream",
     "text": [
      "\n"
     ]
    },
    {
     "name": "stdout",
     "output_type": "stream",
     "text": [
      "\r",
      "Validating:  25%|██████████████████▎                                                      | 1/4 [00:00<00:00,  3.96it/s]"
     ]
    },
    {
     "name": "stdout",
     "output_type": "stream",
     "text": [
      "\u001b[A"
     ]
    },
    {
     "name": "stdout",
     "output_type": "stream",
     "text": [
      "\r",
      "Epoch 26: 100%|███████████████████████████████████████████████████| 19/19 [00:00<00:00, 25.79it/s, loss=0.768, v_num=84]"
     ]
    },
    {
     "name": "stdout",
     "output_type": "stream",
     "text": [
      "\n"
     ]
    },
    {
     "name": "stdout",
     "output_type": "stream",
     "text": [
      "\r",
      "                                                                                                                        "
     ]
    },
    {
     "name": "stdout",
     "output_type": "stream",
     "text": [
      "\u001b[A"
     ]
    },
    {
     "name": "stdout",
     "output_type": "stream",
     "text": [
      "\r",
      "Epoch 26:   0%|                                                 | 0/19 [00:00<00:00, 27060.03it/s, loss=0.768, v_num=84]"
     ]
    },
    {
     "name": "stdout",
     "output_type": "stream",
     "text": [
      "\r",
      "Epoch 27:   0%|                                                  | 0/19 [00:00<00:00, 1151.33it/s, loss=0.768, v_num=84]"
     ]
    },
    {
     "name": "stdout",
     "output_type": "stream",
     "text": [
      "\r",
      "Epoch 27:   5%|██▋                                                 | 1/19 [00:00<00:03,  5.42it/s, loss=0.776, v_num=84]"
     ]
    },
    {
     "name": "stdout",
     "output_type": "stream",
     "text": [
      "\r",
      "Epoch 27:  11%|█████▍                                              | 2/19 [00:00<00:02,  7.93it/s, loss=0.776, v_num=84]"
     ]
    },
    {
     "name": "stdout",
     "output_type": "stream",
     "text": [
      "\r",
      "Epoch 27:  16%|████████▏                                           | 3/19 [00:00<00:01, 10.38it/s, loss=0.776, v_num=84]"
     ]
    },
    {
     "name": "stdout",
     "output_type": "stream",
     "text": [
      "\r",
      "Epoch 27:  21%|██████████▉                                         | 4/19 [00:00<00:01, 12.80it/s, loss=0.781, v_num=84]"
     ]
    },
    {
     "name": "stdout",
     "output_type": "stream",
     "text": [
      "\r",
      "Epoch 27:  26%|█████████████▋                                      | 5/19 [00:00<00:00, 15.09it/s, loss=0.782, v_num=84]"
     ]
    },
    {
     "name": "stdout",
     "output_type": "stream",
     "text": [
      "\r",
      "Epoch 27:  32%|████████████████▍                                   | 6/19 [00:00<00:00, 17.35it/s, loss=0.782, v_num=84]"
     ]
    },
    {
     "name": "stdout",
     "output_type": "stream",
     "text": [
      "\r",
      "Epoch 27:  37%|███████████████████▏                                | 7/19 [00:00<00:00, 19.51it/s, loss=0.785, v_num=84]"
     ]
    },
    {
     "name": "stdout",
     "output_type": "stream",
     "text": [
      "\r",
      "Epoch 27:  42%|█████████████████████▉                              | 8/19 [00:00<00:00, 21.53it/s, loss=0.784, v_num=84]"
     ]
    },
    {
     "name": "stdout",
     "output_type": "stream",
     "text": [
      "\r",
      "Epoch 27:  47%|█████████████████████████                            | 9/19 [00:00<00:00, 23.59it/s, loss=0.78, v_num=84]"
     ]
    },
    {
     "name": "stdout",
     "output_type": "stream",
     "text": [
      "\r",
      "Epoch 27:  53%|██████████████████████████▊                        | 10/19 [00:00<00:00, 25.56it/s, loss=0.784, v_num=84]"
     ]
    },
    {
     "name": "stdout",
     "output_type": "stream",
     "text": [
      "\r",
      "Epoch 27:  58%|█████████████████████████████▌                     | 11/19 [00:00<00:00, 27.52it/s, loss=0.776, v_num=84]"
     ]
    },
    {
     "name": "stdout",
     "output_type": "stream",
     "text": [
      "\r",
      "Epoch 27:  63%|████████████████████████████████▏                  | 12/19 [00:00<00:00, 29.46it/s, loss=0.774, v_num=84]"
     ]
    },
    {
     "name": "stdout",
     "output_type": "stream",
     "text": [
      "\r",
      "Epoch 27:  68%|██████████████████████████████████▉                | 13/19 [00:00<00:00, 31.13it/s, loss=0.774, v_num=84]"
     ]
    },
    {
     "name": "stdout",
     "output_type": "stream",
     "text": [
      "\r",
      "Epoch 27:  74%|█████████████████████████████████████▌             | 14/19 [00:00<00:00, 32.97it/s, loss=0.774, v_num=84]"
     ]
    },
    {
     "name": "stdout",
     "output_type": "stream",
     "text": [
      "\r",
      "Epoch 27:  74%|█████████████████████████████████████▌             | 14/19 [00:00<00:00, 32.88it/s, loss=0.772, v_num=84]"
     ]
    },
    {
     "name": "stdout",
     "output_type": "stream",
     "text": [
      "\r",
      "Epoch 27:  79%|████████████████████████████████████████▎          | 15/19 [00:00<00:00, 32.41it/s, loss=0.767, v_num=84]"
     ]
    },
    {
     "name": "stdout",
     "output_type": "stream",
     "text": [
      "\n"
     ]
    },
    {
     "name": "stdout",
     "output_type": "stream",
     "text": [
      "\r",
      "Validating: 0it [00:00, ?it/s]"
     ]
    },
    {
     "name": "stdout",
     "output_type": "stream",
     "text": [
      "\u001b[A"
     ]
    },
    {
     "name": "stdout",
     "output_type": "stream",
     "text": [
      "\n"
     ]
    },
    {
     "name": "stdout",
     "output_type": "stream",
     "text": [
      "\r",
      "Validating:   0%|                                                                                 | 0/4 [00:00<?, ?it/s]"
     ]
    },
    {
     "name": "stdout",
     "output_type": "stream",
     "text": [
      "\u001b[A"
     ]
    },
    {
     "name": "stdout",
     "output_type": "stream",
     "text": [
      "\n"
     ]
    },
    {
     "name": "stdout",
     "output_type": "stream",
     "text": [
      "\r",
      "Validating:  25%|██████████████████▎                                                      | 1/4 [00:00<00:00,  3.91it/s]"
     ]
    },
    {
     "name": "stdout",
     "output_type": "stream",
     "text": [
      "\u001b[A"
     ]
    },
    {
     "name": "stdout",
     "output_type": "stream",
     "text": [
      "\r",
      "Epoch 27: 100%|███████████████████████████████████████████████████| 19/19 [00:00<00:00, 24.89it/s, loss=0.767, v_num=84]"
     ]
    },
    {
     "name": "stdout",
     "output_type": "stream",
     "text": [
      "\n"
     ]
    },
    {
     "name": "stdout",
     "output_type": "stream",
     "text": [
      "\r",
      "                                                                                                                        "
     ]
    },
    {
     "name": "stdout",
     "output_type": "stream",
     "text": [
      "\u001b[A"
     ]
    },
    {
     "name": "stdout",
     "output_type": "stream",
     "text": [
      "\r",
      "Epoch 27:   0%|                                                 | 0/19 [00:00<00:00, 20360.70it/s, loss=0.767, v_num=84]"
     ]
    },
    {
     "name": "stdout",
     "output_type": "stream",
     "text": [
      "\r",
      "Epoch 28:   0%|                                                   | 0/19 [00:00<00:00, 573.38it/s, loss=0.767, v_num=84]"
     ]
    },
    {
     "name": "stdout",
     "output_type": "stream",
     "text": [
      "\r",
      "Epoch 28:   5%|██▋                                                 | 1/19 [00:00<00:02,  6.55it/s, loss=0.775, v_num=84]"
     ]
    },
    {
     "name": "stdout",
     "output_type": "stream",
     "text": [
      "\r",
      "Epoch 28:  11%|█████▍                                              | 2/19 [00:00<00:01,  9.55it/s, loss=0.775, v_num=84]"
     ]
    },
    {
     "name": "stdout",
     "output_type": "stream",
     "text": [
      "\r",
      "Epoch 28:  16%|████████▏                                           | 3/19 [00:00<00:01, 12.50it/s, loss=0.775, v_num=84]"
     ]
    },
    {
     "name": "stdout",
     "output_type": "stream",
     "text": [
      "\r",
      "Epoch 28:  21%|███████████▏                                         | 4/19 [00:00<00:00, 15.34it/s, loss=0.78, v_num=84]"
     ]
    },
    {
     "name": "stdout",
     "output_type": "stream",
     "text": [
      "\r",
      "Epoch 28:  26%|█████████████▋                                      | 5/19 [00:00<00:00, 18.04it/s, loss=0.781, v_num=84]"
     ]
    },
    {
     "name": "stdout",
     "output_type": "stream",
     "text": [
      "\r",
      "Epoch 28:  32%|████████████████▍                                   | 6/19 [00:00<00:00, 20.68it/s, loss=0.781, v_num=84]"
     ]
    },
    {
     "name": "stdout",
     "output_type": "stream",
     "text": [
      "\r",
      "Epoch 28:  37%|███████████████████▏                                | 7/19 [00:00<00:00, 23.11it/s, loss=0.784, v_num=84]"
     ]
    },
    {
     "name": "stdout",
     "output_type": "stream",
     "text": [
      "\r",
      "Epoch 28:  42%|█████████████████████▉                              | 8/19 [00:00<00:00, 25.59it/s, loss=0.783, v_num=84]"
     ]
    },
    {
     "name": "stdout",
     "output_type": "stream",
     "text": [
      "\r",
      "Epoch 28:  47%|████████████████████████▋                           | 9/19 [00:00<00:00, 27.94it/s, loss=0.779, v_num=84]"
     ]
    },
    {
     "name": "stdout",
     "output_type": "stream",
     "text": [
      "\r",
      "Epoch 28:  53%|██████████████████████████▊                        | 10/19 [00:00<00:00, 30.15it/s, loss=0.783, v_num=84]"
     ]
    },
    {
     "name": "stdout",
     "output_type": "stream",
     "text": [
      "\r",
      "Epoch 28:  58%|█████████████████████████████▌                     | 11/19 [00:00<00:00, 32.33it/s, loss=0.775, v_num=84]"
     ]
    },
    {
     "name": "stdout",
     "output_type": "stream",
     "text": [
      "\r",
      "Epoch 28:  63%|████████████████████████████████▏                  | 12/19 [00:00<00:00, 34.36it/s, loss=0.773, v_num=84]"
     ]
    },
    {
     "name": "stdout",
     "output_type": "stream",
     "text": [
      "\r",
      "Epoch 28:  68%|██████████████████████████████████▉                | 13/19 [00:00<00:00, 36.39it/s, loss=0.773, v_num=84]"
     ]
    },
    {
     "name": "stdout",
     "output_type": "stream",
     "text": [
      "\r",
      "Epoch 28:  74%|█████████████████████████████████████▌             | 14/19 [00:00<00:00, 38.37it/s, loss=0.773, v_num=84]"
     ]
    },
    {
     "name": "stdout",
     "output_type": "stream",
     "text": [
      "\r",
      "Epoch 28:  74%|█████████████████████████████████████▌             | 14/19 [00:00<00:00, 38.24it/s, loss=0.771, v_num=84]"
     ]
    },
    {
     "name": "stdout",
     "output_type": "stream",
     "text": [
      "\r",
      "Epoch 28:  79%|████████████████████████████████████████▎          | 15/19 [00:00<00:00, 37.37it/s, loss=0.766, v_num=84]"
     ]
    },
    {
     "name": "stdout",
     "output_type": "stream",
     "text": [
      "\n"
     ]
    },
    {
     "name": "stdout",
     "output_type": "stream",
     "text": [
      "\r",
      "Validating: 0it [00:00, ?it/s]"
     ]
    },
    {
     "name": "stdout",
     "output_type": "stream",
     "text": [
      "\u001b[A"
     ]
    },
    {
     "name": "stdout",
     "output_type": "stream",
     "text": [
      "\n"
     ]
    },
    {
     "name": "stdout",
     "output_type": "stream",
     "text": [
      "\r",
      "Validating:   0%|                                                                                 | 0/4 [00:00<?, ?it/s]"
     ]
    },
    {
     "name": "stdout",
     "output_type": "stream",
     "text": [
      "\u001b[A"
     ]
    },
    {
     "name": "stdout",
     "output_type": "stream",
     "text": [
      "\n"
     ]
    },
    {
     "name": "stdout",
     "output_type": "stream",
     "text": [
      "\r",
      "Validating:  25%|██████████████████▎                                                      | 1/4 [00:00<00:00,  4.15it/s]"
     ]
    },
    {
     "name": "stdout",
     "output_type": "stream",
     "text": [
      "\u001b[A"
     ]
    },
    {
     "name": "stdout",
     "output_type": "stream",
     "text": [
      "\r",
      "Epoch 28: 100%|███████████████████████████████████████████████████| 19/19 [00:00<00:00, 28.03it/s, loss=0.766, v_num=84]"
     ]
    },
    {
     "name": "stdout",
     "output_type": "stream",
     "text": [
      "\n"
     ]
    },
    {
     "name": "stdout",
     "output_type": "stream",
     "text": [
      "\r",
      "                                                                                                                        "
     ]
    },
    {
     "name": "stdout",
     "output_type": "stream",
     "text": [
      "\u001b[A"
     ]
    },
    {
     "name": "stdout",
     "output_type": "stream",
     "text": [
      "\r",
      "Epoch 28:   0%|                                                 | 0/19 [00:00<00:00, 24244.53it/s, loss=0.766, v_num=84]"
     ]
    },
    {
     "name": "stdout",
     "output_type": "stream",
     "text": [
      "\r",
      "Epoch 29:   0%|                                                  | 0/19 [00:00<00:00, 1012.14it/s, loss=0.766, v_num=84]"
     ]
    },
    {
     "name": "stdout",
     "output_type": "stream",
     "text": [
      "\r",
      "Epoch 29:   5%|██▋                                                 | 1/19 [00:00<00:02,  7.09it/s, loss=0.774, v_num=84]"
     ]
    },
    {
     "name": "stdout",
     "output_type": "stream",
     "text": [
      "\r",
      "Epoch 29:  11%|█████▍                                              | 2/19 [00:00<00:01, 10.36it/s, loss=0.774, v_num=84]"
     ]
    },
    {
     "name": "stdout",
     "output_type": "stream",
     "text": [
      "\r",
      "Epoch 29:  16%|████████▏                                           | 3/19 [00:00<00:01, 13.49it/s, loss=0.774, v_num=84]"
     ]
    },
    {
     "name": "stdout",
     "output_type": "stream",
     "text": [
      "\r",
      "Epoch 29:  21%|██████████▉                                         | 4/19 [00:00<00:00, 16.53it/s, loss=0.779, v_num=84]"
     ]
    },
    {
     "name": "stdout",
     "output_type": "stream",
     "text": [
      "\r",
      "Epoch 29:  26%|█████████████▉                                       | 5/19 [00:00<00:00, 19.45it/s, loss=0.78, v_num=84]"
     ]
    },
    {
     "name": "stdout",
     "output_type": "stream",
     "text": [
      "\r",
      "Epoch 29:  32%|████████████████▋                                    | 6/19 [00:00<00:00, 22.15it/s, loss=0.78, v_num=84]"
     ]
    },
    {
     "name": "stdout",
     "output_type": "stream",
     "text": [
      "\r",
      "Epoch 29:  37%|███████████████████▏                                | 7/19 [00:00<00:00, 24.77it/s, loss=0.783, v_num=84]"
     ]
    },
    {
     "name": "stdout",
     "output_type": "stream",
     "text": [
      "\r",
      "Epoch 29:  42%|█████████████████████▉                              | 8/19 [00:00<00:00, 27.21it/s, loss=0.782, v_num=84]"
     ]
    },
    {
     "name": "stdout",
     "output_type": "stream",
     "text": [
      "\r",
      "Epoch 29:  47%|████████████████████████▋                           | 9/19 [00:00<00:00, 29.52it/s, loss=0.778, v_num=84]"
     ]
    },
    {
     "name": "stdout",
     "output_type": "stream",
     "text": [
      "\r",
      "Epoch 29:  53%|██████████████████████████▊                        | 10/19 [00:00<00:00, 31.76it/s, loss=0.782, v_num=84]"
     ]
    },
    {
     "name": "stdout",
     "output_type": "stream",
     "text": [
      "\r",
      "Epoch 29:  58%|█████████████████████████████▌                     | 11/19 [00:00<00:00, 33.98it/s, loss=0.774, v_num=84]"
     ]
    },
    {
     "name": "stdout",
     "output_type": "stream",
     "text": [
      "\r",
      "Epoch 29:  63%|████████████████████████████████▏                  | 12/19 [00:00<00:00, 36.09it/s, loss=0.772, v_num=84]"
     ]
    },
    {
     "name": "stdout",
     "output_type": "stream",
     "text": [
      "\r",
      "Epoch 29:  68%|██████████████████████████████████▉                | 13/19 [00:00<00:00, 38.21it/s, loss=0.772, v_num=84]"
     ]
    },
    {
     "name": "stdout",
     "output_type": "stream",
     "text": [
      "\r",
      "Epoch 29:  74%|█████████████████████████████████████▌             | 14/19 [00:00<00:00, 40.40it/s, loss=0.772, v_num=84]"
     ]
    },
    {
     "name": "stdout",
     "output_type": "stream",
     "text": [
      "\r",
      "Epoch 29:  74%|██████████████████████████████████████▎             | 14/19 [00:00<00:00, 40.24it/s, loss=0.77, v_num=84]"
     ]
    },
    {
     "name": "stdout",
     "output_type": "stream",
     "text": [
      "\r",
      "Epoch 29:  79%|████████████████████████████████████████▎          | 15/19 [00:00<00:00, 38.89it/s, loss=0.765, v_num=84]"
     ]
    },
    {
     "name": "stdout",
     "output_type": "stream",
     "text": [
      "\n"
     ]
    },
    {
     "name": "stdout",
     "output_type": "stream",
     "text": [
      "\r",
      "Validating: 0it [00:00, ?it/s]"
     ]
    },
    {
     "name": "stdout",
     "output_type": "stream",
     "text": [
      "\u001b[A"
     ]
    },
    {
     "name": "stdout",
     "output_type": "stream",
     "text": [
      "\n"
     ]
    },
    {
     "name": "stdout",
     "output_type": "stream",
     "text": [
      "\r",
      "Validating:   0%|                                                                                 | 0/4 [00:00<?, ?it/s]"
     ]
    },
    {
     "name": "stdout",
     "output_type": "stream",
     "text": [
      "\u001b[A"
     ]
    },
    {
     "name": "stdout",
     "output_type": "stream",
     "text": [
      "\n"
     ]
    },
    {
     "name": "stdout",
     "output_type": "stream",
     "text": [
      "\r",
      "Validating:  25%|██████████████████▎                                                      | 1/4 [00:00<00:00,  4.23it/s]"
     ]
    },
    {
     "name": "stdout",
     "output_type": "stream",
     "text": [
      "\u001b[A"
     ]
    },
    {
     "name": "stdout",
     "output_type": "stream",
     "text": [
      "\r",
      "Epoch 29: 100%|███████████████████████████████████████████████████| 19/19 [00:00<00:00, 28.88it/s, loss=0.765, v_num=84]"
     ]
    },
    {
     "name": "stdout",
     "output_type": "stream",
     "text": [
      "\n"
     ]
    },
    {
     "name": "stdout",
     "output_type": "stream",
     "text": [
      "\r",
      "                                                                                                                        "
     ]
    },
    {
     "name": "stdout",
     "output_type": "stream",
     "text": [
      "\u001b[A"
     ]
    },
    {
     "name": "stdout",
     "output_type": "stream",
     "text": [
      "\r",
      "Epoch 29:   0%|                                                 | 0/19 [00:00<00:00, 25890.77it/s, loss=0.765, v_num=84]"
     ]
    },
    {
     "name": "stdout",
     "output_type": "stream",
     "text": [
      "\r",
      "Epoch 30:   0%|                                                  | 0/19 [00:00<00:00, 1106.09it/s, loss=0.765, v_num=84]"
     ]
    },
    {
     "name": "stdout",
     "output_type": "stream",
     "text": [
      "\r",
      "Epoch 30:   5%|██▋                                                 | 1/19 [00:00<00:02,  6.39it/s, loss=0.773, v_num=84]"
     ]
    },
    {
     "name": "stdout",
     "output_type": "stream",
     "text": [
      "\r",
      "Epoch 30:  11%|█████▍                                              | 2/19 [00:00<00:01,  9.30it/s, loss=0.773, v_num=84]"
     ]
    },
    {
     "name": "stdout",
     "output_type": "stream",
     "text": [
      "\r",
      "Epoch 30:  16%|████████▏                                           | 3/19 [00:00<00:01, 12.18it/s, loss=0.773, v_num=84]"
     ]
    },
    {
     "name": "stdout",
     "output_type": "stream",
     "text": [
      "\r",
      "Epoch 30:  21%|██████████▉                                         | 4/19 [00:00<00:01, 14.93it/s, loss=0.778, v_num=84]"
     ]
    },
    {
     "name": "stdout",
     "output_type": "stream",
     "text": [
      "\r",
      "Epoch 30:  26%|█████████████▋                                      | 5/19 [00:00<00:00, 17.63it/s, loss=0.779, v_num=84]"
     ]
    },
    {
     "name": "stdout",
     "output_type": "stream",
     "text": [
      "\r",
      "Epoch 30:  32%|████████████████▍                                   | 6/19 [00:00<00:00, 20.24it/s, loss=0.779, v_num=84]"
     ]
    },
    {
     "name": "stdout",
     "output_type": "stream",
     "text": [
      "\r",
      "Epoch 30:  37%|███████████████████▏                                | 7/19 [00:00<00:00, 22.73it/s, loss=0.782, v_num=84]"
     ]
    },
    {
     "name": "stdout",
     "output_type": "stream",
     "text": [
      "\r",
      "Epoch 30:  42%|█████████████████████▉                              | 8/19 [00:00<00:00, 25.18it/s, loss=0.782, v_num=84]"
     ]
    },
    {
     "name": "stdout",
     "output_type": "stream",
     "text": [
      "\r",
      "Epoch 30:  47%|████████████████████████▋                           | 9/19 [00:00<00:00, 27.48it/s, loss=0.778, v_num=84]"
     ]
    },
    {
     "name": "stdout",
     "output_type": "stream",
     "text": [
      "\r",
      "Epoch 30:  53%|██████████████████████████▊                        | 10/19 [00:00<00:00, 29.74it/s, loss=0.781, v_num=84]"
     ]
    },
    {
     "name": "stdout",
     "output_type": "stream",
     "text": [
      "\r",
      "Epoch 30:  58%|█████████████████████████████▌                     | 11/19 [00:00<00:00, 31.96it/s, loss=0.773, v_num=84]"
     ]
    },
    {
     "name": "stdout",
     "output_type": "stream",
     "text": [
      "\r",
      "Epoch 30:  63%|████████████████████████████████▏                  | 12/19 [00:00<00:00, 34.09it/s, loss=0.771, v_num=84]"
     ]
    },
    {
     "name": "stdout",
     "output_type": "stream",
     "text": [
      "\r",
      "Epoch 30:  68%|██████████████████████████████████▉                | 13/19 [00:00<00:00, 36.19it/s, loss=0.771, v_num=84]"
     ]
    },
    {
     "name": "stdout",
     "output_type": "stream",
     "text": [
      "\r",
      "Epoch 30:  74%|█████████████████████████████████████▌             | 14/19 [00:00<00:00, 38.25it/s, loss=0.771, v_num=84]"
     ]
    },
    {
     "name": "stdout",
     "output_type": "stream",
     "text": [
      "\r",
      "Epoch 30:  74%|█████████████████████████████████████▌             | 14/19 [00:00<00:00, 38.14it/s, loss=0.769, v_num=84]"
     ]
    },
    {
     "name": "stdout",
     "output_type": "stream",
     "text": [
      "\r",
      "Epoch 30:  79%|████████████████████████████████████████▎          | 15/19 [00:00<00:00, 37.52it/s, loss=0.764, v_num=84]"
     ]
    },
    {
     "name": "stdout",
     "output_type": "stream",
     "text": [
      "\n"
     ]
    },
    {
     "name": "stdout",
     "output_type": "stream",
     "text": [
      "\r",
      "Validating: 0it [00:00, ?it/s]"
     ]
    },
    {
     "name": "stdout",
     "output_type": "stream",
     "text": [
      "\u001b[A"
     ]
    },
    {
     "name": "stdout",
     "output_type": "stream",
     "text": [
      "\n"
     ]
    },
    {
     "name": "stdout",
     "output_type": "stream",
     "text": [
      "\r",
      "Validating:   0%|                                                                                 | 0/4 [00:00<?, ?it/s]"
     ]
    },
    {
     "name": "stdout",
     "output_type": "stream",
     "text": [
      "\u001b[A"
     ]
    },
    {
     "name": "stdout",
     "output_type": "stream",
     "text": [
      "\n"
     ]
    },
    {
     "name": "stdout",
     "output_type": "stream",
     "text": [
      "\r",
      "Validating:  25%|██████████████████▎                                                      | 1/4 [00:00<00:00,  4.45it/s]"
     ]
    },
    {
     "name": "stdout",
     "output_type": "stream",
     "text": [
      "\u001b[A"
     ]
    },
    {
     "name": "stdout",
     "output_type": "stream",
     "text": [
      "\r",
      "Epoch 30: 100%|███████████████████████████████████████████████████| 19/19 [00:00<00:00, 28.61it/s, loss=0.764, v_num=84]"
     ]
    },
    {
     "name": "stdout",
     "output_type": "stream",
     "text": [
      "\n"
     ]
    },
    {
     "name": "stdout",
     "output_type": "stream",
     "text": [
      "\r",
      "                                                                                                                        "
     ]
    },
    {
     "name": "stdout",
     "output_type": "stream",
     "text": [
      "\u001b[A"
     ]
    },
    {
     "name": "stdout",
     "output_type": "stream",
     "text": [
      "\r",
      "Epoch 30:   0%|                                                 | 0/19 [00:00<00:00, 26886.56it/s, loss=0.764, v_num=84]"
     ]
    },
    {
     "name": "stdout",
     "output_type": "stream",
     "text": [
      "\r",
      "Epoch 31:   0%|                                                  | 0/19 [00:00<00:00, 1086.33it/s, loss=0.764, v_num=84]"
     ]
    },
    {
     "name": "stdout",
     "output_type": "stream",
     "text": [
      "\r",
      "Epoch 31:   5%|██▋                                                 | 1/19 [00:00<00:02,  7.05it/s, loss=0.772, v_num=84]"
     ]
    },
    {
     "name": "stdout",
     "output_type": "stream",
     "text": [
      "\r",
      "Epoch 31:  11%|█████▍                                              | 2/19 [00:00<00:01, 10.22it/s, loss=0.772, v_num=84]"
     ]
    },
    {
     "name": "stdout",
     "output_type": "stream",
     "text": [
      "\r",
      "Epoch 31:  16%|████████▏                                           | 3/19 [00:00<00:01, 13.33it/s, loss=0.772, v_num=84]"
     ]
    },
    {
     "name": "stdout",
     "output_type": "stream",
     "text": [
      "\r",
      "Epoch 31:  21%|██████████▉                                         | 4/19 [00:00<00:00, 16.30it/s, loss=0.778, v_num=84]"
     ]
    },
    {
     "name": "stdout",
     "output_type": "stream",
     "text": [
      "\r",
      "Epoch 31:  26%|█████████████▋                                      | 5/19 [00:00<00:00, 19.23it/s, loss=0.779, v_num=84]"
     ]
    },
    {
     "name": "stdout",
     "output_type": "stream",
     "text": [
      "\r",
      "Epoch 31:  32%|████████████████▍                                   | 6/19 [00:00<00:00, 21.96it/s, loss=0.779, v_num=84]"
     ]
    },
    {
     "name": "stdout",
     "output_type": "stream",
     "text": [
      "\r",
      "Epoch 31:  37%|███████████████████▏                                | 7/19 [00:00<00:00, 24.68it/s, loss=0.781, v_num=84]"
     ]
    },
    {
     "name": "stdout",
     "output_type": "stream",
     "text": [
      "\r",
      "Epoch 31:  42%|█████████████████████▉                              | 8/19 [00:00<00:00, 27.37it/s, loss=0.781, v_num=84]"
     ]
    },
    {
     "name": "stdout",
     "output_type": "stream",
     "text": [
      "\r",
      "Epoch 31:  47%|████████████████████████▋                           | 9/19 [00:00<00:00, 29.86it/s, loss=0.777, v_num=84]"
     ]
    },
    {
     "name": "stdout",
     "output_type": "stream",
     "text": [
      "\r",
      "Epoch 31:  53%|██████████████████████████▊                        | 10/19 [00:00<00:00, 32.30it/s, loss=0.781, v_num=84]"
     ]
    },
    {
     "name": "stdout",
     "output_type": "stream",
     "text": [
      "\r",
      "Epoch 31:  58%|█████████████████████████████▌                     | 11/19 [00:00<00:00, 34.68it/s, loss=0.773, v_num=84]"
     ]
    },
    {
     "name": "stdout",
     "output_type": "stream",
     "text": [
      "\r",
      "Epoch 31:  63%|████████████████████████████████▊                   | 12/19 [00:00<00:00, 36.98it/s, loss=0.77, v_num=84]"
     ]
    },
    {
     "name": "stdout",
     "output_type": "stream",
     "text": [
      "\r",
      "Epoch 31:  68%|███████████████████████████████████▌                | 13/19 [00:00<00:00, 39.25it/s, loss=0.77, v_num=84]"
     ]
    },
    {
     "name": "stdout",
     "output_type": "stream",
     "text": [
      "\r",
      "Epoch 31:  74%|██████████████████████████████████████▎             | 14/19 [00:00<00:00, 41.39it/s, loss=0.77, v_num=84]"
     ]
    },
    {
     "name": "stdout",
     "output_type": "stream",
     "text": [
      "\r",
      "Epoch 31:  74%|█████████████████████████████████████▌             | 14/19 [00:00<00:00, 41.25it/s, loss=0.769, v_num=84]"
     ]
    },
    {
     "name": "stdout",
     "output_type": "stream",
     "text": [
      "\r",
      "Epoch 31:  79%|████████████████████████████████████████▎          | 15/19 [00:00<00:00, 40.17it/s, loss=0.764, v_num=84]"
     ]
    },
    {
     "name": "stdout",
     "output_type": "stream",
     "text": [
      "\n"
     ]
    },
    {
     "name": "stdout",
     "output_type": "stream",
     "text": [
      "\r",
      "Validating: 0it [00:00, ?it/s]"
     ]
    },
    {
     "name": "stdout",
     "output_type": "stream",
     "text": [
      "\u001b[A"
     ]
    },
    {
     "name": "stdout",
     "output_type": "stream",
     "text": [
      "\n"
     ]
    },
    {
     "name": "stdout",
     "output_type": "stream",
     "text": [
      "\r",
      "Validating:   0%|                                                                                 | 0/4 [00:00<?, ?it/s]"
     ]
    },
    {
     "name": "stdout",
     "output_type": "stream",
     "text": [
      "\u001b[A"
     ]
    },
    {
     "name": "stdout",
     "output_type": "stream",
     "text": [
      "\n"
     ]
    },
    {
     "name": "stdout",
     "output_type": "stream",
     "text": [
      "\r",
      "Validating:  25%|██████████████████▎                                                      | 1/4 [00:00<00:00,  4.00it/s]"
     ]
    },
    {
     "name": "stdout",
     "output_type": "stream",
     "text": [
      "\u001b[A"
     ]
    },
    {
     "name": "stdout",
     "output_type": "stream",
     "text": [
      "\r",
      "Epoch 31: 100%|███████████████████████████████████████████████████| 19/19 [00:00<00:00, 28.77it/s, loss=0.764, v_num=84]"
     ]
    },
    {
     "name": "stdout",
     "output_type": "stream",
     "text": [
      "\n"
     ]
    },
    {
     "name": "stdout",
     "output_type": "stream",
     "text": [
      "\r",
      "                                                                                                                        "
     ]
    },
    {
     "name": "stdout",
     "output_type": "stream",
     "text": [
      "\u001b[A"
     ]
    },
    {
     "name": "stdout",
     "output_type": "stream",
     "text": [
      "\r",
      "Epoch 31:   0%|                                                 | 0/19 [00:00<00:00, 25266.89it/s, loss=0.764, v_num=84]"
     ]
    },
    {
     "name": "stdout",
     "output_type": "stream",
     "text": [
      "\r",
      "Epoch 32:   0%|                                                  | 0/19 [00:00<00:00, 1034.10it/s, loss=0.764, v_num=84]"
     ]
    },
    {
     "name": "stdout",
     "output_type": "stream",
     "text": [
      "\r",
      "Epoch 32:   5%|██▋                                                 | 1/19 [00:00<00:02,  6.67it/s, loss=0.771, v_num=84]"
     ]
    },
    {
     "name": "stdout",
     "output_type": "stream",
     "text": [
      "\r",
      "Epoch 32:  11%|█████▍                                              | 2/19 [00:00<00:01,  9.70it/s, loss=0.771, v_num=84]"
     ]
    },
    {
     "name": "stdout",
     "output_type": "stream",
     "text": [
      "\r",
      "Epoch 32:  16%|████████▏                                           | 3/19 [00:00<00:01, 12.66it/s, loss=0.771, v_num=84]"
     ]
    },
    {
     "name": "stdout",
     "output_type": "stream",
     "text": [
      "\r",
      "Epoch 32:  21%|██████████▉                                         | 4/19 [00:00<00:00, 15.51it/s, loss=0.777, v_num=84]"
     ]
    },
    {
     "name": "stdout",
     "output_type": "stream",
     "text": [
      "\r",
      "Epoch 32:  26%|█████████████▋                                      | 5/19 [00:00<00:00, 18.26it/s, loss=0.778, v_num=84]"
     ]
    },
    {
     "name": "stdout",
     "output_type": "stream",
     "text": [
      "\r",
      "Epoch 32:  32%|████████████████▍                                   | 6/19 [00:00<00:00, 20.88it/s, loss=0.778, v_num=84]"
     ]
    },
    {
     "name": "stdout",
     "output_type": "stream",
     "text": [
      "\r",
      "Epoch 32:  37%|███████████████████▌                                 | 7/19 [00:00<00:00, 23.19it/s, loss=0.78, v_num=84]"
     ]
    },
    {
     "name": "stdout",
     "output_type": "stream",
     "text": [
      "\r",
      "Epoch 32:  42%|██████████████████████▎                              | 8/19 [00:00<00:00, 25.60it/s, loss=0.78, v_num=84]"
     ]
    },
    {
     "name": "stdout",
     "output_type": "stream",
     "text": [
      "\r",
      "Epoch 32:  47%|████████████████████████▋                           | 9/19 [00:00<00:00, 27.88it/s, loss=0.776, v_num=84]"
     ]
    },
    {
     "name": "stdout",
     "output_type": "stream",
     "text": [
      "\r",
      "Epoch 32:  53%|███████████████████████████▎                        | 10/19 [00:00<00:00, 30.19it/s, loss=0.78, v_num=84]"
     ]
    },
    {
     "name": "stdout",
     "output_type": "stream",
     "text": [
      "\r",
      "Epoch 32:  58%|█████████████████████████████▌                     | 11/19 [00:00<00:00, 32.31it/s, loss=0.772, v_num=84]"
     ]
    },
    {
     "name": "stdout",
     "output_type": "stream",
     "text": [
      "\r",
      "Epoch 32:  63%|████████████████████████████████▊                   | 12/19 [00:00<00:00, 34.41it/s, loss=0.77, v_num=84]"
     ]
    },
    {
     "name": "stdout",
     "output_type": "stream",
     "text": [
      "\r",
      "Epoch 32:  68%|███████████████████████████████████▌                | 13/19 [00:00<00:00, 36.39it/s, loss=0.77, v_num=84]"
     ]
    },
    {
     "name": "stdout",
     "output_type": "stream",
     "text": [
      "\r",
      "Epoch 32:  74%|██████████████████████████████████████▎             | 14/19 [00:00<00:00, 38.32it/s, loss=0.77, v_num=84]"
     ]
    },
    {
     "name": "stdout",
     "output_type": "stream",
     "text": [
      "\r",
      "Epoch 32:  74%|█████████████████████████████████████▌             | 14/19 [00:00<00:00, 38.22it/s, loss=0.768, v_num=84]"
     ]
    },
    {
     "name": "stdout",
     "output_type": "stream",
     "text": [
      "\r",
      "Epoch 32:  79%|████████████████████████████████████████▎          | 15/19 [00:00<00:00, 36.72it/s, loss=0.763, v_num=84]"
     ]
    },
    {
     "name": "stdout",
     "output_type": "stream",
     "text": [
      "\n"
     ]
    },
    {
     "name": "stdout",
     "output_type": "stream",
     "text": [
      "\r",
      "Validating: 0it [00:00, ?it/s]"
     ]
    },
    {
     "name": "stdout",
     "output_type": "stream",
     "text": [
      "\u001b[A"
     ]
    },
    {
     "name": "stdout",
     "output_type": "stream",
     "text": [
      "\n"
     ]
    },
    {
     "name": "stdout",
     "output_type": "stream",
     "text": [
      "\r",
      "Validating:   0%|                                                                                 | 0/4 [00:00<?, ?it/s]"
     ]
    },
    {
     "name": "stdout",
     "output_type": "stream",
     "text": [
      "\u001b[A"
     ]
    },
    {
     "name": "stdout",
     "output_type": "stream",
     "text": [
      "\n"
     ]
    },
    {
     "name": "stdout",
     "output_type": "stream",
     "text": [
      "\r",
      "Validating:  25%|██████████████████▎                                                      | 1/4 [00:00<00:00,  4.25it/s]"
     ]
    },
    {
     "name": "stdout",
     "output_type": "stream",
     "text": [
      "\u001b[A"
     ]
    },
    {
     "name": "stdout",
     "output_type": "stream",
     "text": [
      "\r",
      "Epoch 32: 100%|███████████████████████████████████████████████████| 19/19 [00:00<00:00, 27.91it/s, loss=0.763, v_num=84]"
     ]
    },
    {
     "name": "stdout",
     "output_type": "stream",
     "text": [
      "\n"
     ]
    },
    {
     "name": "stdout",
     "output_type": "stream",
     "text": [
      "\r",
      "                                                                                                                        "
     ]
    },
    {
     "name": "stdout",
     "output_type": "stream",
     "text": [
      "\u001b[A"
     ]
    },
    {
     "name": "stdout",
     "output_type": "stream",
     "text": [
      "\r",
      "Epoch 32:   0%|                                                 | 0/19 [00:00<00:00, 27060.03it/s, loss=0.763, v_num=84]"
     ]
    },
    {
     "name": "stdout",
     "output_type": "stream",
     "text": [
      "\r",
      "Epoch 33:   0%|                                                  | 0/19 [00:00<00:00, 1171.92it/s, loss=0.763, v_num=84]"
     ]
    },
    {
     "name": "stdout",
     "output_type": "stream",
     "text": [
      "\r",
      "Epoch 33:   5%|██▋                                                 | 1/19 [00:00<00:02,  6.32it/s, loss=0.771, v_num=84]"
     ]
    },
    {
     "name": "stdout",
     "output_type": "stream",
     "text": [
      "\r",
      "Epoch 33:  11%|█████▌                                               | 2/19 [00:00<00:01,  9.25it/s, loss=0.77, v_num=84]"
     ]
    },
    {
     "name": "stdout",
     "output_type": "stream",
     "text": [
      "\r",
      "Epoch 33:  16%|████████▎                                            | 3/19 [00:00<00:01, 12.07it/s, loss=0.77, v_num=84]"
     ]
    },
    {
     "name": "stdout",
     "output_type": "stream",
     "text": [
      "\r",
      "Epoch 33:  21%|██████████▉                                         | 4/19 [00:00<00:01, 14.82it/s, loss=0.776, v_num=84]"
     ]
    },
    {
     "name": "stdout",
     "output_type": "stream",
     "text": [
      "\r",
      "Epoch 33:  26%|█████████████▋                                      | 5/19 [00:00<00:00, 17.41it/s, loss=0.777, v_num=84]"
     ]
    },
    {
     "name": "stdout",
     "output_type": "stream",
     "text": [
      "\r",
      "Epoch 33:  32%|████████████████▍                                   | 6/19 [00:00<00:00, 19.84it/s, loss=0.777, v_num=84]"
     ]
    },
    {
     "name": "stdout",
     "output_type": "stream",
     "text": [
      "\r",
      "Epoch 33:  37%|███████████████████▌                                 | 7/19 [00:00<00:00, 22.25it/s, loss=0.78, v_num=84]"
     ]
    },
    {
     "name": "stdout",
     "output_type": "stream",
     "text": [
      "\r",
      "Epoch 33:  42%|█████████████████████▉                              | 8/19 [00:00<00:00, 24.62it/s, loss=0.779, v_num=84]"
     ]
    },
    {
     "name": "stdout",
     "output_type": "stream",
     "text": [
      "\r",
      "Epoch 33:  47%|████████████████████████▋                           | 9/19 [00:00<00:00, 26.95it/s, loss=0.775, v_num=84]"
     ]
    },
    {
     "name": "stdout",
     "output_type": "stream",
     "text": [
      "\r",
      "Epoch 33:  53%|██████████████████████████▊                        | 10/19 [00:00<00:00, 29.11it/s, loss=0.779, v_num=84]"
     ]
    },
    {
     "name": "stdout",
     "output_type": "stream",
     "text": [
      "\r",
      "Epoch 33:  58%|█████████████████████████████▌                     | 11/19 [00:00<00:00, 31.31it/s, loss=0.771, v_num=84]"
     ]
    },
    {
     "name": "stdout",
     "output_type": "stream",
     "text": [
      "\r",
      "Epoch 33:  63%|████████████████████████████████▏                  | 12/19 [00:00<00:00, 33.42it/s, loss=0.769, v_num=84]"
     ]
    },
    {
     "name": "stdout",
     "output_type": "stream",
     "text": [
      "\r",
      "Epoch 33:  68%|██████████████████████████████████▉                | 13/19 [00:00<00:00, 35.47it/s, loss=0.769, v_num=84]"
     ]
    },
    {
     "name": "stdout",
     "output_type": "stream",
     "text": [
      "\r",
      "Epoch 33:  74%|█████████████████████████████████████▌             | 14/19 [00:00<00:00, 37.52it/s, loss=0.769, v_num=84]"
     ]
    },
    {
     "name": "stdout",
     "output_type": "stream",
     "text": [
      "\r",
      "Epoch 33:  74%|█████████████████████████████████████▌             | 14/19 [00:00<00:00, 37.42it/s, loss=0.767, v_num=84]"
     ]
    },
    {
     "name": "stdout",
     "output_type": "stream",
     "text": [
      "\r",
      "Epoch 33:  79%|████████████████████████████████████████▎          | 15/19 [00:00<00:00, 36.61it/s, loss=0.762, v_num=84]"
     ]
    },
    {
     "name": "stdout",
     "output_type": "stream",
     "text": [
      "\n"
     ]
    },
    {
     "name": "stdout",
     "output_type": "stream",
     "text": [
      "\r",
      "Validating: 0it [00:00, ?it/s]"
     ]
    },
    {
     "name": "stdout",
     "output_type": "stream",
     "text": [
      "\u001b[A"
     ]
    },
    {
     "name": "stdout",
     "output_type": "stream",
     "text": [
      "\n"
     ]
    },
    {
     "name": "stdout",
     "output_type": "stream",
     "text": [
      "\r",
      "Validating:   0%|                                                                                 | 0/4 [00:00<?, ?it/s]"
     ]
    },
    {
     "name": "stdout",
     "output_type": "stream",
     "text": [
      "\u001b[A"
     ]
    },
    {
     "name": "stdout",
     "output_type": "stream",
     "text": [
      "\n"
     ]
    },
    {
     "name": "stdout",
     "output_type": "stream",
     "text": [
      "\r",
      "Validating:  25%|██████████████████▎                                                      | 1/4 [00:00<00:00,  4.36it/s]"
     ]
    },
    {
     "name": "stdout",
     "output_type": "stream",
     "text": [
      "\u001b[A"
     ]
    },
    {
     "name": "stdout",
     "output_type": "stream",
     "text": [
      "\r",
      "Epoch 33: 100%|███████████████████████████████████████████████████| 19/19 [00:00<00:00, 28.11it/s, loss=0.762, v_num=84]"
     ]
    },
    {
     "name": "stdout",
     "output_type": "stream",
     "text": [
      "\n"
     ]
    },
    {
     "name": "stdout",
     "output_type": "stream",
     "text": [
      "\r",
      "                                                                                                                        "
     ]
    },
    {
     "name": "stdout",
     "output_type": "stream",
     "text": [
      "\u001b[A"
     ]
    },
    {
     "name": "stdout",
     "output_type": "stream",
     "text": [
      "\r",
      "Epoch 33:   0%|                                                 | 0/19 [00:00<00:00, 26886.56it/s, loss=0.762, v_num=84]"
     ]
    },
    {
     "name": "stdout",
     "output_type": "stream",
     "text": [
      "\r",
      "Epoch 34:   0%|                                                  | 0/19 [00:00<00:00, 1155.14it/s, loss=0.762, v_num=84]"
     ]
    },
    {
     "name": "stdout",
     "output_type": "stream",
     "text": [
      "\r",
      "Epoch 34:   5%|██▊                                                  | 1/19 [00:00<00:02,  6.13it/s, loss=0.77, v_num=84]"
     ]
    },
    {
     "name": "stdout",
     "output_type": "stream",
     "text": [
      "\r",
      "Epoch 34:  11%|█████▌                                               | 2/19 [00:00<00:01,  8.95it/s, loss=0.77, v_num=84]"
     ]
    },
    {
     "name": "stdout",
     "output_type": "stream",
     "text": [
      "\r",
      "Epoch 34:  16%|████████▎                                            | 3/19 [00:00<00:01, 11.73it/s, loss=0.77, v_num=84]"
     ]
    },
    {
     "name": "stdout",
     "output_type": "stream",
     "text": [
      "\r",
      "Epoch 34:  21%|██████████▉                                         | 4/19 [00:00<00:01, 14.44it/s, loss=0.776, v_num=84]"
     ]
    },
    {
     "name": "stdout",
     "output_type": "stream",
     "text": [
      "\r",
      "Epoch 34:  26%|█████████████▋                                      | 5/19 [00:00<00:00, 17.01it/s, loss=0.777, v_num=84]"
     ]
    },
    {
     "name": "stdout",
     "output_type": "stream",
     "text": [
      "\r",
      "Epoch 34:  32%|████████████████▍                                   | 6/19 [00:00<00:00, 19.56it/s, loss=0.777, v_num=84]"
     ]
    },
    {
     "name": "stdout",
     "output_type": "stream",
     "text": [
      "\r",
      "Epoch 34:  37%|███████████████████▏                                | 7/19 [00:00<00:00, 21.88it/s, loss=0.779, v_num=84]"
     ]
    },
    {
     "name": "stdout",
     "output_type": "stream",
     "text": [
      "\r",
      "Epoch 34:  42%|█████████████████████▉                              | 8/19 [00:00<00:00, 24.22it/s, loss=0.779, v_num=84]"
     ]
    },
    {
     "name": "stdout",
     "output_type": "stream",
     "text": [
      "\r",
      "Epoch 34:  47%|████████████████████████▋                           | 9/19 [00:00<00:00, 26.52it/s, loss=0.775, v_num=84]"
     ]
    },
    {
     "name": "stdout",
     "output_type": "stream",
     "text": [
      "\r",
      "Epoch 34:  53%|██████████████████████████▊                        | 10/19 [00:00<00:00, 28.69it/s, loss=0.778, v_num=84]"
     ]
    },
    {
     "name": "stdout",
     "output_type": "stream",
     "text": [
      "\r",
      "Epoch 34:  58%|█████████████████████████████▌                     | 11/19 [00:00<00:00, 30.83it/s, loss=0.771, v_num=84]"
     ]
    },
    {
     "name": "stdout",
     "output_type": "stream",
     "text": [
      "\r",
      "Epoch 34:  63%|████████████████████████████████▏                  | 12/19 [00:00<00:00, 32.90it/s, loss=0.768, v_num=84]"
     ]
    },
    {
     "name": "stdout",
     "output_type": "stream",
     "text": [
      "\r",
      "Epoch 34:  68%|██████████████████████████████████▉                | 13/19 [00:00<00:00, 34.91it/s, loss=0.768, v_num=84]"
     ]
    },
    {
     "name": "stdout",
     "output_type": "stream",
     "text": [
      "\r",
      "Epoch 34:  74%|█████████████████████████████████████▌             | 14/19 [00:00<00:00, 36.76it/s, loss=0.768, v_num=84]"
     ]
    },
    {
     "name": "stdout",
     "output_type": "stream",
     "text": [
      "\r",
      "Epoch 34:  74%|█████████████████████████████████████▌             | 14/19 [00:00<00:00, 36.65it/s, loss=0.767, v_num=84]"
     ]
    },
    {
     "name": "stdout",
     "output_type": "stream",
     "text": [
      "\r",
      "Epoch 34:  79%|████████████████████████████████████████▎          | 15/19 [00:00<00:00, 35.97it/s, loss=0.762, v_num=84]"
     ]
    },
    {
     "name": "stdout",
     "output_type": "stream",
     "text": [
      "\n"
     ]
    },
    {
     "name": "stdout",
     "output_type": "stream",
     "text": [
      "\r",
      "Validating: 0it [00:00, ?it/s]"
     ]
    },
    {
     "name": "stdout",
     "output_type": "stream",
     "text": [
      "\u001b[A"
     ]
    },
    {
     "name": "stdout",
     "output_type": "stream",
     "text": [
      "\n"
     ]
    },
    {
     "name": "stdout",
     "output_type": "stream",
     "text": [
      "\r",
      "Validating:   0%|                                                                                 | 0/4 [00:00<?, ?it/s]"
     ]
    },
    {
     "name": "stdout",
     "output_type": "stream",
     "text": [
      "\u001b[A"
     ]
    },
    {
     "name": "stdout",
     "output_type": "stream",
     "text": [
      "\n"
     ]
    },
    {
     "name": "stdout",
     "output_type": "stream",
     "text": [
      "\r",
      "Validating:  25%|██████████████████▎                                                      | 1/4 [00:00<00:00,  4.23it/s]"
     ]
    },
    {
     "name": "stdout",
     "output_type": "stream",
     "text": [
      "\u001b[A"
     ]
    },
    {
     "name": "stdout",
     "output_type": "stream",
     "text": [
      "\r",
      "Epoch 34: 100%|███████████████████████████████████████████████████| 19/19 [00:00<00:00, 27.61it/s, loss=0.762, v_num=84]"
     ]
    },
    {
     "name": "stdout",
     "output_type": "stream",
     "text": [
      "\n"
     ]
    },
    {
     "name": "stdout",
     "output_type": "stream",
     "text": [
      "\r",
      "                                                                                                                        "
     ]
    },
    {
     "name": "stdout",
     "output_type": "stream",
     "text": [
      "\u001b[A"
     ]
    },
    {
     "name": "stdout",
     "output_type": "stream",
     "text": [
      "\r",
      "Epoch 34:   0%|                                                 | 0/19 [00:00<00:00, 22429.43it/s, loss=0.762, v_num=84]"
     ]
    },
    {
     "name": "stdout",
     "output_type": "stream",
     "text": [
      "\r",
      "Epoch 35:   0%|                                                  | 0/19 [00:00<00:00, 1007.76it/s, loss=0.762, v_num=84]"
     ]
    },
    {
     "name": "stdout",
     "output_type": "stream",
     "text": [
      "\r",
      "Epoch 35:   5%|██▋                                                 | 1/19 [00:00<00:02,  6.57it/s, loss=0.769, v_num=84]"
     ]
    },
    {
     "name": "stdout",
     "output_type": "stream",
     "text": [
      "\r",
      "Epoch 35:  11%|█████▍                                              | 2/19 [00:00<00:01,  9.55it/s, loss=0.769, v_num=84]"
     ]
    },
    {
     "name": "stdout",
     "output_type": "stream",
     "text": [
      "\r",
      "Epoch 35:  16%|████████▏                                           | 3/19 [00:00<00:01, 12.43it/s, loss=0.769, v_num=84]"
     ]
    },
    {
     "name": "stdout",
     "output_type": "stream",
     "text": [
      "\r",
      "Epoch 35:  21%|██████████▉                                         | 4/19 [00:00<00:00, 15.18it/s, loss=0.775, v_num=84]"
     ]
    },
    {
     "name": "stdout",
     "output_type": "stream",
     "text": [
      "\r",
      "Epoch 35:  26%|█████████████▋                                      | 5/19 [00:00<00:00, 17.78it/s, loss=0.776, v_num=84]"
     ]
    },
    {
     "name": "stdout",
     "output_type": "stream",
     "text": [
      "\r",
      "Epoch 35:  32%|████████████████▍                                   | 6/19 [00:00<00:00, 20.30it/s, loss=0.776, v_num=84]"
     ]
    },
    {
     "name": "stdout",
     "output_type": "stream",
     "text": [
      "\r",
      "Epoch 35:  37%|███████████████████▏                                | 7/19 [00:00<00:00, 22.65it/s, loss=0.778, v_num=84]"
     ]
    },
    {
     "name": "stdout",
     "output_type": "stream",
     "text": [
      "\r",
      "Epoch 35:  42%|█████████████████████▉                              | 8/19 [00:00<00:00, 25.01it/s, loss=0.778, v_num=84]"
     ]
    },
    {
     "name": "stdout",
     "output_type": "stream",
     "text": [
      "\r",
      "Epoch 35:  47%|████████████████████████▋                           | 9/19 [00:00<00:00, 27.22it/s, loss=0.774, v_num=84]"
     ]
    },
    {
     "name": "stdout",
     "output_type": "stream",
     "text": [
      "\r",
      "Epoch 35:  53%|██████████████████████████▊                        | 10/19 [00:00<00:00, 29.36it/s, loss=0.778, v_num=84]"
     ]
    },
    {
     "name": "stdout",
     "output_type": "stream",
     "text": [
      "\r",
      "Epoch 35:  58%|██████████████████████████████                      | 11/19 [00:00<00:00, 31.15it/s, loss=0.77, v_num=84]"
     ]
    },
    {
     "name": "stdout",
     "output_type": "stream",
     "text": [
      "\r",
      "Epoch 35:  63%|████████████████████████████████▏                  | 12/19 [00:00<00:00, 33.08it/s, loss=0.768, v_num=84]"
     ]
    },
    {
     "name": "stdout",
     "output_type": "stream",
     "text": [
      "\r",
      "Epoch 35:  68%|██████████████████████████████████▉                | 13/19 [00:00<00:00, 34.92it/s, loss=0.768, v_num=84]"
     ]
    },
    {
     "name": "stdout",
     "output_type": "stream",
     "text": [
      "\r",
      "Epoch 35:  74%|█████████████████████████████████████▌             | 14/19 [00:00<00:00, 36.79it/s, loss=0.768, v_num=84]"
     ]
    },
    {
     "name": "stdout",
     "output_type": "stream",
     "text": [
      "\r",
      "Epoch 35:  74%|█████████████████████████████████████▌             | 14/19 [00:00<00:00, 36.64it/s, loss=0.766, v_num=84]"
     ]
    },
    {
     "name": "stdout",
     "output_type": "stream",
     "text": [
      "\r",
      "Epoch 35:  79%|████████████████████████████████████████▎          | 15/19 [00:00<00:00, 35.84it/s, loss=0.761, v_num=84]"
     ]
    },
    {
     "name": "stdout",
     "output_type": "stream",
     "text": [
      "\n"
     ]
    },
    {
     "name": "stdout",
     "output_type": "stream",
     "text": [
      "\r",
      "Validating: 0it [00:00, ?it/s]"
     ]
    },
    {
     "name": "stdout",
     "output_type": "stream",
     "text": [
      "\u001b[A"
     ]
    },
    {
     "name": "stdout",
     "output_type": "stream",
     "text": [
      "\n"
     ]
    },
    {
     "name": "stdout",
     "output_type": "stream",
     "text": [
      "\r",
      "Validating:   0%|                                                                                 | 0/4 [00:00<?, ?it/s]"
     ]
    },
    {
     "name": "stdout",
     "output_type": "stream",
     "text": [
      "\u001b[A"
     ]
    },
    {
     "name": "stdout",
     "output_type": "stream",
     "text": [
      "\n"
     ]
    },
    {
     "name": "stdout",
     "output_type": "stream",
     "text": [
      "\r",
      "Validating:  25%|██████████████████▎                                                      | 1/4 [00:00<00:00,  4.29it/s]"
     ]
    },
    {
     "name": "stdout",
     "output_type": "stream",
     "text": [
      "\u001b[A"
     ]
    },
    {
     "name": "stdout",
     "output_type": "stream",
     "text": [
      "\r",
      "Epoch 35: 100%|███████████████████████████████████████████████████| 19/19 [00:00<00:00, 27.42it/s, loss=0.761, v_num=84]"
     ]
    },
    {
     "name": "stdout",
     "output_type": "stream",
     "text": [
      "\n"
     ]
    },
    {
     "name": "stdout",
     "output_type": "stream",
     "text": [
      "\r",
      "                                                                                                                        "
     ]
    },
    {
     "name": "stdout",
     "output_type": "stream",
     "text": [
      "\u001b[A"
     ]
    },
    {
     "name": "stdout",
     "output_type": "stream",
     "text": [
      "\r",
      "Epoch 35:   0%|                                                 | 0/19 [00:00<00:00, 26546.23it/s, loss=0.761, v_num=84]"
     ]
    },
    {
     "name": "stdout",
     "output_type": "stream",
     "text": [
      "\r",
      "Epoch 36:   0%|                                                  | 0/19 [00:00<00:00, 1110.49it/s, loss=0.761, v_num=84]"
     ]
    },
    {
     "name": "stdout",
     "output_type": "stream",
     "text": [
      "\r",
      "Epoch 36:   5%|██▋                                                 | 1/19 [00:00<00:03,  5.92it/s, loss=0.769, v_num=84]"
     ]
    },
    {
     "name": "stdout",
     "output_type": "stream",
     "text": [
      "\r",
      "Epoch 36:  11%|█████▍                                              | 2/19 [00:00<00:01,  8.66it/s, loss=0.768, v_num=84]"
     ]
    },
    {
     "name": "stdout",
     "output_type": "stream",
     "text": [
      "\r",
      "Epoch 36:  16%|████████▏                                           | 3/19 [00:00<00:01, 11.26it/s, loss=0.769, v_num=84]"
     ]
    },
    {
     "name": "stdout",
     "output_type": "stream",
     "text": [
      "\r",
      "Epoch 36:  21%|██████████▉                                         | 4/19 [00:00<00:01, 13.84it/s, loss=0.774, v_num=84]"
     ]
    },
    {
     "name": "stdout",
     "output_type": "stream",
     "text": [
      "\r",
      "Epoch 36:  26%|█████████████▋                                      | 5/19 [00:00<00:00, 16.32it/s, loss=0.775, v_num=84]"
     ]
    },
    {
     "name": "stdout",
     "output_type": "stream",
     "text": [
      "\r",
      "Epoch 36:  32%|████████████████▍                                   | 6/19 [00:00<00:00, 18.74it/s, loss=0.775, v_num=84]"
     ]
    },
    {
     "name": "stdout",
     "output_type": "stream",
     "text": [
      "\r",
      "Epoch 36:  37%|███████████████████▏                                | 7/19 [00:00<00:00, 21.12it/s, loss=0.778, v_num=84]"
     ]
    },
    {
     "name": "stdout",
     "output_type": "stream",
     "text": [
      "\r",
      "Epoch 36:  42%|█████████████████████▉                              | 8/19 [00:00<00:00, 23.38it/s, loss=0.778, v_num=84]"
     ]
    },
    {
     "name": "stdout",
     "output_type": "stream",
     "text": [
      "\r",
      "Epoch 36:  47%|████████████████████████▋                           | 9/19 [00:00<00:00, 25.58it/s, loss=0.773, v_num=84]"
     ]
    },
    {
     "name": "stdout",
     "output_type": "stream",
     "text": [
      "\r",
      "Epoch 36:  53%|██████████████████████████▊                        | 10/19 [00:00<00:00, 27.80it/s, loss=0.777, v_num=84]"
     ]
    },
    {
     "name": "stdout",
     "output_type": "stream",
     "text": [
      "\r",
      "Epoch 36:  58%|██████████████████████████████                      | 11/19 [00:00<00:00, 29.66it/s, loss=0.77, v_num=84]"
     ]
    },
    {
     "name": "stdout",
     "output_type": "stream",
     "text": [
      "\r",
      "Epoch 36:  63%|████████████████████████████████▏                  | 12/19 [00:00<00:00, 31.69it/s, loss=0.767, v_num=84]"
     ]
    },
    {
     "name": "stdout",
     "output_type": "stream",
     "text": [
      "\r",
      "Epoch 36:  68%|██████████████████████████████████▉                | 13/19 [00:00<00:00, 33.45it/s, loss=0.767, v_num=84]"
     ]
    },
    {
     "name": "stdout",
     "output_type": "stream",
     "text": [
      "\r",
      "Epoch 36:  74%|█████████████████████████████████████▌             | 14/19 [00:00<00:00, 35.37it/s, loss=0.767, v_num=84]"
     ]
    },
    {
     "name": "stdout",
     "output_type": "stream",
     "text": [
      "\r",
      "Epoch 36:  74%|█████████████████████████████████████▌             | 14/19 [00:00<00:00, 35.28it/s, loss=0.766, v_num=84]"
     ]
    },
    {
     "name": "stdout",
     "output_type": "stream",
     "text": [
      "\r",
      "Epoch 36:  79%|████████████████████████████████████████▎          | 15/19 [00:00<00:00, 34.76it/s, loss=0.761, v_num=84]"
     ]
    },
    {
     "name": "stdout",
     "output_type": "stream",
     "text": [
      "\n"
     ]
    },
    {
     "name": "stdout",
     "output_type": "stream",
     "text": [
      "\r",
      "Validating: 0it [00:00, ?it/s]"
     ]
    },
    {
     "name": "stdout",
     "output_type": "stream",
     "text": [
      "\u001b[A"
     ]
    },
    {
     "name": "stdout",
     "output_type": "stream",
     "text": [
      "\n"
     ]
    },
    {
     "name": "stdout",
     "output_type": "stream",
     "text": [
      "\r",
      "Validating:   0%|                                                                                 | 0/4 [00:00<?, ?it/s]"
     ]
    },
    {
     "name": "stdout",
     "output_type": "stream",
     "text": [
      "\u001b[A"
     ]
    },
    {
     "name": "stdout",
     "output_type": "stream",
     "text": [
      "\n"
     ]
    },
    {
     "name": "stdout",
     "output_type": "stream",
     "text": [
      "\r",
      "Validating:  25%|██████████████████▎                                                      | 1/4 [00:00<00:00,  4.33it/s]"
     ]
    },
    {
     "name": "stdout",
     "output_type": "stream",
     "text": [
      "\u001b[A"
     ]
    },
    {
     "name": "stdout",
     "output_type": "stream",
     "text": [
      "\r",
      "Epoch 36: 100%|███████████████████████████████████████████████████| 19/19 [00:00<00:00, 27.22it/s, loss=0.761, v_num=84]"
     ]
    },
    {
     "name": "stdout",
     "output_type": "stream",
     "text": [
      "\n"
     ]
    },
    {
     "name": "stdout",
     "output_type": "stream",
     "text": [
      "\r",
      "                                                                                                                        "
     ]
    },
    {
     "name": "stdout",
     "output_type": "stream",
     "text": [
      "\u001b[A"
     ]
    },
    {
     "name": "stdout",
     "output_type": "stream",
     "text": [
      "\r",
      "Epoch 36:   0%|                                                 | 0/19 [00:00<00:00, 25266.89it/s, loss=0.761, v_num=84]"
     ]
    },
    {
     "name": "stdout",
     "output_type": "stream",
     "text": [
      "\r",
      "Epoch 37:   0%|                                                  | 0/19 [00:00<00:00, 1190.89it/s, loss=0.761, v_num=84]"
     ]
    },
    {
     "name": "stdout",
     "output_type": "stream",
     "text": [
      "\r",
      "Epoch 37:   5%|██▋                                                 | 1/19 [00:00<00:02,  6.43it/s, loss=0.768, v_num=84]"
     ]
    },
    {
     "name": "stdout",
     "output_type": "stream",
     "text": [
      "\r",
      "Epoch 37:  11%|█████▍                                              | 2/19 [00:00<00:01,  9.41it/s, loss=0.768, v_num=84]"
     ]
    },
    {
     "name": "stdout",
     "output_type": "stream",
     "text": [
      "\r",
      "Epoch 37:  16%|████████▏                                           | 3/19 [00:00<00:01, 12.33it/s, loss=0.768, v_num=84]"
     ]
    },
    {
     "name": "stdout",
     "output_type": "stream",
     "text": [
      "\r",
      "Epoch 37:  21%|██████████▉                                         | 4/19 [00:00<00:00, 15.12it/s, loss=0.774, v_num=84]"
     ]
    },
    {
     "name": "stdout",
     "output_type": "stream",
     "text": [
      "\r",
      "Epoch 37:  26%|█████████████▋                                      | 5/19 [00:00<00:00, 17.86it/s, loss=0.775, v_num=84]"
     ]
    },
    {
     "name": "stdout",
     "output_type": "stream",
     "text": [
      "\r",
      "Epoch 37:  32%|████████████████▍                                   | 6/19 [00:00<00:00, 20.50it/s, loss=0.775, v_num=84]"
     ]
    },
    {
     "name": "stdout",
     "output_type": "stream",
     "text": [
      "\r",
      "Epoch 37:  37%|███████████████████▏                                | 7/19 [00:00<00:00, 22.84it/s, loss=0.777, v_num=84]"
     ]
    },
    {
     "name": "stdout",
     "output_type": "stream",
     "text": [
      "\r",
      "Epoch 37:  42%|█████████████████████▉                              | 8/19 [00:00<00:00, 25.32it/s, loss=0.777, v_num=84]"
     ]
    },
    {
     "name": "stdout",
     "output_type": "stream",
     "text": [
      "\r",
      "Epoch 37:  47%|████████████████████████▋                           | 9/19 [00:00<00:00, 27.43it/s, loss=0.773, v_num=84]"
     ]
    },
    {
     "name": "stdout",
     "output_type": "stream",
     "text": [
      "\r",
      "Epoch 37:  53%|██████████████████████████▊                        | 10/19 [00:00<00:00, 29.67it/s, loss=0.777, v_num=84]"
     ]
    },
    {
     "name": "stdout",
     "output_type": "stream",
     "text": [
      "\r",
      "Epoch 37:  58%|█████████████████████████████▌                     | 11/19 [00:00<00:00, 31.85it/s, loss=0.769, v_num=84]"
     ]
    },
    {
     "name": "stdout",
     "output_type": "stream",
     "text": [
      "\r",
      "Epoch 37:  63%|████████████████████████████████▏                  | 12/19 [00:00<00:00, 34.04it/s, loss=0.767, v_num=84]"
     ]
    },
    {
     "name": "stdout",
     "output_type": "stream",
     "text": [
      "\r",
      "Epoch 37:  68%|██████████████████████████████████▉                | 13/19 [00:00<00:00, 36.16it/s, loss=0.767, v_num=84]"
     ]
    },
    {
     "name": "stdout",
     "output_type": "stream",
     "text": [
      "\r",
      "Epoch 37:  74%|█████████████████████████████████████▌             | 14/19 [00:00<00:00, 38.12it/s, loss=0.767, v_num=84]"
     ]
    },
    {
     "name": "stdout",
     "output_type": "stream",
     "text": [
      "\r",
      "Epoch 37:  74%|█████████████████████████████████████▌             | 14/19 [00:00<00:00, 38.00it/s, loss=0.765, v_num=84]"
     ]
    },
    {
     "name": "stdout",
     "output_type": "stream",
     "text": [
      "\r",
      "Epoch 37:  79%|█████████████████████████████████████████           | 15/19 [00:00<00:00, 37.25it/s, loss=0.76, v_num=84]"
     ]
    },
    {
     "name": "stdout",
     "output_type": "stream",
     "text": [
      "\n"
     ]
    },
    {
     "name": "stdout",
     "output_type": "stream",
     "text": [
      "\r",
      "Validating: 0it [00:00, ?it/s]"
     ]
    },
    {
     "name": "stdout",
     "output_type": "stream",
     "text": [
      "\u001b[A"
     ]
    },
    {
     "name": "stdout",
     "output_type": "stream",
     "text": [
      "\n"
     ]
    },
    {
     "name": "stdout",
     "output_type": "stream",
     "text": [
      "\r",
      "Validating:   0%|                                                                                 | 0/4 [00:00<?, ?it/s]"
     ]
    },
    {
     "name": "stdout",
     "output_type": "stream",
     "text": [
      "\u001b[A"
     ]
    },
    {
     "name": "stdout",
     "output_type": "stream",
     "text": [
      "\n"
     ]
    },
    {
     "name": "stdout",
     "output_type": "stream",
     "text": [
      "\r",
      "Validating:  25%|██████████████████▎                                                      | 1/4 [00:00<00:00,  3.97it/s]"
     ]
    },
    {
     "name": "stdout",
     "output_type": "stream",
     "text": [
      "\u001b[A"
     ]
    },
    {
     "name": "stdout",
     "output_type": "stream",
     "text": [
      "\r",
      "Epoch 37: 100%|████████████████████████████████████████████████████| 19/19 [00:00<00:00, 27.49it/s, loss=0.76, v_num=84]"
     ]
    },
    {
     "name": "stdout",
     "output_type": "stream",
     "text": [
      "\n"
     ]
    },
    {
     "name": "stdout",
     "output_type": "stream",
     "text": [
      "\r",
      "                                                                                                                        "
     ]
    },
    {
     "name": "stdout",
     "output_type": "stream",
     "text": [
      "\u001b[A"
     ]
    },
    {
     "name": "stdout",
     "output_type": "stream",
     "text": [
      "\r",
      "Epoch 37:   0%|                                                   | 0/19 [00:00<00:00, 7928.74it/s, loss=0.76, v_num=84]"
     ]
    },
    {
     "name": "stdout",
     "output_type": "stream",
     "text": [
      "\r",
      "Epoch 38:   0%|                                                    | 0/19 [00:00<00:00, 636.85it/s, loss=0.76, v_num=84]"
     ]
    },
    {
     "name": "stdout",
     "output_type": "stream",
     "text": [
      "\r",
      "Epoch 38:   5%|██▋                                                 | 1/19 [00:00<00:02,  6.54it/s, loss=0.768, v_num=84]"
     ]
    },
    {
     "name": "stdout",
     "output_type": "stream",
     "text": [
      "\r",
      "Epoch 38:  11%|█████▍                                              | 2/19 [00:00<00:01,  9.53it/s, loss=0.767, v_num=84]"
     ]
    },
    {
     "name": "stdout",
     "output_type": "stream",
     "text": [
      "\r",
      "Epoch 38:  16%|████████▏                                           | 3/19 [00:00<00:01, 12.44it/s, loss=0.768, v_num=84]"
     ]
    },
    {
     "name": "stdout",
     "output_type": "stream",
     "text": [
      "\r",
      "Epoch 38:  21%|██████████▉                                         | 4/19 [00:00<00:00, 15.29it/s, loss=0.773, v_num=84]"
     ]
    },
    {
     "name": "stdout",
     "output_type": "stream",
     "text": [
      "\r",
      "Epoch 38:  26%|█████████████▋                                      | 5/19 [00:00<00:00, 18.01it/s, loss=0.775, v_num=84]"
     ]
    },
    {
     "name": "stdout",
     "output_type": "stream",
     "text": [
      "\r",
      "Epoch 38:  32%|████████████████▍                                   | 6/19 [00:00<00:00, 20.66it/s, loss=0.774, v_num=84]"
     ]
    },
    {
     "name": "stdout",
     "output_type": "stream",
     "text": [
      "\r",
      "Epoch 38:  37%|███████████████████▏                                | 7/19 [00:00<00:00, 23.20it/s, loss=0.777, v_num=84]"
     ]
    },
    {
     "name": "stdout",
     "output_type": "stream",
     "text": [
      "\r",
      "Epoch 38:  42%|█████████████████████▉                              | 8/19 [00:00<00:00, 25.68it/s, loss=0.777, v_num=84]"
     ]
    },
    {
     "name": "stdout",
     "output_type": "stream",
     "text": [
      "\r",
      "Epoch 38:  47%|████████████████████████▋                           | 9/19 [00:00<00:00, 28.06it/s, loss=0.772, v_num=84]"
     ]
    },
    {
     "name": "stdout",
     "output_type": "stream",
     "text": [
      "\r",
      "Epoch 38:  53%|██████████████████████████▊                        | 10/19 [00:00<00:00, 30.29it/s, loss=0.776, v_num=84]"
     ]
    },
    {
     "name": "stdout",
     "output_type": "stream",
     "text": [
      "\r",
      "Epoch 38:  58%|█████████████████████████████▌                     | 11/19 [00:00<00:00, 32.44it/s, loss=0.769, v_num=84]"
     ]
    },
    {
     "name": "stdout",
     "output_type": "stream",
     "text": [
      "\r",
      "Epoch 38:  63%|████████████████████████████████▏                  | 12/19 [00:00<00:00, 34.60it/s, loss=0.766, v_num=84]"
     ]
    },
    {
     "name": "stdout",
     "output_type": "stream",
     "text": [
      "\r",
      "Epoch 38:  68%|██████████████████████████████████▉                | 13/19 [00:00<00:00, 36.57it/s, loss=0.766, v_num=84]"
     ]
    },
    {
     "name": "stdout",
     "output_type": "stream",
     "text": [
      "\r",
      "Epoch 38:  74%|█████████████████████████████████████▌             | 14/19 [00:00<00:00, 38.61it/s, loss=0.766, v_num=84]"
     ]
    },
    {
     "name": "stdout",
     "output_type": "stream",
     "text": [
      "\r",
      "Epoch 38:  74%|█████████████████████████████████████▌             | 14/19 [00:00<00:00, 38.51it/s, loss=0.765, v_num=84]"
     ]
    },
    {
     "name": "stdout",
     "output_type": "stream",
     "text": [
      "\r",
      "Epoch 38:  79%|█████████████████████████████████████████           | 15/19 [00:00<00:00, 37.78it/s, loss=0.76, v_num=84]"
     ]
    },
    {
     "name": "stdout",
     "output_type": "stream",
     "text": [
      "\n"
     ]
    },
    {
     "name": "stdout",
     "output_type": "stream",
     "text": [
      "\r",
      "Validating: 0it [00:00, ?it/s]"
     ]
    },
    {
     "name": "stdout",
     "output_type": "stream",
     "text": [
      "\u001b[A"
     ]
    },
    {
     "name": "stdout",
     "output_type": "stream",
     "text": [
      "\n"
     ]
    },
    {
     "name": "stdout",
     "output_type": "stream",
     "text": [
      "\r",
      "Validating:   0%|                                                                                 | 0/4 [00:00<?, ?it/s]"
     ]
    },
    {
     "name": "stdout",
     "output_type": "stream",
     "text": [
      "\u001b[A"
     ]
    },
    {
     "name": "stdout",
     "output_type": "stream",
     "text": [
      "\n"
     ]
    },
    {
     "name": "stdout",
     "output_type": "stream",
     "text": [
      "\r",
      "Validating:  25%|██████████████████▎                                                      | 1/4 [00:00<00:00,  4.78it/s]"
     ]
    },
    {
     "name": "stdout",
     "output_type": "stream",
     "text": [
      "\u001b[A"
     ]
    },
    {
     "name": "stdout",
     "output_type": "stream",
     "text": [
      "\r",
      "Epoch 38: 100%|████████████████████████████████████████████████████| 19/19 [00:00<00:00, 29.53it/s, loss=0.76, v_num=84]"
     ]
    },
    {
     "name": "stdout",
     "output_type": "stream",
     "text": [
      "\n"
     ]
    },
    {
     "name": "stdout",
     "output_type": "stream",
     "text": [
      "\r",
      "                                                                                                                        "
     ]
    },
    {
     "name": "stdout",
     "output_type": "stream",
     "text": [
      "\u001b[A"
     ]
    },
    {
     "name": "stdout",
     "output_type": "stream",
     "text": [
      "\r",
      "Epoch 38:   0%|                                                  | 0/19 [00:00<00:00, 27413.75it/s, loss=0.76, v_num=84]"
     ]
    },
    {
     "name": "stdout",
     "output_type": "stream",
     "text": [
      "\r",
      "Epoch 39:   0%|                                                   | 0/19 [00:00<00:00, 1040.77it/s, loss=0.76, v_num=84]"
     ]
    },
    {
     "name": "stdout",
     "output_type": "stream",
     "text": [
      "\r",
      "Epoch 39:   5%|██▋                                                 | 1/19 [00:00<00:02,  6.46it/s, loss=0.767, v_num=84]"
     ]
    },
    {
     "name": "stdout",
     "output_type": "stream",
     "text": [
      "\r",
      "Epoch 39:  11%|█████▍                                              | 2/19 [00:00<00:01,  9.46it/s, loss=0.767, v_num=84]"
     ]
    },
    {
     "name": "stdout",
     "output_type": "stream",
     "text": [
      "\r",
      "Epoch 39:  16%|████████▏                                           | 3/19 [00:00<00:01, 12.36it/s, loss=0.767, v_num=84]"
     ]
    },
    {
     "name": "stdout",
     "output_type": "stream",
     "text": [
      "\r",
      "Epoch 39:  21%|██████████▉                                         | 4/19 [00:00<00:00, 15.19it/s, loss=0.773, v_num=84]"
     ]
    },
    {
     "name": "stdout",
     "output_type": "stream",
     "text": [
      "\r",
      "Epoch 39:  26%|█████████████▋                                      | 5/19 [00:00<00:00, 17.86it/s, loss=0.774, v_num=84]"
     ]
    },
    {
     "name": "stdout",
     "output_type": "stream",
     "text": [
      "\r",
      "Epoch 39:  32%|████████████████▍                                   | 6/19 [00:00<00:00, 20.52it/s, loss=0.774, v_num=84]"
     ]
    },
    {
     "name": "stdout",
     "output_type": "stream",
     "text": [
      "\r",
      "Epoch 39:  37%|███████████████████▏                                | 7/19 [00:00<00:00, 23.05it/s, loss=0.776, v_num=84]"
     ]
    },
    {
     "name": "stdout",
     "output_type": "stream",
     "text": [
      "\r",
      "Epoch 39:  42%|█████████████████████▉                              | 8/19 [00:00<00:00, 25.42it/s, loss=0.776, v_num=84]"
     ]
    },
    {
     "name": "stdout",
     "output_type": "stream",
     "text": [
      "\r",
      "Epoch 39:  47%|████████████████████████▋                           | 9/19 [00:00<00:00, 27.76it/s, loss=0.772, v_num=84]"
     ]
    },
    {
     "name": "stdout",
     "output_type": "stream",
     "text": [
      "\r",
      "Epoch 39:  53%|██████████████████████████▊                        | 10/19 [00:00<00:00, 30.02it/s, loss=0.776, v_num=84]"
     ]
    },
    {
     "name": "stdout",
     "output_type": "stream",
     "text": [
      "\r",
      "Epoch 39:  58%|█████████████████████████████▌                     | 11/19 [00:00<00:00, 32.23it/s, loss=0.768, v_num=84]"
     ]
    },
    {
     "name": "stdout",
     "output_type": "stream",
     "text": [
      "\r",
      "Epoch 39:  63%|████████████████████████████████▏                  | 12/19 [00:00<00:00, 34.43it/s, loss=0.766, v_num=84]"
     ]
    },
    {
     "name": "stdout",
     "output_type": "stream",
     "text": [
      "\r",
      "Epoch 39:  68%|██████████████████████████████████▉                | 13/19 [00:00<00:00, 36.43it/s, loss=0.766, v_num=84]"
     ]
    },
    {
     "name": "stdout",
     "output_type": "stream",
     "text": [
      "\r",
      "Epoch 39:  74%|█████████████████████████████████████▌             | 14/19 [00:00<00:00, 38.46it/s, loss=0.766, v_num=84]"
     ]
    },
    {
     "name": "stdout",
     "output_type": "stream",
     "text": [
      "\r",
      "Epoch 39:  74%|█████████████████████████████████████▌             | 14/19 [00:00<00:00, 38.34it/s, loss=0.764, v_num=84]"
     ]
    },
    {
     "name": "stdout",
     "output_type": "stream",
     "text": [
      "\r",
      "Epoch 39:  79%|████████████████████████████████████████▎          | 15/19 [00:00<00:00, 37.52it/s, loss=0.759, v_num=84]"
     ]
    },
    {
     "name": "stdout",
     "output_type": "stream",
     "text": [
      "\n"
     ]
    },
    {
     "name": "stdout",
     "output_type": "stream",
     "text": [
      "\r",
      "Validating: 0it [00:00, ?it/s]"
     ]
    },
    {
     "name": "stdout",
     "output_type": "stream",
     "text": [
      "\u001b[A"
     ]
    },
    {
     "name": "stdout",
     "output_type": "stream",
     "text": [
      "\n"
     ]
    },
    {
     "name": "stdout",
     "output_type": "stream",
     "text": [
      "\r",
      "Validating:   0%|                                                                                 | 0/4 [00:00<?, ?it/s]"
     ]
    },
    {
     "name": "stdout",
     "output_type": "stream",
     "text": [
      "\u001b[A"
     ]
    },
    {
     "name": "stdout",
     "output_type": "stream",
     "text": [
      "\n"
     ]
    },
    {
     "name": "stdout",
     "output_type": "stream",
     "text": [
      "\r",
      "Validating:  25%|██████████████████▎                                                      | 1/4 [00:00<00:00,  4.44it/s]"
     ]
    },
    {
     "name": "stdout",
     "output_type": "stream",
     "text": [
      "\u001b[A"
     ]
    },
    {
     "name": "stdout",
     "output_type": "stream",
     "text": [
      "\r",
      "Epoch 39: 100%|███████████████████████████████████████████████████| 19/19 [00:00<00:00, 28.58it/s, loss=0.759, v_num=84]"
     ]
    },
    {
     "name": "stdout",
     "output_type": "stream",
     "text": [
      "\n"
     ]
    },
    {
     "name": "stdout",
     "output_type": "stream",
     "text": [
      "\r",
      "                                                                                                                        "
     ]
    },
    {
     "name": "stdout",
     "output_type": "stream",
     "text": [
      "\u001b[A"
     ]
    },
    {
     "name": "stdout",
     "output_type": "stream",
     "text": [
      "\r",
      "Epoch 39:   0%|                                                 | 0/19 [00:00<00:00, 24966.10it/s, loss=0.759, v_num=84]"
     ]
    },
    {
     "name": "stdout",
     "output_type": "stream",
     "text": [
      "\r",
      "Epoch 40:   0%|                                                  | 0/19 [00:00<00:00, 1201.81it/s, loss=0.759, v_num=84]"
     ]
    },
    {
     "name": "stdout",
     "output_type": "stream",
     "text": [
      "\r",
      "Epoch 40:   5%|██▋                                                 | 1/19 [00:00<00:02,  7.31it/s, loss=0.767, v_num=84]"
     ]
    },
    {
     "name": "stdout",
     "output_type": "stream",
     "text": [
      "\r",
      "Epoch 40:  11%|█████▍                                              | 2/19 [00:00<00:01, 10.61it/s, loss=0.767, v_num=84]"
     ]
    },
    {
     "name": "stdout",
     "output_type": "stream",
     "text": [
      "\r",
      "Epoch 40:  16%|████████▏                                           | 3/19 [00:00<00:01, 13.81it/s, loss=0.767, v_num=84]"
     ]
    },
    {
     "name": "stdout",
     "output_type": "stream",
     "text": [
      "\r",
      "Epoch 40:  21%|██████████▉                                         | 4/19 [00:00<00:00, 16.88it/s, loss=0.772, v_num=84]"
     ]
    },
    {
     "name": "stdout",
     "output_type": "stream",
     "text": [
      "\r",
      "Epoch 40:  26%|█████████████▋                                      | 5/19 [00:00<00:00, 19.81it/s, loss=0.774, v_num=84]"
     ]
    },
    {
     "name": "stdout",
     "output_type": "stream",
     "text": [
      "\r",
      "Epoch 40:  32%|████████████████▍                                   | 6/19 [00:00<00:00, 22.41it/s, loss=0.774, v_num=84]"
     ]
    },
    {
     "name": "stdout",
     "output_type": "stream",
     "text": [
      "\r",
      "Epoch 40:  37%|███████████████████▏                                | 7/19 [00:00<00:00, 25.05it/s, loss=0.776, v_num=84]"
     ]
    },
    {
     "name": "stdout",
     "output_type": "stream",
     "text": [
      "\r",
      "Epoch 40:  42%|█████████████████████▉                              | 8/19 [00:00<00:00, 27.67it/s, loss=0.776, v_num=84]"
     ]
    },
    {
     "name": "stdout",
     "output_type": "stream",
     "text": [
      "\r",
      "Epoch 40:  47%|████████████████████████▋                           | 9/19 [00:00<00:00, 29.93it/s, loss=0.772, v_num=84]"
     ]
    },
    {
     "name": "stdout",
     "output_type": "stream",
     "text": [
      "\r",
      "Epoch 40:  53%|██████████████████████████▊                        | 10/19 [00:00<00:00, 32.26it/s, loss=0.775, v_num=84]"
     ]
    },
    {
     "name": "stdout",
     "output_type": "stream",
     "text": [
      "\r",
      "Epoch 40:  58%|█████████████████████████████▌                     | 11/19 [00:00<00:00, 34.35it/s, loss=0.768, v_num=84]"
     ]
    },
    {
     "name": "stdout",
     "output_type": "stream",
     "text": [
      "\r",
      "Epoch 40:  63%|████████████████████████████████▏                  | 12/19 [00:00<00:00, 36.42it/s, loss=0.766, v_num=84]"
     ]
    },
    {
     "name": "stdout",
     "output_type": "stream",
     "text": [
      "\r",
      "Epoch 40:  68%|██████████████████████████████████▉                | 13/19 [00:00<00:00, 38.35it/s, loss=0.766, v_num=84]"
     ]
    },
    {
     "name": "stdout",
     "output_type": "stream",
     "text": [
      "\r",
      "Epoch 40:  74%|█████████████████████████████████████▌             | 14/19 [00:00<00:00, 40.40it/s, loss=0.766, v_num=84]"
     ]
    },
    {
     "name": "stdout",
     "output_type": "stream",
     "text": [
      "\r",
      "Epoch 40:  74%|█████████████████████████████████████▌             | 14/19 [00:00<00:00, 40.25it/s, loss=0.764, v_num=84]"
     ]
    },
    {
     "name": "stdout",
     "output_type": "stream",
     "text": [
      "\r",
      "Epoch 40:  79%|████████████████████████████████████████▎          | 15/19 [00:00<00:00, 38.69it/s, loss=0.759, v_num=84]"
     ]
    },
    {
     "name": "stdout",
     "output_type": "stream",
     "text": [
      "\n"
     ]
    },
    {
     "name": "stdout",
     "output_type": "stream",
     "text": [
      "\r",
      "Validating: 0it [00:00, ?it/s]"
     ]
    },
    {
     "name": "stdout",
     "output_type": "stream",
     "text": [
      "\u001b[A"
     ]
    },
    {
     "name": "stdout",
     "output_type": "stream",
     "text": [
      "\n"
     ]
    },
    {
     "name": "stdout",
     "output_type": "stream",
     "text": [
      "\r",
      "Validating:   0%|                                                                                 | 0/4 [00:00<?, ?it/s]"
     ]
    },
    {
     "name": "stdout",
     "output_type": "stream",
     "text": [
      "\u001b[A"
     ]
    },
    {
     "name": "stdout",
     "output_type": "stream",
     "text": [
      "\n"
     ]
    },
    {
     "name": "stdout",
     "output_type": "stream",
     "text": [
      "\r",
      "Validating:  25%|██████████████████▎                                                      | 1/4 [00:00<00:00,  4.18it/s]"
     ]
    },
    {
     "name": "stdout",
     "output_type": "stream",
     "text": [
      "\u001b[A"
     ]
    },
    {
     "name": "stdout",
     "output_type": "stream",
     "text": [
      "\r",
      "Epoch 40: 100%|███████████████████████████████████████████████████| 19/19 [00:00<00:00, 28.50it/s, loss=0.759, v_num=84]"
     ]
    },
    {
     "name": "stdout",
     "output_type": "stream",
     "text": [
      "\n"
     ]
    },
    {
     "name": "stdout",
     "output_type": "stream",
     "text": [
      "\r",
      "                                                                                                                        "
     ]
    },
    {
     "name": "stdout",
     "output_type": "stream",
     "text": [
      "\u001b[A"
     ]
    },
    {
     "name": "stdout",
     "output_type": "stream",
     "text": [
      "\r",
      "Epoch 40:   0%|                                                 | 0/19 [00:00<00:00, 24385.49it/s, loss=0.759, v_num=84]"
     ]
    },
    {
     "name": "stdout",
     "output_type": "stream",
     "text": [
      "\r",
      "Epoch 41:   0%|                                                  | 0/19 [00:00<00:00, 1042.84it/s, loss=0.759, v_num=84]"
     ]
    },
    {
     "name": "stdout",
     "output_type": "stream",
     "text": [
      "\r",
      "Epoch 41:   5%|██▋                                                 | 1/19 [00:00<00:02,  6.39it/s, loss=0.767, v_num=84]"
     ]
    },
    {
     "name": "stdout",
     "output_type": "stream",
     "text": [
      "\r",
      "Epoch 41:  11%|█████▍                                              | 2/19 [00:00<00:01,  9.33it/s, loss=0.766, v_num=84]"
     ]
    },
    {
     "name": "stdout",
     "output_type": "stream",
     "text": [
      "\r",
      "Epoch 41:  16%|████████▏                                           | 3/19 [00:00<00:01, 12.21it/s, loss=0.766, v_num=84]"
     ]
    },
    {
     "name": "stdout",
     "output_type": "stream",
     "text": [
      "\r",
      "Epoch 41:  21%|██████████▉                                         | 4/19 [00:00<00:00, 15.03it/s, loss=0.772, v_num=84]"
     ]
    },
    {
     "name": "stdout",
     "output_type": "stream",
     "text": [
      "\r",
      "Epoch 41:  26%|█████████████▋                                      | 5/19 [00:00<00:00, 17.74it/s, loss=0.773, v_num=84]"
     ]
    },
    {
     "name": "stdout",
     "output_type": "stream",
     "text": [
      "\r",
      "Epoch 41:  32%|████████████████▍                                   | 6/19 [00:00<00:00, 20.35it/s, loss=0.773, v_num=84]"
     ]
    },
    {
     "name": "stdout",
     "output_type": "stream",
     "text": [
      "\r",
      "Epoch 41:  37%|███████████████████▏                                | 7/19 [00:00<00:00, 22.88it/s, loss=0.776, v_num=84]"
     ]
    },
    {
     "name": "stdout",
     "output_type": "stream",
     "text": [
      "\r",
      "Epoch 41:  42%|█████████████████████▉                              | 8/19 [00:00<00:00, 25.37it/s, loss=0.775, v_num=84]"
     ]
    },
    {
     "name": "stdout",
     "output_type": "stream",
     "text": [
      "\r",
      "Epoch 41:  47%|████████████████████████▋                           | 9/19 [00:00<00:00, 27.68it/s, loss=0.771, v_num=84]"
     ]
    },
    {
     "name": "stdout",
     "output_type": "stream",
     "text": [
      "\r",
      "Epoch 41:  53%|██████████████████████████▊                        | 10/19 [00:00<00:00, 29.95it/s, loss=0.775, v_num=84]"
     ]
    },
    {
     "name": "stdout",
     "output_type": "stream",
     "text": [
      "\r",
      "Epoch 41:  58%|█████████████████████████████▌                     | 11/19 [00:00<00:00, 32.15it/s, loss=0.767, v_num=84]"
     ]
    },
    {
     "name": "stdout",
     "output_type": "stream",
     "text": [
      "\r",
      "Epoch 41:  63%|████████████████████████████████▏                  | 12/19 [00:00<00:00, 34.35it/s, loss=0.765, v_num=84]"
     ]
    },
    {
     "name": "stdout",
     "output_type": "stream",
     "text": [
      "\r",
      "Epoch 41:  68%|██████████████████████████████████▉                | 13/19 [00:00<00:00, 36.51it/s, loss=0.765, v_num=84]"
     ]
    },
    {
     "name": "stdout",
     "output_type": "stream",
     "text": [
      "\r",
      "Epoch 41:  74%|█████████████████████████████████████▌             | 14/19 [00:00<00:00, 38.63it/s, loss=0.765, v_num=84]"
     ]
    },
    {
     "name": "stdout",
     "output_type": "stream",
     "text": [
      "\r",
      "Epoch 41:  74%|█████████████████████████████████████▌             | 14/19 [00:00<00:00, 38.49it/s, loss=0.764, v_num=84]"
     ]
    },
    {
     "name": "stdout",
     "output_type": "stream",
     "text": [
      "\r",
      "Epoch 41:  79%|████████████████████████████████████████▎          | 15/19 [00:00<00:00, 37.77it/s, loss=0.759, v_num=84]"
     ]
    },
    {
     "name": "stdout",
     "output_type": "stream",
     "text": [
      "\n"
     ]
    },
    {
     "name": "stdout",
     "output_type": "stream",
     "text": [
      "\r",
      "Validating: 0it [00:00, ?it/s]"
     ]
    },
    {
     "name": "stdout",
     "output_type": "stream",
     "text": [
      "\u001b[A"
     ]
    },
    {
     "name": "stdout",
     "output_type": "stream",
     "text": [
      "\n"
     ]
    },
    {
     "name": "stdout",
     "output_type": "stream",
     "text": [
      "\r",
      "Validating:   0%|                                                                                 | 0/4 [00:00<?, ?it/s]"
     ]
    },
    {
     "name": "stdout",
     "output_type": "stream",
     "text": [
      "\u001b[A"
     ]
    },
    {
     "name": "stdout",
     "output_type": "stream",
     "text": [
      "\n"
     ]
    },
    {
     "name": "stdout",
     "output_type": "stream",
     "text": [
      "\r",
      "Validating:  25%|██████████████████▎                                                      | 1/4 [00:00<00:00,  4.37it/s]"
     ]
    },
    {
     "name": "stdout",
     "output_type": "stream",
     "text": [
      "\u001b[A"
     ]
    },
    {
     "name": "stdout",
     "output_type": "stream",
     "text": [
      "\r",
      "Epoch 41: 100%|███████████████████████████████████████████████████| 19/19 [00:00<00:00, 28.68it/s, loss=0.759, v_num=84]"
     ]
    },
    {
     "name": "stdout",
     "output_type": "stream",
     "text": [
      "\n"
     ]
    },
    {
     "name": "stdout",
     "output_type": "stream",
     "text": [
      "\r",
      "                                                                                                                        "
     ]
    },
    {
     "name": "stdout",
     "output_type": "stream",
     "text": [
      "\u001b[A"
     ]
    },
    {
     "name": "stdout",
     "output_type": "stream",
     "text": [
      "\r",
      "Epoch 41:   0%|                                                 | 0/19 [00:00<00:00, 22192.08it/s, loss=0.759, v_num=84]"
     ]
    },
    {
     "name": "stdout",
     "output_type": "stream",
     "text": [
      "\r",
      "Epoch 42:   0%|                                                  | 0/19 [00:00<00:00, 1077.12it/s, loss=0.759, v_num=84]"
     ]
    },
    {
     "name": "stdout",
     "output_type": "stream",
     "text": [
      "\r",
      "Epoch 42:   5%|██▋                                                 | 1/19 [00:00<00:02,  6.99it/s, loss=0.766, v_num=84]"
     ]
    },
    {
     "name": "stdout",
     "output_type": "stream",
     "text": [
      "\r",
      "Epoch 42:  11%|█████▍                                              | 2/19 [00:00<00:01, 10.19it/s, loss=0.766, v_num=84]"
     ]
    },
    {
     "name": "stdout",
     "output_type": "stream",
     "text": [
      "\r",
      "Epoch 42:  16%|████████▏                                           | 3/19 [00:00<00:01, 13.32it/s, loss=0.766, v_num=84]"
     ]
    },
    {
     "name": "stdout",
     "output_type": "stream",
     "text": [
      "\r",
      "Epoch 42:  21%|██████████▉                                         | 4/19 [00:00<00:00, 16.31it/s, loss=0.772, v_num=84]"
     ]
    },
    {
     "name": "stdout",
     "output_type": "stream",
     "text": [
      "\r",
      "Epoch 42:  26%|█████████████▋                                      | 5/19 [00:00<00:00, 19.12it/s, loss=0.773, v_num=84]"
     ]
    },
    {
     "name": "stdout",
     "output_type": "stream",
     "text": [
      "\r",
      "Epoch 42:  32%|████████████████▍                                   | 6/19 [00:00<00:00, 21.74it/s, loss=0.773, v_num=84]"
     ]
    },
    {
     "name": "stdout",
     "output_type": "stream",
     "text": [
      "\r",
      "Epoch 42:  37%|███████████████████▏                                | 7/19 [00:00<00:00, 24.30it/s, loss=0.775, v_num=84]"
     ]
    },
    {
     "name": "stdout",
     "output_type": "stream",
     "text": [
      "\r",
      "Epoch 42:  42%|█████████████████████▉                              | 8/19 [00:00<00:00, 26.83it/s, loss=0.775, v_num=84]"
     ]
    },
    {
     "name": "stdout",
     "output_type": "stream",
     "text": [
      "\r",
      "Epoch 42:  47%|████████████████████████▋                           | 9/19 [00:00<00:00, 29.26it/s, loss=0.771, v_num=84]"
     ]
    },
    {
     "name": "stdout",
     "output_type": "stream",
     "text": [
      "\r",
      "Epoch 42:  53%|██████████████████████████▊                        | 10/19 [00:00<00:00, 31.69it/s, loss=0.775, v_num=84]"
     ]
    },
    {
     "name": "stdout",
     "output_type": "stream",
     "text": [
      "\r",
      "Epoch 42:  58%|█████████████████████████████▌                     | 11/19 [00:00<00:00, 33.89it/s, loss=0.767, v_num=84]"
     ]
    },
    {
     "name": "stdout",
     "output_type": "stream",
     "text": [
      "\r",
      "Epoch 42:  63%|████████████████████████████████▏                  | 12/19 [00:00<00:00, 36.08it/s, loss=0.765, v_num=84]"
     ]
    },
    {
     "name": "stdout",
     "output_type": "stream",
     "text": [
      "\r",
      "Epoch 42:  68%|██████████████████████████████████▉                | 13/19 [00:00<00:00, 38.22it/s, loss=0.765, v_num=84]"
     ]
    },
    {
     "name": "stdout",
     "output_type": "stream",
     "text": [
      "\r",
      "Epoch 42:  74%|█████████████████████████████████████▌             | 14/19 [00:00<00:00, 40.07it/s, loss=0.765, v_num=84]"
     ]
    },
    {
     "name": "stdout",
     "output_type": "stream",
     "text": [
      "\r",
      "Epoch 42:  74%|█████████████████████████████████████▌             | 14/19 [00:00<00:00, 39.91it/s, loss=0.763, v_num=84]"
     ]
    },
    {
     "name": "stdout",
     "output_type": "stream",
     "text": [
      "\r",
      "Epoch 42:  79%|████████████████████████████████████████▎          | 15/19 [00:00<00:00, 38.91it/s, loss=0.758, v_num=84]"
     ]
    },
    {
     "name": "stdout",
     "output_type": "stream",
     "text": [
      "\n"
     ]
    },
    {
     "name": "stdout",
     "output_type": "stream",
     "text": [
      "\r",
      "Validating: 0it [00:00, ?it/s]"
     ]
    },
    {
     "name": "stdout",
     "output_type": "stream",
     "text": [
      "\u001b[A"
     ]
    },
    {
     "name": "stdout",
     "output_type": "stream",
     "text": [
      "\n"
     ]
    },
    {
     "name": "stdout",
     "output_type": "stream",
     "text": [
      "\r",
      "Validating:   0%|                                                                                 | 0/4 [00:00<?, ?it/s]"
     ]
    },
    {
     "name": "stdout",
     "output_type": "stream",
     "text": [
      "\u001b[A"
     ]
    },
    {
     "name": "stdout",
     "output_type": "stream",
     "text": [
      "\n"
     ]
    },
    {
     "name": "stdout",
     "output_type": "stream",
     "text": [
      "\r",
      "Validating:  25%|██████████████████▎                                                      | 1/4 [00:00<00:00,  3.82it/s]"
     ]
    },
    {
     "name": "stdout",
     "output_type": "stream",
     "text": [
      "\u001b[A"
     ]
    },
    {
     "name": "stdout",
     "output_type": "stream",
     "text": [
      "\r",
      "Epoch 42: 100%|███████████████████████████████████████████████████| 19/19 [00:00<00:00, 27.77it/s, loss=0.758, v_num=84]"
     ]
    },
    {
     "name": "stdout",
     "output_type": "stream",
     "text": [
      "\n"
     ]
    },
    {
     "name": "stdout",
     "output_type": "stream",
     "text": [
      "\r",
      "                                                                                                                        "
     ]
    },
    {
     "name": "stdout",
     "output_type": "stream",
     "text": [
      "\u001b[A"
     ]
    },
    {
     "name": "stdout",
     "output_type": "stream",
     "text": [
      "\r",
      "Epoch 42:   0%|                                                 | 0/19 [00:00<00:00, 26546.23it/s, loss=0.758, v_num=84]"
     ]
    },
    {
     "name": "stdout",
     "output_type": "stream",
     "text": [
      "\r",
      "Epoch 43:   0%|                                                  | 0/19 [00:00<00:00, 1000.07it/s, loss=0.758, v_num=84]"
     ]
    },
    {
     "name": "stdout",
     "output_type": "stream",
     "text": [
      "\r",
      "Epoch 43:   5%|██▋                                                 | 1/19 [00:00<00:02,  7.18it/s, loss=0.766, v_num=84]"
     ]
    },
    {
     "name": "stdout",
     "output_type": "stream",
     "text": [
      "\r",
      "Epoch 43:  11%|█████▍                                              | 2/19 [00:00<00:01, 10.39it/s, loss=0.765, v_num=84]"
     ]
    },
    {
     "name": "stdout",
     "output_type": "stream",
     "text": [
      "\r",
      "Epoch 43:  16%|████████▏                                           | 3/19 [00:00<00:01, 13.52it/s, loss=0.766, v_num=84]"
     ]
    },
    {
     "name": "stdout",
     "output_type": "stream",
     "text": [
      "\r",
      "Epoch 43:  21%|██████████▉                                         | 4/19 [00:00<00:00, 16.57it/s, loss=0.771, v_num=84]"
     ]
    },
    {
     "name": "stdout",
     "output_type": "stream",
     "text": [
      "\r",
      "Epoch 43:  26%|█████████████▋                                      | 5/19 [00:00<00:00, 19.38it/s, loss=0.773, v_num=84]"
     ]
    },
    {
     "name": "stdout",
     "output_type": "stream",
     "text": [
      "\r",
      "Epoch 43:  32%|████████████████▍                                   | 6/19 [00:00<00:00, 22.03it/s, loss=0.773, v_num=84]"
     ]
    },
    {
     "name": "stdout",
     "output_type": "stream",
     "text": [
      "\r",
      "Epoch 43:  37%|███████████████████▏                                | 7/19 [00:00<00:00, 24.67it/s, loss=0.775, v_num=84]"
     ]
    },
    {
     "name": "stdout",
     "output_type": "stream",
     "text": [
      "\r",
      "Epoch 43:  42%|█████████████████████▉                              | 8/19 [00:00<00:00, 27.23it/s, loss=0.775, v_num=84]"
     ]
    },
    {
     "name": "stdout",
     "output_type": "stream",
     "text": [
      "\r",
      "Epoch 43:  47%|█████████████████████████                            | 9/19 [00:00<00:00, 29.50it/s, loss=0.77, v_num=84]"
     ]
    },
    {
     "name": "stdout",
     "output_type": "stream",
     "text": [
      "\r",
      "Epoch 43:  53%|██████████████████████████▊                        | 10/19 [00:00<00:00, 31.86it/s, loss=0.774, v_num=84]"
     ]
    },
    {
     "name": "stdout",
     "output_type": "stream",
     "text": [
      "\r",
      "Epoch 43:  58%|█████████████████████████████▌                     | 11/19 [00:00<00:00, 33.97it/s, loss=0.767, v_num=84]"
     ]
    },
    {
     "name": "stdout",
     "output_type": "stream",
     "text": [
      "\r",
      "Epoch 43:  63%|████████████████████████████████▏                  | 12/19 [00:00<00:00, 36.16it/s, loss=0.765, v_num=84]"
     ]
    },
    {
     "name": "stdout",
     "output_type": "stream",
     "text": [
      "\r",
      "Epoch 43:  68%|██████████████████████████████████▉                | 13/19 [00:00<00:00, 38.16it/s, loss=0.765, v_num=84]"
     ]
    },
    {
     "name": "stdout",
     "output_type": "stream",
     "text": [
      "\r",
      "Epoch 43:  74%|█████████████████████████████████████▌             | 14/19 [00:00<00:00, 40.17it/s, loss=0.765, v_num=84]"
     ]
    },
    {
     "name": "stdout",
     "output_type": "stream",
     "text": [
      "\r",
      "Epoch 43:  74%|█████████████████████████████████████▌             | 14/19 [00:00<00:00, 40.04it/s, loss=0.763, v_num=84]"
     ]
    },
    {
     "name": "stdout",
     "output_type": "stream",
     "text": [
      "\r",
      "Epoch 43:  79%|████████████████████████████████████████▎          | 15/19 [00:00<00:00, 38.74it/s, loss=0.758, v_num=84]"
     ]
    },
    {
     "name": "stdout",
     "output_type": "stream",
     "text": [
      "\n"
     ]
    },
    {
     "name": "stdout",
     "output_type": "stream",
     "text": [
      "\r",
      "Validating: 0it [00:00, ?it/s]"
     ]
    },
    {
     "name": "stdout",
     "output_type": "stream",
     "text": [
      "\u001b[A"
     ]
    },
    {
     "name": "stdout",
     "output_type": "stream",
     "text": [
      "\n"
     ]
    },
    {
     "name": "stdout",
     "output_type": "stream",
     "text": [
      "\r",
      "Validating:   0%|                                                                                 | 0/4 [00:00<?, ?it/s]"
     ]
    },
    {
     "name": "stdout",
     "output_type": "stream",
     "text": [
      "\u001b[A"
     ]
    },
    {
     "name": "stdout",
     "output_type": "stream",
     "text": [
      "\n"
     ]
    },
    {
     "name": "stdout",
     "output_type": "stream",
     "text": [
      "\r",
      "Validating:  25%|██████████████████▎                                                      | 1/4 [00:00<00:00,  4.21it/s]"
     ]
    },
    {
     "name": "stdout",
     "output_type": "stream",
     "text": [
      "\u001b[A"
     ]
    },
    {
     "name": "stdout",
     "output_type": "stream",
     "text": [
      "\r",
      "Epoch 43: 100%|███████████████████████████████████████████████████| 19/19 [00:00<00:00, 28.59it/s, loss=0.758, v_num=84]"
     ]
    },
    {
     "name": "stdout",
     "output_type": "stream",
     "text": [
      "\n"
     ]
    },
    {
     "name": "stdout",
     "output_type": "stream",
     "text": [
      "\r",
      "                                                                                                                        "
     ]
    },
    {
     "name": "stdout",
     "output_type": "stream",
     "text": [
      "\u001b[A"
     ]
    },
    {
     "name": "stdout",
     "output_type": "stream",
     "text": [
      "\r",
      "Epoch 43:   0%|                                                 | 0/19 [00:00<00:00, 23431.87it/s, loss=0.758, v_num=84]"
     ]
    },
    {
     "name": "stdout",
     "output_type": "stream",
     "text": [
      "\r",
      "Epoch 44:   0%|                                                  | 0/19 [00:00<00:00, 1117.59it/s, loss=0.758, v_num=84]"
     ]
    },
    {
     "name": "stdout",
     "output_type": "stream",
     "text": [
      "\r",
      "Epoch 44:   5%|██▋                                                 | 1/19 [00:00<00:02,  6.40it/s, loss=0.765, v_num=84]"
     ]
    },
    {
     "name": "stdout",
     "output_type": "stream",
     "text": [
      "\r",
      "Epoch 44:  11%|█████▍                                              | 2/19 [00:00<00:01,  9.34it/s, loss=0.765, v_num=84]"
     ]
    },
    {
     "name": "stdout",
     "output_type": "stream",
     "text": [
      "\r",
      "Epoch 44:  16%|████████▏                                           | 3/19 [00:00<00:01, 12.25it/s, loss=0.765, v_num=84]"
     ]
    },
    {
     "name": "stdout",
     "output_type": "stream",
     "text": [
      "\r",
      "Epoch 44:  21%|██████████▉                                         | 4/19 [00:00<00:00, 15.06it/s, loss=0.771, v_num=84]"
     ]
    },
    {
     "name": "stdout",
     "output_type": "stream",
     "text": [
      "\r",
      "Epoch 44:  26%|█████████████▋                                      | 5/19 [00:00<00:00, 17.73it/s, loss=0.772, v_num=84]"
     ]
    },
    {
     "name": "stdout",
     "output_type": "stream",
     "text": [
      "\r",
      "Epoch 44:  32%|████████████████▍                                   | 6/19 [00:00<00:00, 20.38it/s, loss=0.772, v_num=84]"
     ]
    },
    {
     "name": "stdout",
     "output_type": "stream",
     "text": [
      "\r",
      "Epoch 44:  37%|███████████████████▏                                | 7/19 [00:00<00:00, 22.94it/s, loss=0.775, v_num=84]"
     ]
    },
    {
     "name": "stdout",
     "output_type": "stream",
     "text": [
      "\r",
      "Epoch 44:  42%|█████████████████████▉                              | 8/19 [00:00<00:00, 25.38it/s, loss=0.774, v_num=84]"
     ]
    },
    {
     "name": "stdout",
     "output_type": "stream",
     "text": [
      "\r",
      "Epoch 44:  47%|█████████████████████████                            | 9/19 [00:00<00:00, 27.78it/s, loss=0.77, v_num=84]"
     ]
    },
    {
     "name": "stdout",
     "output_type": "stream",
     "text": [
      "\r",
      "Epoch 44:  53%|██████████████████████████▊                        | 10/19 [00:00<00:00, 30.08it/s, loss=0.774, v_num=84]"
     ]
    },
    {
     "name": "stdout",
     "output_type": "stream",
     "text": [
      "\r",
      "Epoch 44:  58%|█████████████████████████████▌                     | 11/19 [00:00<00:00, 32.31it/s, loss=0.766, v_num=84]"
     ]
    },
    {
     "name": "stdout",
     "output_type": "stream",
     "text": [
      "\r",
      "Epoch 44:  63%|████████████████████████████████▏                  | 12/19 [00:00<00:00, 34.53it/s, loss=0.764, v_num=84]"
     ]
    },
    {
     "name": "stdout",
     "output_type": "stream",
     "text": [
      "\r",
      "Epoch 44:  68%|██████████████████████████████████▉                | 13/19 [00:00<00:00, 36.62it/s, loss=0.764, v_num=84]"
     ]
    },
    {
     "name": "stdout",
     "output_type": "stream",
     "text": [
      "\r",
      "Epoch 44:  74%|█████████████████████████████████████▌             | 14/19 [00:00<00:00, 38.68it/s, loss=0.764, v_num=84]"
     ]
    },
    {
     "name": "stdout",
     "output_type": "stream",
     "text": [
      "\r",
      "Epoch 44:  74%|█████████████████████████████████████▌             | 14/19 [00:00<00:00, 38.54it/s, loss=0.763, v_num=84]"
     ]
    },
    {
     "name": "stdout",
     "output_type": "stream",
     "text": [
      "\r",
      "Epoch 44:  79%|████████████████████████████████████████▎          | 15/19 [00:00<00:00, 37.52it/s, loss=0.758, v_num=84]"
     ]
    },
    {
     "name": "stdout",
     "output_type": "stream",
     "text": [
      "\n"
     ]
    },
    {
     "name": "stdout",
     "output_type": "stream",
     "text": [
      "\r",
      "Validating: 0it [00:00, ?it/s]"
     ]
    },
    {
     "name": "stdout",
     "output_type": "stream",
     "text": [
      "\u001b[A"
     ]
    },
    {
     "name": "stdout",
     "output_type": "stream",
     "text": [
      "\n"
     ]
    },
    {
     "name": "stdout",
     "output_type": "stream",
     "text": [
      "\r",
      "Validating:   0%|                                                                                 | 0/4 [00:00<?, ?it/s]"
     ]
    },
    {
     "name": "stdout",
     "output_type": "stream",
     "text": [
      "\u001b[A"
     ]
    },
    {
     "name": "stdout",
     "output_type": "stream",
     "text": [
      "\n"
     ]
    },
    {
     "name": "stdout",
     "output_type": "stream",
     "text": [
      "\r",
      "Validating:  25%|██████████████████▎                                                      | 1/4 [00:00<00:00,  4.47it/s]"
     ]
    },
    {
     "name": "stdout",
     "output_type": "stream",
     "text": [
      "\u001b[A"
     ]
    },
    {
     "name": "stdout",
     "output_type": "stream",
     "text": [
      "\r",
      "Epoch 44: 100%|███████████████████████████████████████████████████| 19/19 [00:00<00:00, 28.65it/s, loss=0.758, v_num=84]"
     ]
    },
    {
     "name": "stdout",
     "output_type": "stream",
     "text": [
      "\n"
     ]
    },
    {
     "name": "stdout",
     "output_type": "stream",
     "text": [
      "\r",
      "                                                                                                                        "
     ]
    },
    {
     "name": "stdout",
     "output_type": "stream",
     "text": [
      "\u001b[A"
     ]
    },
    {
     "name": "stdout",
     "output_type": "stream",
     "text": [
      "\r",
      "Epoch 44:   0%|                                                 | 0/19 [00:00<00:00, 24385.49it/s, loss=0.758, v_num=84]"
     ]
    },
    {
     "name": "stdout",
     "output_type": "stream",
     "text": [
      "\r",
      "Epoch 45:   0%|                                                  | 0/19 [00:00<00:00, 1059.70it/s, loss=0.758, v_num=84]"
     ]
    },
    {
     "name": "stdout",
     "output_type": "stream",
     "text": [
      "\r",
      "Epoch 45:   5%|██▋                                                 | 1/19 [00:00<00:02,  7.08it/s, loss=0.765, v_num=84]"
     ]
    },
    {
     "name": "stdout",
     "output_type": "stream",
     "text": [
      "\r",
      "Epoch 45:  11%|█████▍                                              | 2/19 [00:00<00:01, 10.33it/s, loss=0.765, v_num=84]"
     ]
    },
    {
     "name": "stdout",
     "output_type": "stream",
     "text": [
      "\r",
      "Epoch 45:  16%|████████▏                                           | 3/19 [00:00<00:01, 13.48it/s, loss=0.765, v_num=84]"
     ]
    },
    {
     "name": "stdout",
     "output_type": "stream",
     "text": [
      "\r",
      "Epoch 45:  21%|██████████▉                                         | 4/19 [00:00<00:00, 16.52it/s, loss=0.771, v_num=84]"
     ]
    },
    {
     "name": "stdout",
     "output_type": "stream",
     "text": [
      "\r",
      "Epoch 45:  26%|█████████████▋                                      | 5/19 [00:00<00:00, 19.42it/s, loss=0.772, v_num=84]"
     ]
    },
    {
     "name": "stdout",
     "output_type": "stream",
     "text": [
      "\r",
      "Epoch 45:  32%|████████████████▍                                   | 6/19 [00:00<00:00, 22.18it/s, loss=0.772, v_num=84]"
     ]
    },
    {
     "name": "stdout",
     "output_type": "stream",
     "text": [
      "\r",
      "Epoch 45:  37%|███████████████████▏                                | 7/19 [00:00<00:00, 24.91it/s, loss=0.774, v_num=84]"
     ]
    },
    {
     "name": "stdout",
     "output_type": "stream",
     "text": [
      "\r",
      "Epoch 45:  42%|█████████████████████▉                              | 8/19 [00:00<00:00, 27.46it/s, loss=0.774, v_num=84]"
     ]
    },
    {
     "name": "stdout",
     "output_type": "stream",
     "text": [
      "\r",
      "Epoch 45:  47%|█████████████████████████                            | 9/19 [00:00<00:00, 29.99it/s, loss=0.77, v_num=84]"
     ]
    },
    {
     "name": "stdout",
     "output_type": "stream",
     "text": [
      "\r",
      "Epoch 45:  53%|██████████████████████████▊                        | 10/19 [00:00<00:00, 32.49it/s, loss=0.773, v_num=84]"
     ]
    },
    {
     "name": "stdout",
     "output_type": "stream",
     "text": [
      "\r",
      "Epoch 45:  58%|█████████████████████████████▌                     | 11/19 [00:00<00:00, 34.80it/s, loss=0.766, v_num=84]"
     ]
    },
    {
     "name": "stdout",
     "output_type": "stream",
     "text": [
      "\r",
      "Epoch 45:  63%|████████████████████████████████▏                  | 12/19 [00:00<00:00, 37.13it/s, loss=0.764, v_num=84]"
     ]
    },
    {
     "name": "stdout",
     "output_type": "stream",
     "text": [
      "\r",
      "Epoch 45:  68%|██████████████████████████████████▉                | 13/19 [00:00<00:00, 39.38it/s, loss=0.764, v_num=84]"
     ]
    },
    {
     "name": "stdout",
     "output_type": "stream",
     "text": [
      "\r",
      "Epoch 45:  74%|█████████████████████████████████████▌             | 14/19 [00:00<00:00, 41.49it/s, loss=0.764, v_num=84]"
     ]
    },
    {
     "name": "stdout",
     "output_type": "stream",
     "text": [
      "\r",
      "Epoch 45:  74%|█████████████████████████████████████▌             | 14/19 [00:00<00:00, 41.32it/s, loss=0.762, v_num=84]"
     ]
    },
    {
     "name": "stdout",
     "output_type": "stream",
     "text": [
      "\r",
      "Epoch 45:  79%|████████████████████████████████████████▎          | 15/19 [00:00<00:00, 40.25it/s, loss=0.757, v_num=84]"
     ]
    },
    {
     "name": "stdout",
     "output_type": "stream",
     "text": [
      "\n"
     ]
    },
    {
     "name": "stdout",
     "output_type": "stream",
     "text": [
      "\r",
      "Validating: 0it [00:00, ?it/s]"
     ]
    },
    {
     "name": "stdout",
     "output_type": "stream",
     "text": [
      "\u001b[A"
     ]
    },
    {
     "name": "stdout",
     "output_type": "stream",
     "text": [
      "\n"
     ]
    },
    {
     "name": "stdout",
     "output_type": "stream",
     "text": [
      "\r",
      "Validating:   0%|                                                                                 | 0/4 [00:00<?, ?it/s]"
     ]
    },
    {
     "name": "stdout",
     "output_type": "stream",
     "text": [
      "\u001b[A"
     ]
    },
    {
     "name": "stdout",
     "output_type": "stream",
     "text": [
      "\n"
     ]
    },
    {
     "name": "stdout",
     "output_type": "stream",
     "text": [
      "\r",
      "Validating:  25%|██████████████████▎                                                      | 1/4 [00:00<00:00,  4.58it/s]"
     ]
    },
    {
     "name": "stdout",
     "output_type": "stream",
     "text": [
      "\u001b[A"
     ]
    },
    {
     "name": "stdout",
     "output_type": "stream",
     "text": [
      "\r",
      "Epoch 45: 100%|███████████████████████████████████████████████████| 19/19 [00:00<00:00, 30.31it/s, loss=0.757, v_num=84]"
     ]
    },
    {
     "name": "stdout",
     "output_type": "stream",
     "text": [
      "\n"
     ]
    },
    {
     "name": "stdout",
     "output_type": "stream",
     "text": [
      "\r",
      "                                                                                                                        "
     ]
    },
    {
     "name": "stdout",
     "output_type": "stream",
     "text": [
      "\u001b[A"
     ]
    },
    {
     "name": "stdout",
     "output_type": "stream",
     "text": [
      "\r",
      "Epoch 45:   0%|                                                 | 0/19 [00:00<00:00, 26379.27it/s, loss=0.757, v_num=84]"
     ]
    },
    {
     "name": "stdout",
     "output_type": "stream",
     "text": [
      "\r",
      "Epoch 46:   0%|                                                  | 0/19 [00:00<00:00, 1178.84it/s, loss=0.757, v_num=84]"
     ]
    },
    {
     "name": "stdout",
     "output_type": "stream",
     "text": [
      "\r",
      "Epoch 46:   5%|██▋                                                 | 1/19 [00:00<00:03,  5.76it/s, loss=0.765, v_num=84]"
     ]
    },
    {
     "name": "stdout",
     "output_type": "stream",
     "text": [
      "\r",
      "Epoch 46:  11%|█████▍                                              | 2/19 [00:00<00:02,  8.38it/s, loss=0.764, v_num=84]"
     ]
    },
    {
     "name": "stdout",
     "output_type": "stream",
     "text": [
      "\r",
      "Epoch 46:  16%|████████▏                                           | 3/19 [00:00<00:01, 10.98it/s, loss=0.765, v_num=84]"
     ]
    },
    {
     "name": "stdout",
     "output_type": "stream",
     "text": [
      "\r",
      "Epoch 46:  21%|███████████▏                                         | 4/19 [00:00<00:01, 13.44it/s, loss=0.77, v_num=84]"
     ]
    },
    {
     "name": "stdout",
     "output_type": "stream",
     "text": [
      "\r",
      "Epoch 46:  26%|█████████████▋                                      | 5/19 [00:00<00:00, 15.85it/s, loss=0.772, v_num=84]"
     ]
    },
    {
     "name": "stdout",
     "output_type": "stream",
     "text": [
      "\r",
      "Epoch 46:  32%|████████████████▍                                   | 6/19 [00:00<00:00, 18.20it/s, loss=0.772, v_num=84]"
     ]
    },
    {
     "name": "stdout",
     "output_type": "stream",
     "text": [
      "\r",
      "Epoch 46:  37%|███████████████████▏                                | 7/19 [00:00<00:00, 20.46it/s, loss=0.774, v_num=84]"
     ]
    },
    {
     "name": "stdout",
     "output_type": "stream",
     "text": [
      "\r",
      "Epoch 46:  42%|█████████████████████▉                              | 8/19 [00:00<00:00, 22.63it/s, loss=0.774, v_num=84]"
     ]
    },
    {
     "name": "stdout",
     "output_type": "stream",
     "text": [
      "\r",
      "Epoch 46:  47%|████████████████████████▋                           | 9/19 [00:00<00:00, 24.71it/s, loss=0.769, v_num=84]"
     ]
    },
    {
     "name": "stdout",
     "output_type": "stream",
     "text": [
      "\r",
      "Epoch 46:  53%|██████████████████████████▊                        | 10/19 [00:00<00:00, 26.73it/s, loss=0.773, v_num=84]"
     ]
    },
    {
     "name": "stdout",
     "output_type": "stream",
     "text": [
      "\r",
      "Epoch 46:  58%|█████████████████████████████▌                     | 11/19 [00:00<00:00, 28.37it/s, loss=0.766, v_num=84]"
     ]
    },
    {
     "name": "stdout",
     "output_type": "stream",
     "text": [
      "\r",
      "Epoch 46:  63%|████████████████████████████████▏                  | 12/19 [00:00<00:00, 30.19it/s, loss=0.764, v_num=84]"
     ]
    },
    {
     "name": "stdout",
     "output_type": "stream",
     "text": [
      "\r",
      "Epoch 46:  68%|██████████████████████████████████▉                | 13/19 [00:00<00:00, 32.01it/s, loss=0.764, v_num=84]"
     ]
    },
    {
     "name": "stdout",
     "output_type": "stream",
     "text": [
      "\r",
      "Epoch 46:  74%|█████████████████████████████████████▌             | 14/19 [00:00<00:00, 33.81it/s, loss=0.764, v_num=84]"
     ]
    },
    {
     "name": "stdout",
     "output_type": "stream",
     "text": [
      "\r",
      "Epoch 46:  74%|█████████████████████████████████████▌             | 14/19 [00:00<00:00, 33.62it/s, loss=0.762, v_num=84]"
     ]
    },
    {
     "name": "stdout",
     "output_type": "stream",
     "text": [
      "\r",
      "Epoch 46:  79%|████████████████████████████████████████▎          | 15/19 [00:00<00:00, 33.38it/s, loss=0.757, v_num=84]"
     ]
    },
    {
     "name": "stdout",
     "output_type": "stream",
     "text": [
      "\n"
     ]
    },
    {
     "name": "stdout",
     "output_type": "stream",
     "text": [
      "\r",
      "Validating: 0it [00:00, ?it/s]"
     ]
    },
    {
     "name": "stdout",
     "output_type": "stream",
     "text": [
      "\u001b[A"
     ]
    },
    {
     "name": "stdout",
     "output_type": "stream",
     "text": [
      "\n"
     ]
    },
    {
     "name": "stdout",
     "output_type": "stream",
     "text": [
      "\r",
      "Validating:   0%|                                                                                 | 0/4 [00:00<?, ?it/s]"
     ]
    },
    {
     "name": "stdout",
     "output_type": "stream",
     "text": [
      "\u001b[A"
     ]
    },
    {
     "name": "stdout",
     "output_type": "stream",
     "text": [
      "\n"
     ]
    },
    {
     "name": "stdout",
     "output_type": "stream",
     "text": [
      "\r",
      "Validating:  25%|██████████████████▎                                                      | 1/4 [00:00<00:00,  4.45it/s]"
     ]
    },
    {
     "name": "stdout",
     "output_type": "stream",
     "text": [
      "\u001b[A"
     ]
    },
    {
     "name": "stdout",
     "output_type": "stream",
     "text": [
      "\r",
      "Epoch 46: 100%|███████████████████████████████████████████████████| 19/19 [00:00<00:00, 26.63it/s, loss=0.757, v_num=84]"
     ]
    },
    {
     "name": "stdout",
     "output_type": "stream",
     "text": [
      "\n"
     ]
    },
    {
     "name": "stdout",
     "output_type": "stream",
     "text": [
      "\r",
      "                                                                                                                        "
     ]
    },
    {
     "name": "stdout",
     "output_type": "stream",
     "text": [
      "\u001b[A"
     ]
    },
    {
     "name": "stdout",
     "output_type": "stream",
     "text": [
      "\r",
      "Epoch 46:   0%|                                                 | 0/19 [00:00<00:00, 25731.93it/s, loss=0.757, v_num=84]"
     ]
    },
    {
     "name": "stdout",
     "output_type": "stream",
     "text": [
      "\r",
      "Epoch 47:   0%|                                                   | 0/19 [00:00<00:00, 829.08it/s, loss=0.757, v_num=84]"
     ]
    },
    {
     "name": "stdout",
     "output_type": "stream",
     "text": [
      "\r",
      "Epoch 47:   5%|██▋                                                 | 1/19 [00:00<00:02,  7.25it/s, loss=0.765, v_num=84]"
     ]
    },
    {
     "name": "stdout",
     "output_type": "stream",
     "text": [
      "\r",
      "Epoch 47:  11%|█████▍                                              | 2/19 [00:00<00:01, 10.53it/s, loss=0.764, v_num=84]"
     ]
    },
    {
     "name": "stdout",
     "output_type": "stream",
     "text": [
      "\r",
      "Epoch 47:  16%|████████▏                                           | 3/19 [00:00<00:01, 13.71it/s, loss=0.764, v_num=84]"
     ]
    },
    {
     "name": "stdout",
     "output_type": "stream",
     "text": [
      "\r",
      "Epoch 47:  21%|███████████▏                                         | 4/19 [00:00<00:00, 16.83it/s, loss=0.77, v_num=84]"
     ]
    },
    {
     "name": "stdout",
     "output_type": "stream",
     "text": [
      "\r",
      "Epoch 47:  26%|█████████████▋                                      | 5/19 [00:00<00:00, 19.81it/s, loss=0.771, v_num=84]"
     ]
    },
    {
     "name": "stdout",
     "output_type": "stream",
     "text": [
      "\r",
      "Epoch 47:  32%|████████████████▍                                   | 6/19 [00:00<00:00, 22.65it/s, loss=0.771, v_num=84]"
     ]
    },
    {
     "name": "stdout",
     "output_type": "stream",
     "text": [
      "\r",
      "Epoch 47:  37%|███████████████████▏                                | 7/19 [00:00<00:00, 25.43it/s, loss=0.774, v_num=84]"
     ]
    },
    {
     "name": "stdout",
     "output_type": "stream",
     "text": [
      "\r",
      "Epoch 47:  42%|█████████████████████▉                              | 8/19 [00:00<00:00, 28.13it/s, loss=0.773, v_num=84]"
     ]
    },
    {
     "name": "stdout",
     "output_type": "stream",
     "text": [
      "\r",
      "Epoch 47:  47%|████████████████████████▋                           | 9/19 [00:00<00:00, 30.69it/s, loss=0.769, v_num=84]"
     ]
    },
    {
     "name": "stdout",
     "output_type": "stream",
     "text": [
      "\r",
      "Epoch 47:  53%|██████████████████████████▊                        | 10/19 [00:00<00:00, 33.22it/s, loss=0.773, v_num=84]"
     ]
    },
    {
     "name": "stdout",
     "output_type": "stream",
     "text": [
      "\r",
      "Epoch 47:  58%|█████████████████████████████▌                     | 11/19 [00:00<00:00, 35.40it/s, loss=0.765, v_num=84]"
     ]
    },
    {
     "name": "stdout",
     "output_type": "stream",
     "text": [
      "\r",
      "Epoch 47:  63%|████████████████████████████████▏                  | 12/19 [00:00<00:00, 37.65it/s, loss=0.763, v_num=84]"
     ]
    },
    {
     "name": "stdout",
     "output_type": "stream",
     "text": [
      "\r",
      "Epoch 47:  68%|██████████████████████████████████▉                | 13/19 [00:00<00:00, 39.90it/s, loss=0.763, v_num=84]"
     ]
    },
    {
     "name": "stdout",
     "output_type": "stream",
     "text": [
      "\r",
      "Epoch 47:  74%|█████████████████████████████████████▌             | 14/19 [00:00<00:00, 42.04it/s, loss=0.763, v_num=84]"
     ]
    },
    {
     "name": "stdout",
     "output_type": "stream",
     "text": [
      "\r",
      "Epoch 47:  74%|█████████████████████████████████████▌             | 14/19 [00:00<00:00, 41.92it/s, loss=0.762, v_num=84]"
     ]
    },
    {
     "name": "stdout",
     "output_type": "stream",
     "text": [
      "\r",
      "Epoch 47:  79%|████████████████████████████████████████▎          | 15/19 [00:00<00:00, 40.96it/s, loss=0.757, v_num=84]"
     ]
    },
    {
     "name": "stdout",
     "output_type": "stream",
     "text": [
      "\n"
     ]
    },
    {
     "name": "stdout",
     "output_type": "stream",
     "text": [
      "\r",
      "Validating: 0it [00:00, ?it/s]"
     ]
    },
    {
     "name": "stdout",
     "output_type": "stream",
     "text": [
      "\u001b[A"
     ]
    },
    {
     "name": "stdout",
     "output_type": "stream",
     "text": [
      "\n"
     ]
    },
    {
     "name": "stdout",
     "output_type": "stream",
     "text": [
      "\r",
      "Validating:   0%|                                                                                 | 0/4 [00:00<?, ?it/s]"
     ]
    },
    {
     "name": "stdout",
     "output_type": "stream",
     "text": [
      "\u001b[A"
     ]
    },
    {
     "name": "stdout",
     "output_type": "stream",
     "text": [
      "\n"
     ]
    },
    {
     "name": "stdout",
     "output_type": "stream",
     "text": [
      "\r",
      "Validating:  25%|██████████████████▎                                                      | 1/4 [00:00<00:00,  4.45it/s]"
     ]
    },
    {
     "name": "stdout",
     "output_type": "stream",
     "text": [
      "\u001b[A"
     ]
    },
    {
     "name": "stdout",
     "output_type": "stream",
     "text": [
      "\r",
      "Epoch 47: 100%|███████████████████████████████████████████████████| 19/19 [00:00<00:00, 30.27it/s, loss=0.757, v_num=84]"
     ]
    },
    {
     "name": "stdout",
     "output_type": "stream",
     "text": [
      "\n"
     ]
    },
    {
     "name": "stdout",
     "output_type": "stream",
     "text": [
      "\r",
      "                                                                                                                        "
     ]
    },
    {
     "name": "stdout",
     "output_type": "stream",
     "text": [
      "\u001b[A"
     ]
    },
    {
     "name": "stdout",
     "output_type": "stream",
     "text": [
      "\r",
      "Epoch 47:   0%|                                                 | 0/19 [00:00<00:00, 23431.87it/s, loss=0.757, v_num=84]"
     ]
    },
    {
     "name": "stdout",
     "output_type": "stream",
     "text": [
      "\r",
      "Epoch 48:   0%|                                                   | 0/19 [00:00<00:00, 835.02it/s, loss=0.757, v_num=84]"
     ]
    },
    {
     "name": "stdout",
     "output_type": "stream",
     "text": [
      "\r",
      "Epoch 48:   5%|██▋                                                 | 1/19 [00:00<00:02,  6.34it/s, loss=0.764, v_num=84]"
     ]
    },
    {
     "name": "stdout",
     "output_type": "stream",
     "text": [
      "\r",
      "Epoch 48:  11%|█████▍                                              | 2/19 [00:00<00:01,  9.25it/s, loss=0.764, v_num=84]"
     ]
    },
    {
     "name": "stdout",
     "output_type": "stream",
     "text": [
      "\r",
      "Epoch 48:  16%|████████▏                                           | 3/19 [00:00<00:01, 12.10it/s, loss=0.764, v_num=84]"
     ]
    },
    {
     "name": "stdout",
     "output_type": "stream",
     "text": [
      "\r",
      "Epoch 48:  21%|███████████▏                                         | 4/19 [00:00<00:01, 14.74it/s, loss=0.77, v_num=84]"
     ]
    },
    {
     "name": "stdout",
     "output_type": "stream",
     "text": [
      "\r",
      "Epoch 48:  26%|█████████████▋                                      | 5/19 [00:00<00:00, 17.40it/s, loss=0.771, v_num=84]"
     ]
    },
    {
     "name": "stdout",
     "output_type": "stream",
     "text": [
      "\r",
      "Epoch 48:  32%|████████████████▍                                   | 6/19 [00:00<00:00, 19.97it/s, loss=0.771, v_num=84]"
     ]
    },
    {
     "name": "stdout",
     "output_type": "stream",
     "text": [
      "\r",
      "Epoch 48:  37%|███████████████████▏                                | 7/19 [00:00<00:00, 22.47it/s, loss=0.773, v_num=84]"
     ]
    },
    {
     "name": "stdout",
     "output_type": "stream",
     "text": [
      "\r",
      "Epoch 48:  42%|█████████████████████▉                              | 8/19 [00:00<00:00, 24.91it/s, loss=0.773, v_num=84]"
     ]
    },
    {
     "name": "stdout",
     "output_type": "stream",
     "text": [
      "\r",
      "Epoch 48:  47%|████████████████████████▋                           | 9/19 [00:00<00:00, 27.25it/s, loss=0.769, v_num=84]"
     ]
    },
    {
     "name": "stdout",
     "output_type": "stream",
     "text": [
      "\r",
      "Epoch 48:  53%|██████████████████████████▊                        | 10/19 [00:00<00:00, 29.50it/s, loss=0.773, v_num=84]"
     ]
    },
    {
     "name": "stdout",
     "output_type": "stream",
     "text": [
      "\r",
      "Epoch 48:  58%|█████████████████████████████▌                     | 11/19 [00:00<00:00, 31.69it/s, loss=0.765, v_num=84]"
     ]
    },
    {
     "name": "stdout",
     "output_type": "stream",
     "text": [
      "\r",
      "Epoch 48:  63%|████████████████████████████████▏                  | 12/19 [00:00<00:00, 33.76it/s, loss=0.763, v_num=84]"
     ]
    },
    {
     "name": "stdout",
     "output_type": "stream",
     "text": [
      "\r",
      "Epoch 48:  68%|██████████████████████████████████▉                | 13/19 [00:00<00:00, 35.87it/s, loss=0.763, v_num=84]"
     ]
    },
    {
     "name": "stdout",
     "output_type": "stream",
     "text": [
      "\r",
      "Epoch 48:  74%|█████████████████████████████████████▌             | 14/19 [00:00<00:00, 37.92it/s, loss=0.763, v_num=84]"
     ]
    },
    {
     "name": "stdout",
     "output_type": "stream",
     "text": [
      "\r",
      "Epoch 48:  74%|█████████████████████████████████████▌             | 14/19 [00:00<00:00, 37.82it/s, loss=0.762, v_num=84]"
     ]
    },
    {
     "name": "stdout",
     "output_type": "stream",
     "text": [
      "\r",
      "Epoch 48:  79%|████████████████████████████████████████▎          | 15/19 [00:00<00:00, 37.20it/s, loss=0.756, v_num=84]"
     ]
    },
    {
     "name": "stdout",
     "output_type": "stream",
     "text": [
      "\n"
     ]
    },
    {
     "name": "stdout",
     "output_type": "stream",
     "text": [
      "\r",
      "Validating: 0it [00:00, ?it/s]"
     ]
    },
    {
     "name": "stdout",
     "output_type": "stream",
     "text": [
      "\u001b[A"
     ]
    },
    {
     "name": "stdout",
     "output_type": "stream",
     "text": [
      "\n"
     ]
    },
    {
     "name": "stdout",
     "output_type": "stream",
     "text": [
      "\r",
      "Validating:   0%|                                                                                 | 0/4 [00:00<?, ?it/s]"
     ]
    },
    {
     "name": "stdout",
     "output_type": "stream",
     "text": [
      "\u001b[A"
     ]
    },
    {
     "name": "stdout",
     "output_type": "stream",
     "text": [
      "\n"
     ]
    },
    {
     "name": "stdout",
     "output_type": "stream",
     "text": [
      "\r",
      "Validating:  25%|██████████████████▎                                                      | 1/4 [00:00<00:00,  4.54it/s]"
     ]
    },
    {
     "name": "stdout",
     "output_type": "stream",
     "text": [
      "\u001b[A"
     ]
    },
    {
     "name": "stdout",
     "output_type": "stream",
     "text": [
      "\r",
      "Epoch 48: 100%|███████████████████████████████████████████████████| 19/19 [00:00<00:00, 28.59it/s, loss=0.756, v_num=84]"
     ]
    },
    {
     "name": "stdout",
     "output_type": "stream",
     "text": [
      "\n"
     ]
    },
    {
     "name": "stdout",
     "output_type": "stream",
     "text": [
      "\r",
      "                                                                                                                        "
     ]
    },
    {
     "name": "stdout",
     "output_type": "stream",
     "text": [
      "\u001b[A"
     ]
    },
    {
     "name": "stdout",
     "output_type": "stream",
     "text": [
      "\r",
      "Epoch 48:   0%|                                                 | 0/19 [00:00<00:00, 27413.75it/s, loss=0.756, v_num=84]"
     ]
    },
    {
     "name": "stdout",
     "output_type": "stream",
     "text": [
      "\r",
      "Epoch 49:   0%|                                                  | 0/19 [00:00<00:00, 1086.04it/s, loss=0.756, v_num=84]"
     ]
    },
    {
     "name": "stdout",
     "output_type": "stream",
     "text": [
      "\r",
      "Epoch 49:   5%|██▋                                                 | 1/19 [00:00<00:02,  7.20it/s, loss=0.764, v_num=84]"
     ]
    },
    {
     "name": "stdout",
     "output_type": "stream",
     "text": [
      "\r",
      "Epoch 49:  11%|█████▍                                              | 2/19 [00:00<00:01, 10.45it/s, loss=0.763, v_num=84]"
     ]
    },
    {
     "name": "stdout",
     "output_type": "stream",
     "text": [
      "\r",
      "Epoch 49:  16%|████████▏                                           | 3/19 [00:00<00:01, 13.65it/s, loss=0.764, v_num=84]"
     ]
    },
    {
     "name": "stdout",
     "output_type": "stream",
     "text": [
      "\r",
      "Epoch 49:  21%|███████████▏                                         | 4/19 [00:00<00:00, 16.73it/s, loss=0.77, v_num=84]"
     ]
    },
    {
     "name": "stdout",
     "output_type": "stream",
     "text": [
      "\r",
      "Epoch 49:  26%|█████████████▋                                      | 5/19 [00:00<00:00, 19.62it/s, loss=0.771, v_num=84]"
     ]
    },
    {
     "name": "stdout",
     "output_type": "stream",
     "text": [
      "\r",
      "Epoch 49:  32%|████████████████▍                                   | 6/19 [00:00<00:00, 22.49it/s, loss=0.771, v_num=84]"
     ]
    },
    {
     "name": "stdout",
     "output_type": "stream",
     "text": [
      "\r",
      "Epoch 49:  37%|███████████████████▏                                | 7/19 [00:00<00:00, 25.12it/s, loss=0.773, v_num=84]"
     ]
    },
    {
     "name": "stdout",
     "output_type": "stream",
     "text": [
      "\r",
      "Epoch 49:  42%|█████████████████████▉                              | 8/19 [00:00<00:00, 27.72it/s, loss=0.773, v_num=84]"
     ]
    },
    {
     "name": "stdout",
     "output_type": "stream",
     "text": [
      "\r",
      "Epoch 49:  47%|████████████████████████▋                           | 9/19 [00:00<00:00, 30.23it/s, loss=0.768, v_num=84]"
     ]
    },
    {
     "name": "stdout",
     "output_type": "stream",
     "text": [
      "\r",
      "Epoch 49:  53%|██████████████████████████▊                        | 10/19 [00:00<00:00, 32.55it/s, loss=0.772, v_num=84]"
     ]
    },
    {
     "name": "stdout",
     "output_type": "stream",
     "text": [
      "\r",
      "Epoch 49:  58%|█████████████████████████████▌                     | 11/19 [00:00<00:00, 34.85it/s, loss=0.765, v_num=84]"
     ]
    },
    {
     "name": "stdout",
     "output_type": "stream",
     "text": [
      "\r",
      "Epoch 49:  63%|████████████████████████████████▏                  | 12/19 [00:00<00:00, 37.01it/s, loss=0.763, v_num=84]"
     ]
    },
    {
     "name": "stdout",
     "output_type": "stream",
     "text": [
      "\r",
      "Epoch 49:  68%|██████████████████████████████████▉                | 13/19 [00:00<00:00, 39.25it/s, loss=0.763, v_num=84]"
     ]
    },
    {
     "name": "stdout",
     "output_type": "stream",
     "text": [
      "\r",
      "Epoch 49:  74%|█████████████████████████████████████▌             | 14/19 [00:00<00:00, 41.43it/s, loss=0.763, v_num=84]"
     ]
    },
    {
     "name": "stdout",
     "output_type": "stream",
     "text": [
      "\r",
      "Epoch 49:  74%|█████████████████████████████████████▌             | 14/19 [00:00<00:00, 41.30it/s, loss=0.761, v_num=84]"
     ]
    },
    {
     "name": "stdout",
     "output_type": "stream",
     "text": [
      "\r",
      "Epoch 49:  79%|████████████████████████████████████████▎          | 15/19 [00:00<00:00, 39.61it/s, loss=0.756, v_num=84]"
     ]
    },
    {
     "name": "stdout",
     "output_type": "stream",
     "text": [
      "\n"
     ]
    },
    {
     "name": "stdout",
     "output_type": "stream",
     "text": [
      "\r",
      "Validating: 0it [00:00, ?it/s]"
     ]
    },
    {
     "name": "stdout",
     "output_type": "stream",
     "text": [
      "\u001b[A"
     ]
    },
    {
     "name": "stdout",
     "output_type": "stream",
     "text": [
      "\n"
     ]
    },
    {
     "name": "stdout",
     "output_type": "stream",
     "text": [
      "\r",
      "Validating:   0%|                                                                                 | 0/4 [00:00<?, ?it/s]"
     ]
    },
    {
     "name": "stdout",
     "output_type": "stream",
     "text": [
      "\u001b[A"
     ]
    },
    {
     "name": "stdout",
     "output_type": "stream",
     "text": [
      "\n"
     ]
    },
    {
     "name": "stdout",
     "output_type": "stream",
     "text": [
      "\r",
      "Validating:  25%|██████████████████▎                                                      | 1/4 [00:00<00:00,  3.99it/s]"
     ]
    },
    {
     "name": "stdout",
     "output_type": "stream",
     "text": [
      "\u001b[A"
     ]
    },
    {
     "name": "stdout",
     "output_type": "stream",
     "text": [
      "\r",
      "Epoch 49: 100%|███████████████████████████████████████████████████| 19/19 [00:00<00:00, 28.45it/s, loss=0.756, v_num=84]"
     ]
    },
    {
     "name": "stdout",
     "output_type": "stream",
     "text": [
      "\n"
     ]
    },
    {
     "name": "stdout",
     "output_type": "stream",
     "text": [
      "\r",
      "                                                                                                                        "
     ]
    },
    {
     "name": "stdout",
     "output_type": "stream",
     "text": [
      "\u001b[A"
     ]
    },
    {
     "name": "stdout",
     "output_type": "stream",
     "text": [
      "\r",
      "Epoch 49: 100%|███████████████████████████████████████████████████| 19/19 [00:00<00:00, 28.10it/s, loss=0.756, v_num=84]"
     ]
    },
    {
     "name": "stdout",
     "output_type": "stream",
     "text": [
      "\n"
     ]
    }
   ],
   "source": [
    "model_type = \"linear\"\n",
    "features = [\"total_points\", \"ict_index\", \"clean_sheets\", \"saves\", \"assists\", \"was_home\",\"goals_scored\"]\n",
    "logger = pl.loggers.TensorBoardLogger(f\"lightning_logs/model_comparison/{model_type}\")\n",
    "trainer = pl.Trainer(max_epochs=50, gpus=torch.cuda.device_count(), logger=logger,  callbacks=[EarlyStopping(monitor=\"val_loss\")])\n",
    "gameweek = get_latest_game_week()\n",
    "agent = Agent(features, epochs=50, window=6, model_type=model_type, gameweek=gameweek, trial_run=False)\n",
    "await agent.get_data()\n",
    "await agent.update_model(trainer)"
   ]
  },
  {
   "cell_type": "code",
   "execution_count": 3,
   "id": "a850313b",
   "metadata": {
    "execution": {
     "iopub.execute_input": "2021-12-28T13:22:26.192404Z",
     "iopub.status.busy": "2021-12-28T13:22:26.189756Z",
     "iopub.status.idle": "2021-12-28T13:23:20.612224Z",
     "shell.execute_reply": "2021-12-28T13:23:20.611797Z"
    },
    "papermill": {
     "duration": 54.78092,
     "end_time": "2021-12-28T13:23:20.612321",
     "exception": false,
     "start_time": "2021-12-28T13:22:25.831401",
     "status": "completed"
    },
    "tags": []
   },
   "outputs": [
    {
     "name": "stdout",
     "output_type": "stream",
     "text": [
      "True False\n",
      "Player out Rayan Ait Nouri. 0 To double trade  = True \n"
     ]
    },
    {
     "data": {
      "image/png": "[encoded data removed]",
      "text/plain": [
       "<Figure size 432x288 with 2 Axes>"
      ]
     },
     "metadata": {
      "needs_background": "light"
     },
     "output_type": "display_data"
    },
    {
     "name": "stdout",
     "output_type": "stream",
     "text": [
      "Player in Kieran Tierney. 4.582164281991103 To double trade  = True \n"
     ]
    },
    {
     "data": {
      "image/png": "[encoded data removed]",
      "text/plain": [
       "<Figure size 432x288 with 2 Axes>"
      ]
     },
     "metadata": {
      "needs_background": "light"
     },
     "output_type": "display_data"
    },
    {
     "name": "stdout",
     "output_type": "stream",
     "text": [
      "Player out John McGinn. 0 To double trade  = True \n"
     ]
    },
    {
     "data": {
      "image/png": "[encoded data removed]",
      "text/plain": [
       "<Figure size 432x288 with 2 Axes>"
      ]
     },
     "metadata": {
      "needs_background": "light"
     },
     "output_type": "display_data"
    },
    {
     "name": "stdout",
     "output_type": "stream",
     "text": [
      "Player in Martin Ødegaard. 4.843770717127378 To double trade  = True \n"
     ]
    },
    {
     "data": {
      "image/png": "[encoded data removed]",
      "text/plain": [
       "<Figure size 432x288 with 2 Axes>"
      ]
     },
     "metadata": {
      "needs_background": "light"
     },
     "output_type": "display_data"
    }
   ],
   "source": [
    "current_squad, non_squad = await get_current_squad(features, window=agent.window, num_players=agent.num_players)\n",
    "current_squad, non_squad = await agent.get_new_squad(features)\n",
    "squad = current_squad + non_squad"
   ]
  },
  {
   "cell_type": "code",
   "execution_count": 4,
   "id": "fb20196c",
   "metadata": {
    "execution": {
     "iopub.execute_input": "2021-12-28T13:23:21.283795Z",
     "iopub.status.busy": "2021-12-28T13:23:21.283356Z",
     "iopub.status.idle": "2021-12-28T13:23:21.286137Z",
     "shell.execute_reply": "2021-12-28T13:23:21.285815Z"
    },
    "papermill": {
     "duration": 0.32145,
     "end_time": "2021-12-28T13:23:21.286226",
     "exception": false,
     "start_time": "2021-12-28T13:23:20.964776",
     "status": "completed"
    },
    "tags": []
   },
   "outputs": [],
   "source": [
    "\n",
    "#agent.get_wildcard_squad(squad, max_weight=1000, visualize=False)"
   ]
  },
  {
   "cell_type": "markdown",
   "id": "cda9a5a4",
   "metadata": {
    "papermill": {
     "duration": 0.341703,
     "end_time": "2021-12-28T13:23:21.979613",
     "exception": false,
     "start_time": "2021-12-28T13:23:21.637910",
     "status": "completed"
    },
    "tags": []
   },
   "source": [
    "## Show game week id"
   ]
  },
  {
   "cell_type": "code",
   "execution_count": 5,
   "id": "b65da14f",
   "metadata": {
    "execution": {
     "iopub.execute_input": "2021-12-28T13:23:22.688402Z",
     "iopub.status.busy": "2021-12-28T13:23:22.687950Z",
     "iopub.status.idle": "2021-12-28T13:23:22.692120Z",
     "shell.execute_reply": "2021-12-28T13:23:22.692442Z"
    },
    "papermill": {
     "duration": 0.370454,
     "end_time": "2021-12-28T13:23:22.692563",
     "exception": false,
     "start_time": "2021-12-28T13:23:22.322109",
     "status": "completed"
    },
    "tags": []
   },
   "outputs": [
    {
     "data": {
      "text/plain": [
       "(<coroutine object get_latest_game_week at 0x7fb20e3b73c0>,\n",
       " <player.Player at 0x7fb2db4b75e0>)"
      ]
     },
     "execution_count": 5,
     "metadata": {},
     "output_type": "execute_result"
    }
   ],
   "source": [
    "agent.gameweek, current_squad[0]"
   ]
  },
  {
   "cell_type": "markdown",
   "id": "eb13f746",
   "metadata": {
    "papermill": {
     "duration": 0.331767,
     "end_time": "2021-12-28T13:23:23.364120",
     "exception": false,
     "start_time": "2021-12-28T13:23:23.032353",
     "status": "completed"
    },
    "tags": []
   },
   "source": [
    "## Use model to swap players"
   ]
  },
  {
   "cell_type": "markdown",
   "id": "97f96acf",
   "metadata": {
    "papermill": {
     "duration": 0.367472,
     "end_time": "2021-12-28T13:23:24.120921",
     "exception": false,
     "start_time": "2021-12-28T13:23:23.753449",
     "status": "completed"
    },
    "tags": []
   },
   "source": [
    "## Set playing 11"
   ]
  },
  {
   "cell_type": "code",
   "execution_count": 6,
   "id": "72429f38",
   "metadata": {
    "execution": {
     "iopub.execute_input": "2021-12-28T13:23:24.821207Z",
     "iopub.status.busy": "2021-12-28T13:23:24.818368Z",
     "iopub.status.idle": "2021-12-28T13:23:26.690879Z",
     "shell.execute_reply": "2021-12-28T13:23:26.689319Z"
    },
    "papermill": {
     "duration": 2.218724,
     "end_time": "2021-12-28T13:23:26.691255",
     "exception": false,
     "start_time": "2021-12-28T13:23:24.472531",
     "status": "completed"
    },
    "tags": []
   },
   "outputs": [],
   "source": [
    "await agent.set_playing_11(current_squad, visualize=False)"
   ]
  },
  {
   "cell_type": "markdown",
   "id": "c8c99a6a",
   "metadata": {
    "papermill": {
     "duration": 0.533128,
     "end_time": "2021-12-28T13:23:28.601478",
     "exception": false,
     "start_time": "2021-12-28T13:23:28.068350",
     "status": "completed"
    },
    "tags": []
   },
   "source": [
    "## Highlight top performers by position for this week"
   ]
  },
  {
   "cell_type": "code",
   "execution_count": 7,
   "id": "704e3419",
   "metadata": {
    "execution": {
     "iopub.execute_input": "2021-12-28T13:23:29.333722Z",
     "iopub.status.busy": "2021-12-28T13:23:29.333254Z",
     "iopub.status.idle": "2021-12-28T13:23:36.665352Z",
     "shell.execute_reply": "2021-12-28T13:23:36.665683Z"
    },
    "papermill": {
     "duration": 7.725184,
     "end_time": "2021-12-28T13:23:36.665812",
     "exception": false,
     "start_time": "2021-12-28T13:23:28.940628",
     "status": "completed"
    },
    "tags": []
   },
   "outputs": [
    {
     "name": "stdout",
     "output_type": "stream",
     "text": [
      "\n",
      "\n",
      "\n",
      "\n",
      "Goalkeeper\n",
      "David de Gea\n"
     ]
    },
    {
     "data": {
      "image/png": "[encoded data removed]",
      "text/plain": [
       "<Figure size 432x288 with 2 Axes>"
      ]
     },
     "metadata": {
      "needs_background": "light"
     },
     "output_type": "display_data"
    },
    {
     "name": "stdout",
     "output_type": "stream",
     "text": [
      "Aaron Ramsdale\n"
     ]
    },
    {
     "data": {
      "image/png": "[encoded data removed]",
      "text/plain": [
       "<Figure size 432x288 with 2 Axes>"
      ]
     },
     "metadata": {
      "needs_background": "light"
     },
     "output_type": "display_data"
    },
    {
     "name": "stdout",
     "output_type": "stream",
     "text": [
      "Nick Pope\n"
     ]
    },
    {
     "data": {
      "image/png": "[encoded data removed]",
      "text/plain": [
       "<Figure size 432x288 with 2 Axes>"
      ]
     },
     "metadata": {
      "needs_background": "light"
     },
     "output_type": "display_data"
    },
    {
     "name": "stdout",
     "output_type": "stream",
     "text": [
      "Robert Sánchez\n"
     ]
    },
    {
     "data": {
      "image/png": "[encoded data removed]",
      "text/plain": [
       "<Figure size 432x288 with 2 Axes>"
      ]
     },
     "metadata": {
      "needs_background": "light"
     },
     "output_type": "display_data"
    },
    {
     "name": "stdout",
     "output_type": "stream",
     "text": [
      "Hugo Lloris\n"
     ]
    },
    {
     "data": {
      "image/png": "[encoded data removed]",
      "text/plain": [
       "<Figure size 432x288 with 2 Axes>"
      ]
     },
     "metadata": {
      "needs_background": "light"
     },
     "output_type": "display_data"
    },
    {
     "name": "stdout",
     "output_type": "stream",
     "text": [
      "\n",
      "\n",
      "\n",
      "\n",
      "\n",
      "\n",
      "\n",
      "\n",
      "\n",
      "Defender\n",
      "Trent Alexander-Arnold\n"
     ]
    },
    {
     "data": {
      "image/png": "[encoded data removed]",
      "text/plain": [
       "<Figure size 432x288 with 2 Axes>"
      ]
     },
     "metadata": {
      "needs_background": "light"
     },
     "output_type": "display_data"
    },
    {
     "name": "stdout",
     "output_type": "stream",
     "text": [
      "Kieran Tierney\n"
     ]
    },
    {
     "data": {
      "image/png": "[encoded data removed]",
      "text/plain": [
       "<Figure size 432x288 with 2 Axes>"
      ]
     },
     "metadata": {
      "needs_background": "light"
     },
     "output_type": "display_data"
    },
    {
     "name": "stdout",
     "output_type": "stream",
     "text": [
      "Marc Cucurella\n"
     ]
    },
    {
     "data": {
      "image/png": "[encoded data removed]",
      "text/plain": [
       "<Figure size 432x288 with 2 Axes>"
      ]
     },
     "metadata": {
      "needs_background": "light"
     },
     "output_type": "display_data"
    },
    {
     "name": "stdout",
     "output_type": "stream",
     "text": [
      "Romain Saïss\n"
     ]
    },
    {
     "data": {
      "image/png": "[encoded data removed]",
      "text/plain": [
       "<Figure size 432x288 with 2 Axes>"
      ]
     },
     "metadata": {
      "needs_background": "light"
     },
     "output_type": "display_data"
    },
    {
     "name": "stdout",
     "output_type": "stream",
     "text": [
      "Rúben Santos Gato Alves Dias\n"
     ]
    },
    {
     "data": {
      "image/png": "[encoded data removed]",
      "text/plain": [
       "<Figure size 432x288 with 2 Axes>"
      ]
     },
     "metadata": {
      "needs_background": "light"
     },
     "output_type": "display_data"
    },
    {
     "name": "stdout",
     "output_type": "stream",
     "text": [
      "\n",
      "\n",
      "\n",
      "\n",
      "\n",
      "\n",
      "\n",
      "\n",
      "\n",
      "Midfielder\n",
      "James Maddison\n"
     ]
    },
    {
     "data": {
      "image/png": "[encoded data removed]",
      "text/plain": [
       "<Figure size 432x288 with 2 Axes>"
      ]
     },
     "metadata": {
      "needs_background": "light"
     },
     "output_type": "display_data"
    },
    {
     "name": "stdout",
     "output_type": "stream",
     "text": [
      "Martin Ødegaard\n"
     ]
    },
    {
     "data": {
      "image/png": "[encoded data removed]",
      "text/plain": [
       "<Figure size 432x288 with 2 Axes>"
      ]
     },
     "metadata": {
      "needs_background": "light"
     },
     "output_type": "display_data"
    },
    {
     "name": "stdout",
     "output_type": "stream",
     "text": [
      "Riyad Mahrez\n"
     ]
    },
    {
     "data": {
      "image/png": "[encoded data removed]",
      "text/plain": [
       "<Figure size 432x288 with 2 Axes>"
      ]
     },
     "metadata": {
      "needs_background": "light"
     },
     "output_type": "display_data"
    },
    {
     "name": "stdout",
     "output_type": "stream",
     "text": [
      "Mason Mount\n"
     ]
    },
    {
     "data": {
      "image/png": "[encoded data removed]",
      "text/plain": [
       "<Figure size 432x288 with 2 Axes>"
      ]
     },
     "metadata": {
      "needs_background": "light"
     },
     "output_type": "display_data"
    },
    {
     "name": "stdout",
     "output_type": "stream",
     "text": [
      "Heung-Min Son\n"
     ]
    },
    {
     "data": {
      "image/png": "[encoded data removed]",
      "text/plain": [
       "<Figure size 432x288 with 2 Axes>"
      ]
     },
     "metadata": {
      "needs_background": "light"
     },
     "output_type": "display_data"
    },
    {
     "name": "stdout",
     "output_type": "stream",
     "text": [
      "\n",
      "\n",
      "\n",
      "\n",
      "\n",
      "\n",
      "\n",
      "\n",
      "\n",
      "Forward\n",
      "Emmanuel Dennis\n"
     ]
    },
    {
     "data": {
      "image/png": "[encoded data removed]",
      "text/plain": [
       "<Figure size 432x288 with 2 Axes>"
      ]
     },
     "metadata": {
      "needs_background": "light"
     },
     "output_type": "display_data"
    },
    {
     "name": "stdout",
     "output_type": "stream",
     "text": [
      "Ollie Watkins\n"
     ]
    },
    {
     "data": {
      "image/png": "[encoded data removed]",
      "text/plain": [
       "<Figure size 432x288 with 2 Axes>"
      ]
     },
     "metadata": {
      "needs_background": "light"
     },
     "output_type": "display_data"
    },
    {
     "name": "stdout",
     "output_type": "stream",
     "text": [
      "Allan Saint-Maximin\n"
     ]
    },
    {
     "data": {
      "image/png": "[encoded data removed]",
      "text/plain": [
       "<Figure size 432x288 with 2 Axes>"
      ]
     },
     "metadata": {
      "needs_background": "light"
     },
     "output_type": "display_data"
    },
    {
     "name": "stdout",
     "output_type": "stream",
     "text": [
      "Cristiano Ronaldo dos Santos Aveiro\n"
     ]
    },
    {
     "data": {
      "image/png": "[encoded data removed]",
      "text/plain": [
       "<Figure size 432x288 with 2 Axes>"
      ]
     },
     "metadata": {
      "needs_background": "light"
     },
     "output_type": "display_data"
    },
    {
     "name": "stdout",
     "output_type": "stream",
     "text": [
      "Alexandre Lacazette\n"
     ]
    },
    {
     "data": {
      "image/png": "[encoded data removed]",
      "text/plain": [
       "<Figure size 432x288 with 2 Axes>"
      ]
     },
     "metadata": {
      "needs_background": "light"
     },
     "output_type": "display_data"
    },
    {
     "name": "stdout",
     "output_type": "stream",
     "text": [
      "\n",
      "\n",
      "\n",
      "\n",
      "\n"
     ]
    }
   ],
   "source": [
    "agent.show_top_performers(current_squad + non_squad, k=5)"
   ]
  },
  {
   "cell_type": "code",
   "execution_count": null,
   "id": "ef62162a",
   "metadata": {
    "papermill": {
     "duration": 0.420654,
     "end_time": "2021-12-28T13:23:37.676946",
     "exception": false,
     "start_time": "2021-12-28T13:23:37.256292",
     "status": "completed"
    },
    "tags": []
   },
   "outputs": [],
   "source": []
  }
 ],
 "metadata": {
  "interpreter": {
   "hash": "03ca37dd8f16b9970374fbeef9cf49c08034cd4bc6a7199a4f4689b44b4426cc"
  },
  "kernelspec": {
   "display_name": "Python 3.8.11 64-bit ('control': conda)",
   "name": "python3"
  },
  "language_info": {
   "codemirror_mode": {
    "name": "ipython",
    "version": 3
   },
   "file_extension": ".py",
   "mimetype": "text/x-python",
   "name": "python",
   "nbconvert_exporter": "python",
   "pygments_lexer": "ipython3",
   "version": "3.8.12"
  },
  "papermill": {
   "default_parameters": {},
   "duration": 124.522624,
   "end_time": "2021-12-28T13:23:38.569204",
   "environment_variables": {},
   "exception": null,
   "input_path": "agent.ipynb",
   "output_path": "agent.ipynb",
   "parameters": {},
   "start_time": "2021-12-28T13:21:34.046580",
   "version": "2.3.3"
  }
 },
 "nbformat": 4,
 "nbformat_minor": 5
}