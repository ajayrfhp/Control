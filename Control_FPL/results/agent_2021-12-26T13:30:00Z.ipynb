{
 "cells": [
  {
   "cell_type": "markdown",
   "id": "98cd3d6a",
   "metadata": {
    "tags": [
     "papermill-error-cell-tag"
    ]
   },
   "source": [
    "<span style=\"color:red; font-family:Helvetica Neue, Helvetica, Arial, sans-serif; font-size:2em;\">An Exception was encountered at '<a href=\"#papermill-error-cell\">In [3]</a>'.</span>"
   ]
  },
  {
   "cell_type": "markdown",
   "id": "702b53a1",
   "metadata": {
    "papermill": {
     "duration": 0.015063,
     "end_time": "2021-12-26T12:39:21.672399",
     "exception": false,
     "start_time": "2021-12-26T12:39:21.657336",
     "status": "completed"
    },
    "tags": []
   },
   "source": [
    "# Table of contents\n",
    "\n",
    "- Download latest data\n",
    "- Retrain model\n",
    "- Display current squad\n",
    "- Use model to identify transfers\n",
    "- Identify playing 11\n",
    "- Show top performers by position"
   ]
  },
  {
   "cell_type": "code",
   "execution_count": 1,
   "id": "323dbb4c",
   "metadata": {
    "execution": {
     "iopub.execute_input": "2021-12-26T12:39:21.706871Z",
     "iopub.status.busy": "2021-12-26T12:39:21.706583Z",
     "iopub.status.idle": "2021-12-26T12:39:23.362428Z",
     "shell.execute_reply": "2021-12-26T12:39:23.362136Z"
    },
    "papermill": {
     "duration": 1.675798,
     "end_time": "2021-12-26T12:39:23.362506",
     "exception": false,
     "start_time": "2021-12-26T12:39:21.686708",
     "status": "completed"
    },
    "tags": []
   },
   "outputs": [],
   "source": [
    "import pandas as pd\n",
    "import torch\n",
    "import numpy as np\n",
    "import random\n",
    "from random import shuffle\n",
    "np.random.seed(17)\n",
    "random.seed(17)\n",
    "torch.manual_seed(17)\n",
    "import wget\n",
    "import os\n",
    "import aiohttp\n",
    "import asyncio\n",
    "from fpl import FPL\n",
    "from torch.utils.data import TensorDataset, DataLoader\n",
    "from player import Player\n",
    "from team import Team\n",
    "from data_processor import get_fpl, get_current_squad, get_latest_game_week\n",
    "from agent import Agent\n",
    "from pytorch_lightning.callbacks.early_stopping import EarlyStopping\n",
    "import pytorch_lightning as pl\n"
   ]
  },
  {
   "cell_type": "markdown",
   "id": "e2c4124c",
   "metadata": {
    "papermill": {
     "duration": 0.013535,
     "end_time": "2021-12-26T12:39:23.389217",
     "exception": false,
     "start_time": "2021-12-26T12:39:23.375682",
     "status": "completed"
    },
    "tags": []
   },
   "source": [
    "## Download latest data, train model and save model."
   ]
  },
  {
   "cell_type": "code",
   "execution_count": 2,
   "id": "e8d00bfe",
   "metadata": {
    "execution": {
     "iopub.execute_input": "2021-12-26T12:39:23.474483Z",
     "iopub.status.busy": "2021-12-26T12:39:23.474176Z",
     "iopub.status.idle": "2021-12-26T12:39:35.026621Z",
     "shell.execute_reply": "2021-12-26T12:39:35.026854Z"
    },
    "papermill": {
     "duration": 11.624419,
     "end_time": "2021-12-26T12:39:35.026950",
     "exception": false,
     "start_time": "2021-12-26T12:39:23.402531",
     "status": "completed"
    },
    "tags": []
   },
   "outputs": [
    {
     "name": "stderr",
     "output_type": "stream",
     "text": [
      "GPU available: True, used: True\n"
     ]
    },
    {
     "name": "stderr",
     "output_type": "stream",
     "text": [
      "TPU available: False, using: 0 TPU cores\n"
     ]
    },
    {
     "name": "stderr",
     "output_type": "stream",
     "text": [
      "IPU available: False, using: 0 IPUs\n"
     ]
    },
    {
     "name": "stderr",
     "output_type": "stream",
     "text": [
      "/home/ajrfhp/anaconda3/envs/test/lib/python3.8/site-packages/pandas/core/frame.py:5171: SettingWithCopyWarning: \n",
      "A value is trying to be set on a copy of a slice from a DataFrame\n",
      "\n",
      "See the caveats in the documentation: https://pandas.pydata.org/pandas-docs/stable/user_guide/indexing.html#returning-a-view-versus-a-copy\n",
      "  return super().fillna(\n",
      "/home/ajrfhp/Control/Control_FPL/data_processor.py:70: SettingWithCopyWarning: \n",
      "A value is trying to be set on a copy of a slice from a DataFrame.\n",
      "Try using .loc[row_indexer,col_indexer] = value instead\n",
      "\n",
      "See the caveats in the documentation: https://pandas.pydata.org/pandas-docs/stable/user_guide/indexing.html#returning-a-view-versus-a-copy\n",
      "  all_player_features[\"total_points\"] = all_player_features[\"total_points\"].clip(0, max_player_points)\n"
     ]
    },
    {
     "name": "stderr",
     "output_type": "stream",
     "text": [
      "LOCAL_RANK: 0 - CUDA_VISIBLE_DEVICES: [0]\n"
     ]
    },
    {
     "name": "stderr",
     "output_type": "stream",
     "text": [
      "\n",
      "  | Name  | Type        | Params\n",
      "--------------------------------------\n",
      "0 | model | LinearModel | 43    \n",
      "--------------------------------------\n",
      "43        Trainable params\n",
      "0         Non-trainable params\n",
      "43        Total params\n",
      "0.000     Total estimated model params size (MB)\n"
     ]
    },
    {
     "name": "stdout",
     "output_type": "stream",
     "text": [
      "\r",
      "Validation sanity check: 0it [00:00, ?it/s]"
     ]
    },
    {
     "name": "stdout",
     "output_type": "stream",
     "text": [
      "\r",
      "Validation sanity check:   0%|                                                                    | 0/2 [00:00<?, ?it/s]"
     ]
    },
    {
     "name": "stdout",
     "output_type": "stream",
     "text": [
      "\r",
      "Validation sanity check:  50%|██████████████████████████████                              | 1/2 [00:00<00:00,  1.30it/s]"
     ]
    },
    {
     "name": "stdout",
     "output_type": "stream",
     "text": [
      "\r",
      "                                                                                                                        "
     ]
    },
    {
     "name": "stderr",
     "output_type": "stream",
     "text": [
      "/home/ajrfhp/anaconda3/envs/test/lib/python3.8/site-packages/pytorch_lightning/trainer/data_loading.py:322: UserWarning: The number of training samples (15) is smaller than the logging interval Trainer(log_every_n_steps=50). Set a lower value for log_every_n_steps if you want to see logs for the training epoch.\n",
      "  rank_zero_warn(\n"
     ]
    },
    {
     "name": "stdout",
     "output_type": "stream",
     "text": [
      "\r"
     ]
    },
    {
     "name": "stdout",
     "output_type": "stream",
     "text": [
      "\r",
      "Training: -1it [00:00, ?it/s]"
     ]
    },
    {
     "name": "stdout",
     "output_type": "stream",
     "text": [
      "\r",
      "Training:   0%|                                                                       | 0/19 [00:00<00:00, 28926.23it/s]"
     ]
    },
    {
     "name": "stdout",
     "output_type": "stream",
     "text": [
      "\r",
      "Epoch 0:   0%|                                                                         | 0/19 [00:00<00:00, 1291.75it/s]"
     ]
    },
    {
     "name": "stdout",
     "output_type": "stream",
     "text": [
      "\r",
      "Epoch 0:   5%|███▉                                                                       | 1/19 [00:00<00:03,  5.05it/s]"
     ]
    },
    {
     "name": "stdout",
     "output_type": "stream",
     "text": [
      "\r",
      "Epoch 0:   5%|██▊                                                   | 1/19 [00:00<00:03,  5.01it/s, loss=2.55, v_num=63]"
     ]
    },
    {
     "name": "stdout",
     "output_type": "stream",
     "text": [
      "\r",
      "Epoch 0:  11%|█████▋                                                | 2/19 [00:00<00:02,  7.39it/s, loss=2.44, v_num=63]"
     ]
    },
    {
     "name": "stdout",
     "output_type": "stream",
     "text": [
      "\r",
      "Epoch 0:  16%|████████▌                                             | 3/19 [00:00<00:01,  9.71it/s, loss=2.45, v_num=63]"
     ]
    },
    {
     "name": "stdout",
     "output_type": "stream",
     "text": [
      "\r",
      "Epoch 0:  21%|███████████▎                                          | 4/19 [00:00<00:01, 11.96it/s, loss=2.46, v_num=63]"
     ]
    },
    {
     "name": "stdout",
     "output_type": "stream",
     "text": [
      "\r",
      "Epoch 0:  26%|██████████████▏                                       | 5/19 [00:00<00:00, 14.12it/s, loss=2.46, v_num=63]"
     ]
    },
    {
     "name": "stdout",
     "output_type": "stream",
     "text": [
      "\r",
      "Epoch 0:  32%|█████████████████                                     | 6/19 [00:00<00:00, 16.22it/s, loss=2.45, v_num=63]"
     ]
    },
    {
     "name": "stdout",
     "output_type": "stream",
     "text": [
      "\r",
      "Epoch 0:  37%|███████████████████▉                                  | 7/19 [00:00<00:00, 18.29it/s, loss=2.43, v_num=63]"
     ]
    },
    {
     "name": "stdout",
     "output_type": "stream",
     "text": [
      "\r",
      "Epoch 0:  42%|██████████████████████▋                               | 8/19 [00:00<00:00, 20.17it/s, loss=2.42, v_num=63]"
     ]
    },
    {
     "name": "stdout",
     "output_type": "stream",
     "text": [
      "\r",
      "Epoch 0:  47%|█████████████████████████▌                            | 9/19 [00:00<00:00, 22.15it/s, loss=2.42, v_num=63]"
     ]
    },
    {
     "name": "stdout",
     "output_type": "stream",
     "text": [
      "\r",
      "Epoch 0:  53%|████████████████████████████▍                         | 10/19 [00:00<00:00, 24.10it/s, loss=2.4, v_num=63]"
     ]
    },
    {
     "name": "stdout",
     "output_type": "stream",
     "text": [
      "\r",
      "Epoch 0:  58%|██████████████████████████████▋                      | 11/19 [00:00<00:00, 25.98it/s, loss=2.38, v_num=63]"
     ]
    },
    {
     "name": "stdout",
     "output_type": "stream",
     "text": [
      "\r",
      "Epoch 0:  63%|█████████████████████████████████▍                   | 12/19 [00:00<00:00, 27.74it/s, loss=2.38, v_num=63]"
     ]
    },
    {
     "name": "stdout",
     "output_type": "stream",
     "text": [
      "\r",
      "Epoch 0:  68%|████████████████████████████████████▎                | 13/19 [00:00<00:00, 29.53it/s, loss=2.36, v_num=63]"
     ]
    },
    {
     "name": "stdout",
     "output_type": "stream",
     "text": [
      "\r",
      "Epoch 0:  74%|███████████████████████████████████████              | 14/19 [00:00<00:00, 31.25it/s, loss=2.35, v_num=63]"
     ]
    },
    {
     "name": "stdout",
     "output_type": "stream",
     "text": [
      "\r",
      "Epoch 0:  79%|█████████████████████████████████████████▊           | 15/19 [00:00<00:00, 29.85it/s, loss=2.35, v_num=63]"
     ]
    },
    {
     "name": "stdout",
     "output_type": "stream",
     "text": [
      "\r",
      "Epoch 0:  79%|█████████████████████████████████████████▊           | 15/19 [00:00<00:00, 29.81it/s, loss=2.31, v_num=63]"
     ]
    },
    {
     "name": "stdout",
     "output_type": "stream",
     "text": [
      "\n"
     ]
    },
    {
     "name": "stdout",
     "output_type": "stream",
     "text": [
      "\r",
      "Validating: 0it [00:00, ?it/s]"
     ]
    },
    {
     "name": "stdout",
     "output_type": "stream",
     "text": [
      "\u001b[A"
     ]
    },
    {
     "name": "stdout",
     "output_type": "stream",
     "text": [
      "\n"
     ]
    },
    {
     "name": "stdout",
     "output_type": "stream",
     "text": [
      "\r",
      "Validating:   0%|                                                                                 | 0/4 [00:00<?, ?it/s]"
     ]
    },
    {
     "name": "stdout",
     "output_type": "stream",
     "text": [
      "\u001b[A"
     ]
    },
    {
     "name": "stdout",
     "output_type": "stream",
     "text": [
      "\n"
     ]
    },
    {
     "name": "stdout",
     "output_type": "stream",
     "text": [
      "\r",
      "Validating:  25%|██████████████████▎                                                      | 1/4 [00:00<00:01,  2.90it/s]"
     ]
    },
    {
     "name": "stdout",
     "output_type": "stream",
     "text": [
      "\u001b[A"
     ]
    },
    {
     "name": "stdout",
     "output_type": "stream",
     "text": [
      "\r",
      "Epoch 0: 100%|█████████████████████████████████████████████████████| 19/19 [00:00<00:00, 21.07it/s, loss=2.31, v_num=63]"
     ]
    },
    {
     "name": "stdout",
     "output_type": "stream",
     "text": [
      "\n"
     ]
    },
    {
     "name": "stdout",
     "output_type": "stream",
     "text": [
      "\r",
      "                                                                                                                        "
     ]
    },
    {
     "name": "stdout",
     "output_type": "stream",
     "text": [
      "\u001b[A"
     ]
    },
    {
     "name": "stdout",
     "output_type": "stream",
     "text": [
      "\r",
      "Epoch 0: 100%|█████████████████████████████████████████████████████| 19/19 [00:00<00:00, 20.83it/s, loss=2.31, v_num=63]"
     ]
    },
    {
     "name": "stdout",
     "output_type": "stream",
     "text": [
      "\n"
     ]
    }
   ],
   "source": [
    "model_type = \"linear\"\n",
    "features = [\"total_points\", \"ict_index\", \"clean_sheets\", \"saves\", \"assists\", \"was_home\",\"goals_scored\"]\n",
    "logger = pl.loggers.TensorBoardLogger(f\"lightning_logs/model_comparison/{model_type}\")\n",
    "trainer = pl.Trainer(max_epochs=1, gpus=torch.cuda.device_count(), logger=logger,  callbacks=[EarlyStopping(monitor=\"val_loss\")])\n",
    "gameweek = get_latest_game_week()\n",
    "agent = Agent(features, epochs=1, window=6, model_type=model_type, gameweek=gameweek)\n",
    "await agent.get_data()\n",
    "await agent.update_model(trainer)"
   ]
  },
  {
   "cell_type": "markdown",
   "id": "b7549e25",
   "metadata": {
    "tags": [
     "papermill-error-cell-tag"
    ]
   },
   "source": [
    "<span id=\"papermill-error-cell\" style=\"color:red; font-family:Helvetica Neue, Helvetica, Arial, sans-serif; font-size:2em;\">Execution using papermill encountered an exception here and stopped:</span>"
   ]
  },
  {
   "cell_type": "code",
   "execution_count": 3,
   "id": "a850313b",
   "metadata": {
    "execution": {
     "iopub.execute_input": "2021-12-26T12:39:35.101257Z",
     "iopub.status.busy": "2021-12-26T12:39:35.100709Z",
     "iopub.status.idle": "2021-12-26T12:39:51.008295Z",
     "shell.execute_reply": "2021-12-26T12:39:51.007573Z"
    },
    "papermill": {
     "duration": 15.94727,
     "end_time": "2021-12-26T12:39:51.008508",
     "exception": true,
     "start_time": "2021-12-26T12:39:35.061238",
     "status": "failed"
    },
    "tags": []
   },
   "outputs": [
    {
     "ename": "KeyError",
     "evalue": "'spent_points'",
     "output_type": "error",
     "traceback": [
      "\u001b[0;31m---------------------------------------------------------------------------\u001b[0m",
      "\u001b[0;31mKeyError\u001b[0m                                  Traceback (most recent call last)",
      "\u001b[0;32m/tmp/ipykernel_9409/1434435979.py\u001b[0m in \u001b[0;36m<module>\u001b[0;34m\u001b[0m\n\u001b[1;32m      1\u001b[0m \u001b[0mcurrent_squad\u001b[0m\u001b[0;34m,\u001b[0m \u001b[0mnon_squad\u001b[0m \u001b[0;34m=\u001b[0m \u001b[0;32mawait\u001b[0m \u001b[0mget_current_squad\u001b[0m\u001b[0;34m(\u001b[0m\u001b[0mfeatures\u001b[0m\u001b[0;34m,\u001b[0m \u001b[0mwindow\u001b[0m\u001b[0;34m=\u001b[0m\u001b[0magent\u001b[0m\u001b[0;34m.\u001b[0m\u001b[0mwindow\u001b[0m\u001b[0;34m,\u001b[0m \u001b[0mnum_players\u001b[0m\u001b[0;34m=\u001b[0m\u001b[0magent\u001b[0m\u001b[0;34m.\u001b[0m\u001b[0mnum_players\u001b[0m\u001b[0;34m)\u001b[0m\u001b[0;34m\u001b[0m\u001b[0;34m\u001b[0m\u001b[0m\n\u001b[0;32m----> 2\u001b[0;31m \u001b[0mcurrent_squad\u001b[0m\u001b[0;34m,\u001b[0m \u001b[0mnon_squad\u001b[0m \u001b[0;34m=\u001b[0m \u001b[0;32mawait\u001b[0m \u001b[0magent\u001b[0m\u001b[0;34m.\u001b[0m\u001b[0mget_new_squad\u001b[0m\u001b[0;34m(\u001b[0m\u001b[0mfeatures\u001b[0m\u001b[0;34m)\u001b[0m\u001b[0;34m\u001b[0m\u001b[0;34m\u001b[0m\u001b[0m\n\u001b[0m\u001b[1;32m      3\u001b[0m \u001b[0msquad\u001b[0m \u001b[0;34m=\u001b[0m \u001b[0mcurrent_squad\u001b[0m \u001b[0;34m+\u001b[0m \u001b[0mnon_squad\u001b[0m\u001b[0;34m\u001b[0m\u001b[0;34m\u001b[0m\u001b[0m\n",
      "\u001b[0;32m/home/ajrfhp/Control/Control_FPL/agent.py\u001b[0m in \u001b[0;36mget_new_squad\u001b[0;34m(self, player_feature_names)\u001b[0m\n\u001b[1;32m     61\u001b[0m         \u001b[0;32mfor\u001b[0m \u001b[0mplayer\u001b[0m \u001b[0;32min\u001b[0m \u001b[0mcurrent_squad\u001b[0m \u001b[0;34m+\u001b[0m \u001b[0mnon_squad\u001b[0m\u001b[0;34m:\u001b[0m\u001b[0;34m\u001b[0m\u001b[0;34m\u001b[0m\u001b[0m\n\u001b[1;32m     62\u001b[0m             \u001b[0mplayer\u001b[0m\u001b[0;34m.\u001b[0m\u001b[0mpredict_next_performance\u001b[0m\u001b[0;34m(\u001b[0m\u001b[0mself\u001b[0m\u001b[0;34m.\u001b[0m\u001b[0mmodel\u001b[0m\u001b[0;34m.\u001b[0m\u001b[0mmodel\u001b[0m\u001b[0;34m,\u001b[0m \u001b[0mself\u001b[0m\u001b[0;34m.\u001b[0m\u001b[0mnormalizers\u001b[0m\u001b[0;34m)\u001b[0m\u001b[0;34m\u001b[0m\u001b[0;34m\u001b[0m\u001b[0m\n\u001b[0;32m---> 63\u001b[0;31m         \u001b[0mcurrent_squad\u001b[0m\u001b[0;34m,\u001b[0m \u001b[0mnon_squad\u001b[0m\u001b[0;34m,\u001b[0m \u001b[0m_\u001b[0m\u001b[0;34m,\u001b[0m \u001b[0m_\u001b[0m \u001b[0;34m=\u001b[0m \u001b[0;32mawait\u001b[0m \u001b[0mself\u001b[0m\u001b[0;34m.\u001b[0m\u001b[0mmake_optimal_trade\u001b[0m\u001b[0;34m(\u001b[0m\u001b[0mcurrent_squad\u001b[0m\u001b[0;34m,\u001b[0m \u001b[0mnon_squad\u001b[0m\u001b[0;34m)\u001b[0m\u001b[0;34m\u001b[0m\u001b[0;34m\u001b[0m\u001b[0m\n\u001b[0m\u001b[1;32m     64\u001b[0m         \u001b[0;32mreturn\u001b[0m \u001b[0mcurrent_squad\u001b[0m\u001b[0;34m,\u001b[0m \u001b[0mnon_squad\u001b[0m\u001b[0;34m\u001b[0m\u001b[0;34m\u001b[0m\u001b[0m\n\u001b[1;32m     65\u001b[0m \u001b[0;34m\u001b[0m\u001b[0m\n",
      "\u001b[0;32m/home/ajrfhp/Control/Control_FPL/agent.py\u001b[0m in \u001b[0;36mmake_optimal_trade\u001b[0;34m(self, current_squad, non_squad)\u001b[0m\n\u001b[1;32m    204\u001b[0m                     \u001b[0muser\u001b[0m \u001b[0;34m=\u001b[0m \u001b[0;32mawait\u001b[0m \u001b[0mfpl\u001b[0m\u001b[0;34m.\u001b[0m\u001b[0mget_user\u001b[0m\u001b[0;34m(\u001b[0m\u001b[0muser_id\u001b[0m\u001b[0;34m)\u001b[0m\u001b[0;34m\u001b[0m\u001b[0;34m\u001b[0m\u001b[0m\n\u001b[1;32m    205\u001b[0m                     \u001b[0;32mtry\u001b[0m \u001b[0;34m:\u001b[0m\u001b[0;34m\u001b[0m\u001b[0;34m\u001b[0m\u001b[0m\n\u001b[0;32m--> 206\u001b[0;31m                         \u001b[0;32mawait\u001b[0m \u001b[0muser\u001b[0m\u001b[0;34m.\u001b[0m\u001b[0mtransfer\u001b[0m\u001b[0;34m(\u001b[0m\u001b[0;34m[\u001b[0m\u001b[0mplayer_out\u001b[0m\u001b[0;34m.\u001b[0m\u001b[0mid\u001b[0m\u001b[0;34m]\u001b[0m\u001b[0;34m,\u001b[0m \u001b[0;34m[\u001b[0m\u001b[0mplayer_in\u001b[0m\u001b[0;34m.\u001b[0m\u001b[0mid\u001b[0m\u001b[0;34m]\u001b[0m\u001b[0;34m,\u001b[0m \u001b[0mmax_hit\u001b[0m\u001b[0;34m=\u001b[0m\u001b[0;36m0\u001b[0m\u001b[0;34m)\u001b[0m\u001b[0;34m\u001b[0m\u001b[0;34m\u001b[0m\u001b[0m\n\u001b[0m\u001b[1;32m    207\u001b[0m                     \u001b[0;32mexcept\u001b[0m \u001b[0maiohttp\u001b[0m\u001b[0;34m.\u001b[0m\u001b[0mContentTypeError\u001b[0m \u001b[0;32mor\u001b[0m \u001b[0mKeyError\u001b[0m\u001b[0;34m:\u001b[0m\u001b[0;34m\u001b[0m\u001b[0;34m\u001b[0m\u001b[0m\n\u001b[1;32m    208\u001b[0m                         \u001b[0mprint\u001b[0m\u001b[0;34m(\u001b[0m\u001b[0;34mf'successful transfer {player_out.name} {player_in.name}'\u001b[0m\u001b[0;34m)\u001b[0m\u001b[0;34m\u001b[0m\u001b[0;34m\u001b[0m\u001b[0m\n",
      "\u001b[0;32m/home/ajrfhp/anaconda3/envs/test/lib/python3.8/site-packages/fpl/models/user.py\u001b[0m in \u001b[0;36mtransfer\u001b[0;34m(self, players_out, players_in, max_hit, wildcard, free_hit)\u001b[0m\n\u001b[1;32m    600\u001b[0m             \u001b[0;32mraise\u001b[0m \u001b[0mException\u001b[0m\u001b[0;34m(\u001b[0m\u001b[0mpost_response\u001b[0m\u001b[0;34m[\u001b[0m\u001b[0;34m\"non_form_errors\"\u001b[0m\u001b[0;34m]\u001b[0m\u001b[0;34m)\u001b[0m\u001b[0;34m\u001b[0m\u001b[0;34m\u001b[0m\u001b[0m\n\u001b[1;32m    601\u001b[0m \u001b[0;34m\u001b[0m\u001b[0m\n\u001b[0;32m--> 602\u001b[0;31m         \u001b[0;32mif\u001b[0m \u001b[0mpost_response\u001b[0m\u001b[0;34m[\u001b[0m\u001b[0;34m\"spent_points\"\u001b[0m\u001b[0;34m]\u001b[0m \u001b[0;34m>\u001b[0m \u001b[0mmax_hit\u001b[0m\u001b[0;34m:\u001b[0m\u001b[0;34m\u001b[0m\u001b[0;34m\u001b[0m\u001b[0m\n\u001b[0m\u001b[1;32m    603\u001b[0m             raise Exception(\n\u001b[1;32m    604\u001b[0m                 \u001b[0;34mf\"Point hit for transfer(s) [-{post_response['spent_points']}]\"\u001b[0m\u001b[0;34m\u001b[0m\u001b[0;34m\u001b[0m\u001b[0m\n",
      "\u001b[0;31mKeyError\u001b[0m: 'spent_points'"
     ]
    }
   ],
   "source": [
    "current_squad, non_squad = await get_current_squad(features, window=agent.window, num_players=agent.num_players)\n",
    "current_squad, non_squad = await agent.get_new_squad(features)\n",
    "squad = current_squad + non_squad"
   ]
  },
  {
   "cell_type": "code",
   "execution_count": null,
   "id": "fb20196c",
   "metadata": {
    "execution": {
     "iopub.execute_input": "2021-12-18T19:38:41.918269Z",
     "iopub.status.busy": "2021-12-18T19:38:41.917994Z",
     "iopub.status.idle": "2021-12-18T19:38:41.920151Z",
     "shell.execute_reply": "2021-12-18T19:38:41.919926Z"
    },
    "papermill": {
     "duration": null,
     "end_time": null,
     "exception": null,
     "start_time": null,
     "status": "pending"
    },
    "tags": []
   },
   "outputs": [],
   "source": [
    "\n",
    "#agent.get_wildcard_squad(squad, max_weight=1000, visualize=False)"
   ]
  },
  {
   "cell_type": "markdown",
   "id": "cda9a5a4",
   "metadata": {
    "papermill": {
     "duration": null,
     "end_time": null,
     "exception": null,
     "start_time": null,
     "status": "pending"
    },
    "tags": []
   },
   "source": [
    "## Show game week id"
   ]
  },
  {
   "cell_type": "code",
   "execution_count": null,
   "id": "b65da14f",
   "metadata": {
    "execution": {
     "iopub.execute_input": "2021-12-18T19:38:42.070519Z",
     "iopub.status.busy": "2021-12-18T19:38:42.070246Z",
     "iopub.status.idle": "2021-12-18T19:38:42.073329Z",
     "shell.execute_reply": "2021-12-18T19:38:42.073061Z"
    },
    "papermill": {
     "duration": null,
     "end_time": null,
     "exception": null,
     "start_time": null,
     "status": "pending"
    },
    "tags": []
   },
   "outputs": [],
   "source": [
    "agent.gameweek"
   ]
  },
  {
   "cell_type": "markdown",
   "id": "eb13f746",
   "metadata": {
    "papermill": {
     "duration": null,
     "end_time": null,
     "exception": null,
     "start_time": null,
     "status": "pending"
    },
    "tags": []
   },
   "source": [
    "## Use model to swap players"
   ]
  },
  {
   "cell_type": "markdown",
   "id": "97f96acf",
   "metadata": {
    "papermill": {
     "duration": null,
     "end_time": null,
     "exception": null,
     "start_time": null,
     "status": "pending"
    },
    "tags": []
   },
   "source": [
    "## Set playing 11"
   ]
  },
  {
   "cell_type": "code",
   "execution_count": null,
   "id": "72429f38",
   "metadata": {
    "execution": {
     "iopub.execute_input": "2021-12-18T19:38:42.303336Z",
     "iopub.status.busy": "2021-12-18T19:38:42.301681Z",
     "iopub.status.idle": "2021-12-18T19:38:45.287736Z",
     "shell.execute_reply": "2021-12-18T19:38:45.287450Z"
    },
    "papermill": {
     "duration": null,
     "end_time": null,
     "exception": null,
     "start_time": null,
     "status": "pending"
    },
    "tags": []
   },
   "outputs": [],
   "source": [
    "await agent.set_playing_11(current_squad, visualize=True)\n"
   ]
  },
  {
   "cell_type": "markdown",
   "id": "c8c99a6a",
   "metadata": {
    "papermill": {
     "duration": null,
     "end_time": null,
     "exception": null,
     "start_time": null,
     "status": "pending"
    },
    "tags": []
   },
   "source": [
    "## Highlight top performers by position for this week"
   ]
  },
  {
   "cell_type": "code",
   "execution_count": null,
   "id": "704e3419",
   "metadata": {
    "execution": {
     "iopub.execute_input": "2021-12-18T19:38:45.501480Z",
     "iopub.status.busy": "2021-12-18T19:38:45.500974Z",
     "iopub.status.idle": "2021-12-18T19:38:48.084928Z",
     "shell.execute_reply": "2021-12-18T19:38:48.085167Z"
    },
    "papermill": {
     "duration": null,
     "end_time": null,
     "exception": null,
     "start_time": null,
     "status": "pending"
    },
    "tags": []
   },
   "outputs": [],
   "source": [
    "agent.show_top_performers(current_squad + non_squad, k=5)"
   ]
  },
  {
   "cell_type": "code",
   "execution_count": null,
   "id": "ef62162a",
   "metadata": {
    "papermill": {
     "duration": null,
     "end_time": null,
     "exception": null,
     "start_time": null,
     "status": "pending"
    },
    "tags": []
   },
   "outputs": [],
   "source": []
  }
 ],
 "metadata": {
  "interpreter": {
   "hash": "03ca37dd8f16b9970374fbeef9cf49c08034cd4bc6a7199a4f4689b44b4426cc"
  },
  "kernelspec": {
   "display_name": "Python 3.8.11 64-bit ('control': conda)",
   "name": "python3"
  },
  "language_info": {
   "codemirror_mode": {
    "name": "ipython",
    "version": 3
   },
   "file_extension": ".py",
   "mimetype": "text/x-python",
   "name": "python",
   "nbconvert_exporter": "python",
   "pygments_lexer": "ipython3",
   "version": "3.8.12"
  },
  "papermill": {
   "default_parameters": {},
   "duration": 31.121922,
   "end_time": "2021-12-26T12:39:51.547323",
   "environment_variables": {},
   "exception": true,
   "input_path": "agent.ipynb",
   "output_path": "agent.ipynb",
   "parameters": {},
   "start_time": "2021-12-26T12:39:20.425401",
   "version": "2.3.3"
  }
 },
 "nbformat": 4,
 "nbformat_minor": 5
}