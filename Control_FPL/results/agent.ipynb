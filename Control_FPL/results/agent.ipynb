{
 "cells": [
  {
   "cell_type": "markdown",
   "id": "6ea4c6e4",
   "metadata": {
    "papermill": {
     "duration": 0.014162,
     "end_time": "2021-10-11T13:04:37.734227",
     "exception": false,
     "start_time": "2021-10-11T13:04:37.720065",
     "status": "completed"
    },
    "tags": []
   },
   "source": [
    "# Table of contents\n",
    "\n",
    "- Download latest data\n",
    "- Retrain model\n",
    "- Display current squad\n",
    "- Use model to identify transfers\n",
    "- Identify playing 11\n",
    "- Show top performers by position"
   ]
  },
  {
   "cell_type": "code",
   "execution_count": 1,
   "id": "e98118aa",
   "metadata": {
    "execution": {
     "iopub.execute_input": "2021-10-11T13:04:37.769831Z",
     "iopub.status.busy": "2021-10-11T13:04:37.769549Z",
     "iopub.status.idle": "2021-10-11T13:04:38.692921Z",
     "shell.execute_reply": "2021-10-11T13:04:38.693151Z"
    },
    "papermill": {
     "duration": 0.943196,
     "end_time": "2021-10-11T13:04:38.693288",
     "exception": false,
     "start_time": "2021-10-11T13:04:37.750092",
     "status": "completed"
    },
    "tags": []
   },
   "outputs": [],
   "source": [
    "import pandas as pd\n",
    "import torch\n",
    "import numpy as np\n",
    "import random\n",
    "from random import shuffle\n",
    "np.random.seed(17)\n",
    "random.seed(17)\n",
    "torch.manual_seed(17)\n",
    "import wget\n",
    "import os\n",
    "import aiohttp\n",
    "import asyncio\n",
    "from fpl import FPL\n",
    "from torch.utils.data import TensorDataset, DataLoader\n",
    "from player import Player\n",
    "from team import Team\n",
    "from data_processor import get_fpl, get_current_squad\n",
    "from agent import Agent"
   ]
  },
  {
   "cell_type": "markdown",
   "id": "f6775281",
   "metadata": {
    "papermill": {
     "duration": 0.013485,
     "end_time": "2021-10-11T13:04:38.720970",
     "exception": false,
     "start_time": "2021-10-11T13:04:38.707485",
     "status": "completed"
    },
    "tags": []
   },
   "source": [
    "## Download latest data, train model and save model."
   ]
  },
  {
   "cell_type": "code",
   "execution_count": 2,
   "id": "848e4976",
   "metadata": {
    "execution": {
     "iopub.execute_input": "2021-10-11T13:04:38.750902Z",
     "iopub.status.busy": "2021-10-11T13:04:38.750609Z"
    },
    "papermill": {
     "duration": 15.965897,
     "end_time": "2021-10-11T13:04:54.700307",
     "exception": false,
     "start_time": "2021-10-11T13:04:38.734410",
     "status": "completed"
    },
    "tags": []
   },
   "outputs": [
    {
     "name": "stderr",
     "output_type": "stream",
     "text": [
      "GPU available: False, used: False\n"
     ]
    },
    {
     "name": "stderr",
     "output_type": "stream",
     "text": [
      "TPU available: False, using: 0 TPU cores\n"
     ]
    },
    {
     "name": "stderr",
     "output_type": "stream",
     "text": [
      "IPU available: False, using: 0 IPUs\n"
     ]
    },
    {
     "name": "stderr",
     "output_type": "stream",
     "text": [
      "/home/ajrfhp/anaconda3/envs/control/lib/python3.8/site-packages/pandas/core/frame.py:5171: SettingWithCopyWarning: \n",
      "A value is trying to be set on a copy of a slice from a DataFrame\n",
      "\n",
      "See the caveats in the documentation: https://pandas.pydata.org/pandas-docs/stable/user_guide/indexing.html#returning-a-view-versus-a-copy\n",
      "  return super().fillna(\n",
      "/home/ajrfhp/Control/Control_FPL/data_processor.py:61: SettingWithCopyWarning: \n",
      "A value is trying to be set on a copy of a slice from a DataFrame.\n",
      "Try using .loc[row_indexer,col_indexer] = value instead\n",
      "\n",
      "See the caveats in the documentation: https://pandas.pydata.org/pandas-docs/stable/user_guide/indexing.html#returning-a-view-versus-a-copy\n",
      "  all_player_features[\"total_points\"] = all_player_features[\"total_points\"].clip(0, max_player_points)\n"
     ]
    }
   ],
   "source": [
    "opponent_feature_names = [\"npxG\",\"npxGA\"]\n",
    "player_feature_names = [\"total_points\", \"ict_index\", \"clean_sheets\", \"saves\", \"assists\"]\n",
    "\n",
    "agent = Agent(player_feature_names, opponent_feature_names)\n",
    "await agent.get_data()\n",
    "await agent.update_model()"
   ]
  },
  {
   "cell_type": "markdown",
   "id": "17a668e5",
   "metadata": {
    "papermill": {
     "duration": null,
     "end_time": null,
     "exception": null,
     "start_time": null,
     "status": "completed"
    },
    "tags": []
   },
   "source": [
    "## Show game week id"
   ]
  },
  {
   "cell_type": "code",
   "execution_count": null,
   "id": "cc8fba96",
   "metadata": {
    "papermill": {
     "duration": null,
     "end_time": null,
     "exception": null,
     "start_time": null,
     "status": "completed"
    },
    "tags": []
   },
   "outputs": [],
   "source": [
    "os.environ['GAME_WEEKID']"
   ]
  },
  {
   "cell_type": "markdown",
   "id": "e1a0ac4b",
   "metadata": {
    "papermill": {
     "duration": null,
     "end_time": null,
     "exception": null,
     "start_time": null,
     "status": "completed"
    },
    "tags": []
   },
   "source": [
    "## Display current squad"
   ]
  },
  {
   "cell_type": "code",
   "execution_count": null,
   "id": "4ffec905",
   "metadata": {
    "papermill": {
     "duration": null,
     "end_time": null,
     "exception": null,
     "start_time": null,
     "status": "completed"
    },
    "tags": []
   },
   "outputs": [],
   "source": [
    "current_squad, non_squad = await get_current_squad(player_feature_names, team_feature_names, window=self.window, num_players=self.num_players)\n",
    "for player in current_squad:\n",
    "    player.visualize()"
   ]
  },
  {
   "cell_type": "markdown",
   "id": "5d4e6293",
   "metadata": {
    "papermill": {
     "duration": null,
     "end_time": null,
     "exception": null,
     "start_time": null,
     "status": "completed"
    },
    "tags": []
   },
   "source": [
    "## Use model to swap players"
   ]
  },
  {
   "cell_type": "code",
   "execution_count": null,
   "id": "cbe7af18",
   "metadata": {
    "papermill": {
     "duration": null,
     "end_time": null,
     "exception": null,
     "start_time": null,
     "status": "completed"
    },
    "tags": []
   },
   "outputs": [],
   "source": [
    "current_squad, non_squad = await agent.get_new_squad(player_feature_names, opponent_feature_names)"
   ]
  },
  {
   "cell_type": "markdown",
   "id": "d7ea7a27",
   "metadata": {
    "papermill": {
     "duration": null,
     "end_time": null,
     "exception": null,
     "start_time": null,
     "status": "completed"
    },
    "tags": []
   },
   "source": [
    "## Set playing 11"
   ]
  },
  {
   "cell_type": "markdown",
   "id": "f5f1fa9e",
   "metadata": {
    "papermill": {
     "duration": null,
     "end_time": null,
     "exception": null,
     "start_time": null,
     "status": "completed"
    },
    "tags": []
   },
   "source": [
    "agent.set_playing_11(current_squad, visualize=True)"
   ]
  },
  {
   "cell_type": "markdown",
   "id": "dd0105f1",
   "metadata": {
    "papermill": {
     "duration": null,
     "end_time": null,
     "exception": null,
     "start_time": null,
     "status": "completed"
    },
    "tags": []
   },
   "source": [
    "## Highlight top performers by position for this week"
   ]
  },
  {
   "cell_type": "code",
   "execution_count": null,
   "id": "8753ea57",
   "metadata": {
    "papermill": {
     "duration": null,
     "end_time": null,
     "exception": null,
     "start_time": null,
     "status": "completed"
    },
    "tags": []
   },
   "outputs": [],
   "source": [
    "agent.show_top_performers(current_squad + non_squad, k=5)"
   ]
  },
  {
   "cell_type": "code",
   "execution_count": null,
   "id": "51c8d492",
   "metadata": {
    "papermill": {
     "duration": null,
     "end_time": null,
     "exception": null,
     "start_time": null,
     "status": "completed"
    },
    "tags": []
   },
   "outputs": [],
   "source": []
  }
 ],
 "metadata": {
  "interpreter": {
   "hash": "b5627f7b8c19952b5c3fb9e9d080b6a8115f1e27078e0674f99b1b4770c4f5a6"
  },
  "kernelspec": {
   "display_name": "Python 3.8.11 64-bit ('control': conda)",
   "name": "python3"
  },
  "language_info": {
   "codemirror_mode": {
    "name": "ipython",
    "version": 3
   },
   "file_extension": ".py",
   "mimetype": "text/x-python",
   "name": "python",
   "nbconvert_exporter": "python",
   "pygments_lexer": "ipython3",
   "version": "3.8.11"
  },
  "papermill": {
   "default_parameters": {},
   "duration": 18.217084,
   "end_time": "2021-10-11T13:04:55.024938",
   "environment_variables": {},
   "exception": null,
   "input_path": "agent.ipynb",
   "output_path": "results/agent.ipynb",
   "parameters": {},
   "start_time": "2021-10-11T13:04:36.807854",
   "version": "2.3.3"
  }
 },
 "nbformat": 4,
 "nbformat_minor": 5
}