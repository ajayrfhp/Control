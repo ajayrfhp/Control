{
 "cells": [
  {
   "cell_type": "code",
   "execution_count": 1,
   "metadata": {
    "tags": []
   },
   "outputs": [
    {
     "output_type": "stream",
     "name": "stdout",
     "text": "The history saving thread hit an unexpected error (DatabaseError('database disk image is malformed')).History will not be written to the database.\nhello FPL\n"
    }
   ],
   "source": [
    "import sys\n",
    "sys.path.append(\"../\")\n",
    "from data import Data\n",
    "from matplotlib import pyplot as plt\n",
    "import numpy as np\n",
    "from fpl import FPL\n",
    "import aiohttp\n",
    "import asyncio\n",
    "import pandas as pd\n",
    "from random import shuffle\n",
    "from collections import defaultdict\n",
    "from scipy.stats import skewnorm\n",
    "print(\"hello FPL\")"
   ]
  },
  {
   "cell_type": "code",
   "execution_count": 2,
   "metadata": {},
   "outputs": [],
   "source": [
    "## Get current match day squad\n",
    "## Find player with the least expected score, swap him for player with highest expected score under budget\n",
    "## Make player with highest expected score in squad as captain"
   ]
  },
  {
   "cell_type": "code",
   "execution_count": 3,
   "metadata": {
    "tags": []
   },
   "outputs": [
    {
     "output_type": "execute_result",
     "data": {
      "text/plain": "                             name element selling_price purchase_price  \\\n0                     Hugo Lloris     383            55             55   \n1          Trent Alexander-Arnold     259            75             75   \n2                      Willy Boly     458            55             55   \n3                    Matt Doherty     457            60             60   \n4                   Marcos Alonso     104            60             60   \n5         Willian Borges Da Silva     478            80             80   \n6                     Declan Rice     448            50             50   \n7                   Jonjo Shelvey     321            55             55   \n8                    Matt Ritchie     322            50             50   \n9                 Michail Antonio     437            65             65   \n10                     Danny Ings     366            85             85   \n11                      Nick Pope      96            55             55   \n12              Benjamin Chilwell     232            55             55   \n13  Bruno Miguel Borges Fernandes     302           105            105   \n14                Anthony Martial     303            90             90   \n\n   is_captain  \n0       False  \n1        True  \n2       False  \n3       False  \n4       False  \n5       False  \n6       False  \n7       False  \n8       False  \n9       False  \n10      False  \n11      False  \n12      False  \n13      False  \n14      False  ",
      "text/html": "<div>\n<style scoped>\n    .dataframe tbody tr th:only-of-type {\n        vertical-align: middle;\n    }\n\n    .dataframe tbody tr th {\n        vertical-align: top;\n    }\n\n    .dataframe thead th {\n        text-align: right;\n    }\n</style>\n<table border=\"1\" class=\"dataframe\">\n  <thead>\n    <tr style=\"text-align: right;\">\n      <th></th>\n      <th>name</th>\n      <th>element</th>\n      <th>selling_price</th>\n      <th>purchase_price</th>\n      <th>is_captain</th>\n    </tr>\n  </thead>\n  <tbody>\n    <tr>\n      <th>0</th>\n      <td>Hugo Lloris</td>\n      <td>383</td>\n      <td>55</td>\n      <td>55</td>\n      <td>False</td>\n    </tr>\n    <tr>\n      <th>1</th>\n      <td>Trent Alexander-Arnold</td>\n      <td>259</td>\n      <td>75</td>\n      <td>75</td>\n      <td>True</td>\n    </tr>\n    <tr>\n      <th>2</th>\n      <td>Willy Boly</td>\n      <td>458</td>\n      <td>55</td>\n      <td>55</td>\n      <td>False</td>\n    </tr>\n    <tr>\n      <th>3</th>\n      <td>Matt Doherty</td>\n      <td>457</td>\n      <td>60</td>\n      <td>60</td>\n      <td>False</td>\n    </tr>\n    <tr>\n      <th>4</th>\n      <td>Marcos Alonso</td>\n      <td>104</td>\n      <td>60</td>\n      <td>60</td>\n      <td>False</td>\n    </tr>\n    <tr>\n      <th>5</th>\n      <td>Willian Borges Da Silva</td>\n      <td>478</td>\n      <td>80</td>\n      <td>80</td>\n      <td>False</td>\n    </tr>\n    <tr>\n      <th>6</th>\n      <td>Declan Rice</td>\n      <td>448</td>\n      <td>50</td>\n      <td>50</td>\n      <td>False</td>\n    </tr>\n    <tr>\n      <th>7</th>\n      <td>Jonjo Shelvey</td>\n      <td>321</td>\n      <td>55</td>\n      <td>55</td>\n      <td>False</td>\n    </tr>\n    <tr>\n      <th>8</th>\n      <td>Matt Ritchie</td>\n      <td>322</td>\n      <td>50</td>\n      <td>50</td>\n      <td>False</td>\n    </tr>\n    <tr>\n      <th>9</th>\n      <td>Michail Antonio</td>\n      <td>437</td>\n      <td>65</td>\n      <td>65</td>\n      <td>False</td>\n    </tr>\n    <tr>\n      <th>10</th>\n      <td>Danny Ings</td>\n      <td>366</td>\n      <td>85</td>\n      <td>85</td>\n      <td>False</td>\n    </tr>\n    <tr>\n      <th>11</th>\n      <td>Nick Pope</td>\n      <td>96</td>\n      <td>55</td>\n      <td>55</td>\n      <td>False</td>\n    </tr>\n    <tr>\n      <th>12</th>\n      <td>Benjamin Chilwell</td>\n      <td>232</td>\n      <td>55</td>\n      <td>55</td>\n      <td>False</td>\n    </tr>\n    <tr>\n      <th>13</th>\n      <td>Bruno Miguel Borges Fernandes</td>\n      <td>302</td>\n      <td>105</td>\n      <td>105</td>\n      <td>False</td>\n    </tr>\n    <tr>\n      <th>14</th>\n      <td>Anthony Martial</td>\n      <td>303</td>\n      <td>90</td>\n      <td>90</td>\n      <td>False</td>\n    </tr>\n  </tbody>\n</table>\n</div>"
     },
     "metadata": {},
     "execution_count": 3
    }
   ],
   "source": [
    "async def get_current_squad():\n",
    "    async with aiohttp.ClientSession() as session:\n",
    "        fpl = FPL(session)\n",
    "        await fpl.login(email=os.environ['email'], password=os.environ['password'])\n",
    "        user = await fpl.get_user(5645003)\n",
    "        squad = await user.get_team()\n",
    "        position_map = {\n",
    "        1: \"Goalkeeper\",\n",
    "        2: \"Defender\",\n",
    "        3: \"Midfielder\",\n",
    "        4: \"Forward\"\n",
    "        }\n",
    "        current_squad = pd.DataFrame(columns=[\"name\", \"element\", \"selling_price\", \"purchase_price\", \"is_captain\"])\n",
    "        for i, player_element in enumerate(squad):\n",
    "            player = await fpl.get_player(player_element['element'])\n",
    "            name = player.first_name + \" \" + player.second_name\n",
    "            current_squad.loc[i, 'name'] = name\n",
    "            current_squad.loc[i, 'element'] = player_element['element']\n",
    "            current_squad.loc[i, \"selling_price\"] = player_element[\"selling_price\"]\n",
    "            current_squad.loc[i, \"purchase_price\"] = player_element[\"purchase_price\"]\n",
    "            current_squad.loc[i, \"is_captain\"] = player_element[\"is_captain\"]\n",
    "        return current_squad\n",
    "\n",
    "current_squad = await get_current_squad()\n",
    "current_squad"
   ]
  },
  {
   "cell_type": "code",
   "execution_count": 4,
   "metadata": {},
   "outputs": [
    {
     "output_type": "execute_result",
     "data": {
      "text/plain": "                            name    42    43    44   45   46    47    54  \\\n0  Bruno Miguel Borges Fernandes  15.0  14.0   5.0  6.0  1.0  11.0   0.0   \n1      Gabriel Fernando de Jesus   1.0   8.0  14.0  8.0  2.0   8.0   0.0   \n2                Anthony Martial  14.0   6.0  13.0  8.0  5.0   6.0   0.0   \n3                Michail Antonio   7.0   2.0  26.0  7.0  9.0   0.0   2.0   \n4                    Jamie Vardy  13.0   9.0   7.0  5.0  2.0   1.0  13.0   \n\n  predicted_score    position  points_per_game  minutes  now_cost     value  \\\n0             8.5  Midfielder              0.0      0.0     105.0  0.000000   \n1               8     Forward              0.0      0.0      95.0  0.000000   \n2               7     Forward              0.0      0.0      90.0  0.000000   \n3               7     Forward              2.0     90.0      65.0  0.030769   \n4               6     Forward             13.0     90.0     100.0  0.130000   \n\n  element  \n0     302  \n1     282  \n2     303  \n3     437  \n4     224  ",
      "text/html": "<div>\n<style scoped>\n    .dataframe tbody tr th:only-of-type {\n        vertical-align: middle;\n    }\n\n    .dataframe tbody tr th {\n        vertical-align: top;\n    }\n\n    .dataframe thead th {\n        text-align: right;\n    }\n</style>\n<table border=\"1\" class=\"dataframe\">\n  <thead>\n    <tr style=\"text-align: right;\">\n      <th></th>\n      <th>name</th>\n      <th>42</th>\n      <th>43</th>\n      <th>44</th>\n      <th>45</th>\n      <th>46</th>\n      <th>47</th>\n      <th>54</th>\n      <th>predicted_score</th>\n      <th>position</th>\n      <th>points_per_game</th>\n      <th>minutes</th>\n      <th>now_cost</th>\n      <th>value</th>\n      <th>element</th>\n    </tr>\n  </thead>\n  <tbody>\n    <tr>\n      <th>0</th>\n      <td>Bruno Miguel Borges Fernandes</td>\n      <td>15.0</td>\n      <td>14.0</td>\n      <td>5.0</td>\n      <td>6.0</td>\n      <td>1.0</td>\n      <td>11.0</td>\n      <td>0.0</td>\n      <td>8.5</td>\n      <td>Midfielder</td>\n      <td>0.0</td>\n      <td>0.0</td>\n      <td>105.0</td>\n      <td>0.000000</td>\n      <td>302</td>\n    </tr>\n    <tr>\n      <th>1</th>\n      <td>Gabriel Fernando de Jesus</td>\n      <td>1.0</td>\n      <td>8.0</td>\n      <td>14.0</td>\n      <td>8.0</td>\n      <td>2.0</td>\n      <td>8.0</td>\n      <td>0.0</td>\n      <td>8</td>\n      <td>Forward</td>\n      <td>0.0</td>\n      <td>0.0</td>\n      <td>95.0</td>\n      <td>0.000000</td>\n      <td>282</td>\n    </tr>\n    <tr>\n      <th>2</th>\n      <td>Anthony Martial</td>\n      <td>14.0</td>\n      <td>6.0</td>\n      <td>13.0</td>\n      <td>8.0</td>\n      <td>5.0</td>\n      <td>6.0</td>\n      <td>0.0</td>\n      <td>7</td>\n      <td>Forward</td>\n      <td>0.0</td>\n      <td>0.0</td>\n      <td>90.0</td>\n      <td>0.000000</td>\n      <td>303</td>\n    </tr>\n    <tr>\n      <th>3</th>\n      <td>Michail Antonio</td>\n      <td>7.0</td>\n      <td>2.0</td>\n      <td>26.0</td>\n      <td>7.0</td>\n      <td>9.0</td>\n      <td>0.0</td>\n      <td>2.0</td>\n      <td>7</td>\n      <td>Forward</td>\n      <td>2.0</td>\n      <td>90.0</td>\n      <td>65.0</td>\n      <td>0.030769</td>\n      <td>437</td>\n    </tr>\n    <tr>\n      <th>4</th>\n      <td>Jamie Vardy</td>\n      <td>13.0</td>\n      <td>9.0</td>\n      <td>7.0</td>\n      <td>5.0</td>\n      <td>2.0</td>\n      <td>1.0</td>\n      <td>13.0</td>\n      <td>6</td>\n      <td>Forward</td>\n      <td>13.0</td>\n      <td>90.0</td>\n      <td>100.0</td>\n      <td>0.130000</td>\n      <td>224</td>\n    </tr>\n  </tbody>\n</table>\n</div>"
     },
     "metadata": {},
     "execution_count": 4
    }
   ],
   "source": [
    "data = Data()\n",
    "await data.get_value_data()\n",
    "data.build_player_timeseries()\n",
    "recent_form_map = data.build_recent_form_map()\n",
    "performance = data.predict_performance(recent_form_map)\n",
    "value_data = data.value_data\n",
    "performance_value = pd.merge(performance, value_data, on = ['name'])\n",
    "performance_value.head()"
   ]
  },
  {
   "cell_type": "code",
   "execution_count": 5,
   "metadata": {},
   "outputs": [
    {
     "output_type": "execute_result",
     "data": {
      "text/plain": "                 name element selling_price purchase_price is_captain   42  \\\n12  Benjamin Chilwell     232            55             55      False  0.0   \n\n     43   44   45   46   47   54 predicted_score  position  points_per_game  \\\n12  0.0  0.0  0.0  0.0  0.0  0.0               0  Defender              0.0   \n\n    minutes  now_cost  value  \n12      0.0      55.0    0.0  ",
      "text/html": "<div>\n<style scoped>\n    .dataframe tbody tr th:only-of-type {\n        vertical-align: middle;\n    }\n\n    .dataframe tbody tr th {\n        vertical-align: top;\n    }\n\n    .dataframe thead th {\n        text-align: right;\n    }\n</style>\n<table border=\"1\" class=\"dataframe\">\n  <thead>\n    <tr style=\"text-align: right;\">\n      <th></th>\n      <th>name</th>\n      <th>element</th>\n      <th>selling_price</th>\n      <th>purchase_price</th>\n      <th>is_captain</th>\n      <th>42</th>\n      <th>43</th>\n      <th>44</th>\n      <th>45</th>\n      <th>46</th>\n      <th>47</th>\n      <th>54</th>\n      <th>predicted_score</th>\n      <th>position</th>\n      <th>points_per_game</th>\n      <th>minutes</th>\n      <th>now_cost</th>\n      <th>value</th>\n    </tr>\n  </thead>\n  <tbody>\n    <tr>\n      <th>12</th>\n      <td>Benjamin Chilwell</td>\n      <td>232</td>\n      <td>55</td>\n      <td>55</td>\n      <td>False</td>\n      <td>0.0</td>\n      <td>0.0</td>\n      <td>0.0</td>\n      <td>0.0</td>\n      <td>0.0</td>\n      <td>0.0</td>\n      <td>0.0</td>\n      <td>0</td>\n      <td>Defender</td>\n      <td>0.0</td>\n      <td>0.0</td>\n      <td>55.0</td>\n      <td>0.0</td>\n    </tr>\n  </tbody>\n</table>\n</div>"
     },
     "metadata": {},
     "execution_count": 5
    }
   ],
   "source": [
    "player_dropped = pd.merge(current_squad, performance_value, on = ['name', 'element']).sort_values(by=['predicted_score'], ascending = True).head(1)\n",
    "player_dropped"
   ]
  },
  {
   "cell_type": "code",
   "execution_count": 6,
   "metadata": {},
   "outputs": [
    {
     "output_type": "execute_result",
     "data": {
      "text/plain": "                name   42   43    44   45   46   47   54 predicted_score  \\\n5  Toby Alderweireld  7.0  6.0  10.0  1.0  6.0  1.0  2.0               6   \n\n   position  points_per_game  minutes  now_cost     value element  \n5  Defender              2.0     90.0      55.0  0.036364     386  ",
      "text/html": "<div>\n<style scoped>\n    .dataframe tbody tr th:only-of-type {\n        vertical-align: middle;\n    }\n\n    .dataframe tbody tr th {\n        vertical-align: top;\n    }\n\n    .dataframe thead th {\n        text-align: right;\n    }\n</style>\n<table border=\"1\" class=\"dataframe\">\n  <thead>\n    <tr style=\"text-align: right;\">\n      <th></th>\n      <th>name</th>\n      <th>42</th>\n      <th>43</th>\n      <th>44</th>\n      <th>45</th>\n      <th>46</th>\n      <th>47</th>\n      <th>54</th>\n      <th>predicted_score</th>\n      <th>position</th>\n      <th>points_per_game</th>\n      <th>minutes</th>\n      <th>now_cost</th>\n      <th>value</th>\n      <th>element</th>\n    </tr>\n  </thead>\n  <tbody>\n    <tr>\n      <th>5</th>\n      <td>Toby Alderweireld</td>\n      <td>7.0</td>\n      <td>6.0</td>\n      <td>10.0</td>\n      <td>1.0</td>\n      <td>6.0</td>\n      <td>1.0</td>\n      <td>2.0</td>\n      <td>6</td>\n      <td>Defender</td>\n      <td>2.0</td>\n      <td>90.0</td>\n      <td>55.0</td>\n      <td>0.036364</td>\n      <td>386</td>\n    </tr>\n  </tbody>\n</table>\n</div>"
     },
     "metadata": {},
     "execution_count": 6
    }
   ],
   "source": [
    "non_squad_players = performance_value[(~performance_value['name'].isin(current_squad['name'])) & (performance_value['now_cost'] <= player_dropped[\"now_cost\"].values[0]) & (performance_value['position'] == player_dropped['position'].values[0])]\n",
    "best_replacement_player = non_squad_players.sort_values(by=['predicted_score'], ascending = False).head(1)\n",
    "best_replacement_player\n"
   ]
  },
  {
   "cell_type": "code",
   "execution_count": 7,
   "metadata": {},
   "outputs": [
    {
     "output_type": "execute_result",
     "data": {
      "text/plain": "                             name element selling_price purchase_price  \\\n0                     Hugo Lloris     383            55             55   \n1          Trent Alexander-Arnold     259            75             75   \n2                      Willy Boly     458            55             55   \n3                    Matt Doherty     457            60             60   \n4                   Marcos Alonso     104            60             60   \n5         Willian Borges Da Silva     478            80             80   \n6                     Declan Rice     448            50             50   \n7                   Jonjo Shelvey     321            55             55   \n8                    Matt Ritchie     322            50             50   \n9                 Michail Antonio     437            65             65   \n10                     Danny Ings     366            85             85   \n11                      Nick Pope      96            55             55   \n13  Bruno Miguel Borges Fernandes     302           105            105   \n14              Toby Alderweireld     386          None             55   \n\n   is_captain  \n0       False  \n1        True  \n2       False  \n3       False  \n4       False  \n5       False  \n6       False  \n7       False  \n8       False  \n9       False  \n10      False  \n11      False  \n13      False  \n14      False  ",
      "text/html": "<div>\n<style scoped>\n    .dataframe tbody tr th:only-of-type {\n        vertical-align: middle;\n    }\n\n    .dataframe tbody tr th {\n        vertical-align: top;\n    }\n\n    .dataframe thead th {\n        text-align: right;\n    }\n</style>\n<table border=\"1\" class=\"dataframe\">\n  <thead>\n    <tr style=\"text-align: right;\">\n      <th></th>\n      <th>name</th>\n      <th>element</th>\n      <th>selling_price</th>\n      <th>purchase_price</th>\n      <th>is_captain</th>\n    </tr>\n  </thead>\n  <tbody>\n    <tr>\n      <th>0</th>\n      <td>Hugo Lloris</td>\n      <td>383</td>\n      <td>55</td>\n      <td>55</td>\n      <td>False</td>\n    </tr>\n    <tr>\n      <th>1</th>\n      <td>Trent Alexander-Arnold</td>\n      <td>259</td>\n      <td>75</td>\n      <td>75</td>\n      <td>True</td>\n    </tr>\n    <tr>\n      <th>2</th>\n      <td>Willy Boly</td>\n      <td>458</td>\n      <td>55</td>\n      <td>55</td>\n      <td>False</td>\n    </tr>\n    <tr>\n      <th>3</th>\n      <td>Matt Doherty</td>\n      <td>457</td>\n      <td>60</td>\n      <td>60</td>\n      <td>False</td>\n    </tr>\n    <tr>\n      <th>4</th>\n      <td>Marcos Alonso</td>\n      <td>104</td>\n      <td>60</td>\n      <td>60</td>\n      <td>False</td>\n    </tr>\n    <tr>\n      <th>5</th>\n      <td>Willian Borges Da Silva</td>\n      <td>478</td>\n      <td>80</td>\n      <td>80</td>\n      <td>False</td>\n    </tr>\n    <tr>\n      <th>6</th>\n      <td>Declan Rice</td>\n      <td>448</td>\n      <td>50</td>\n      <td>50</td>\n      <td>False</td>\n    </tr>\n    <tr>\n      <th>7</th>\n      <td>Jonjo Shelvey</td>\n      <td>321</td>\n      <td>55</td>\n      <td>55</td>\n      <td>False</td>\n    </tr>\n    <tr>\n      <th>8</th>\n      <td>Matt Ritchie</td>\n      <td>322</td>\n      <td>50</td>\n      <td>50</td>\n      <td>False</td>\n    </tr>\n    <tr>\n      <th>9</th>\n      <td>Michail Antonio</td>\n      <td>437</td>\n      <td>65</td>\n      <td>65</td>\n      <td>False</td>\n    </tr>\n    <tr>\n      <th>10</th>\n      <td>Danny Ings</td>\n      <td>366</td>\n      <td>85</td>\n      <td>85</td>\n      <td>False</td>\n    </tr>\n    <tr>\n      <th>11</th>\n      <td>Nick Pope</td>\n      <td>96</td>\n      <td>55</td>\n      <td>55</td>\n      <td>False</td>\n    </tr>\n    <tr>\n      <th>13</th>\n      <td>Bruno Miguel Borges Fernandes</td>\n      <td>302</td>\n      <td>105</td>\n      <td>105</td>\n      <td>False</td>\n    </tr>\n    <tr>\n      <th>14</th>\n      <td>Toby Alderweireld</td>\n      <td>386</td>\n      <td>None</td>\n      <td>55</td>\n      <td>False</td>\n    </tr>\n  </tbody>\n</table>\n</div>"
     },
     "metadata": {},
     "execution_count": 7
    }
   ],
   "source": [
    "new_squad = pd.DataFrame(current_squad[current_squad['name'] != player_dropped['name'].values[0]])\n",
    "new_squad.loc[len(new_squad), 'name'] = best_replacement_player['name'].values[0]\n",
    "new_squad.loc[len(new_squad), 'element'] = best_replacement_player['element'].values[0]\n",
    "new_squad.loc[len(new_squad), 'is_captain'] = False\n",
    "new_squad.loc[len(new_squad), 'purchase_price'] = best_replacement_player['now_cost'].values[0]\n",
    "new_squad.loc[len(new_squad), 'selling_price'] = None \n",
    "new_squad"
   ]
  },
  {
   "cell_type": "code",
   "execution_count": 13,
   "metadata": {},
   "outputs": [
    {
     "output_type": "execute_result",
     "data": {
      "text/plain": "                             name element_x selling_price purchase_price  \\\n12  Bruno Miguel Borges Fernandes       302           105            105   \n6                     Declan Rice       448            50             50   \n5         Willian Borges Da Silva       478            80             80   \n7                   Jonjo Shelvey       321            55             55   \n8                    Matt Ritchie       322            50             50   \n0                     Hugo Lloris       383            55             55   \n11                      Nick Pope        96            55             55   \n9                 Michail Antonio       437            65             65   \n10                     Danny Ings       366            85             85   \n13              Toby Alderweireld       386          None             55   \n2                      Willy Boly       458            55             55   \n3                    Matt Doherty       457            60             60   \n1          Trent Alexander-Arnold       259            75             75   \n4                   Marcos Alonso       104            60             60   \n\n   is_captain    42    43    44    45    46    47    54 predicted_score  \\\n12      False  15.0  14.0   5.0   6.0   1.0  11.0   0.0             8.5   \n6       False   7.0   2.0   3.0  10.0   6.0   5.0   2.0             5.5   \n5       False   9.0  11.0   2.0   3.0   4.0   0.0  14.0             3.5   \n7       False  10.0   2.0   2.0   1.0   3.0   5.0   3.0             2.5   \n8       False   0.0   0.0   2.0   9.0   5.0   1.0   0.0             1.5   \n0       False  10.0   6.0   3.0   3.0  10.0   2.0   3.0             4.5   \n11      False   2.0   8.0   3.0   3.0   6.0   1.0   0.0               3   \n9       False   7.0   2.0  26.0   7.0   9.0   0.0   2.0               7   \n10      False   2.0   9.0   2.0   7.0   4.0   8.0   2.0             5.5   \n13      False   7.0   6.0  10.0   1.0   6.0   1.0   2.0               6   \n2       False   1.0   2.0   6.0   2.0   6.0   1.0   6.0               2   \n3       False   2.0   2.0   6.0   0.0  12.0   0.0   2.0               2   \n1        True   6.0   2.0   0.0   0.0  13.0   0.0   1.0               1   \n4       False   0.0   0.0   1.0   7.0   0.0  11.0   2.0             0.5   \n\n      position  points_per_game  minutes  now_cost     value element_y  \n12  Midfielder              0.0      0.0     105.0  0.000000       302  \n6   Midfielder              2.0     90.0      50.0  0.040000       448  \n5   Midfielder             14.0     74.0      81.0  0.172840       478  \n7   Midfielder              3.0     90.0      55.0  0.054545       321  \n8   Midfielder              0.0      0.0      50.0  0.000000       322  \n0   Goalkeeper              3.0     90.0      55.0  0.054545       383  \n11  Goalkeeper              0.0      0.0      55.0  0.000000        96  \n9      Forward              2.0     90.0      65.0  0.030769       437  \n10     Forward              2.0     90.0      85.0  0.023529       366  \n13    Defender              2.0     90.0      55.0  0.036364       386  \n2     Defender              6.0     90.0      55.0  0.109091       458  \n3     Defender              2.0     75.0      60.0  0.033333       457  \n1     Defender              1.0     88.0      75.0  0.013333       259  \n4     Defender              2.0     90.0      60.0  0.033333       104  ",
      "text/html": "<div>\n<style scoped>\n    .dataframe tbody tr th:only-of-type {\n        vertical-align: middle;\n    }\n\n    .dataframe tbody tr th {\n        vertical-align: top;\n    }\n\n    .dataframe thead th {\n        text-align: right;\n    }\n</style>\n<table border=\"1\" class=\"dataframe\">\n  <thead>\n    <tr style=\"text-align: right;\">\n      <th></th>\n      <th>name</th>\n      <th>element_x</th>\n      <th>selling_price</th>\n      <th>purchase_price</th>\n      <th>is_captain</th>\n      <th>42</th>\n      <th>43</th>\n      <th>44</th>\n      <th>45</th>\n      <th>46</th>\n      <th>47</th>\n      <th>54</th>\n      <th>predicted_score</th>\n      <th>position</th>\n      <th>points_per_game</th>\n      <th>minutes</th>\n      <th>now_cost</th>\n      <th>value</th>\n      <th>element_y</th>\n    </tr>\n  </thead>\n  <tbody>\n    <tr>\n      <th>12</th>\n      <td>Bruno Miguel Borges Fernandes</td>\n      <td>302</td>\n      <td>105</td>\n      <td>105</td>\n      <td>False</td>\n      <td>15.0</td>\n      <td>14.0</td>\n      <td>5.0</td>\n      <td>6.0</td>\n      <td>1.0</td>\n      <td>11.0</td>\n      <td>0.0</td>\n      <td>8.5</td>\n      <td>Midfielder</td>\n      <td>0.0</td>\n      <td>0.0</td>\n      <td>105.0</td>\n      <td>0.000000</td>\n      <td>302</td>\n    </tr>\n    <tr>\n      <th>6</th>\n      <td>Declan Rice</td>\n      <td>448</td>\n      <td>50</td>\n      <td>50</td>\n      <td>False</td>\n      <td>7.0</td>\n      <td>2.0</td>\n      <td>3.0</td>\n      <td>10.0</td>\n      <td>6.0</td>\n      <td>5.0</td>\n      <td>2.0</td>\n      <td>5.5</td>\n      <td>Midfielder</td>\n      <td>2.0</td>\n      <td>90.0</td>\n      <td>50.0</td>\n      <td>0.040000</td>\n      <td>448</td>\n    </tr>\n    <tr>\n      <th>5</th>\n      <td>Willian Borges Da Silva</td>\n      <td>478</td>\n      <td>80</td>\n      <td>80</td>\n      <td>False</td>\n      <td>9.0</td>\n      <td>11.0</td>\n      <td>2.0</td>\n      <td>3.0</td>\n      <td>4.0</td>\n      <td>0.0</td>\n      <td>14.0</td>\n      <td>3.5</td>\n      <td>Midfielder</td>\n      <td>14.0</td>\n      <td>74.0</td>\n      <td>81.0</td>\n      <td>0.172840</td>\n      <td>478</td>\n    </tr>\n    <tr>\n      <th>7</th>\n      <td>Jonjo Shelvey</td>\n      <td>321</td>\n      <td>55</td>\n      <td>55</td>\n      <td>False</td>\n      <td>10.0</td>\n      <td>2.0</td>\n      <td>2.0</td>\n      <td>1.0</td>\n      <td>3.0</td>\n      <td>5.0</td>\n      <td>3.0</td>\n      <td>2.5</td>\n      <td>Midfielder</td>\n      <td>3.0</td>\n      <td>90.0</td>\n      <td>55.0</td>\n      <td>0.054545</td>\n      <td>321</td>\n    </tr>\n    <tr>\n      <th>8</th>\n      <td>Matt Ritchie</td>\n      <td>322</td>\n      <td>50</td>\n      <td>50</td>\n      <td>False</td>\n      <td>0.0</td>\n      <td>0.0</td>\n      <td>2.0</td>\n      <td>9.0</td>\n      <td>5.0</td>\n      <td>1.0</td>\n      <td>0.0</td>\n      <td>1.5</td>\n      <td>Midfielder</td>\n      <td>0.0</td>\n      <td>0.0</td>\n      <td>50.0</td>\n      <td>0.000000</td>\n      <td>322</td>\n    </tr>\n    <tr>\n      <th>0</th>\n      <td>Hugo Lloris</td>\n      <td>383</td>\n      <td>55</td>\n      <td>55</td>\n      <td>False</td>\n      <td>10.0</td>\n      <td>6.0</td>\n      <td>3.0</td>\n      <td>3.0</td>\n      <td>10.0</td>\n      <td>2.0</td>\n      <td>3.0</td>\n      <td>4.5</td>\n      <td>Goalkeeper</td>\n      <td>3.0</td>\n      <td>90.0</td>\n      <td>55.0</td>\n      <td>0.054545</td>\n      <td>383</td>\n    </tr>\n    <tr>\n      <th>11</th>\n      <td>Nick Pope</td>\n      <td>96</td>\n      <td>55</td>\n      <td>55</td>\n      <td>False</td>\n      <td>2.0</td>\n      <td>8.0</td>\n      <td>3.0</td>\n      <td>3.0</td>\n      <td>6.0</td>\n      <td>1.0</td>\n      <td>0.0</td>\n      <td>3</td>\n      <td>Goalkeeper</td>\n      <td>0.0</td>\n      <td>0.0</td>\n      <td>55.0</td>\n      <td>0.000000</td>\n      <td>96</td>\n    </tr>\n    <tr>\n      <th>9</th>\n      <td>Michail Antonio</td>\n      <td>437</td>\n      <td>65</td>\n      <td>65</td>\n      <td>False</td>\n      <td>7.0</td>\n      <td>2.0</td>\n      <td>26.0</td>\n      <td>7.0</td>\n      <td>9.0</td>\n      <td>0.0</td>\n      <td>2.0</td>\n      <td>7</td>\n      <td>Forward</td>\n      <td>2.0</td>\n      <td>90.0</td>\n      <td>65.0</td>\n      <td>0.030769</td>\n      <td>437</td>\n    </tr>\n    <tr>\n      <th>10</th>\n      <td>Danny Ings</td>\n      <td>366</td>\n      <td>85</td>\n      <td>85</td>\n      <td>False</td>\n      <td>2.0</td>\n      <td>9.0</td>\n      <td>2.0</td>\n      <td>7.0</td>\n      <td>4.0</td>\n      <td>8.0</td>\n      <td>2.0</td>\n      <td>5.5</td>\n      <td>Forward</td>\n      <td>2.0</td>\n      <td>90.0</td>\n      <td>85.0</td>\n      <td>0.023529</td>\n      <td>366</td>\n    </tr>\n    <tr>\n      <th>13</th>\n      <td>Toby Alderweireld</td>\n      <td>386</td>\n      <td>None</td>\n      <td>55</td>\n      <td>False</td>\n      <td>7.0</td>\n      <td>6.0</td>\n      <td>10.0</td>\n      <td>1.0</td>\n      <td>6.0</td>\n      <td>1.0</td>\n      <td>2.0</td>\n      <td>6</td>\n      <td>Defender</td>\n      <td>2.0</td>\n      <td>90.0</td>\n      <td>55.0</td>\n      <td>0.036364</td>\n      <td>386</td>\n    </tr>\n    <tr>\n      <th>2</th>\n      <td>Willy Boly</td>\n      <td>458</td>\n      <td>55</td>\n      <td>55</td>\n      <td>False</td>\n      <td>1.0</td>\n      <td>2.0</td>\n      <td>6.0</td>\n      <td>2.0</td>\n      <td>6.0</td>\n      <td>1.0</td>\n      <td>6.0</td>\n      <td>2</td>\n      <td>Defender</td>\n      <td>6.0</td>\n      <td>90.0</td>\n      <td>55.0</td>\n      <td>0.109091</td>\n      <td>458</td>\n    </tr>\n    <tr>\n      <th>3</th>\n      <td>Matt Doherty</td>\n      <td>457</td>\n      <td>60</td>\n      <td>60</td>\n      <td>False</td>\n      <td>2.0</td>\n      <td>2.0</td>\n      <td>6.0</td>\n      <td>0.0</td>\n      <td>12.0</td>\n      <td>0.0</td>\n      <td>2.0</td>\n      <td>2</td>\n      <td>Defender</td>\n      <td>2.0</td>\n      <td>75.0</td>\n      <td>60.0</td>\n      <td>0.033333</td>\n      <td>457</td>\n    </tr>\n    <tr>\n      <th>1</th>\n      <td>Trent Alexander-Arnold</td>\n      <td>259</td>\n      <td>75</td>\n      <td>75</td>\n      <td>True</td>\n      <td>6.0</td>\n      <td>2.0</td>\n      <td>0.0</td>\n      <td>0.0</td>\n      <td>13.0</td>\n      <td>0.0</td>\n      <td>1.0</td>\n      <td>1</td>\n      <td>Defender</td>\n      <td>1.0</td>\n      <td>88.0</td>\n      <td>75.0</td>\n      <td>0.013333</td>\n      <td>259</td>\n    </tr>\n    <tr>\n      <th>4</th>\n      <td>Marcos Alonso</td>\n      <td>104</td>\n      <td>60</td>\n      <td>60</td>\n      <td>False</td>\n      <td>0.0</td>\n      <td>0.0</td>\n      <td>1.0</td>\n      <td>7.0</td>\n      <td>0.0</td>\n      <td>11.0</td>\n      <td>2.0</td>\n      <td>0.5</td>\n      <td>Defender</td>\n      <td>2.0</td>\n      <td>90.0</td>\n      <td>60.0</td>\n      <td>0.033333</td>\n      <td>104</td>\n    </tr>\n  </tbody>\n</table>\n</div>"
     },
     "metadata": {},
     "execution_count": 13
    }
   ],
   "source": [
    "new_squad_performance_value = pd.merge(new_squad, performance_value, on = ['name'])\n",
    "new_squad_performance_value.sort_values(by=[\"position\", 'predicted_score'], inplace = True, ascending = False)\n",
    "new_squad_performance_value"
   ]
  },
  {
   "cell_type": "code",
   "execution_count": 14,
   "metadata": {},
   "outputs": [
    {
     "output_type": "execute_result",
     "data": {
      "text/plain": "                             name element selling_price purchase_price  \\\n13  Bruno Miguel Borges Fernandes     302           105            105   \n9                 Michail Antonio     437            65             65   \n14                Anthony Martial     303            90             90   \n6                     Declan Rice     448            50             50   \n10                     Danny Ings     366            85             85   \n0                     Hugo Lloris     383            55             55   \n5         Willian Borges Da Silva     478            80             80   \n11                      Nick Pope      96            55             55   \n7                   Jonjo Shelvey     321            55             55   \n2                      Willy Boly     458            55             55   \n3                    Matt Doherty     457            60             60   \n8                    Matt Ritchie     322            50             50   \n1          Trent Alexander-Arnold     259            75             75   \n4                   Marcos Alonso     104            60             60   \n12              Benjamin Chilwell     232            55             55   \n\n   is_captain    42    43    44    45    46    47    54 predicted_score  \\\n13      False  15.0  14.0   5.0   6.0   1.0  11.0   0.0             8.5   \n9       False   7.0   2.0  26.0   7.0   9.0   0.0   2.0               7   \n14      False  14.0   6.0  13.0   8.0   5.0   6.0   0.0               7   \n6       False   7.0   2.0   3.0  10.0   6.0   5.0   2.0             5.5   \n10      False   2.0   9.0   2.0   7.0   4.0   8.0   2.0             5.5   \n0       False  10.0   6.0   3.0   3.0  10.0   2.0   3.0             4.5   \n5       False   9.0  11.0   2.0   3.0   4.0   0.0  14.0             3.5   \n11      False   2.0   8.0   3.0   3.0   6.0   1.0   0.0               3   \n7       False  10.0   2.0   2.0   1.0   3.0   5.0   3.0             2.5   \n2       False   1.0   2.0   6.0   2.0   6.0   1.0   6.0               2   \n3       False   2.0   2.0   6.0   0.0  12.0   0.0   2.0               2   \n8       False   0.0   0.0   2.0   9.0   5.0   1.0   0.0             1.5   \n1        True   6.0   2.0   0.0   0.0  13.0   0.0   1.0               1   \n4       False   0.0   0.0   1.0   7.0   0.0  11.0   2.0             0.5   \n12      False   0.0   0.0   0.0   0.0   0.0   0.0   0.0               0   \n\n      position  points_per_game  minutes  now_cost     value  \n13  Midfielder              0.0      0.0     105.0  0.000000  \n9      Forward              2.0     90.0      65.0  0.030769  \n14     Forward              0.0      0.0      90.0  0.000000  \n6   Midfielder              2.0     90.0      50.0  0.040000  \n10     Forward              2.0     90.0      85.0  0.023529  \n0   Goalkeeper              3.0     90.0      55.0  0.054545  \n5   Midfielder             14.0     74.0      81.0  0.172840  \n11  Goalkeeper              0.0      0.0      55.0  0.000000  \n7   Midfielder              3.0     90.0      55.0  0.054545  \n2     Defender              6.0     90.0      55.0  0.109091  \n3     Defender              2.0     75.0      60.0  0.033333  \n8   Midfielder              0.0      0.0      50.0  0.000000  \n1     Defender              1.0     88.0      75.0  0.013333  \n4     Defender              2.0     90.0      60.0  0.033333  \n12    Defender              0.0      0.0      55.0  0.000000  ",
      "text/html": "<div>\n<style scoped>\n    .dataframe tbody tr th:only-of-type {\n        vertical-align: middle;\n    }\n\n    .dataframe tbody tr th {\n        vertical-align: top;\n    }\n\n    .dataframe thead th {\n        text-align: right;\n    }\n</style>\n<table border=\"1\" class=\"dataframe\">\n  <thead>\n    <tr style=\"text-align: right;\">\n      <th></th>\n      <th>name</th>\n      <th>element</th>\n      <th>selling_price</th>\n      <th>purchase_price</th>\n      <th>is_captain</th>\n      <th>42</th>\n      <th>43</th>\n      <th>44</th>\n      <th>45</th>\n      <th>46</th>\n      <th>47</th>\n      <th>54</th>\n      <th>predicted_score</th>\n      <th>position</th>\n      <th>points_per_game</th>\n      <th>minutes</th>\n      <th>now_cost</th>\n      <th>value</th>\n    </tr>\n  </thead>\n  <tbody>\n    <tr>\n      <th>13</th>\n      <td>Bruno Miguel Borges Fernandes</td>\n      <td>302</td>\n      <td>105</td>\n      <td>105</td>\n      <td>False</td>\n      <td>15.0</td>\n      <td>14.0</td>\n      <td>5.0</td>\n      <td>6.0</td>\n      <td>1.0</td>\n      <td>11.0</td>\n      <td>0.0</td>\n      <td>8.5</td>\n      <td>Midfielder</td>\n      <td>0.0</td>\n      <td>0.0</td>\n      <td>105.0</td>\n      <td>0.000000</td>\n    </tr>\n    <tr>\n      <th>9</th>\n      <td>Michail Antonio</td>\n      <td>437</td>\n      <td>65</td>\n      <td>65</td>\n      <td>False</td>\n      <td>7.0</td>\n      <td>2.0</td>\n      <td>26.0</td>\n      <td>7.0</td>\n      <td>9.0</td>\n      <td>0.0</td>\n      <td>2.0</td>\n      <td>7</td>\n      <td>Forward</td>\n      <td>2.0</td>\n      <td>90.0</td>\n      <td>65.0</td>\n      <td>0.030769</td>\n    </tr>\n    <tr>\n      <th>14</th>\n      <td>Anthony Martial</td>\n      <td>303</td>\n      <td>90</td>\n      <td>90</td>\n      <td>False</td>\n      <td>14.0</td>\n      <td>6.0</td>\n      <td>13.0</td>\n      <td>8.0</td>\n      <td>5.0</td>\n      <td>6.0</td>\n      <td>0.0</td>\n      <td>7</td>\n      <td>Forward</td>\n      <td>0.0</td>\n      <td>0.0</td>\n      <td>90.0</td>\n      <td>0.000000</td>\n    </tr>\n    <tr>\n      <th>6</th>\n      <td>Declan Rice</td>\n      <td>448</td>\n      <td>50</td>\n      <td>50</td>\n      <td>False</td>\n      <td>7.0</td>\n      <td>2.0</td>\n      <td>3.0</td>\n      <td>10.0</td>\n      <td>6.0</td>\n      <td>5.0</td>\n      <td>2.0</td>\n      <td>5.5</td>\n      <td>Midfielder</td>\n      <td>2.0</td>\n      <td>90.0</td>\n      <td>50.0</td>\n      <td>0.040000</td>\n    </tr>\n    <tr>\n      <th>10</th>\n      <td>Danny Ings</td>\n      <td>366</td>\n      <td>85</td>\n      <td>85</td>\n      <td>False</td>\n      <td>2.0</td>\n      <td>9.0</td>\n      <td>2.0</td>\n      <td>7.0</td>\n      <td>4.0</td>\n      <td>8.0</td>\n      <td>2.0</td>\n      <td>5.5</td>\n      <td>Forward</td>\n      <td>2.0</td>\n      <td>90.0</td>\n      <td>85.0</td>\n      <td>0.023529</td>\n    </tr>\n    <tr>\n      <th>0</th>\n      <td>Hugo Lloris</td>\n      <td>383</td>\n      <td>55</td>\n      <td>55</td>\n      <td>False</td>\n      <td>10.0</td>\n      <td>6.0</td>\n      <td>3.0</td>\n      <td>3.0</td>\n      <td>10.0</td>\n      <td>2.0</td>\n      <td>3.0</td>\n      <td>4.5</td>\n      <td>Goalkeeper</td>\n      <td>3.0</td>\n      <td>90.0</td>\n      <td>55.0</td>\n      <td>0.054545</td>\n    </tr>\n    <tr>\n      <th>5</th>\n      <td>Willian Borges Da Silva</td>\n      <td>478</td>\n      <td>80</td>\n      <td>80</td>\n      <td>False</td>\n      <td>9.0</td>\n      <td>11.0</td>\n      <td>2.0</td>\n      <td>3.0</td>\n      <td>4.0</td>\n      <td>0.0</td>\n      <td>14.0</td>\n      <td>3.5</td>\n      <td>Midfielder</td>\n      <td>14.0</td>\n      <td>74.0</td>\n      <td>81.0</td>\n      <td>0.172840</td>\n    </tr>\n    <tr>\n      <th>11</th>\n      <td>Nick Pope</td>\n      <td>96</td>\n      <td>55</td>\n      <td>55</td>\n      <td>False</td>\n      <td>2.0</td>\n      <td>8.0</td>\n      <td>3.0</td>\n      <td>3.0</td>\n      <td>6.0</td>\n      <td>1.0</td>\n      <td>0.0</td>\n      <td>3</td>\n      <td>Goalkeeper</td>\n      <td>0.0</td>\n      <td>0.0</td>\n      <td>55.0</td>\n      <td>0.000000</td>\n    </tr>\n    <tr>\n      <th>7</th>\n      <td>Jonjo Shelvey</td>\n      <td>321</td>\n      <td>55</td>\n      <td>55</td>\n      <td>False</td>\n      <td>10.0</td>\n      <td>2.0</td>\n      <td>2.0</td>\n      <td>1.0</td>\n      <td>3.0</td>\n      <td>5.0</td>\n      <td>3.0</td>\n      <td>2.5</td>\n      <td>Midfielder</td>\n      <td>3.0</td>\n      <td>90.0</td>\n      <td>55.0</td>\n      <td>0.054545</td>\n    </tr>\n    <tr>\n      <th>2</th>\n      <td>Willy Boly</td>\n      <td>458</td>\n      <td>55</td>\n      <td>55</td>\n      <td>False</td>\n      <td>1.0</td>\n      <td>2.0</td>\n      <td>6.0</td>\n      <td>2.0</td>\n      <td>6.0</td>\n      <td>1.0</td>\n      <td>6.0</td>\n      <td>2</td>\n      <td>Defender</td>\n      <td>6.0</td>\n      <td>90.0</td>\n      <td>55.0</td>\n      <td>0.109091</td>\n    </tr>\n    <tr>\n      <th>3</th>\n      <td>Matt Doherty</td>\n      <td>457</td>\n      <td>60</td>\n      <td>60</td>\n      <td>False</td>\n      <td>2.0</td>\n      <td>2.0</td>\n      <td>6.0</td>\n      <td>0.0</td>\n      <td>12.0</td>\n      <td>0.0</td>\n      <td>2.0</td>\n      <td>2</td>\n      <td>Defender</td>\n      <td>2.0</td>\n      <td>75.0</td>\n      <td>60.0</td>\n      <td>0.033333</td>\n    </tr>\n    <tr>\n      <th>8</th>\n      <td>Matt Ritchie</td>\n      <td>322</td>\n      <td>50</td>\n      <td>50</td>\n      <td>False</td>\n      <td>0.0</td>\n      <td>0.0</td>\n      <td>2.0</td>\n      <td>9.0</td>\n      <td>5.0</td>\n      <td>1.0</td>\n      <td>0.0</td>\n      <td>1.5</td>\n      <td>Midfielder</td>\n      <td>0.0</td>\n      <td>0.0</td>\n      <td>50.0</td>\n      <td>0.000000</td>\n    </tr>\n    <tr>\n      <th>1</th>\n      <td>Trent Alexander-Arnold</td>\n      <td>259</td>\n      <td>75</td>\n      <td>75</td>\n      <td>True</td>\n      <td>6.0</td>\n      <td>2.0</td>\n      <td>0.0</td>\n      <td>0.0</td>\n      <td>13.0</td>\n      <td>0.0</td>\n      <td>1.0</td>\n      <td>1</td>\n      <td>Defender</td>\n      <td>1.0</td>\n      <td>88.0</td>\n      <td>75.0</td>\n      <td>0.013333</td>\n    </tr>\n    <tr>\n      <th>4</th>\n      <td>Marcos Alonso</td>\n      <td>104</td>\n      <td>60</td>\n      <td>60</td>\n      <td>False</td>\n      <td>0.0</td>\n      <td>0.0</td>\n      <td>1.0</td>\n      <td>7.0</td>\n      <td>0.0</td>\n      <td>11.0</td>\n      <td>2.0</td>\n      <td>0.5</td>\n      <td>Defender</td>\n      <td>2.0</td>\n      <td>90.0</td>\n      <td>60.0</td>\n      <td>0.033333</td>\n    </tr>\n    <tr>\n      <th>12</th>\n      <td>Benjamin Chilwell</td>\n      <td>232</td>\n      <td>55</td>\n      <td>55</td>\n      <td>False</td>\n      <td>0.0</td>\n      <td>0.0</td>\n      <td>0.0</td>\n      <td>0.0</td>\n      <td>0.0</td>\n      <td>0.0</td>\n      <td>0.0</td>\n      <td>0</td>\n      <td>Defender</td>\n      <td>0.0</td>\n      <td>0.0</td>\n      <td>55.0</td>\n      <td>0.000000</td>\n    </tr>\n  </tbody>\n</table>\n</div>"
     },
     "metadata": {},
     "execution_count": 14
    }
   ],
   "source": [
    "current_performance_value = pd.merge(current_squad, performance_value, on = ['name', 'element']).sort_values(by=['predicted_score', 'position'], ascending = False)\n",
    "current_performance_value"
   ]
  },
  {
   "cell_type": "code",
   "execution_count": null,
   "metadata": {},
   "outputs": [],
   "source": []
  }
 ],
 "metadata": {
  "language_info": {
   "codemirror_mode": {
    "name": "ipython",
    "version": 3
   },
   "file_extension": ".py",
   "mimetype": "text/x-python",
   "name": "python",
   "nbconvert_exporter": "python",
   "pygments_lexer": "ipython3",
   "version": "3.7.7-final"
  },
  "orig_nbformat": 2,
  "kernelspec": {
   "name": "python37764bitcontrolconda527a53ffdbd54a32b428c6bc76ce2778",
   "display_name": "Python 3.7.7 64-bit ('control': conda)"
  }
 },
 "nbformat": 4,
 "nbformat_minor": 2
}