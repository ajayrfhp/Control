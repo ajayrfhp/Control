{
 "cells": [
  {
   "cell_type": "code",
   "execution_count": 1,
   "metadata": {},
   "outputs": [],
   "source": [
    "import pandas as pd\n",
    "import torch\n",
    "import numpy as np\n",
    "import random\n",
    "from random import shuffle\n",
    "from matplotlib import pyplot as plt\n",
    "import seaborn as sns\n",
    "from torch.utils.data import TensorDataset, DataLoader\n",
    "import wget\n",
    "import os\n",
    "import aiohttp\n",
    "import asyncio\n",
    "np.random.seed(17)\n",
    "random.seed(17)\n",
    "torch.manual_seed(17)\n",
    "from fpl import FPL\n",
    "from player import Player\n",
    "from team import Team\n",
    "from data_processor import get_fpl, get_players, get_teams, get_training_datasets\n",
    "from models import PreviousScoreModel, AvgScoreModel"
   ]
  },
  {
   "cell_type": "code",
   "execution_count": 2,
   "metadata": {},
   "outputs": [],
   "source": [
    "fpl = await get_fpl()\n",
    "team_feature_names = [\"npxGA\"]\n",
    "teams = get_teams(team_feature_names=team_feature_names, visualize=False)\n",
    "player_feature_names = [\"total_points\"]\n",
    "players = await get_players(player_feature_names, visualize=False, num_players=10)"
   ]
  },
  {
   "cell_type": "code",
   "execution_count": 3,
   "metadata": {},
   "outputs": [
    {
     "output_type": "execute_result",
     "data": {
      "text/plain": "(<torch.utils.data.dataloader.DataLoader at 0x7ff4a12e5a10>,\n <torch.utils.data.dataloader.DataLoader at 0x7ff4ec3509d0>)"
     },
     "metadata": {},
     "execution_count": 3
    }
   ],
   "source": [
    "train_loader, test_loader = get_training_datasets(players, teams)\n",
    "train_loader, test_loader"
   ]
  },
  {
   "cell_type": "code",
   "execution_count": 4,
   "metadata": {
    "tags": []
   },
   "outputs": [
    {
     "output_type": "stream",
     "name": "stdout",
     "text": "0.1930128205128205\ntensor([0.0625, 0.1250, 0.5000, 0.0000, 0.0000], dtype=torch.float64) tensor([0.3846, 0.5385, 0.1538, 0.0000, 0.0000], dtype=torch.float64)\ntensor([ 0.1250, -0.1875,  0.0000,  1.0000,  0.0000], dtype=torch.float64) tensor([0.1538, 0.6923, 0.0000, 0.5385, 0.0769], dtype=torch.float64)\ntensor([0.0000, 0.1250, 0.3125, 0.0000, 0.0000], dtype=torch.float64) tensor([0.0769, 0.0769, 0.1538, 0.0000, 0.0000], dtype=torch.float64)\n0.18749999999999997\n"
    }
   ],
   "source": [
    "previous_score_model = PreviousScoreModel()\n",
    "avg_score_model = AvgScoreModel()\n",
    "print(avg_score_model.eval(test_loader))\n",
    "print(previous_score_model.eval(test_loader))"
   ]
  },
  {
   "cell_type": "code",
   "execution_count": null,
   "metadata": {},
   "outputs": [],
   "source": []
  }
 ],
 "metadata": {
  "language_info": {
   "codemirror_mode": {
    "name": "ipython",
    "version": 3
   },
   "file_extension": ".py",
   "mimetype": "text/x-python",
   "name": "python",
   "nbconvert_exporter": "python",
   "pygments_lexer": "ipython3",
   "version": "3.7.9-final"
  },
  "orig_nbformat": 2,
  "kernelspec": {
   "name": "python3",
   "display_name": "Python 3"
  }
 },
 "nbformat": 4,
 "nbformat_minor": 2
}