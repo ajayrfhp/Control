{
 "cells": [
  {
   "cell_type": "code",
   "execution_count": 1,
   "source": [
    "!pip install fpl\n",
    "import pandas as pd\n",
    "import torch\n",
    "import numpy as np\n",
    "import random\n",
    "from random import shuffle\n",
    "np.random.seed(17)\n",
    "random.seed(17)\n",
    "torch.manual_seed(17)\n",
    "import wget\n",
    "import os\n",
    "import aiohttp\n",
    "import asyncio\n",
    "from fpl import FPL\n",
    "from torch.utils.data import TensorDataset, DataLoader\n",
    "from player import Player\n",
    "from team import Team\n",
    "from data_processor import get_fpl, get_current_squad, get_teams, get_players, get_training_datasets\n",
    "from agent import Agent\n",
    "import torch.nn as nn\n",
    "import pytorch_lightning as pl"
   ],
   "outputs": [
    {
     "output_type": "stream",
     "name": "stdout",
     "text": [
      "Requirement already satisfied: fpl in /home/ajrfhp/anaconda3/envs/control/lib/python3.8/site-packages (0.6.28)\n",
      "Requirement already satisfied: PTable in /home/ajrfhp/anaconda3/envs/control/lib/python3.8/site-packages (from fpl) (0.9.2)\n",
      "Requirement already satisfied: appdirs in /home/ajrfhp/anaconda3/envs/control/lib/python3.8/site-packages (from fpl) (1.4.4)\n",
      "Requirement already satisfied: pytest-cov in /home/ajrfhp/anaconda3/envs/control/lib/python3.8/site-packages (from fpl) (2.12.1)\n",
      "Requirement already satisfied: pytest in /home/ajrfhp/anaconda3/envs/control/lib/python3.8/site-packages (from fpl) (6.2.5)\n",
      "Requirement already satisfied: pytest-mock in /home/ajrfhp/anaconda3/envs/control/lib/python3.8/site-packages (from fpl) (3.6.1)\n",
      "Requirement already satisfied: pytest-aiohttp in /home/ajrfhp/anaconda3/envs/control/lib/python3.8/site-packages (from fpl) (0.3.0)\n",
      "Requirement already satisfied: colorama in /home/ajrfhp/anaconda3/envs/control/lib/python3.8/site-packages (from fpl) (0.4.4)\n",
      "Requirement already satisfied: codecov in /home/ajrfhp/anaconda3/envs/control/lib/python3.8/site-packages (from fpl) (2.1.12)\n",
      "Requirement already satisfied: aiohttp in /home/ajrfhp/anaconda3/envs/control/lib/python3.8/site-packages (from fpl) (3.7.4.post0)\n",
      "Requirement already satisfied: Click in /home/ajrfhp/anaconda3/envs/control/lib/python3.8/site-packages (from fpl) (8.0.1)\n",
      "Requirement already satisfied: async-timeout<4.0,>=3.0 in /home/ajrfhp/anaconda3/envs/control/lib/python3.8/site-packages (from aiohttp->fpl) (3.0.1)\n",
      "Requirement already satisfied: multidict<7.0,>=4.5 in /home/ajrfhp/anaconda3/envs/control/lib/python3.8/site-packages (from aiohttp->fpl) (5.1.0)\n",
      "Requirement already satisfied: yarl<2.0,>=1.0 in /home/ajrfhp/anaconda3/envs/control/lib/python3.8/site-packages (from aiohttp->fpl) (1.6.3)\n",
      "Requirement already satisfied: chardet<5.0,>=2.0 in /home/ajrfhp/anaconda3/envs/control/lib/python3.8/site-packages (from aiohttp->fpl) (4.0.0)\n",
      "Requirement already satisfied: typing-extensions>=3.6.5 in /home/ajrfhp/anaconda3/envs/control/lib/python3.8/site-packages (from aiohttp->fpl) (3.10.0.2)\n",
      "Requirement already satisfied: attrs>=17.3.0 in /home/ajrfhp/anaconda3/envs/control/lib/python3.8/site-packages (from aiohttp->fpl) (21.2.0)\n",
      "Requirement already satisfied: idna>=2.0 in /home/ajrfhp/anaconda3/envs/control/lib/python3.8/site-packages (from yarl<2.0,>=1.0->aiohttp->fpl) (3.2)\n",
      "Requirement already satisfied: requests>=2.7.9 in /home/ajrfhp/anaconda3/envs/control/lib/python3.8/site-packages (from codecov->fpl) (2.26.0)\n",
      "Requirement already satisfied: coverage in /home/ajrfhp/anaconda3/envs/control/lib/python3.8/site-packages (from codecov->fpl) (5.5)\n",
      "Requirement already satisfied: urllib3<1.27,>=1.21.1 in /home/ajrfhp/anaconda3/envs/control/lib/python3.8/site-packages (from requests>=2.7.9->codecov->fpl) (1.26.6)\n",
      "Requirement already satisfied: certifi>=2017.4.17 in /home/ajrfhp/anaconda3/envs/control/lib/python3.8/site-packages (from requests>=2.7.9->codecov->fpl) (2021.5.30)\n",
      "Requirement already satisfied: charset-normalizer~=2.0.0 in /home/ajrfhp/anaconda3/envs/control/lib/python3.8/site-packages (from requests>=2.7.9->codecov->fpl) (2.0.4)\n",
      "Requirement already satisfied: packaging in /home/ajrfhp/anaconda3/envs/control/lib/python3.8/site-packages (from pytest->fpl) (21.0)\n",
      "Requirement already satisfied: toml in /home/ajrfhp/anaconda3/envs/control/lib/python3.8/site-packages (from pytest->fpl) (0.10.2)\n",
      "Requirement already satisfied: iniconfig in /home/ajrfhp/anaconda3/envs/control/lib/python3.8/site-packages (from pytest->fpl) (1.1.1)\n",
      "Requirement already satisfied: py>=1.8.2 in /home/ajrfhp/anaconda3/envs/control/lib/python3.8/site-packages (from pytest->fpl) (1.10.0)\n",
      "Requirement already satisfied: pluggy<2.0,>=0.12 in /home/ajrfhp/anaconda3/envs/control/lib/python3.8/site-packages (from pytest->fpl) (1.0.0)\n",
      "Requirement already satisfied: pyparsing>=2.0.2 in /home/ajrfhp/anaconda3/envs/control/lib/python3.8/site-packages (from packaging->pytest->fpl) (2.4.7)\n"
     ]
    }
   ],
   "metadata": {}
  },
  {
   "cell_type": "code",
   "execution_count": 2,
   "source": [
    "opponent_feature_names = [\"npxG\",\"npxGA\"]\n",
    "player_feature_names = [\"total_points\", \"ict_index\", \"clean_sheets\", \"saves\", \"assists\"]\n",
    "window = 4\n",
    "teams = get_teams(team_feature_names=opponent_feature_names, visualize=False, window=window)\n",
    "players = await get_players(player_feature_names, opponent_feature_names, visualize=False, num_players=680, window=window)\n",
    "train_loader, test_loader, _ = get_training_datasets(players, teams)\n",
    "train_loader, test_loader"
   ],
   "outputs": [
    {
     "output_type": "stream",
     "name": "stderr",
     "text": [
      "/home/ajrfhp/anaconda3/envs/control/lib/python3.8/site-packages/pandas/core/frame.py:5171: SettingWithCopyWarning: \n",
      "A value is trying to be set on a copy of a slice from a DataFrame\n",
      "\n",
      "See the caveats in the documentation: https://pandas.pydata.org/pandas-docs/stable/user_guide/indexing.html#returning-a-view-versus-a-copy\n",
      "  return super().fillna(\n",
      "/home/ajrfhp/Control/Control_FPL/data_processor.py:61: SettingWithCopyWarning: \n",
      "A value is trying to be set on a copy of a slice from a DataFrame.\n",
      "Try using .loc[row_indexer,col_indexer] = value instead\n",
      "\n",
      "See the caveats in the documentation: https://pandas.pydata.org/pandas-docs/stable/user_guide/indexing.html#returning-a-view-versus-a-copy\n",
      "  all_player_features[\"total_points\"] = all_player_features[\"total_points\"].clip(0, max_player_points)\n"
     ]
    },
    {
     "output_type": "execute_result",
     "data": {
      "text/plain": [
       "(<torch.utils.data.dataloader.DataLoader at 0x7f97bb8e6280>,\n",
       " <torch.utils.data.dataloader.DataLoader at 0x7f96c1b8fd30>)"
      ]
     },
     "metadata": {},
     "execution_count": 2
    }
   ],
   "metadata": {}
  },
  {
   "cell_type": "code",
   "execution_count": 5,
   "source": [
    "class LinearModelLightning(pl.LightningModule):\n",
    "    def __init__(self, window_size=4, num_features=7, use_opponent_features=True, len_opponent_features=2):\n",
    "        super().__init__()\n",
    "        self.window_size = window_size\n",
    "        self.dim = window_size * num_features\n",
    "        self.use_opponent_features = use_opponent_features\n",
    "        self.len_opponent_features = len_opponent_features\n",
    "        self.fc1 = nn.Linear(self.dim, 1).double()\n",
    "    \n",
    "    def forward(self, x):\n",
    "        x = x.reshape((x.shape[0], self.dim))\n",
    "        return self.fc1(x).reshape((-1, ))\n",
    "    \n",
    "    def training_step(self, batch, batch_idx):\n",
    "        x = batch[0]\n",
    "        inputs = x[:,:,:self.window_size].reshape((x.shape[0], self.dim))\n",
    "        outputs = x[:,0,self.window_size]\n",
    "        predictions = self.fc1.forward(inputs)\n",
    "        loss = nn.MSELoss()(predictions, outputs)\n",
    "        self.log('train_loss', loss)\n",
    "        return loss \n",
    "    \n",
    "    def validation_step(self, batch, batch_idx):\n",
    "        x = batch[0]\n",
    "        inputs = x[:,:,:self.window_size].reshape((x.shape[0], self.dim))\n",
    "        outputs = x[:,0,self.window_size]\n",
    "        predictions = self.fc1.forward(inputs)\n",
    "        loss = nn.MSELoss()(predictions, outputs)\n",
    "        self.log('val_loss', loss)\n",
    "        return loss\n",
    "\n",
    "    def configure_optimizers(self):\n",
    "        optimizer = torch.optim.Adam(self.parameters(), lr=1e-3)\n",
    "        return optimizer\n"
   ],
   "outputs": [],
   "metadata": {}
  },
  {
   "cell_type": "code",
   "execution_count": 6,
   "source": [
    "model = LinearModelLightning()\n",
    "trainer = pl.Trainer(max_epochs=100)\n",
    "trainer.fit(model, train_loader, test_loader)"
   ],
   "outputs": [
    {
     "output_type": "stream",
     "name": "stderr",
     "text": [
      "GPU available: False, used: False\n",
      "TPU available: False, using: 0 TPU cores\n",
      "IPU available: False, using: 0 IPUs\n",
      "\n",
      "  | Name | Type   | Params\n",
      "--------------------------------\n",
      "0 | fc1  | Linear | 29    \n",
      "--------------------------------\n",
      "29        Trainable params\n",
      "0         Non-trainable params\n",
      "29        Total params\n",
      "0.000     Total estimated model params size (MB)\n"
     ]
    },
    {
     "output_type": "stream",
     "name": "stdout",
     "text": [
      "                                                              "
     ]
    },
    {
     "output_type": "stream",
     "name": "stderr",
     "text": [
      "/home/ajrfhp/anaconda3/envs/control/lib/python3.8/site-packages/pytorch_lightning/trainer/data_loading.py:105: UserWarning: The dataloader, val dataloader 0, does not have many workers which may be a bottleneck. Consider increasing the value of the `num_workers` argument` (try 20 which is the number of cpus on this machine) in the `DataLoader` init to improve performance.\n",
      "  rank_zero_warn(\n",
      "/home/ajrfhp/anaconda3/envs/control/lib/python3.8/site-packages/torch/nn/modules/loss.py:528: UserWarning: Using a target size (torch.Size([500])) that is different to the input size (torch.Size([500, 1])). This will likely lead to incorrect results due to broadcasting. Please ensure they have the same size.\n",
      "  return F.mse_loss(input, target, reduction=self.reduction)\n",
      "/home/ajrfhp/anaconda3/envs/control/lib/python3.8/site-packages/pytorch_lightning/trainer/data_loading.py:105: UserWarning: The dataloader, train dataloader, does not have many workers which may be a bottleneck. Consider increasing the value of the `num_workers` argument` (try 20 which is the number of cpus on this machine) in the `DataLoader` init to improve performance.\n",
      "  rank_zero_warn(\n",
      "/home/ajrfhp/anaconda3/envs/control/lib/python3.8/site-packages/pytorch_lightning/trainer/data_loading.py:322: UserWarning: The number of training samples (45) is smaller than the logging interval Trainer(log_every_n_steps=50). Set a lower value for log_every_n_steps if you want to see logs for the training epoch.\n",
      "  rank_zero_warn(\n"
     ]
    },
    {
     "output_type": "stream",
     "name": "stdout",
     "text": [
      "Epoch 0:  79%|███████▉  | 45/57 [00:00<00:00, 128.21it/s, loss=1.16, v_num=12]"
     ]
    },
    {
     "output_type": "stream",
     "name": "stderr",
     "text": [
      "/home/ajrfhp/anaconda3/envs/control/lib/python3.8/site-packages/torch/nn/modules/loss.py:528: UserWarning: Using a target size (torch.Size([344])) that is different to the input size (torch.Size([344, 1])). This will likely lead to incorrect results due to broadcasting. Please ensure they have the same size.\n",
      "  return F.mse_loss(input, target, reduction=self.reduction)\n"
     ]
    },
    {
     "output_type": "stream",
     "name": "stdout",
     "text": [
      "Epoch 1:  26%|██▋       | 15/57 [00:00<00:00, 121.36it/s, loss=1.1, v_num=12]"
     ]
    },
    {
     "output_type": "stream",
     "name": "stderr",
     "text": [
      "/home/ajrfhp/anaconda3/envs/control/lib/python3.8/site-packages/torch/nn/modules/loss.py:528: UserWarning: Using a target size (torch.Size([87])) that is different to the input size (torch.Size([87, 1])). This will likely lead to incorrect results due to broadcasting. Please ensure they have the same size.\n",
      "  return F.mse_loss(input, target, reduction=self.reduction)\n"
     ]
    },
    {
     "output_type": "stream",
     "name": "stdout",
     "text": [
      "Epoch 99: 100%|██████████| 57/57 [00:00<00:00, 109.69it/s, loss=0.977, v_num=12]\n"
     ]
    }
   ],
   "metadata": {}
  },
  {
   "cell_type": "code",
   "execution_count": null,
   "source": [],
   "outputs": [],
   "metadata": {}
  }
 ],
 "metadata": {
  "orig_nbformat": 4,
  "language_info": {
   "name": "python",
   "version": "3.8.11",
   "mimetype": "text/x-python",
   "codemirror_mode": {
    "name": "ipython",
    "version": 3
   },
   "pygments_lexer": "ipython3",
   "nbconvert_exporter": "python",
   "file_extension": ".py"
  },
  "kernelspec": {
   "name": "python3",
   "display_name": "Python 3.7.11 64-bit ('control': conda)"
  },
  "interpreter": {
   "hash": "b5627f7b8c19952b5c3fb9e9d080b6a8115f1e27078e0674f99b1b4770c4f5a6"
  }
 },
 "nbformat": 4,
 "nbformat_minor": 2
}