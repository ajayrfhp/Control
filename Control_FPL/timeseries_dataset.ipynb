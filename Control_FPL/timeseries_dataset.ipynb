{
 "metadata": {
  "language_info": {
   "codemirror_mode": {
    "name": "ipython",
    "version": 3
   },
   "file_extension": ".py",
   "mimetype": "text/x-python",
   "name": "python",
   "nbconvert_exporter": "python",
   "pygments_lexer": "ipython3",
   "version": "3.8.5"
  },
  "orig_nbformat": 2,
  "kernelspec": {
   "name": "python385jvsc74a57bd0d1683d455970a83140547a7a38696e216f7e48aaa3baf122702e1f94335bc7e6",
   "display_name": "Python 3.8.5 64-bit ('control': conda)"
  }
 },
 "nbformat": 4,
 "nbformat_minor": 2,
 "cells": [
  {
   "cell_type": "code",
   "execution_count": 1,
   "metadata": {},
   "outputs": [
    {
     "output_type": "execute_result",
     "data": {
      "text/plain": [
<<<<<<< HEAD
       "<torch._C.Generator at 0x7f8e46b589b0>"
=======
       "<torch._C.Generator at 0x7ff0fee049d0>"
>>>>>>> cleaned up model interface; linked gpu and new data interface
      ]
     },
     "metadata": {},
     "execution_count": 1
    }
   ],
   "source": [
    "import pandas as pd\n",
    "import torch\n",
    "import numpy as np\n",
    "import random\n",
    "from random import shuffle\n",
    "from matplotlib import pyplot as plt\n",
    "import seaborn as sns\n",
    "from torch.utils.data import TensorDataset, DataLoader\n",
    "import wget\n",
    "import os\n",
    "import aiohttp\n",
    "import asyncio\n",
    "np.random.seed(17)\n",
    "random.seed(17)\n",
    "torch.manual_seed(17)\n",
    "from fpl import FPL\n",
    "from player import Player\n",
    "from team import Team\n",
    "from data_processor import get_fpl, get_players, get_teams, get_training_datasets\n",
    "import torch.nn as nn\n",
    "import torch.optim as optim\n",
    "seed = 5\n",
    "np.random.seed(seed)\n",
    "random.seed(seed)\n",
    "torch.manual_seed(seed)"
   ]
  },
  {
   "cell_type": "code",
   "execution_count": 2,
   "metadata": {},
   "outputs": [
    {
     "output_type": "stream",
     "name": "stderr",
     "text": [
      "/home/ajayrfhp/miniconda3/envs/control/lib/python3.8/site-packages/pandas/core/frame.py:4317: SettingWithCopyWarning: \nA value is trying to be set on a copy of a slice from a DataFrame\n\nSee the caveats in the documentation: https://pandas.pydata.org/pandas-docs/stable/user_guide/indexing.html#returning-a-view-versus-a-copy\n  return super().fillna(\n/home/ajayrfhp/Documents/Control/Control_FPL/data_processor.py:55: SettingWithCopyWarning: \nA value is trying to be set on a copy of a slice from a DataFrame.\nTry using .loc[row_indexer,col_indexer] = value instead\n\nSee the caveats in the documentation: https://pandas.pydata.org/pandas-docs/stable/user_guide/indexing.html#returning-a-view-versus-a-copy\n  all_player_features[\"total_points\"] = all_player_features[\"total_points\"].clip(0, 12)\n"
     ]
    },
    {
     "output_type": "execute_result",
     "data": {
      "text/plain": [
       "639"
      ]
     },
     "metadata": {},
     "execution_count": 2
    }
   ],
   "source": [
    "fpl = await get_fpl()\n",
    "opponent_feature_names = [\"npxG\",\"npxGA\"]\n",
    "player_feature_names = [\"total_points\", \"ict_index\", \"clean_sheets\", \"saves\", \"assists\", \"goals_scored\"]\n",
    "teams = get_teams(team_feature_names=opponent_feature_names, visualize=False)\n",
    "players = await get_players(player_feature_names, opponent_feature_names, visualize=False, num_players=640)\n",
    "len(players)"
   ]
  },
  {
   "cell_type": "code",
   "execution_count": 3,
   "metadata": {},
   "outputs": [
    {
     "output_type": "stream",
     "name": "stdout",
     "text": [
      "1\n"
     ]
    }
   ],
   "source": [
    "if torch.cuda.device_count() >= 1:\n",
    "    torch.set_default_tensor_type(torch.cuda.DoubleTensor)\n",
    "else:\n",
    "    torch.set_default_tensor_type(torch.DoubleTensor)\n",
    "print(torch.cuda.device_count())"
   ]
  },
  {
   "cell_type": "code",
   "execution_count": 4,
   "metadata": {},
   "outputs": [],
   "source": [
    "def normalize(x, is_scalar=False):\n",
    "    '''\n",
    "        Args \n",
    "            x - input \n",
    "        Returns\n",
    "            normalized input\n",
    "    '''\n",
    "    if is_scalar:\n",
    "        x = x.reshape((-1, )).double()\n",
    "        means = torch.mean(x)\n",
    "        stds = torch.std(x)\n",
    "        return (x - means) / stds\n",
    "    else:\n",
    "        x = x.double()\n",
    "        # (N, D, L)\n",
    "        x = x.permute(0, 2, 1)\n",
    "        input_means = torch.mean(x, dim=(0, 1))\n",
    "        input_stds = torch.std(x, dim=(0, 1))\n",
    "        x = (x - input_means) / (input_stds)\n",
    "        x = x.permute(0, 2, 1)\n",
    "        return x\n",
    "\n",
    "def get_masked_training_datasets(players, teams, window_size=7, batch_size=50):\n",
    "    '''\n",
    "        Args\n",
    "            players - list of players\n",
    "            teams - list of teams\n",
    "        Returns\n",
    "            Train and test data loaders\n",
    "            Input - (Batch_size, num_features, window)\n",
    "\n",
    "            Build up datasets in numpy\n",
    "            Make test train splits and feed it to pytorch\n",
    "    '''\n",
    "    X = []\n",
    "    X_opponents = []\n",
    "    for player in players:\n",
    "        opponents = []\n",
    "        for i in range(player.player_features.shape[1] - window_size):\n",
    "            x = player.player_features[:,i:i+window_size]\n",
    "            X.append(x)\n",
    "            opponents.append((i+window_size-1, player.opponents[i+window_size-1]))\n",
    "        for i, opponent in opponents:\n",
    "            for team in teams:\n",
    "                if team.name == opponent:\n",
    "                    x_opponent = team.team_features[:,i-window_size+1:i+1]\n",
    "                    if x_opponent.shape[1] != window_size:\n",
    "                        x_opponent = np.zeros((x_opponent.shape[0], window_size))\n",
    "                    X_opponents.append(x_opponent)\n",
    "\n",
    "    X = np.array(X).astype(float)\n",
    "    X_opponents = np.array(X_opponents).astype(float)\n",
    "    X = np.concatenate((X, X_opponents), axis = 1)\n",
    "    indices = np.random.permutation(range(len(X)))\n",
    "    train_length = int(0.8 * len(X))\n",
    "    X = torch.tensor(X).double()\n",
    "    X = normalize(X)\n",
    "    X_train, X_test = X[indices[:train_length]], X[indices[train_length:]] \n",
    "    train_loader = DataLoader(TensorDataset(X_train,), batch_size=batch_size)\n",
    "    test_loader = DataLoader(TensorDataset(X_test,), batch_size=batch_size)\n",
    "    return train_loader, test_loader\n",
    "\n",
    "\n",
    "train_loader, test_loader = get_masked_training_datasets(players, teams)"
   ]
  },
  {
   "cell_type": "code",
<<<<<<< HEAD
   "execution_count": 6,
=======
   "execution_count": 5,
>>>>>>> cleaned up model interface; linked gpu and new data interface
   "metadata": {},
   "outputs": [
    {
     "output_type": "execute_result",
     "data": {
      "text/plain": [
       "tensor([-1.1619, -0.3873,  0.3873,  1.1619])"
      ]
     },
     "metadata": {},
<<<<<<< HEAD
     "execution_count": 6
=======
     "execution_count": 5
>>>>>>> cleaned up model interface; linked gpu and new data interface
    }
   ],
   "source": [
    "normalize(torch.tensor([0, 1, 2, 3]), is_scalar=True)"
   ]
  },
  {
   "cell_type": "code",
<<<<<<< HEAD
   "execution_count": 7,
=======
   "execution_count": 6,
>>>>>>> cleaned up model interface; linked gpu and new data interface
   "metadata": {},
   "outputs": [
    {
     "output_type": "stream",
     "name": "stdout",
     "text": [
<<<<<<< HEAD
      "tensor([3., 4.])\ntensor([6., 7.])\ntensor([-2.9196, -3.9889], grad_fn=<ViewBackward>)\ntorch.Size([2])\n463\n"
=======
      "tensor([3., 4.])\ntensor([6., 7.])\ntensor([-2.9196, -3.9889], grad_fn=<ViewBackward>)\ntorch.Size([2])\n474\n"
>>>>>>> cleaned up model interface; linked gpu and new data interface
     ]
    },
    {
     "output_type": "execute_result",
     "data": {
      "text/plain": [
       "148993"
      ]
     },
     "metadata": {},
<<<<<<< HEAD
     "execution_count": 7
=======
     "execution_count": 6
>>>>>>> cleaned up model interface; linked gpu and new data interface
    }
   ],
   "source": [
    "class AvgModel(nn.Module):\n",
    "    def forward(self, x):\n",
    "        '''\n",
    "            Args \n",
    "                x - (N, D, L)\n",
    "        '''\n",
    "        return x[:,0,:].mean(dim=1).reshape((-1, ))\n",
    "\n",
    "\n",
    "class PrevModel(nn.Module):\n",
    "    def forward(self, x):\n",
    "        '''\n",
    "        '''\n",
    "        return x[:,0,-1].reshape((-1, ))\n",
    "\n",
    "class LinearModel(nn.Module):\n",
    "    def __init__(self, window_size=4, num_features=5):\n",
    "        super(LinearModel, self).__init__()\n",
    "        self.dim = window_size * num_features\n",
    "        self.fc1 = nn.Linear(self.dim, 1)\n",
    "    \n",
    "    def forward(self, x):\n",
    "        x = x.reshape((x.shape[0], self.dim))\n",
    "        return self.fc1(x).reshape((-1, ))\n",
    "\n",
    "class RNNModel(nn.Module):\n",
    "    def __init__(self, window_size=4, num_features=5, hidden_dim=128):\n",
    "        super(RNNModel, self).__init__()\n",
    "        self.rnn = nn.RNN(num_features, hidden_dim, 5).double()\n",
    "        self.fc = nn.Linear(hidden_dim, 1).double()\n",
    "\n",
    "    def forward(self, x):\n",
    "        '''\n",
    "            Args\n",
    "                x - shape (N, D, L)\n",
    "        '''\n",
    "        x = x.permute(2, 0, 1)\n",
    "        h = self.rnn(x)\n",
    "        o = self.fc(h[-1][-1])\n",
    "        return o.reshape((-1, ))\n",
    "\n",
    "\n",
    "input_tensor = torch.tensor([[0, 2, 4, 6], [1, 3, 5, 7]]).reshape((2, 1, 4)).double()\n",
    "prev_model = PrevModel().double().cuda()\n",
    "avg_model = AvgModel().double().cuda()\n",
    "linear_model = LinearModel(num_features=1).double().cuda()\n",
    "rnn_model = RNNModel(num_features=1).cuda()\n",
    "print(avg_model.forward(input_tensor))\n",
    "print(prev_model.forward(input_tensor))\n",
    "print(linear_model.forward(input_tensor))\n",
    "print(rnn_model.forward(input_tensor).shape)\n",
    "print(len(train_loader))\n",
    "sum(p.numel() for p in rnn_model.parameters())"
   ]
  },
  {
   "cell_type": "code",
<<<<<<< HEAD
   "execution_count": 8,
=======
   "execution_count": 7,
>>>>>>> cleaned up model interface; linked gpu and new data interface
   "metadata": {},
   "outputs": [
    {
     "output_type": "execute_result",
     "data": {
      "text/plain": [
       "True"
      ]
     },
     "metadata": {},
<<<<<<< HEAD
     "execution_count": 8
=======
     "execution_count": 7
>>>>>>> cleaned up model interface; linked gpu and new data interface
    }
   ],
   "source": [
    "next(linear_model.parameters()).is_cuda"
   ]
  },
  {
   "cell_type": "code",
<<<<<<< HEAD
   "execution_count": 9,
=======
   "execution_count": 8,
>>>>>>> cleaned up model interface; linked gpu and new data interface
   "metadata": {},
   "outputs": [],
   "source": [
    "def fit(model, train_loader, fixed_window=False, input_window=4, epochs=100, use_opponent_feature=False, len_opponent_features=2):\n",
    "    optimizer = optim.Adam(model.parameters(), lr=1e-3)\n",
    "    model.train()\n",
    "    for epoch in range(epochs):\n",
    "        for (x,) in train_loader:\n",
    "            optimizer.zero_grad()\n",
    "            # inputs shape (Batch, D, window_size)\n",
    "            if not fixed_window:\n",
    "                input_window = np.random.choice([3+i for i in range(input_window-2)])\n",
    "            inputs = x[:,:,:input_window]\n",
    "            if not use_opponent_feature:\n",
    "                inputs = inputs[:,:-len_opponent_features, :]\n",
    "            outputs = x[:,0,input_window]\n",
    "            predictions = model.forward(inputs)\n",
    "            residual = (predictions - outputs)\n",
    "            loss = (residual * residual).sum()\n",
    "            loss.backward()\n",
    "            optimizer.step()\n",
    "    \n",
    "def eval(model, test_loader, input_window=4, use_opponent_feature=False, len_opponent_features=2):\n",
    "    sum_loss, count_loss = 0, 0\n",
    "    sum_corr, count_corr = 0, 0\n",
    "    model.eval()\n",
    "    for (x,) in test_loader:\n",
    "        inputs = x[:,:,:input_window]\n",
    "        outputs = x[:,0,input_window]\n",
    "        if not use_opponent_feature:\n",
    "            inputs = inputs[:,:-len_opponent_features, :]\n",
    "        predictions = (model.forward(inputs))\n",
    "        assert(predictions.shape == outputs.shape)\n",
    "        residual = (predictions - outputs)\n",
    "        loss = (residual * residual).mean().item()\n",
    "        outputs_numpy = outputs.detach().cpu().numpy()\n",
    "        predictions_numpy = predictions.detach().cpu().numpy()\n",
    "        corr = np.corrcoef(predictions_numpy, outputs_numpy)[0, 1]\n",
    "        sum_loss += loss \n",
    "        count_loss += 1\n",
    "        sum_corr += corr \n",
    "        count_corr += 1\n",
    "\n",
    "    return sum_loss / count_loss, sum_corr / count_corr"
   ]
  },
  {
   "source": [
    "- Are data driven methods better than common sense methods ?\n",
    "    - Yes\n",
    "- Is RNN really better than a linear model ?\n",
    "    - Yes\n",
    "- What is the optimal window size for prediction ?\n",
    "    - input window 4\n",
    "- Is output augmention helping ?\n",
    "    - No"
   ],
   "cell_type": "markdown",
   "metadata": {}
  },
  {
   "cell_type": "code",
<<<<<<< HEAD
   "execution_count": 10,
=======
   "execution_count": 9,
>>>>>>> cleaned up model interface; linked gpu and new data interface
   "metadata": {
    "tags": []
   },
   "outputs": [
    {
     "output_type": "stream",
     "name": "stdout",
     "text": [
      "True\n",
<<<<<<< HEAD
      "avg score (0.882655703962598, 0.45071063906344777)\n",
      "prev score (1.3197592002116287, 0.35848176375717905)\n",
      "3 linear (0.7551838272719813, 0.5127577869638436)\n",
      "3 rnn augmentation (0.7694840367931198, 0.5001414701095945)\n",
      "3 rnn no augmentation (0.7902000873332026, 0.4905745506865317)\n",
      "4 linear (0.7688677170121619, 0.49601309230720964)\n",
      "4 rnn augmentation (0.8117704427461617, 0.4540540217301795)\n",
      "4 rnn no augmentation (0.8107462439755498, 0.48794311803560225)\n",
      "5 linear (0.7280012580499813, 0.5014947513220825)\n",
      "5 rnn augmentation (0.7541997526715489, 0.48430966568346673)\n",
      "5 rnn no augmentation (0.9463762266059143, 0.39382086103385905)\n",
      "6 linear (0.7598180359562232, 0.4974249195558128)\n",
      "6 rnn augmentation (0.8195551426852122, 0.46705303972738077)\n",
      "6 rnn no augmentation (0.9565114277225233, 0.36921048918922444)\n"
=======
      "avg score (0.8351937381246143, 0.4807103133926516)\n",
      "prev score (1.27020165689057, 0.38387067393152413)\n",
      "3 linear (0.7699879236413015, 0.5063300893316395)\n",
      "3 rnn augmentation (0.8848457937167795, 0.42057474805255357)\n",
      "3 rnn no augmentation (0.858156986818411, 0.449110377011257)\n",
      "4 linear (0.7495528722268425, 0.5093753067207265)\n",
      "4 rnn augmentation (0.841789674433821, 0.46773816438342536)\n",
      "4 rnn no augmentation (0.9952080497048802, 0.3944453843837967)\n",
      "5 linear (0.7722945327305207, 0.5022329828817053)\n",
      "5 rnn augmentation (0.8630818058849815, 0.4489506324430756)\n",
      "5 rnn no augmentation (1.0128644705807095, 0.3551237231480793)\n",
      "6 linear (0.7162240185500597, 0.5095076078161869)\n",
      "6 rnn augmentation (0.7951321038776279, 0.45313872596323307)\n",
      "6 rnn no augmentation (0.9816422999315636, 0.36504637211118335)\n"
>>>>>>> cleaned up model interface; linked gpu and new data interface
     ]
    }
   ],
   "source": [
    "\n",
    "\n",
    "avg_model = AvgModel().double().cuda()\n",
    "prev_model = PrevModel().double().cuda()\n",
    "\n",
    "print(next(rnn_model.parameters()).is_cuda)\n",
    "print('avg score', eval(avg_model, test_loader))\n",
    "print('prev score', eval(prev_model, test_loader))\n",
    "for input_window in [3, 4, 5, 6]:\n",
    "    linear_model = LinearModel(window_size=input_window, num_features=6).double().cuda()\n",
    "    rnn_model = RNNModel(num_features=6).cuda()\n",
    "    rnn_model2 = RNNModel(num_features=6).cuda()\n",
    "    fit(linear_model, train_loader, fixed_window=True, input_window=input_window)\n",
    "    fit(rnn_model, train_loader, fixed_window=False, input_window=input_window)\n",
    "    fit(rnn_model2, train_loader, fixed_window=True, input_window=input_window)\n",
    "    print(input_window, 'linear', eval(linear_model, test_loader, input_window))\n",
    "    print(input_window, 'rnn augmentation', eval(rnn_model, test_loader, input_window,))\n",
    "    print(input_window, 'rnn no augmentation', eval(rnn_model2, test_loader, input_window))"
   ]
  },
  {
   "source": [
    "- Is opponent feature helping"
   ],
   "cell_type": "markdown",
   "metadata": {}
  },
  {
   "cell_type": "code",
   "execution_count": 10,
   "metadata": {},
   "outputs": [
    {
     "output_type": "stream",
     "name": "stdout",
     "text": [
      "False\n",
      "avg score (0.8639355142160084, 0.4607742334559504)\n",
      "prev score (1.278104934588757, 0.37083955914602307)\n",
      "5 linear (0.7380450532996581, 0.5087502656060454)\n",
      "5 rnn augmentation (1.068085642799045, 0.34621455612626256)\n",
      "5 rnn no augmentation (0.29771483247347647, 0.8322675754894693)\n"
     ]
    }
   ],
   "source": [
    "\n",
    "\n",
    "avg_model = AvgModel().double()\n",
    "prev_model = PrevModel().double()\n",
    "\n",
    "print(next(rnn_model.parameters()).is_cuda)\n",
    "print('avg score', eval(avg_model, test_loader))\n",
    "print('prev score', eval(prev_model, test_loader))\n",
    "for input_window in [5]:\n",
    "    linear_model = LinearModel(window_size=input_window, num_features=8).double()\n",
    "    rnn_model = RNNModel(num_features=8)\n",
    "    rnn_model2 = RNNModel(num_features=8)\n",
    "    fit(linear_model, train_loader, fixed_window=True, input_window=input_window, use_opponent_feature=True)\n",
    "    fit(rnn_model, train_loader, fixed_window=False, input_window=input_window, use_opponent_feature=True)\n",
    "    fit(rnn_model2, train_loader, fixed_window=True, input_window=input_window, use_opponent_feature=True)\n",
    "    print(input_window, 'linear', eval(linear_model, test_loader, input_window, use_opponent_feature=True))\n",
    "    print(input_window, 'rnn augmentation', eval(rnn_model, test_loader, input_window, use_opponent_feature=True))\n",
    "    print(input_window, 'rnn no augmentation', eval(rnn_model2, test_loader, input_window, use_opponent_feature=True))"
   ]
  },
  {
   "cell_type": "code",
   "execution_count": null,
   "metadata": {},
   "outputs": [],
   "source": []
  }
 ]
}