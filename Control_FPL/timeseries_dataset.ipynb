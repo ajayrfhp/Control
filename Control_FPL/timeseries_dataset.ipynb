{
 "metadata": {
  "language_info": {
   "codemirror_mode": {
    "name": "ipython",
    "version": 3
   },
   "file_extension": ".py",
   "mimetype": "text/x-python",
   "name": "python",
   "nbconvert_exporter": "python",
   "pygments_lexer": "ipython3",
   "version": "3.8.5-final"
  },
  "orig_nbformat": 2,
  "kernelspec": {
   "name": "python3",
   "display_name": "Python 3.8.5 64-bit ('control': conda)",
   "metadata": {
    "interpreter": {
     "hash": "d1683d455970a83140547a7a38696e216f7e48aaa3baf122702e1f94335bc7e6"
    }
   }
  }
 },
 "nbformat": 4,
 "nbformat_minor": 2,
 "cells": [
  {
   "cell_type": "code",
   "execution_count": 1,
   "metadata": {},
   "outputs": [
    {
     "output_type": "execute_result",
     "data": {
      "text/plain": [
       "<torch._C.Generator at 0x7f1449c5b850>"
      ]
     },
     "metadata": {},
     "execution_count": 1
    }
   ],
   "source": [
    "import pandas as pd\n",
    "import torch\n",
    "import numpy as np\n",
    "import random\n",
    "from random import shuffle\n",
    "from matplotlib import pyplot as plt\n",
    "import seaborn as sns\n",
    "from torch.utils.data import TensorDataset, DataLoader\n",
    "import wget\n",
    "import os\n",
    "import aiohttp\n",
    "import asyncio\n",
    "np.random.seed(17)\n",
    "random.seed(17)\n",
    "torch.manual_seed(17)\n",
    "from fpl import FPL\n",
    "from player import Player\n",
    "from team import Team\n",
    "from data_processor import get_fpl, get_players, get_teams, get_training_datasets\n",
    "from models import PreviousScoreModel, PlayerAvgScoreModel, LinearModel, HierarchialLinearModel, NonLinearModel\n",
    "import torch.nn as nn\n",
    "import torch.optim as optim\n",
    "seed = 5\n",
    "np.random.seed(seed)\n",
    "random.seed(seed)\n",
    "torch.manual_seed(seed)"
   ]
  },
  {
   "cell_type": "code",
   "execution_count": 2,
   "metadata": {},
   "outputs": [
    {
     "output_type": "execute_result",
     "data": {
      "text/plain": [
       "579"
      ]
     },
     "metadata": {},
     "execution_count": 2
    }
   ],
   "source": [
    "fpl = await get_fpl()\n",
    "opponent_feature_names = [\"npxG\",\"npxGA\"]\n",
    "player_feature_names = [\"total_points\", \"ict_index\", \"clean_sheets\", \"saves\", \"assists\", \"goals_scored\"]\n",
    "teams = get_teams(team_feature_names=opponent_feature_names, visualize=False)\n",
    "players = await get_players(player_feature_names, opponent_feature_names, visualize=False, num_players=580)\n",
    "len(players)"
   ]
  },
  {
   "cell_type": "code",
   "execution_count": 5,
   "metadata": {},
   "outputs": [],
   "source": [
    "if torch.cuda.device_count() >= 1:\n",
    "    torch.set_default_tensor_type(torch.cuda.DoubleTensor)\n",
    "else:\n",
    "    torch.set_default_tensor_type(torch.DoubleTensor)"
   ]
  },
  {
   "cell_type": "code",
   "execution_count": 39,
   "metadata": {},
   "outputs": [],
   "source": [
    "def normalize(x, is_scalar=False):\n",
    "    '''\n",
    "        Args \n",
    "            x - input \n",
    "        Returns\n",
    "            normalized input\n",
    "    '''\n",
    "    if is_scalar:\n",
    "        x = x.reshape((-1, )).double()\n",
    "        means = torch.mean(x)\n",
    "        stds = torch.std(x)\n",
    "        return (x - means) / stds\n",
    "    else:\n",
    "        x = x.double()\n",
    "        # (N, D, L)\n",
    "        x = x.permute(0, 2, 1)\n",
    "        input_means = torch.mean(x, dim=(0, 1))\n",
    "        input_stds = torch.std(x, dim=(0, 1))\n",
    "        x = (x - input_means) / (input_stds)\n",
    "        x = x.permute(0, 2, 1)\n",
    "        return x\n",
    "\n",
    "def get_masked_training_datasets(players, teams, window_size=7, batch_size=50):\n",
    "    '''\n",
    "        Args\n",
    "            players - list of players\n",
    "            teams - list of teams\n",
    "        Returns\n",
    "            Train and test data loaders\n",
    "            Input - (Batch_size, num_features, window)\n",
    "\n",
    "            Build up datasets in numpy\n",
    "            Make test train splits and feed it to pytorch\n",
    "    '''\n",
    "    X = []\n",
    "    for player in players:\n",
    "        for i in range(player.player_features.shape[1] - window_size):\n",
    "            x = player.player_features[:,i:i+window_size]\n",
    "            X.append(x)\n",
    "\n",
    "    X = np.array(X).astype(float)\n",
    "    indices = np.random.permutation(range(len(X)))\n",
    "    train_length = int(0.8 * len(X))\n",
    "    X = torch.tensor(X).double()\n",
    "    X = normalize(X)\n",
    "    X_train, X_test = X[indices[:train_length]], X[indices[train_length:]] \n",
    "    train_loader = DataLoader(TensorDataset(X_train,), batch_size=batch_size)\n",
    "    test_loader = DataLoader(TensorDataset(X_test,), batch_size=batch_size)\n",
    "    return train_loader, test_loader\n",
    "\n",
    "\n",
    "train_loader, test_loader = get_masked_training_datasets(players, teams)"
   ]
  },
  {
   "cell_type": "code",
   "execution_count": 40,
   "metadata": {},
   "outputs": [
    {
     "output_type": "execute_result",
     "data": {
      "text/plain": [
       "tensor([-1.1619, -0.3873,  0.3873,  1.1619])"
      ]
     },
     "metadata": {},
     "execution_count": 40
    }
   ],
   "source": [
    "normalize(torch.tensor([0, 1, 2, 3]), is_scalar=True)"
   ]
  },
  {
   "cell_type": "code",
   "execution_count": 41,
   "metadata": {},
   "outputs": [
    {
     "output_type": "stream",
     "name": "stdout",
     "text": [
      "tensor([3., 4.])\ntensor([6., 7.])\ntensor([-2.3222, -3.4954], grad_fn=<ViewBackward>)\ntorch.Size([2])\n432\n"
     ]
    },
    {
     "output_type": "execute_result",
     "data": {
      "text/plain": [
       "148993"
      ]
     },
     "metadata": {},
     "execution_count": 41
    }
   ],
   "source": [
    "class AvgModel(nn.Module):\n",
    "    def forward(self, x):\n",
    "        '''\n",
    "            Args \n",
    "                x - (N, D, L)\n",
    "        '''\n",
    "        return x[:,0,:].mean(dim=1).reshape((-1, ))\n",
    "\n",
    "\n",
    "class PrevModel(nn.Module):\n",
    "    def forward(self, x):\n",
    "        '''\n",
    "        '''\n",
    "        return x[:,0,-1].reshape((-1, ))\n",
    "\n",
    "class LinearModel(nn.Module):\n",
    "    def __init__(self, window_size=4, num_features=5):\n",
    "        super(LinearModel, self).__init__()\n",
    "        self.dim = window_size * num_features\n",
    "        self.fc1 = nn.Linear(self.dim, 1)\n",
    "    \n",
    "    def forward(self, x):\n",
    "        x = x.reshape((x.shape[0], self.dim))\n",
    "        return self.fc1(x).reshape((-1, ))\n",
    "\n",
    "class RNNModel(nn.Module):\n",
    "    def __init__(self, window_size=4, num_features=5, hidden_dim=128):\n",
    "        super(RNNModel, self).__init__()\n",
    "        self.rnn = nn.RNN(num_features, hidden_dim, 5).double()\n",
    "        self.fc = nn.Linear(hidden_dim, 1).double()\n",
    "\n",
    "    def forward(self, x):\n",
    "        '''\n",
    "            Args\n",
    "                x - shape (N, D, L)\n",
    "        '''\n",
    "        x = x.permute(2, 0, 1)\n",
    "        h = self.rnn(x)\n",
    "        o = self.fc(h[-1][-1])\n",
    "        return o.reshape((-1, ))\n",
    "\n",
    "\n",
    "input_tensor = torch.tensor([[0, 2, 4, 6], [1, 3, 5, 7]]).reshape((2, 1, 4)).double()\n",
    "prev_model = PrevModel().double()\n",
    "avg_model = AvgModel().double()\n",
    "linear_model = LinearModel(num_features=1).double()\n",
    "rnn_model = RNNModel(num_features=1)\n",
    "print(avg_model.forward(input_tensor))\n",
    "print(prev_model.forward(input_tensor))\n",
    "print(linear_model.forward(input_tensor))\n",
    "print(rnn_model.forward(input_tensor).shape)\n",
    "print(len(train_loader))\n",
    "sum(p.numel() for p in rnn_model.parameters())"
   ]
  },
  {
   "cell_type": "code",
   "execution_count": 42,
   "metadata": {},
   "outputs": [
    {
     "output_type": "execute_result",
     "data": {
      "text/plain": [
       "True"
      ]
     },
     "metadata": {},
     "execution_count": 42
    }
   ],
   "source": [
    "next(linear_model.parameters()).is_cuda"
   ]
  },
  {
   "cell_type": "code",
   "execution_count": 45,
   "metadata": {
    "tags": []
   },
   "outputs": [
    {
     "output_type": "stream",
     "name": "stdout",
     "text": [
      "True\n",
      "(0.8714682340672647, 0.4509088131740236)\n",
      "(1.2929235676353332, 0.3619696974957797)\n",
      "(0.7630330976300981, 0.49506311577399)\n",
      "3 (0.7570025913699335, 0.5046315872929207)\n",
      "3 (1.08212627509715, 0.39539576175620655)\n",
      "4 (0.7522344274871899, 0.5107519022044266)\n",
      "4 (0.5485834867494361, 0.6642931134073217)\n",
      "5 (0.7550590677992967, 0.5182318750131822)\n",
      "5 (0.9050983446480304, 0.42470192300774523)\n",
      "6 (0.743435864836893, 0.5191839308616802)\n",
      "6 (0.89453653174908, 0.4366920956012712)\n"
     ]
    }
   ],
   "source": [
    "def fit(model, train_loader, fixed_window=False, epochs=100):\n",
    "    optimizer = optim.Adam(model.parameters(), lr=1e-3)\n",
    "    model.train()\n",
    "    for epoch in range(epochs):\n",
    "        for (x,) in train_loader:\n",
    "            optimizer.zero_grad()\n",
    "            # inputs shape (Batch, D, window_size)\n",
    "            input_window = np.random.choice([3, 4, 5, 6])\n",
    "            if fixed_window:\n",
    "                input_window = fixed_window\n",
    "            inputs = x[:,:,:input_window]\n",
    "            outputs = x[:,0,input_window]\n",
    "            predictions = model.forward(inputs)\n",
    "            residual = (predictions - outputs)\n",
    "            loss = (residual * residual).sum()\n",
    "            loss.backward()\n",
    "            optimizer.step()\n",
    "    \n",
    "def eval(model, test_loader, input_window=4):\n",
    "    sum_loss, count_loss = 0, 0\n",
    "    sum_corr, count_corr = 0, 0\n",
    "    model.eval()\n",
    "    for (x,) in train_loader:\n",
    "        inputs = x[:,:,:input_window]\n",
    "        outputs = x[:,0,input_window]\n",
    "        predictions = (model.forward(inputs))\n",
    "        assert(predictions.shape == outputs.shape)\n",
    "        residual = (predictions - outputs)\n",
    "        loss = (residual * residual).mean().item()\n",
    "        outputs_numpy = outputs.detach().cpu().numpy()\n",
    "        predictions_numpy = predictions.detach().cpu().numpy()\n",
    "        corr = np.corrcoef(predictions_numpy, outputs_numpy)[0, 1]\n",
    "        sum_loss += loss \n",
    "        count_loss += 1\n",
    "        sum_corr += corr \n",
    "        count_corr += 1\n",
    "\n",
    "    return sum_loss / count_loss, sum_corr / count_corr\n",
    "\n",
    "avg_model = AvgModel().double()\n",
    "prev_model = PrevModel().double()\n",
    "linear_model = LinearModel(num_features=6).double()\n",
    "rnn_model = RNNModel(num_features=6)\n",
    "rnn_model2 = RNNModel(num_features=6)\n",
    "print(next(rnn_model.parameters()).is_cuda)\n",
    "\n",
    "fit(linear_model, train_loader, fixed_window=4)\n",
    "fit(rnn_model, train_loader)\n",
    "\n",
    "print(eval(avg_model, test_loader))\n",
    "print(eval(prev_model, test_loader,))\n",
    "print(eval(linear_model, test_loader))\n",
    "for input_window in [3, 4, 5, 6]:\n",
    "    fit(rnn_model2, train_loader, fixed_window=input_window)\n",
    "    print(input_window, eval(rnn_model, test_loader, input_window))\n",
    "    print(input_window, eval(rnn_model2, test_loader, input_window))"
   ]
  },
  {
   "cell_type": "code",
   "execution_count": null,
   "metadata": {},
   "outputs": [],
   "source": []
  },
  {
   "cell_type": "code",
   "execution_count": null,
   "metadata": {},
   "outputs": [],
   "source": []
  }
 ]
}