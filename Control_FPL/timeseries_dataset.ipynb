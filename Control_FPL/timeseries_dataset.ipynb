{
 "metadata": {
  "language_info": {
   "codemirror_mode": {
    "name": "ipython",
    "version": 3
   },
   "file_extension": ".py",
   "mimetype": "text/x-python",
   "name": "python",
   "nbconvert_exporter": "python",
   "pygments_lexer": "ipython3",
   "version": "3.8.5-final"
  },
  "orig_nbformat": 2,
  "kernelspec": {
   "name": "python3",
   "display_name": "Python 3",
   "language": "python"
  }
 },
 "nbformat": 4,
 "nbformat_minor": 2,
 "cells": [
  {
   "cell_type": "code",
   "execution_count": 1,
   "metadata": {},
   "outputs": [],
   "source": [
    "import pandas as pd\n",
    "import torch\n",
    "import numpy as np\n",
    "import random\n",
    "from random import shuffle\n",
    "np.random.seed(17)\n",
    "random.seed(17)\n",
    "torch.manual_seed(17)\n",
    "import wget\n",
    "import os\n",
    "import aiohttp\n",
    "import asyncio\n",
    "from fpl import FPL\n",
    "from torch.utils.data import TensorDataset, DataLoader\n",
    "from player import Player\n",
    "from team import Team\n",
    "from data_processor import get_fpl, get_players, get_teams, get_training_datasets, get_all_player_features\n",
    "from matplotlib import pyplot as plt\n",
    "import seaborn as sns"
   ]
  },
  {
   "cell_type": "code",
   "execution_count": 2,
   "metadata": {},
   "outputs": [],
   "source": [
    "fpl = await get_fpl()\n",
    "team_feature_names = [\"npxGA\"]\n",
    "teams = get_teams(team_feature_names=team_feature_names, visualize=False)\n",
    "player_feature_names = [\"total_points\"]\n",
    "players = await get_players(player_feature_names, team_feature_names, visualize=False, num_players=590)"
   ]
  },
  {
   "cell_type": "code",
   "execution_count": 17,
   "metadata": {},
   "outputs": [
    {
     "output_type": "execute_result",
     "data": {
      "text/plain": [
       "array([[ 0.,  0.,  0.,  6.,  5.,  2.,  1.,  2.,  1.,  1.],\n",
       "       [ 0.,  0.,  0.,  0.,  0.,  0.,  0.,  0.,  0.,  0.],\n",
       "       [ 2.,  2.,  0.,  2.,  2.,  9.,  2.,  6.,  2.,  4.],\n",
       "       [ 2.,  1.,  1.,  0.,  1.,  1.,  2.,  2.,  1.,  0.],\n",
       "       [ 2.,  2.,  1.,  0.,  0.,  0.,  0.,  0.,  0.,  1.],\n",
       "       [ 0.,  0.,  2.,  0.,  0.,  0.,  0.,  0.,  2.,  2.],\n",
       "       [ 0., 12.,  2.,  0.,  0.,  0.,  0.,  0.,  5.,  0.],\n",
       "       [ 9., 12.,  5.,  9.,  2.,  2.,  2.,  8.,  2.,  5.],\n",
       "       [ 2.,  9.,  2.,  6.,  2.,  4.,  1.,  0.,  0.,  0.],\n",
       "       [ 0.,  0.,  0.,  0.,  0.,  0.,  0.,  0.,  0.,  0.],\n",
       "       [ 0.,  0.,  0.,  0.,  0.,  0.,  0.,  0.,  0.,  0.],\n",
       "       [ 2.,  6.,  1.,  7.,  2.,  0.,  0.,  0.,  0.,  2.],\n",
       "       [ 2.,  6.,  1.,  0.,  0.,  0.,  0.,  0.,  1.,  1.],\n",
       "       [ 2.,  4.,  0.,  0.,  2.,  8., 12.,  2.,  0.,  2.],\n",
       "       [ 0.,  0.,  0.,  0.,  0.,  0.,  0.,  0.,  0.,  0.],\n",
       "       [ 0.,  0.,  0.,  2.,  2.,  2.,  6.,  5.,  2.,  1.],\n",
       "       [ 0.,  2.,  6.,  1.,  0.,  0.,  0.,  0.,  0.,  1.],\n",
       "       [ 2.,  5., 12.,  2., 12.,  2.,  2.,  7.,  9.,  2.],\n",
       "       [ 2.,  8.,  2.,  6.,  0.,  0.,  0.,  0.,  0.,  0.],\n",
       "       [ 0.,  0.,  0.,  0.,  0.,  0.,  0.,  0.,  0.,  0.],\n",
       "       [ 8.,  2.,  1.,  2., 12.,  7.,  5.,  2.,  2.,  2.],\n",
       "       [ 6.,  5.,  2.,  1.,  2.,  1.,  1.,  0.,  1.,  1.],\n",
       "       [ 0.,  0.,  0.,  2.,  0.,  0.,  0.,  0.,  0.,  2.],\n",
       "       [ 2.,  2.,  7.,  9.,  2.,  4.,  0.,  0.,  2.,  8.],\n",
       "       [ 2.,  1.,  0.,  1.,  1.,  2.,  6.,  1.,  7.,  2.],\n",
       "       [ 0.,  0.,  0.,  0.,  0.,  0.,  0.,  0.,  0.,  0.],\n",
       "       [ 0.,  1.,  1.,  2.,  2.,  1.,  0.,  0.,  0.,  0.],\n",
       "       [ 0.,  5.,  0.,  0.,  0.,  0.,  0.,  0.,  0.,  0.],\n",
       "       [ 0.,  0.,  0.,  0.,  0.,  0.,  0.,  0.,  0.,  0.],\n",
       "       [ 0.,  0.,  0.,  9.,  2.,  0.,  6.,  2.,  2.,  0.],\n",
       "       [ 0.,  0.,  0.,  0.,  0.,  0.,  0.,  0.,  0.,  0.],\n",
       "       [ 1.,  0.,  1.,  1.,  1.,  2., 12.,  2.,  7.,  2.],\n",
       "       [ 2., 12.,  7.,  5.,  2.,  2.,  2.,  2.,  8.,  2.],\n",
       "       [ 2.,  1.,  2.,  8.,  2.,  6.,  0.,  0.,  0.,  0.],\n",
       "       [ 0.,  0.,  1.,  1.,  2.,  2.,  0.,  2.,  2.,  9.],\n",
       "       [ 1.,  1.,  0.,  1.,  1.,  2.,  2.,  1.,  0.,  0.],\n",
       "       [ 2., 12.,  2.,  2.,  7.,  9.,  2.,  4.,  0.,  0.],\n",
       "       [12.,  2.,  2.,  7.,  9.,  2.,  4.,  0.,  0.,  2.],\n",
       "       [ 1.,  2., 12.,  2.,  7.,  2.,  1.,  1.,  1.,  0.],\n",
       "       [ 7.,  2.,  0.,  0.,  0.,  0.,  2.,  0.,  0.,  2.],\n",
       "       [ 4.,  7.,  0.,  0.,  0.,  0.,  6.,  5.,  2.,  1.],\n",
       "       [ 0.,  0.,  0.,  0.,  0.,  5.,  0.,  0.,  0.,  0.],\n",
       "       [ 0.,  2.,  8., 12.,  2.,  0.,  2.,  2.,  2., 12.],\n",
       "       [ 2.,  2., 12.,  2.,  8.,  2.,  1.,  2., 12.,  7.],\n",
       "       [ 0.,  0.,  0.,  0.,  0.,  0.,  0.,  0.,  0.,  0.],\n",
       "       [ 9.,  2.,  0.,  6.,  2.,  2.,  0.,  9.,  6.,  4.],\n",
       "       [ 2.,  1.,  0.,  0.,  0.,  0.,  0.,  0.,  1.,  1.],\n",
       "       [ 0.,  1.,  1.,  2.,  2.,  0.,  2.,  2.,  9.,  2.],\n",
       "       [ 2.,  0.,  0.,  0.,  0.,  2.,  0.,  0.,  2.,  0.],\n",
       "       [ 2.,  2.,  2.,  8.,  2.,  5., 12.,  2., 12.,  2.]])"
      ]
     },
     "metadata": {},
     "execution_count": 17
    }
   ],
   "source": [
    "def get_timeseries_dataset(players, context_window=10):\n",
    "    '''\n",
    "        Args\n",
    "            players - List of players \n",
    "        Returns\n",
    "            Time series dataset containing player points\n",
    "\n",
    "            context_window = feature_window + 1 + choice    \n",
    "            X - shape (N, context_window)\n",
    "    '''\n",
    "    timeseries_dataset = []\n",
    "    for player in players:\n",
    "        player_points = player.player_features[0,:]\n",
    "        for i in range(len(player_points) - context_window):\n",
    "            timeseries_dataset.append(player_points[i:i+context_window])\n",
    "    random.shuffle(timeseries_dataset)\n",
    "    timeseries_dataset = np.array(timeseries_dataset).astype(float)\n",
    "    return timeseries_dataset\n",
    "\n",
    "\n",
    "timeseries_dataset = get_timeseries_dataset(players[0:5])[0:50]\n",
    "timeseries_dataset"
   ]
  },
  {
   "source": [
    "# Dynamic data augmentation\n",
    "- Input window is x [0:7]. 2 elements are set to 0 at random\n",
    "- Target is sampled form x[7:9]\n",
    "- Why - I want an nearly infinite dataset"
   ],
   "cell_type": "markdown",
   "metadata": {}
  },
  {
   "cell_type": "code",
   "execution_count": 38,
   "metadata": {},
   "outputs": [
    {
     "output_type": "stream",
     "name": "stdout",
     "text": [
      "tensor([[0., 0., 0., 6., 5., 2., 1., 2., 1., 1.]], dtype=torch.float64)\n[0 5]\ntensor([[0., 0., 0., 6., 5., 0., 1.]], dtype=torch.float64)\n7\ntensor([2.], dtype=torch.float64)\n"
     ]
    }
   ],
   "source": [
    "train_indices = int(0.8 * len(timeseries_dataset))\n",
    "train_dataset, test_dataset = timeseries_dataset[:train_indices], timeseries_dataset[train_indices:]\n",
    "train_loader = DataLoader(TensorDataset(torch.tensor(train_dataset)), batch_size=1)\n",
    "test_loader = DataLoader(TensorDataset(torch.tensor(test_dataset)), batch_size=1)\n",
    "input_window_length = 7\n",
    "for [x] in train_loader:\n",
    "    print(x)\n",
    "    input_vector = x[:,:input_window_length]\n",
    "    masks = np.random.choice([0, 1, 2, 3, 4, 5, 6], 2)\n",
    "    print(masks)\n",
    "    input_vector[:,masks] = 0\n",
    "    print(input_vector)\n",
    "    prediction_choice = random.choice([7, 8, 9])\n",
    "    prediction_target = x[:,prediction_choice]    \n",
    "    print(prediction_choice)\n",
    "    print(prediction_target)\n",
    "    break"
   ]
  },
  {
   "cell_type": "code",
   "execution_count": null,
   "metadata": {},
   "outputs": [],
   "source": []
  }
 ]
}